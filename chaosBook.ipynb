{
  "nbformat": 4,
  "nbformat_minor": 0,
  "metadata": {
    "colab": {
      "name": "chaosBook.ipynb",
      "provenance": [],
      "collapsed_sections": [],
      "toc_visible": true,
      "include_colab_link": true
    },
    "kernelspec": {
      "name": "python3",
      "display_name": "Python 3"
    }
  },
  "cells": [
    {
      "cell_type": "markdown",
      "metadata": {
        "id": "view-in-github",
        "colab_type": "text"
      },
      "source": [
        "<a href=\"https://colab.research.google.com/github/kaspergroenbek98/first-first-year-project/blob/master/chaosBook.ipynb\" target=\"_parent\"><img src=\"https://colab.research.google.com/assets/colab-badge.svg\" alt=\"Open In Colab\"/></a>"
      ]
    },
    {
      "cell_type": "code",
      "metadata": {
        "id": "8M2sbI5Acnrh",
        "colab_type": "code",
        "colab": {
          "base_uri": "https://localhost:8080/",
          "height": 33
        },
        "outputId": "79979ba9-d8a2-437f-874c-20a4a8629cd0"
      },
      "source": [
        "! git clone https://github.com/kaspergroenbek98/first-first-year-project.git\n",
        "### All import calls.\n",
        "import numpy as np\n",
        "import nltk\n",
        "import csv\n",
        "import nltk\n",
        "import re\n",
        "from collections import Counter\n",
        "import pandas as pd\n",
        "from sklearn.utils import shuffle\n",
        "from sklearn.feature_extraction.text import CountVectorizer\n",
        "from sklearn.model_selection import train_test_split\n",
        "from sklearn.feature_extraction.text import TfidfTransformer\n",
        "from sklearn.naive_bayes import MultinomialNB\n",
        "from sklearn import metrics\n",
        "import seaborn as sn\n",
        "import matplotlib.pyplot as plt"
      ],
      "execution_count": 1,
      "outputs": [
        {
          "output_type": "stream",
          "text": [
            "fatal: destination path 'first-first-year-project' already exists and is not an empty directory.\n"
          ],
          "name": "stdout"
        }
      ]
    },
    {
      "cell_type": "code",
      "metadata": {
        "id": "k-mYQqynljhN",
        "colab_type": "code",
        "colab": {}
      },
      "source": [
        "### Functions\n",
        "\n",
        "### START OF VOCABULARY ###\n",
        "def generate_vocabulary(data, fCol, vocabType):\n",
        "    '''\n",
        "    Returns a list/vocabulary of len <= \"size\" based on the vocabType and the featureColumn specified\n",
        "    '''\n",
        "    size = 2000\n",
        "    # Only get large groups to get representative data\n",
        "    major_features = np.array(nltk.FreqDist(data[:,fCol]).most_common(5))\n",
        "    major_masks = np.array([data[:,fCol] == f for (f, cnt) in major_features])\n",
        "    fqs = [tweet_word_distribution(data[mask,:]) for mask in major_masks]\n",
        "    return list(vocabType(data, fCol, major_features, major_masks, fqs, size))\n",
        "\n",
        "def vocab_feature_most_common(data, fCol, major_features, major_masks, fqs, size):\n",
        "    '''\n",
        "    Returns a vocabulary checklist for each tweet to check off (True/False).\n",
        "    Prioritises the most common words for each feature\n",
        "    '''\n",
        "    vocabulary = set()\n",
        "    # get the most common words in each freq dist. zip(*...) removes the counts from fd, and updates vocabulary ONLY with the words\n",
        "    for fd in fqs:\n",
        "        vocabulary.update(list(zip(*fd.most_common(size//len(major_features))))[0])\n",
        "    return vocabulary\n",
        "\n",
        "def vocab_feature_unique(data, fCol, major_features, major_masks, fqs, size):\n",
        "    '''\n",
        "    Returns a vocabulary checklist for each tweet to check off (True/False).\n",
        "    Prioritises words which are uncommon in other features, but common in one feature\n",
        "    '''\n",
        "    major_mask = np.array(major_masks.sum(axis=0), dtype='bool')\n",
        "    fq = tweet_word_distribution(data[major_mask,:]) # Get a fq over the words used by all in the major categories\n",
        "    words = [word for (word, cnt) in fq.items() if cnt >= 20] # removes rarely mentioned words which probably arent indicative of a significant trend\n",
        "    priorityArray = []\n",
        "    for i, word in enumerate(words):\n",
        "        priorityArray.append([word])\n",
        "        #divide frequency of word in that state by the tweetcount from that state, and by how often that word is used in total by all states\n",
        "        score = max(fqs[fID][word]/(int(major_features[fID][1])*fq[word]) for fID in range(len(major_masks)))\n",
        "        priorityArray[i].append(score)\n",
        "    priorityArray.sort(key = lambda x: x[1], reverse=True) # Sort them based on their best score\n",
        "    vocabulary = list(zip(*priorityArray[:size]))[0] # Removes their scores\n",
        "    return vocabulary\n",
        "### END OF VOCABULARY ###\n",
        "    \n",
        "def identify_hashtags(data):\n",
        "    col = np.zeros((data.shape[0],1), 'str')\n",
        "    data = np.append(data, col, axis=1)\n",
        "    for i, text in enumerate(data[:,6]):\n",
        "        results = re.findall(r\"#\\w+\", text) # Finds matches and returns them as an iterable\n",
        "        if results:\n",
        "            data[i,15] = ' '.join(results)\n",
        "        else:\n",
        "            data[i,15] = ''\n",
        "\n",
        "def tweet_features(tweet, word_features):\n",
        "    tweet_words = set(tweet)\n",
        "    features = {}\n",
        "    for word in word_features:\n",
        "        features[f'contains({word})'] = (word in tweet_words)\n",
        "    return features\n",
        "\n",
        "def divide_featureset(feature):\n",
        "    '''\n",
        "    Divides numpy featureset of (featureVector, classification) into a 80:10:10 train:dev:test set\n",
        "    '''\n",
        "    testSize = int(len(feature)*0.8)\n",
        "    train, rest = feature[:testSize], feature[testSize:]\n",
        "    restSize = len(rest)//2\n",
        "    dev, test = rest[:restSize], rest[restSize:]\n",
        "    return train, dev, test\n",
        "\n",
        "#RegEx cleaner for SKlearn (Maybe merge with Clean()).\n",
        "def cleaner(text):\n",
        "    text = text.lower()\n",
        "    text = re.sub(r\"what's\", \"what is \", text)\n",
        "    text = re.sub(r\"\\'s\", \" \", text)\n",
        "    text = re.sub(r\"\\'ve\", \" have \", text)\n",
        "    text = re.sub(r\"can't\", \"can not \", text)\n",
        "    text = re.sub(r\"n't\", \" not \", text)\n",
        "    text = re.sub(r\"i'm\", \"i am \", text)\n",
        "    text = re.sub(r\"\\'re\", \" are \", text)\n",
        "    text = re.sub(r\"\\'d\", \" would \", text)\n",
        "    text = re.sub(r\"\\'ll\", \" will \", text)\n",
        "    text = re.sub(r\"\\'scuse\", \" excuse \", text)\n",
        "    text = re.sub('\\W', ' ', text)\n",
        "    text = re.sub('\\s+', ' ', text)\n",
        "    text = re.sub('b4', 'before', text)\n",
        "    text = re.sub(r'@[A-Za-z0-9]+','',text)\n",
        "    text = re.sub('https?://[A-Za-z0-9./]+','', text)\n",
        "    text = text.strip(' ')\n",
        "    return text\n",
        "\n",
        "def clean(data):\n",
        "    porter = nltk.PorterStemmer()\n",
        "\n",
        "    # Remove all stopwords, non-alphabet words (except spaces), and stem the words\n",
        "    for i, row in enumerate(data[:,6]):\n",
        "        row = row.lower()\n",
        "        row = ''.join(char for char in row if char.isalpha() or char == ' ')\n",
        "        row = ' '.join(porter.stem(word) for word in row.split() if word not in stopwords)\n",
        "        data[i,6] = row\n",
        "\n",
        "def tweet_word_distribution(data):\n",
        "    # Split each sentence into tokens, and create a frequency distribution\n",
        "    tokens = [token for sentence in data[:,6] for token in sentence.split()]\n",
        "    fd = nltk.FreqDist(tokens)\n",
        "    return fd\n",
        "\n",
        "def generate_features(data, vocabulary, fCol):\n",
        "    \"\"\" \n",
        "    Creates tuples with a vector containing boolean values depending on whether\n",
        "    or not the word is in the tweet - along with the label of the tweet.\n",
        "    \"\"\"\n",
        "    features = [(tweet_features(d.split(), vocabulary), c) for (d,c) in zip(data[:,6], data[:,fCol])] # column 6 is text data, column 2 is gender data\n",
        "    return features"
      ],
      "execution_count": 0,
      "outputs": []
    },
    {
      "cell_type": "code",
      "metadata": {
        "id": "qgUqeGED4LM3",
        "colab_type": "code",
        "outputId": "d586409b-7fc3-419e-950e-6eb3baad2294",
        "colab": {
          "base_uri": "https://localhost:8080/",
          "height": 150
        }
      },
      "source": [
        "nltk.download('punkt')\n",
        "nltk.download('stopwords')\n",
        "stopwords = set(nltk.corpus.stopwords.words('english'))\n",
        "\n",
        "# Read the data into a header and a data np.array - the array is then shuffled\n",
        "with open('first-first-year-project/data.csv', encoding='ISO-8859-1') as csv_file:\n",
        "    csv_reader = csv.reader(csv_file, delimiter=',')\n",
        "    data = np.array([np.array(line) for line in csv_reader])\n",
        "header, data = data[0,:], data[1:,:]\n",
        "np.random.shuffle(data)\n",
        "print(header)\n",
        "\n",
        "# Identify hashtags and insert them in the 15th column\n",
        "identify_hashtags(data)\n",
        "print(data.shape) # Note that shape starts at 1 and ends at 16, so the interval is [0:15]"
      ],
      "execution_count": 3,
      "outputs": [
        {
          "output_type": "stream",
          "text": [
            "[nltk_data] Downloading package punkt to /root/nltk_data...\n",
            "[nltk_data]   Package punkt is already up-to-date!\n",
            "[nltk_data] Downloading package stopwords to /root/nltk_data...\n",
            "[nltk_data]   Package stopwords is already up-to-date!\n",
            "['other_topic' 'resolution_topics' 'gender' 'name' 'Resolution_Category'\n",
            " 'retweet_count' 'text' 'tweet_coord' 'tweet_created' 'tweet_date'\n",
            " 'tweet_id' 'tweet_location' 'tweet_state' 'user_timezone' 'tweet_region']\n",
            "(5011, 15)\n"
          ],
          "name": "stdout"
        }
      ]
    },
    {
      "cell_type": "code",
      "metadata": {
        "id": "_Z52jOoIc8DX",
        "colab_type": "code",
        "colab": {}
      },
      "source": [
        "clean(data)\n",
        "fCol = {'gender':2, 'Resolution_Category':4, 'tweet_state':12, 'hashtags':15} # Dont think hashtags work right now\n",
        "vocabType = [vocab_feature_most_common, vocab_feature_unique][0] #Pick one by replacing the number in [int]\n",
        "vocabulary =         generate_vocabulary(data, fCol['tweet_state'], vocabType)\n",
        "features = generate_features(data, vocabulary, fCol['tweet_state'])\n",
        "train, dev, test = divide_featureset(features)"
      ],
      "execution_count": 0,
      "outputs": []
    },
    {
      "cell_type": "code",
      "metadata": {
        "colab_type": "code",
        "id": "wMSGwZrGnsz5",
        "outputId": "fccfca2f-e9ef-40bd-f1a7-a22ec7d3284d",
        "colab": {
          "base_uri": "https://localhost:8080/",
          "height": 217
        }
      },
      "source": [
        "classifier = nltk.NaiveBayesClassifier.train(train)\n",
        "print(nltk.classify.accuracy(classifier, dev))\n",
        "classifier.show_most_informative_features(10)"
      ],
      "execution_count": 5,
      "outputs": [
        {
          "output_type": "stream",
          "text": [
            "0.12574850299401197\n",
            "Most Informative Features\n",
            "          contains(quit) = True               ND : CA     =    196.3 : 1.0\n",
            "        contains(chocol) = True               DE : CA     =    147.2 : 1.0\n",
            "          contains(babi) = True               ND : NY     =    146.7 : 1.0\n",
            "      contains(cariloha) = True               DE : NY     =    110.0 : 1.0\n",
            "          contains(loos) = True               DE : NY     =    110.0 : 1.0\n",
            " contains(mlbpaclubhous) = True               ND : TX     =    100.7 : 1.0\n",
            "          contains(date) = True               MT : CA     =     98.2 : 1.0\n",
            "         contains(catch) = True               MT : CA     =     98.2 : 1.0\n",
            "      contains(mcdonald) = True               MT : CA     =     98.2 : 1.0\n",
            "          contains(step) = True               DE : CA     =     88.3 : 1.0\n"
          ],
          "name": "stdout"
        }
      ]
    },
    {
      "cell_type": "markdown",
      "metadata": {
        "id": "B31ntxQ2oRt-",
        "colab_type": "text"
      },
      "source": [
        "# Bad Word Implementation"
      ]
    },
    {
      "cell_type": "code",
      "metadata": {
        "id": "O6AunX_EoF-O",
        "colab_type": "code",
        "colab": {}
      },
      "source": [
        "import pandas as pd\n",
        "import itertools\n",
        "clean(data)\n",
        "np.random.shuffle(data)"
      ],
      "execution_count": 0,
      "outputs": []
    },
    {
      "cell_type": "code",
      "metadata": {
        "id": "ZPzajOR5oXG5",
        "colab_type": "code",
        "colab": {}
      },
      "source": [
        "bad_words_txt = pd.read_csv('first-first-year-project/bad-words.txt', sep='\\n',)\n",
        "bad_words_array = bad_words_txt.to_numpy()\n",
        "bad_words_list = bad_words_array.tolist()\n",
        "bad_words = list(itertools.chain(*bad_words_list))"
      ],
      "execution_count": 0,
      "outputs": []
    },
    {
      "cell_type": "code",
      "metadata": {
        "id": "Kr5p5Xs0od1-",
        "colab_type": "code",
        "colab": {}
      },
      "source": [
        "tweets_created = list(data[:,8])\n",
        "dates = [i.split(' ',1)[0] for i in tweets_created]\n",
        "times = [i.split(' ',1)[-1] for i in tweets_created]"
      ],
      "execution_count": 0,
      "outputs": []
    },
    {
      "cell_type": "code",
      "metadata": {
        "id": "kp9AK4z6on99",
        "colab_type": "code",
        "colab": {}
      },
      "source": [
        "fCol = {'gender':2, 'Resolution_Category':4, 'tweet_created':8, 'tweet_state':12, 'tweet_region':14, 'hashtags':15}"
      ],
      "execution_count": 0,
      "outputs": []
    },
    {
      "cell_type": "markdown",
      "metadata": {
        "id": "f5MT_aLbowDs",
        "colab_type": "text"
      },
      "source": [
        "## Bad words and Gender"
      ]
    },
    {
      "cell_type": "code",
      "metadata": {
        "id": "8Ckc99PYoqDB",
        "colab_type": "code",
        "colab": {}
      },
      "source": [
        "features2 = generate_features(data, bad_words, fCol['gender'])\n",
        "train2, dev2, test2 = divide_featureset(features2)"
      ],
      "execution_count": 0,
      "outputs": []
    },
    {
      "cell_type": "code",
      "metadata": {
        "id": "z6z5sKylozeJ",
        "colab_type": "code",
        "outputId": "08c2e51d-6f22-480c-dc98-e84d95e9789b",
        "colab": {
          "base_uri": "https://localhost:8080/",
          "height": 301
        }
      },
      "source": [
        "classifier2 = nltk.NaiveBayesClassifier.train(train2)\n",
        "print(nltk.classify.accuracy(classifier2, dev2))\n",
        "classifier2.show_most_informative_features(15)"
      ],
      "execution_count": 11,
      "outputs": [
        {
          "output_type": "stream",
          "text": [
            "0.48902195608782434\n",
            "Most Informative Features\n",
            "          contains(dick) = True           female : male   =      4.4 : 1.0\n",
            "          contains(butt) = True             male : female =      4.3 : 1.0\n",
            "         contains(adult) = True           female : male   =      3.7 : 1.0\n",
            "         contains(fight) = True             male : female =      3.4 : 1.0\n",
            "          contains(kill) = True             male : female =      3.4 : 1.0\n",
            "          contains(burn) = True           female : male   =      3.0 : 1.0\n",
            "        contains(christ) = True           female : male   =      3.0 : 1.0\n",
            "           contains(fat) = True             male : female =      2.8 : 1.0\n",
            "          contains(damn) = True             male : female =      2.5 : 1.0\n",
            "          contains(boob) = True           female : male   =      2.3 : 1.0\n",
            "          contains(poop) = True             male : female =      2.3 : 1.0\n",
            "         contains(crack) = True             male : female =      2.3 : 1.0\n",
            "          contains(cunt) = True             male : female =      2.3 : 1.0\n",
            "        contains(stupid) = True           female : male   =      2.2 : 1.0\n",
            "        contains(toilet) = True             male : female =      2.2 : 1.0\n"
          ],
          "name": "stdout"
        }
      ]
    },
    {
      "cell_type": "markdown",
      "metadata": {
        "id": "X-_5HBP1o6Ho",
        "colab_type": "text"
      },
      "source": [
        "## Bad words and Categories"
      ]
    },
    {
      "cell_type": "code",
      "metadata": {
        "id": "3MZrIe2Go0FT",
        "colab_type": "code",
        "outputId": "150d46bb-ac46-4040-981d-2434652f2df6",
        "colab": {
          "base_uri": "https://localhost:8080/",
          "height": 217
        }
      },
      "source": [
        "features3 = generate_features(data, bad_words, fCol['Resolution_Category'])\n",
        "train3, dev3, test3 = divide_featureset(features3)\n",
        "classifier3 = nltk.NaiveBayesClassifier.train(train3)\n",
        "print(nltk.classify.accuracy(classifier3, dev3))\n",
        "classifier3.show_most_informative_features(10)"
      ],
      "execution_count": 12,
      "outputs": [
        {
          "output_type": "stream",
          "text": [
            "0.3652694610778443\n",
            "Most Informative Features\n",
            "       contains(swallow) = True           Educat : Person =     20.2 : 1.0\n",
            "        contains(german) = True           Educat : Person =     20.2 : 1.0\n",
            "         contains(nigga) = True           Career : Person =     14.5 : 1.0\n",
            "         contains(shoot) = True           Career : Person =     14.5 : 1.0\n",
            "         contains(color) = True           Time M : Person =     12.7 : 1.0\n",
            "          contains(damn) = True           Philan : Person =     12.1 : 1.0\n",
            "           contains(god) = True           Person : Humor  =      9.9 : 1.0\n",
            "         contains(fight) = True           Philan : Health =      9.4 : 1.0\n",
            "           contains(kid) = True           Philan : Health =      9.4 : 1.0\n",
            "        contains(fucker) = True           Career : Humor  =      8.1 : 1.0\n"
          ],
          "name": "stdout"
        }
      ]
    },
    {
      "cell_type": "markdown",
      "metadata": {
        "id": "TSpZm8KWpBmN",
        "colab_type": "text"
      },
      "source": [
        "## Bad words and Regions"
      ]
    },
    {
      "cell_type": "code",
      "metadata": {
        "id": "7QYADktCo_Jv",
        "colab_type": "code",
        "outputId": "3650b2eb-99e3-4f7f-db60-9ec7b7c31ee2",
        "colab": {
          "base_uri": "https://localhost:8080/",
          "height": 217
        }
      },
      "source": [
        "features4 = generate_features(data, bad_words, fCol['tweet_region'])\n",
        "train4, dev4, test4 = divide_featureset(features4)\n",
        "classifier4 = nltk.NaiveBayesClassifier.train(train4)\n",
        "print(nltk.classify.accuracy(classifier4, dev4))\n",
        "classifier4.show_most_informative_features(10)"
      ],
      "execution_count": 13,
      "outputs": [
        {
          "output_type": "stream",
          "text": [
            "0.32335329341317365\n",
            "Most Informative Features\n",
            "          contains(dick) = True           Midwes : South  =      5.7 : 1.0\n",
            "        contains(harder) = True           Midwes : West   =      4.6 : 1.0\n",
            "        contains(bigger) = True             West : South  =      4.5 : 1.0\n",
            "           contains(die) = True             West : South  =      3.7 : 1.0\n",
            "         contains(faith) = True           Midwes : South  =      3.4 : 1.0\n",
            "          contains(burn) = True             West : Northe =      3.0 : 1.0\n",
            "          contains(kill) = True            South : West   =      3.0 : 1.0\n",
            "          contains(fear) = True           Midwes : West   =      2.9 : 1.0\n",
            "          contains(shit) = True           Northe : South  =      2.9 : 1.0\n",
            "           contains(kid) = True             West : South  =      2.6 : 1.0\n"
          ],
          "name": "stdout"
        }
      ]
    },
    {
      "cell_type": "markdown",
      "metadata": {
        "id": "PnIzzNTRpHJy",
        "colab_type": "text"
      },
      "source": [
        "## Bad words and Dates"
      ]
    },
    {
      "cell_type": "code",
      "metadata": {
        "id": "To2TttQ1pGio",
        "colab_type": "code",
        "outputId": "ecb08d11-e471-4830-a13a-89a6a490cf0a",
        "colab": {
          "base_uri": "https://localhost:8080/",
          "height": 349
        }
      },
      "source": [
        "#In progress: comparison of bad words and dates\n",
        "features5 = generate_features(data, bad_words, dates) #Dates not working atm, gonna raise an error.\n",
        "train5, dev5, test5 = divide_featureset(features5)\n",
        "classifier5 = nltk.NaiveBayesClassifier.train(train5)\n",
        "print(nltk.classify.accuracy(classifier5, dev5))\n",
        "classifier5.show_most_informative_features(10)"
      ],
      "execution_count": 14,
      "outputs": [
        {
          "output_type": "error",
          "ename": "IndexError",
          "evalue": "ignored",
          "traceback": [
            "\u001b[0;31m---------------------------------------------------------------------------\u001b[0m",
            "\u001b[0;31mIndexError\u001b[0m                                Traceback (most recent call last)",
            "\u001b[0;32m<ipython-input-14-fd733149d2b7>\u001b[0m in \u001b[0;36m<module>\u001b[0;34m()\u001b[0m\n\u001b[0;32m----> 1\u001b[0;31m \u001b[0mfeatures5\u001b[0m \u001b[0;34m=\u001b[0m \u001b[0mgenerate_features\u001b[0m\u001b[0;34m(\u001b[0m\u001b[0mdata\u001b[0m\u001b[0;34m,\u001b[0m \u001b[0mbad_words\u001b[0m\u001b[0;34m,\u001b[0m \u001b[0mdates\u001b[0m\u001b[0;34m)\u001b[0m\u001b[0;34m\u001b[0m\u001b[0;34m\u001b[0m\u001b[0m\n\u001b[0m\u001b[1;32m      2\u001b[0m \u001b[0mtrain5\u001b[0m\u001b[0;34m,\u001b[0m \u001b[0mdev5\u001b[0m\u001b[0;34m,\u001b[0m \u001b[0mtest5\u001b[0m \u001b[0;34m=\u001b[0m \u001b[0mdivide_featureset\u001b[0m\u001b[0;34m(\u001b[0m\u001b[0mfeatures5\u001b[0m\u001b[0;34m)\u001b[0m\u001b[0;34m\u001b[0m\u001b[0;34m\u001b[0m\u001b[0m\n\u001b[1;32m      3\u001b[0m \u001b[0mclassifier5\u001b[0m \u001b[0;34m=\u001b[0m \u001b[0mnltk\u001b[0m\u001b[0;34m.\u001b[0m\u001b[0mNaiveBayesClassifier\u001b[0m\u001b[0;34m.\u001b[0m\u001b[0mtrain\u001b[0m\u001b[0;34m(\u001b[0m\u001b[0mtrain5\u001b[0m\u001b[0;34m)\u001b[0m\u001b[0;34m\u001b[0m\u001b[0;34m\u001b[0m\u001b[0m\n\u001b[1;32m      4\u001b[0m \u001b[0mprint\u001b[0m\u001b[0;34m(\u001b[0m\u001b[0mnltk\u001b[0m\u001b[0;34m.\u001b[0m\u001b[0mclassify\u001b[0m\u001b[0;34m.\u001b[0m\u001b[0maccuracy\u001b[0m\u001b[0;34m(\u001b[0m\u001b[0mclassifier5\u001b[0m\u001b[0;34m,\u001b[0m \u001b[0mdev5\u001b[0m\u001b[0;34m)\u001b[0m\u001b[0;34m)\u001b[0m\u001b[0;34m\u001b[0m\u001b[0;34m\u001b[0m\u001b[0m\n\u001b[1;32m      5\u001b[0m \u001b[0mclassifier5\u001b[0m\u001b[0;34m.\u001b[0m\u001b[0mshow_most_informative_features\u001b[0m\u001b[0;34m(\u001b[0m\u001b[0;36m10\u001b[0m\u001b[0;34m)\u001b[0m\u001b[0;34m\u001b[0m\u001b[0;34m\u001b[0m\u001b[0m\n",
            "\u001b[0;32m<ipython-input-2-2cc4617f7f73>\u001b[0m in \u001b[0;36mgenerate_features\u001b[0;34m(data, vocabulary, fCol)\u001b[0m\n\u001b[1;32m    109\u001b[0m     \u001b[0;32mor\u001b[0m \u001b[0;32mnot\u001b[0m \u001b[0mthe\u001b[0m \u001b[0mword\u001b[0m \u001b[0;32mis\u001b[0m \u001b[0;32min\u001b[0m \u001b[0mthe\u001b[0m \u001b[0mtweet\u001b[0m \u001b[0;34m-\u001b[0m \u001b[0malong\u001b[0m \u001b[0;32mwith\u001b[0m \u001b[0mthe\u001b[0m \u001b[0mlabel\u001b[0m \u001b[0mof\u001b[0m \u001b[0mthe\u001b[0m \u001b[0mtweet\u001b[0m\u001b[0;34m.\u001b[0m\u001b[0;34m\u001b[0m\u001b[0;34m\u001b[0m\u001b[0m\n\u001b[1;32m    110\u001b[0m     \"\"\"\n\u001b[0;32m--> 111\u001b[0;31m     \u001b[0mfeatures\u001b[0m \u001b[0;34m=\u001b[0m \u001b[0;34m[\u001b[0m\u001b[0;34m(\u001b[0m\u001b[0mtweet_features\u001b[0m\u001b[0;34m(\u001b[0m\u001b[0md\u001b[0m\u001b[0;34m.\u001b[0m\u001b[0msplit\u001b[0m\u001b[0;34m(\u001b[0m\u001b[0;34m)\u001b[0m\u001b[0;34m,\u001b[0m \u001b[0mvocabulary\u001b[0m\u001b[0;34m)\u001b[0m\u001b[0;34m,\u001b[0m \u001b[0mc\u001b[0m\u001b[0;34m)\u001b[0m \u001b[0;32mfor\u001b[0m \u001b[0;34m(\u001b[0m\u001b[0md\u001b[0m\u001b[0;34m,\u001b[0m\u001b[0mc\u001b[0m\u001b[0;34m)\u001b[0m \u001b[0;32min\u001b[0m \u001b[0mzip\u001b[0m\u001b[0;34m(\u001b[0m\u001b[0mdata\u001b[0m\u001b[0;34m[\u001b[0m\u001b[0;34m:\u001b[0m\u001b[0;34m,\u001b[0m\u001b[0;36m6\u001b[0m\u001b[0;34m]\u001b[0m\u001b[0;34m,\u001b[0m \u001b[0mdata\u001b[0m\u001b[0;34m[\u001b[0m\u001b[0;34m:\u001b[0m\u001b[0;34m,\u001b[0m\u001b[0mfCol\u001b[0m\u001b[0;34m]\u001b[0m\u001b[0;34m)\u001b[0m\u001b[0;34m]\u001b[0m \u001b[0;31m# column 6 is text data, column 2 is gender data\u001b[0m\u001b[0;34m\u001b[0m\u001b[0;34m\u001b[0m\u001b[0m\n\u001b[0m\u001b[1;32m    112\u001b[0m     \u001b[0;32mreturn\u001b[0m \u001b[0mfeatures\u001b[0m\u001b[0;34m\u001b[0m\u001b[0;34m\u001b[0m\u001b[0m\n",
            "\u001b[0;31mIndexError\u001b[0m: only integers, slices (`:`), ellipsis (`...`), numpy.newaxis (`None`) and integer or boolean arrays are valid indices"
          ]
        }
      ]
    },
    {
      "cell_type": "code",
      "metadata": {
        "id": "Eb6BeHwZpMlA",
        "colab_type": "code",
        "colab": {}
      },
      "source": [
        "#In progress: creation of bad word bigrams \n",
        "tokens = [token for sentence in data[:,6] for token in sentence.split()]\n",
        "bigrams2 = list(nltk.ngrams(tokens, 2))\n",
        "fdbigrams2 = nltk.FreqDist(bigrams2)"
      ],
      "execution_count": 0,
      "outputs": []
    },
    {
      "cell_type": "markdown",
      "metadata": {
        "id": "xTzpuDaQZxBz",
        "colab_type": "text"
      },
      "source": [
        "#**K-Fold implementation** (WORKING!)"
      ]
    },
    {
      "cell_type": "code",
      "metadata": {
        "id": "RL1uHw7DtiRN",
        "colab_type": "code",
        "colab": {}
      },
      "source": [
        "# Data preperations, set all the relevant labels here as done earlier\n",
        "np.random.shuffle(data)\n",
        "kf_fCol = {'gender':2, 'Resolution_Category':4, 'tweet_state':12, 'hashtags':15}\n",
        "kf_vocabType = [vocab_feature_most_common, vocab_feature_unique][0] #Pick one by replacing the number in [int]\n",
        "kf_vocabulary = generate_vocabulary(data, kf_fCol['gender'], kf_vocabType)\n",
        "kf_features = generate_features(data, vocabulary, fCol['gender'])\n",
        "\n",
        "\n",
        "#kf_features = kf_features[:500]  # Define the amount of data to use"
      ],
      "execution_count": 0,
      "outputs": []
    },
    {
      "cell_type": "code",
      "metadata": {
        "id": "OgbMAIBlZ5vf",
        "colab_type": "code",
        "outputId": "c345b056-aa41-41aa-a079-6c142f25bbf9",
        "colab": {
          "base_uri": "https://localhost:8080/",
          "height": 1000
        }
      },
      "source": [
        "# Import KFold model and define the amount of folds\n",
        "from sklearn.model_selection import KFold  # import model\n",
        "k = 5  # amount of folds\n",
        "\n",
        "# Store an object of the KFold class in a variable with shuffle=True\n",
        "kf = KFold(n_splits=k, shuffle=True)\n",
        "\n",
        "\"\"\" \n",
        "Loop for the models and their designated folds (1 to k)\n",
        "and calculate the average of each of the 'k' models' accuracy\n",
        "using the NB classifier and k-fold model class.\n",
        "\"\"\"\n",
        "sum = 0 # sum to calculate average of model accuracies\n",
        "iteration = 1\n",
        "for train, test in kf.split(kf_features): # Loop over K chunk of data splits\n",
        "    train_data = np.array(kf_features)[train] # New chunk of train data\n",
        "    test_data = np.array(kf_features)[test] # New chunk of test data\n",
        "\n",
        "    # Define the NB classifier to the train data\n",
        "    kd_classifier = nltk.NaiveBayesClassifier.train(train_data)\n",
        "\n",
        "    print(\"Iteration no.\", iteration, \"\\n\")\n",
        "    print(\"Accuracy of iteration number\", iteration, \":\", nltk.classify.accuracy(kd_classifier, test_data))\n",
        "    kd_classifier.show_most_informative_features(10)\n",
        "    print(\"\\n\\n\")\n",
        "\n",
        "    sum += nltk.classify.accuracy(kd_classifier, test_data) # Add current sum to total\n",
        "\n",
        "    iteration += 1 # Increment variable to display next iteration\n",
        "\n",
        "# Average calculated by the sum divided by the number of folds\n",
        "average = sum/k\n",
        "print(\"The accuracy average of the K-fold models:\", average)"
      ],
      "execution_count": 17,
      "outputs": [
        {
          "output_type": "stream",
          "text": [
            "Iteration no. 1 \n",
            "\n",
            "Accuracy of iteration number 1 : 0.5992023928215354\n",
            "Most Informative Features\n",
            "      contains(cariloha) = True           female : male   =     16.1 : 1.0\n",
            "contains(hashtagoftheweek) = True           female : male   =     13.5 : 1.0\n",
            "          contains(miss) = True             male : female =      7.1 : 1.0\n",
            "          contains(wife) = True             male : female =      5.8 : 1.0\n",
            "        contains(youtub) = True             male : female =      5.8 : 1.0\n",
            "        contains(chocol) = True           female : male   =      5.6 : 1.0\n",
            "       contains(tixwish) = True           female : male   =      5.6 : 1.0\n",
            "          contains(pick) = True           female : male   =      5.3 : 1.0\n",
            "      contains(encourag) = True             male : female =      5.1 : 1.0\n",
            "           contains(ima) = True             male : female =      5.1 : 1.0\n",
            "\n",
            "\n",
            "\n",
            "Iteration no. 2 \n",
            "\n",
            "Accuracy of iteration number 2 : 0.5748502994011976\n",
            "Most Informative Features\n",
            "      contains(cariloha) = True           female : male   =     10.3 : 1.0\n",
            "contains(hashtagoftheweek) = True           female : male   =      8.3 : 1.0\n",
            "          contains(weed) = True             male : female =      5.6 : 1.0\n",
            "        contains(chocol) = True           female : male   =      5.1 : 1.0\n",
            "          contains(trip) = True           female : male   =      5.1 : 1.0\n",
            "        contains(youtub) = True             male : female =      4.9 : 1.0\n",
            "        contains(bigger) = True             male : female =      4.9 : 1.0\n",
            "         contains(smile) = True           female : male   =      4.8 : 1.0\n",
            "          contains(join) = True             male : female =      4.7 : 1.0\n",
            "         contains(throw) = True           female : male   =      4.4 : 1.0\n",
            "\n",
            "\n",
            "\n",
            "Iteration no. 3 \n",
            "\n",
            "Accuracy of iteration number 3 : 0.5558882235528942\n",
            "Most Informative Features\n",
            "      contains(cariloha) = True           female : male   =     11.5 : 1.0\n",
            "         contains(worri) = True           female : male   =     10.4 : 1.0\n",
            "contains(hashtagoftheweek) = True           female : male   =      9.1 : 1.0\n",
            "          contains(yoga) = True           female : male   =      7.7 : 1.0\n",
            "        contains(bigger) = True             male : female =      6.3 : 1.0\n",
            "             contains(p) = True             male : female =      6.2 : 1.0\n",
            "             contains(ü) = True           female : male   =      5.7 : 1.0\n",
            "          contains(wife) = True             male : female =      5.6 : 1.0\n",
            "          contains(miss) = True             male : female =      5.6 : 1.0\n",
            "        contains(chocol) = True           female : male   =      5.0 : 1.0\n",
            "\n",
            "\n",
            "\n",
            "Iteration no. 4 \n",
            "\n",
            "Accuracy of iteration number 4 : 0.5608782435129741\n",
            "Most Informative Features\n",
            "      contains(cariloha) = True           female : male   =     20.1 : 1.0\n",
            "contains(hashtagoftheweek) = True           female : male   =     15.4 : 1.0\n",
            "           contains(ùªî) = True           female : male   =      5.8 : 1.0\n",
            "          contains(name) = True             male : female =      5.3 : 1.0\n",
            "          contains(wish) = True           female : male   =      5.1 : 1.0\n",
            "          contains(pant) = True           female : male   =      5.1 : 1.0\n",
            "        contains(chocol) = True           female : male   =      5.1 : 1.0\n",
            "      contains(encourag) = True             male : female =      4.9 : 1.0\n",
            "         contains(grate) = True           female : male   =      4.4 : 1.0\n",
            "         contains(faith) = True           female : male   =      4.4 : 1.0\n",
            "\n",
            "\n",
            "\n",
            "Iteration no. 5 \n",
            "\n",
            "Accuracy of iteration number 5 : 0.5748502994011976\n",
            "Most Informative Features\n",
            "      contains(cariloha) = True           female : male   =     12.5 : 1.0\n",
            "contains(hashtagoftheweek) = True           female : male   =     10.0 : 1.0\n",
            "          contains(pant) = True           female : male   =      5.8 : 1.0\n",
            "           contains(act) = True             male : female =      5.5 : 1.0\n",
            "          contains(wife) = True             male : female =      5.5 : 1.0\n",
            "        contains(youtub) = True             male : female =      5.5 : 1.0\n",
            "       contains(tixwish) = True           female : male   =      5.1 : 1.0\n",
            "          contains(dick) = True           female : male   =      5.1 : 1.0\n",
            "          contains(weed) = True             male : female =      4.9 : 1.0\n",
            "         contains(fight) = True             male : female =      4.9 : 1.0\n",
            "\n",
            "\n",
            "\n",
            "The accuracy average of the K-fold models: 0.5731338917379598\n"
          ],
          "name": "stdout"
        }
      ]
    },
    {
      "cell_type": "markdown",
      "metadata": {
        "id": "o0-zsvVVbTSG",
        "colab_type": "text"
      },
      "source": [
        "# NB in Sklearn and Pandas."
      ]
    },
    {
      "cell_type": "code",
      "metadata": {
        "id": "60atowcBbdM7",
        "colab_type": "code",
        "colab": {}
      },
      "source": [
        "# Using pandas to load the data file into a CSV.\n",
        "# ISO-8859-1 is the encoding for tweets.\n",
        "df = pd.read_csv(\"first-first-year-project/data.csv\", encoding = \"ISO-8859-1\")\n",
        "#First step to cleaning the data, removing the categories we dont need.\n",
        "panda_data = df.drop([\"other_topic\",\"resolution_topics\", \"tweet_coord\", \"tweet_created\",\"tweet_id\", \"name\", \"retweet_count\", \"tweet_date\", \"user_timezone\"], axis = 1)\n",
        "\n",
        "\n",
        "#Cleaning all the text in our data with our newly build cleaner() function.\n",
        "for i in range(len(panda_data.text)):\n",
        "  panda_data.text[i] = cleaner(panda_data.text[i])\n",
        "\n",
        "from sklearn.model_selection import train_test_split\n",
        "#Splitting the data into train and test set. + shuffling while doing so. the test size is = 20%.\n",
        "train, test = train_test_split(panda_data,train_size=0.8, test_size=0.2, shuffle=True)"
      ],
      "execution_count": 0,
      "outputs": []
    },
    {
      "cell_type": "code",
      "metadata": {
        "id": "FO8f9gaGgFQ-",
        "colab_type": "code",
        "outputId": "6fcf272e-7f7c-451a-993b-915c5a06332c",
        "colab": {
          "base_uri": "https://localhost:8080/",
          "height": 53
        }
      },
      "source": [
        "#Using Sklearn, playing around with the CountVectorizer.\n",
        "vectorizer = CountVectorizer(analyzer=\"word\", stop_words= \"english\",min_df= 1, binary= True)\n",
        "#Create vectorized train set\n",
        "X_train = vectorizer.fit_transform(train.text)\n",
        "X_train.toarray()\n",
        "#Create vectorized test set\n",
        "X_test = vectorizer.transform(test.text)\n",
        "X_test.toarray()\n",
        "print(vectorizer.get_feature_names())\n",
        "# print(vectorizer.vocabulary_.get(u\"newyearsresolution\"))\n",
        "# print(X_train.toarray())\n",
        "# print(X_train.shape)"
      ],
      "execution_count": 23,
      "outputs": [
        {
          "output_type": "stream",
          "text": [
            "['000', '01', '015', '02am', '03', '03govidp0m', '04', '050', '0dzlrttkc8', '0fip12rofa', '0fpxxkiery', '0fwwwgfvbp', '0hgb0l1ffk', '0i30qcidc0', '0wdvtmx7u2', '10', '100', '1000', '100lbs', '1024', '1080', '1080i', '1080p', '10am', '10k', '10lbs', '10x', '11', '110', '110lbs', '117th', '11am', '12', '120', '120sports', '127243', '1280', '1280x1600', '12atzvlgtq', '12days', '12o', '13', '13_roach', '14', '1440', '1485', '15', '150', '157143', '159', '15k', '15lbs', '15poundstogo', '15th', '16', '165', '17', '18', '180', '1800', '19', '190', '1920', '1920x1080', '19376316819', '195lbs', '1967boldwriter', '1969', '1985', '1996', '1998', '1999', '1and0', '1d', '1for1', '1k', '1lpm3buqg5', '1oaaq0nx0t', '1problem', '1st', '1tlayg0ura', '1u', '1z48gumjph', '1zderlt0zl', '1zhfih0xwd', '20', '200', '2000', '2009', '200dayswithoutrayban', '200lbs', '2013', '2014', '2014memories', '2015', '2015goals', '2015gonnabemyyear', '2015herewecome', '2015ready', '2015resolutions', '2015rocks', '2015willbetheyear', '2016', '206gk', '20lbs', '20thingsiwantfor2015', '21', '2105', '210lbs', '215', '215lbs', '21dayfix', '21st', '223lbs', '22allyjali', '236dmbwcxe', '24', '240', '25', '250', '26', '26e8hmstsu', '27', '2880', '289', '2am', '2d15', '2dymv8mxkp', '2fit2quit', '2g6eurukae', '2joissy1kw', '2k15', '2k15goals', '2kwshatlhd', '2nd', '2nite', '2o12', '2o13', '2o14', '2pm', '2potahojg5', '2rwkzobnfx', '2w3yk3cty5', '2x', '2xqvsrwb9y', '30', '300', '300lbs', '30lb', '30th', '315', '31days', '32', '320', '3200m', '32nd', '33am', '349', '34qqmdsji4', '362', '363', '365', '37', '3840', '3annkdvydr', '3edlxuqidf', '3n4d9vz8a8', '3qehdk94aq', '3rd', '3vgg6dujws', '3w2s', '3weeks', '3yearssodasober', '3ylxianrqx', '3zmp1ol1yn', '40', '400', '4000', '400v8', '40lbs', '40weeks', '425am', '44', '45', '47th', '48', '4b0umknjfh', '4broke', '4fao', '4g4korgjje', '4hbon8heob', '4he7l9fpwt', '4hmzrpap5y', '4jgwnhjplx', '4k', '4l', '4life', '4szorpwbct', '4th', '4twentyluck', '4vevkmvgs7', '4w1plbhozq', '4zbtg7dpxl', '50', '500', '500in2015', '501', '50lbs', '52', '543', '54idirzeom', '57', '58f1d3t2aj', '5am', '5bzd8cyemq', '5c8ke9ozg0', '5dufmvnizg', '5gst0vayhc', '5k', '5mgjtzn9sw', '5mins', '5p62ambibr', '5qrhgqxmpy', '5qrprlwh9y', '5rmkjohjt4', '5seconds', '5sos', '5sosinconcord', '5uwzkdnlzj', '600', '61', '66', '6g6dwksl5j', '6ie9kg1sx8', '6iykk0zzyz', '6k8n3zedkg', '6th', '6vhdzehnjc', '6yo', '73', '730', '743', '768', '768p', '76uuw1ny5h', '77', '77ninobrown', '788fne4hzq', '79t4zj7qox', '7bl40kcubd', '7erioccxej', '7ht9h6xiqf', '7lxwyvchi9', '7q6um7vr4m', '7qslpxsd3r', '7rm0emc8x6', '7sbkzcr0x3', '7tclyvppbc', '7th', '7vt5zy765o', '7vxc4u7vv2', '7zfcsfdoif', '7zkjx6pgxv', '80', '800', '80aey9i4y5', '80bkygrr30', '80dpjc20zr', '8bit', '8bjio9mk7g', '8cfvf4htzb', '8g12eiw24n', '8glassesaday', '8z80dvxwef', '90', '900', '91dnqixvnb', '95', '98rock', '99', '997now', '9cepzerzgb', '9dgzlk5jhk', '9e9lizv3do', '9jlg5hpwes', '9lrgpybn5y', '9th', '9tuk53gnrm', '9ty5a4gsfh', '9wbevjttgs', '9wffognfrs', '9ztuc2si9h', '__________', '_____________', '__ù', '__ù___ù', '__ù_ä_ù__', '__ùô', '_alysonbanks', '_argento', '_be', '_britneegunz', '_dear_leader_', '_hersch', '_jamillyyy', '_jrichardd', '_julllliet', '_kawaiinekochan', '_kristiannaxo', '_sieerrraaaa', '_á', '_î', '_ò', '_óñ', '_õ', '_ù', '_ù_', '_ù__', '_ù___ù__', '_ù_â_ù', '_ù_ä', '_ù_ä_ù', '_ù_ä_ù__', '_ù_ä_ùôî_ù__', '_ù_ç', '_ù_é_ù_ã_ù_', '_ù_ò_ùò_', '_ù_ö', '_ù_û_ùõã', '_ùª', '_ùª_', '_ùª__ùôî_ùõü', '_ùªà', '_ùªé', '_ùªé_ùªé', '_ùªé_ùõ', '_ùªî', '_ùªî_ù', '_ùªî_ùª', '_ùªî_ùªî', '_ùªî_ùªî_ùªî', '_ùªî_ùàâ_ùà', '_ùªî_ùô', '_ùªî_ùôù_ù', '_ùªî_ùõä_ùô', '_ùªî_ùõï', '_ùªö', '_ùªû', '_ùî', '_ùî_', '_ùî__ùî', '_ùîµ_ùîè_ùî¼', '_ùîè', '_ùîê', '_ùîù', '_ùîû', '_ùò', '_ùò__ù_', '_ùò__ùòð', '_ùò__ùó__ù', '_ùòá_ù_', '_ùòâ', '_ùòð', '_ùó', '_ùô', '_ùô_', '_ùô__ù', '_ùô__ùô__ùô_', '_ùô__ùôç_ùôâ_ùõç', '_ùô__ùõ', '_ùôà', '_ùôähttp', '_ùôç_ùô', '_ùôç_ùô__ùô__ùôç_ùô__ùôâ_ùôâ_ùô_', '_ùôê', '_ùôî', '_ùôî_ùô__ùõä_ùõ', '_ùôõ', '_ùôö', '_ùôø', '_ùôù_ùôù', '_ùôû', '_ùõ', '_ùõ_', '_ùõ__ùªî', '_ùõ__ùô', '_ùõ__ùõï', '_ùõª', '_ùõª_ù_ä_ù__', '_ùõµ', '_ùõµ_ùõü_ùõ_', '_ùõã', '_ùõä', '_ùõä_ù', '_ùõä_ù_û_ùò', '_ùõï', '_ùõï_ùô', '_ùõð_ù', '_ùõð_ùõ', '_ùõð_ùõé', '_ùõø', '_ùõû_ùõû', '_ùõü', '_ùõü_ù_ä_ù_', 'a3em4jexkx', 'a_desiree09', 'aalomelii', 'aapkaapnahappy', 'aaron', 'aaron_bearden3', 'aaronallison', 'aaronherman2', 'aaronmcintosh_0', 'abandon', 'abbey', 'abbiejudson', 'abbywilson223', 'abd', 'abeeeeez', 'abg3xeutf9', 'abide', 'abk2iiauof', 'able', 'abouttime', 'abraham', 'abroad', 'abs', 'absolutely', 'absurd', 'abt', 'ac360', 'academic', 'accent', 'accept', 'acceptance', 'accepting', 'access', 'accident', 'accidentally', 'accomplish', 'accomplished', 'according', 'account', 'accountable', 'accounts', 'achievable', 'achievablegoals', 'achieve', 'achieved', 'achin', 'acknowledge', 'acknowledges', 'acknowledging', 'acoustic', 'acquire', 'act', 'acting', 'action', 'actions', 'active', 'actively', 'actor', 'actors', 'acts', 'actual', 'actually', 'actuallyhappening', 'actuallystickingtoit', 'ad', 'adamdevine', 'adamlambert', 'add', 'addicted', 'addiction', 'addictions', 'adding', 'address', 'ade', 'adele', 'adhering', 'adidas', 'admit', 'admitting', 'adopt', 'adoptarescue', 'adopting', 'adorable', 'adorn_ambreezzy', 'adrianna_love', 'adriannaknauer', 'ads', 'adult', 'adults', 'advance', 'advantage', 'adventure', 'adventures', 'adventuresinchemistry', 'advice', 'advise', 'advocate', 'af', 'affect', 'affected', 'affirmations', 'afford', 'afraid', 'afternoon', 'afvofficial', 'again_ù', 'agalcw', 'agamemnon', 'age', 'agent', 'agents', 'agentsofshield', 'ageofultron', 'aggij1zy8x', 'aging', 'agj6gdgesr', 'ago', 'agree', 'agt_auditions', 'ah', 'ahead', 'ahmad__allan', 'ai', 'aid', 'aim', 'aimhigh', 'aiming', 'aiminghigh', 'aint', 'air', 'airflares', 'airjordan', 'airline', 'airplane', 'ait', 'aj', 'ajgallicchio', 'aka', 'akphillips17', 'akqnjitg08', 'alan_lonewolf', 'alansanchez', 'albert', 'alcohol', 'alcoholic', 'alexa', 'alexandra_adele', 'alexandrias_x0x', 'alexisg928', 'alextursh', 'alexxssiss', 'alittlehelpgod', 'alive', 'aliyasassyass', 'allaboutme', 'allergic', 'alley', 'alliaskfor', 'allnapsallthetime', 'allow', 'allowed', 'allowing', 'almond', 'almostdone', 'almostthere', 'alot', 'alpha_athletics', 'alright', 'altanta', 'alternate', 'alternatives', 'amanda', 'amanda_cast_', 'amandadymek', 'amandajones3434', 'amandazz101', 'amazing', 'amazon', 'amazongonebad', 'ambidextrous', 'ambition', 'ambitious', 'ambivalence', 'amd', 'amen', 'amends', 'america', 'american', 'americanbeerman', 'americanmusclecar', 'americans', 'amidoingthisright', 'amightywolf', 'amnt', 'amp', 'amplifying', 'amreading', 'amwriting', 'amwritingfantasy', 'amyvernon', 'ana', 'analysis', 'anarchy', 'andersoncooper', 'andreaswyder', 'andreeeeee_3000', 'andresgda', 'andrew_d_22', 'andrewbasstard', 'andwhat', 'angel', 'angeles', 'angelesdlr', 'angeljolvera', 'angelolperez', 'anger', 'angie', 'angilovesdodgrs', 'angles', 'angrier', 'angry', 'aniion', 'animal', 'animals', 'animalsanctuary', 'animation', 'anime', 'annakendrick47', 'anne', 'announcements', 'annoyed', 'annoying', 'annual', 'annually', 'anon', 'anonymous', 'anookdotcom', 'anordcritical', 'answer', 'anthelonious', 'anthem', 'anthony', 'anthonyhotels', 'anthonyladao', 'antisocial', 'antother', 'ants', 'anxiety', 'anybody', 'anymore', 'anytime', 'anyways', 'ap', 'ap9zysrzuh', 'ap_west', 'apadeken', 'apart', 'apartment', 'apologies', 'apologize', 'apology', 'apostrophes', 'app', 'appeal', 'appears', 'apple', 'apples', 'application', 'applications', 'applies', 'apply', 'appreciate', 'appreciated', 'appreciated_ùõø_ùõø_ùõø', 'appreciating', 'appreciation', 'approach', 'appropriate', 'approval', 'apps', 'april', 'aprilmonterrosa', 'apt', 'apt3', 'archer', 'archive', 'area', 'areas', 'aremadeinthewinter', 'arguing', 'arguments', 'arianagrande', 'ariel', 'arizona', 'arm', 'arman_dela', 'armenian_ù', 'arms', 'arrived', 'arrives', 'art', 'artemis', 'article', 'articles', 'artifacts', 'artificial', 'artist', 'arturkavaliov', 'asad_ladhani', 'asap', 'asapa', 'asapferg', 'asf', 'ashamed', 'ashtanga', 'ashton5sos', 'asia', 'asian', 'ask', 'asked', 'asking', 'asks', 'aspartame', 'aspects', 'aspire', 'aspiringadmin', 'ass', 'asseenontv', 'asses', 'asshole', 'assignments', 'associate', 'assumptions', 'astros', 'asuibx6hty', 'aswiftielovatic', 'ate', 'athlete', 'athletes', 'athletic', 'atl', 'atleast', 'atone', 'attached', 'attacks', 'attainable', 'attcrowd', 'attend', 'attention', 'attilaga', 'attitude', 'attract', 'attracted', 'attractive', 'aubrielynnmusic', 'august', 'auld', 'auntie', 'auntieannes', 'auspol', 'austin', 'austin_hoit', 'austinflyskites', 'austinswift7', 'author', 'auto', 'ava', 'available', 'avalanche', 'average', 'averyhoover', 'avi', 'avocado', 'avoid', 'avoiding', 'awaiting', 'awake', 'awardscircuit', 'aware', 'away', 'awesome', 'awesomer', 'awful', 'awh4jnylr0', 'awhile', 'awkward', 'awkwardandiknowit', 'aww', 'awz7gwpjjk', 'ayeee_lilk', 'ayibbedams', 'azfamily', 'azrogernaylor', 'azyrybu3hi', 'b2trxssian', 'babe', 'babies', 'baby', 'babylexx_3', 'babysteps', 'bacardi', 'bachelor', 'background', 'backspace', 'backstage', 'bacon', 'baconandbutters', 'baconsportsbeer', 'bad', 'bad_robot', 'badass', 'badbitchesonly', 'badcreditscore', 'badder', 'baddest', 'badforyourbrain', 'badly', 'bae', 'bag', 'bags', 'baja', 'bakersfield', 'baking', 'balance', 'ball', 'ballet', 'balloon', 'ballparks', 'balls', 'ban', 'bananas', 'band', 'bandmanmitch', 'bang', 'bangin', 'bangs', 'banjo', 'bank', 'banking', 'banks', 'banksy', 'bar', 'barackobama', 'barbie', 'barely', 'bargain', 'bark', 'barn', 'barryjohnharper', 'bartender', 'base', 'baseball', 'baseballlife126', 'based', 'basic', 'basicbitchshit', 'basing', 'basis', 'basket', 'basketball', 'bass', 'bass_ù', 'basspro24chevy', 'bastille', 'bathroom', 'baths', 'bathtub', 'batman', 'battle', 'battleropes', 'baylor', 'bbbh', 'bbcdoctorwho', 'bbupwtviry', 'bc', 'bc5uhjdwos', 'bday', 'bdmyc', 'be4', 'beach', 'beachbody', 'beaming', 'beans', 'beard', 'bears', 'beastmode', 'beastnamedtiger', 'beat', 'beaten', 'beating', 'beatitudes', 'beats', 'beautiful', 'beautifully', 'beautifulmind', 'beauty', 'beautyscene_', 'bebacksoon', 'bebettereveryday', 'bebrave', 'becca3129', 'beckyluuuwhooo', 'becomingresponsible', 'bed', 'bedfellows', 'bedroom', 'bedscroll', 'bedsheets', 'beeee', 'beef', 'beefcake', 'beer', 'befoooo', 'began', 'begin', 'beginning', 'beginnings', 'begreat', 'behappy', 'behavior', 'bein', 'bekind', 'belcampomeat', 'belgian', 'believe', 'believed', 'believes', 'bell', 'belleisle_rack', 'belligerently', 'belly', 'beloved', 'belt', 'ben', 'benefit', 'benefits', 'bengals', 'benjamin', 'bennett', 'benny', 'berlinwall', 'bertieisme', 'bertshowbert', 'best', 'bestfriend', 'besthairstyies', 'bestolutions', 'bestowing', 'bet', 'bethkeola', 'better', 'betweenworlds25', 'beyonce', 'beyoncì', 'bff', 'bffs', 'bfzm7wf1r7', 'bgbhlqmwrw', 'bhcwakvlda', 'bi', 'bias', 'bibchat', 'bible', 'bicycles', 'bieber', 'big', 'bigchoppart25', 'bigger', 'biggest', 'biggie_paul', 'biggy', 'bigmac', 'bigsean', 'bike', 'bikini', 'bilal_da_great', 'billcosby', 'billing', 'billion', 'billionaire', 'billionaire_b', 'billionaireeffect', 'billnofi', 'billyraykdka', 'binge', 'binging', 'bio', 'biology', 'bioy', 'bird', 'birds', 'birth', 'birthday', 'bish', 'bishes', 'bit', 'bitch', 'bitches', 'bitchez', 'bitchiness', 'bitchy', 'bite', 'biting', 'bitterbluebetty', 'bitw', 'bizarre', 'bizdistricts', 'bjforse63y', 'bjj', 'bjork', 'bjorking', 'bjorkitout', 'bk_urway', 'bkytxlakvx', 'black', 'blacklivesmatter', 'blackout', 'blahblahblah', 'blair', 'blake', 'blakesnatural', 'blame', 'blaming', 'blankets', 'blast', 'blasts', 'blatantly', 'bless', 'blessed', 'blessed2015', 'blessings', 'blew', 'blf2014', 'blindsiding', 'bliss', 'block', 'blockbuster', 'blocked', 'blog', 'blogbooktours', 'blogging', 'blogilates', 'blogs', 'blonde', 'blondewibowhntr', 'blood', 'blow', 'blue', 'bluegrass', 'bluegrassbelle_', 'blues', 'blunt', 'blunts', 'bluntsovahoess', 'bluray', 'bm', 'bmi', 'bmnp4lipvz', 'bmnyc53', 'bnuhzvgjmv', 'board', 'boarding', 'boat', 'bobbykanode', 'bobsburgers', 'bobsburgersfox', 'bod', 'bodies', 'body', 'bodybuilding', 'bodylife', 'bodypump', 'bodyvive', 'boehner', 'boehnermustgo', 'boiiiii', 'boisterous', 'bold', 'bollywood', 'bolts', 'bonding', 'bonekovic02', 'bones', 'bonus', 'boo', 'boob', 'boobs', 'boogie', 'book', 'bookaddiction', 'bookmarked', 'booknerdprobs', 'books', 'booksandwine', 'boom', 'boomshakalaka', 'boot', 'boots', 'booty', 'boowup', 'booyah', 'booze', 'bop', 'bored', 'boreddd', 'boredom', 'borgnine', 'boring', 'born', 'boss', 'bossrockets', 'bother', 'bottle', 'bottomless', 'bought', 'boundaries', 'bountiful', 'bout', 'bowl', 'bowser', 'boxers', 'boxes', 'boy', 'boyfriend', 'boyrusher', 'boys', 'boyziimen', 'bp1rcg4xxd', 'bpootah', 'br', 'bra', 'bradleyeichar', 'bradmeltzer', 'brady', 'brag', 'brain', 'brainstorming', 'brand', 'brandnew', 'brands', 'braun', 'brave', 'brazilianjiujitsu', 'brb', 'break', 'breakable', 'breakfast', 'breaking', 'breakingbad_amc', 'breakingupwithh', 'breathe', 'breathing', 'brenduhlici0us', 'brianhund', 'briannanoel24', 'brianphickey', 'brianshall', 'brick', 'brides', 'bridge', 'bridges', 'brighter', 'brightside', 'bring', 'bringing', 'bringit2015', 'bringiton', 'bringiton2015', 'bringon2015', 'brings', 'bristle', 'brit_311', 'britbluhm', 'british', 'brittannyyy17', 'brittany', 'britters_smith', 'brkmrn', 'bro', 'broad', 'broke', 'broken', 'brolates', 'brolic', 'bronix86', 'brooklyn', 'bros', 'brother', 'brought', 'brown', 'brownies', 'brtrend', 'bruhhh', 'brunch', 'brushing', 'bryceman80', 'bryfone', 'bs', 'bt5yjcsfaw', 'btebo5', 'btsfblog', 'bubblewrap', 'bubbleygalinda', 'bucco', 'bucket', 'bucketlist', 'buckle', 'bucks', 'bud', 'budapest', 'budget', 'buehlmeister', 'buff', 'buggy', 'build', 'builder', 'building', 'bulk', 'bull', 'bulletjournal', 'bullhorngirl', 'bullock', 'bulls', 'bullshit', 'bum', 'bumping', 'bums', 'bun', 'bunch', 'bunk', 'burch', 'burger', 'burgers', 'buried', 'burn', 'burned', 'burning', 'burp', 'burr', 'burritos', 'burroughs', 'burying', 'busey', 'bushido', 'business', 'businesses', 'bust', 'busy', 'butt', 'butter', 'button', 'butts', 'butwhoscounting', 'buy', 'buying', 'buys', 'buythat', 'buzzfeed', 'bx8hgzrcob', 'bxtxh', 'bye', 'bye2014', 'byefelicia', 'byron_all_caps', 'bz4y2eizhd', 'c125r24seat7', 'c25k', 'c25kfree', 'c3esqxeztj', 'c4kziiqfga', 'c83yhr1bor', 'c8egkn4mli', 'c__ruggiero', 'c_bright52', 'ca9lpd36t9', 'cab', 'cactus', 'cadence', 'caesar', 'caffeine', 'caitlin', 'caitlinedmund', 'cake', 'cakes', 'calculated', 'calendar', 'cali', 'calisthenics', 'call_me_tsc', 'called', 'calling', 'calliou', 'callmemichelle', 'callmevanish', 'calm', 'calmedoctorhuey', 'calorie', 'calories', 'calum', 'calum5sos', 'camas', 'came', 'camera', 'camerondallas', 'camo', 'campbells', 'canada', 'canceling', 'cancer', 'candidates', 'candle', 'candles', 'candy', 'candycrush', 'canes', 'canigetaamen', 'cannabis', 'canon', 'cantfail', 'capable', 'cape', 'capitalize', 'capitals', 'caps', 'capsule', 'captain', 'capture', 'car', 'cara', 'cara__miller', 'caradeleweenie', 'carb', 'carbon', 'carbs', 'card', 'cardio', 'cards', 'care', 'career', 'careerpath', 'carefree', 'careful', 'cares', 'cargoes', 'cariloha', 'caring', 'carlyfornia18', 'carolina', 'carpe', 'carpediem', 'carrie', 'carrieunderwoodslegs', 'carrinoanthony', 'carrot', 'carry', 'carrying', 'cars', 'cartel', 'carton', 'cary', 'carycitizen', 'casablankies', 'case', 'case_wallin', 'cases', 'cash', 'cashflow', 'cashin', 'cassanoanthony', 'castellireports', 'castle', 'casual', 'cat', 'catalog', 'catalyze', 'catan', 'catch', 'catching', 'catchingup', 'categories', 'catholic', 'catlyfe', 'catproblems', 'cats', 'cause', 'causes', 'caution', 'cavinla', 'cavs', 'cayden', 'cbetham', 'cblochd', 'cbs', 'cc', 'ceasing', 'cebsilver', 'celebrate', 'celebration', 'celestino', 'celfie', 'cello', 'censor', 'cent', 'center', 'centered', 'cereal', 'certain', 'certification', 'certified', 'ces', 'cey_7', 'cfbdfkktad', 'cfrs', 'cfzzdjtjie', 'cha', 'chafe', 'chai', 'chaldeancutie', 'challenge', 'challenged', 'challenges', 'challenging', 'champagne', 'champagneyogi', 'championship', 'championshipmind', 'chance', 'chances', 'chandelier', 'chandlerjr1984', 'change', 'changed', 'changer', 'changes', 'changetheculture', 'changing', 'channel', 'channingtatum', 'chap', 'chapstick', 'chapter', 'character', 'charcoalalley', 'chargers', 'chariot', 'charisse_gibson', 'charities', 'charity', 'charlalalenee', 'charlescjohnson', 'charming', 'charter', 'chase', 'chasedillas', 'chastity', 'chattanooga', 'chatting', 'cheap', 'cheapundies', 'cheat', 'cheating', 'check', 'checker', 'checking', 'checkmark', 'checkout', 'checkoutmyvine', 'checks', 'checkup', 'cheek', 'cheektocheektour', 'cheep', 'cheer', 'cheers', 'cheese', 'cheeseburgers', 'cheeses', 'cheesy', 'cheetah', 'cheetos', 'chef', 'chels_corder', 'chelseahandler', 'chemical', 'chemically', 'chemistry', 'chess', 'chest', 'chew', 'cheyennebaiza', 'chicadlicious', 'chicago', 'chick', 'chicken', 'chickenlegs', 'chickens', 'chickfila', 'chiconasty32', 'chief_squantto', 'childish', 'childless', 'children', 'chill', 'chiller', 'chillin', 'chimney', 'chimneysweep', 'chin', 'chinese', 'chip', 'chipotle', 'chipotletweets', 'chips', 'chloebennet4', 'chocolate', 'choices', 'chol', 'cholesterol', 'choose', 'choosewisely', 'choosing', 'chores', 'chorgrapher', 'chose', 'chp_goldengate', 'chris', 'chrisbrockman', 'chrisbrown', 'christ', 'christian', 'christiand', 'christjesus', 'christmas', 'chronological', 'chsocm', 'chuck', 'chuck_is_handy', 'chuckcjohnson', 'chuckcjohnsonpoopedonthefloor', 'chucks', 'chuckwendig', 'chug', 'church', 'cialdini2015', 'ciaz7fb0fq', 'cibnlvlido', 'cigarette', 'cigarettes', 'cigs', 'cindycantdance', 'cinema', 'cinemax', 'cinnamon', 'cite', 'cities', 'city', 'cityofink', 'cjwypfckal', 'cjyrdqjese', 'ck', 'ckfaia94zr', 'ckogreenville', 'ckokickboxing', 'claim', 'clap', 'clark', 'clarkgregg', 'class', 'classes', 'classes_ùª', 'classic', 'classics', 'classroom', 'claus', 'claustrophobic', 'clean', 'cleancar', 'cleaneating', 'cleaning', 'cleanse', 'cleansing', 'cleanup', 'clear', 'clearance', 'clearly', 'clears', 'cliche', 'clichì', 'click', 'clicker', 'clients', 'clifford', 'climb', 'climbing', 'clock', 'clone', 'close', 'closer', 'closet', 'closets', 'clothes', 'clothing', 'cloud9_j', 'cloudstorage', 'club', 'clubs', 'clumsy', 'clutter', 'clydedonovan410', 'cmbrookins', 'cnn', 'coach', 'coachko_uconn', 'coast', 'coca', 'cocaine', 'coco', 'code', 'coders', 'coding', 'coffee', 'coffeeandchocolateforbreakfast', 'coilahodges', 'coilovers', 'coincidence', 'cojjx6gbyw', 'coke', 'cokes', 'col', 'cola', 'cold', 'coleman88_', 'collaborate', 'collection', 'collective', 'colleen', 'college', 'colonics', 'colonsuzan', 'color', 'coloradosprings', 'colorfulcountdown', 'colorfulplate', 'coltonrudloff', 'colts', 'columbie1', 'column', 'comber', 'come', 'comedy', 'comes', 'comfort', 'comfortable', 'comics', 'comin', 'coming', 'comma', 'command', 'commas', 'comment', 'comments', 'commercial', 'commercials', 'commitment', 'commitments', 'committed', 'committing', 'common', 'communicate', 'communication', 'communicator', 'community', 'comp', 'companion', 'compassion', 'competition', 'competitive', 'competitors', 'complain', 'complaining', 'complaints', 'complete', 'completed', 'completely', 'completing', 'compliment', 'computer', 'concern', 'concert', 'concerts', 'concrete', 'condescend', 'condescending', 'conditioner', 'condo', 'confessions', 'confidence', 'confident', 'confidently', 'confrontational', 'confused', 'confusion', 'congress', 'congressman', 'connect', 'connected', 'connection', 'connections', 'connell', 'conner_omalley', 'connorfranta', 'conquer', 'cons', 'conscious', 'consecutive', 'consider', 'considering', 'consistency', 'consistent', 'consistently', 'console', 'constant', 'constanza', 'construction', 'constructive', 'consulting', 'consume', 'consumer', 'contact', 'contd', 'contemplation', 'content', 'contentedness', 'contextually', 'continue', 'continued', 'continues', 'continuing', 'continuously', 'contribute', 'contributed', 'control', 'conversation', 'conversations', 'convert', 'convince', 'convincingly', 'cook', 'cookbooks', 'cookie', 'cookies', 'cool', 'cooler', 'cooperhill27', 'coordinate', 'copenhagen', 'copy', 'corduroy', 'corepoweryoga', 'coreybmorfit', 'coreytferguson', 'coreytrivium', 'coreywoodstempe', 'coreyxstone', 'corinnekisses', 'corinthians', 'cork', 'corn', 'corner', 'corny', 'corpgov', 'corporate', 'correct', 'correctly', 'coryvogelsberg', 'cosplay', 'cosplays', 'costs', 'cotton', 'cottonbowl', 'couch', 'count', 'countdown', 'countdownto2015', 'counterproductive', 'countourblessingonebyone', 'country', 'couple', 'courage', 'course', 'coursing', 'courtesy', 'courtney_bee', 'courtneyclogg12', 'cousin', 'cousinstizz', 'covered', 'covering', 'cowardice', 'cowardly', 'cowbell', 'cowboys', 'cowjgxdrcs', 'coworkers', 'cozy_mrb', 'cpdt', 'cra', 'crack', 'crackers', 'crackrehab', 'crafting', 'craigcampbelltv', 'cranecase', 'crap', 'crash', 'crates', 'crave', 'craze', 'crazier', 'crazy', 'cream', 'creamer', 'create', 'creating', 'creative', 'creativity', 'creator', 'credence', 'credit', 'creeps', 'creole_beautyx', 'crepe', 'crew', 'criminal', 'critic', 'critical', 'criticism', 'critique', 'crknb5wuna', 'crochet', 'crocheting', 'croft', 'crohnsdisease', 'cross', 'crosscountry', 'crossfit', 'crossitoffmylist', 'crotch', 'crotchety', 'crowd', 'crowds', 'crowned1d', 'cruise', 'crumlinfuels', 'crunch', 'crush', 'crushed', 'crushing', 'crust', 'crutch', 'crying', 'csmoker705', 'cuban', 'cucb', 'cuddle', 'cuddled', 'cudenver', 'cue', 'cuevabar', 'cuff', 'culinary', 'culpepper', 'culture', 'cumdump', 'cunt', 'cup', 'cupcakes', 'cupid', 'cups', 'cure', 'curestupidity', 'curl', 'curls', 'current', 'currently', 'curse', 'cursed', 'cursing', 'curtislbean', 'curves', 'curving', 'cuss', 'cussing', 'cut', 'cute', 'cuter', 'cuthbert', 'cutie', 'cutting', 'cuz', 'cvfuq6r72v', 'cwinkkk', 'cwrepqqexe', 'cyber', 'cybersecurity', 'cycle', 'cyclical', 'cydonia', 'cynical', 'czhustu1b3', 'czpvjqxqct', 'd75hej62kj', 'd_hemp18', 'd_lask1515', 'da', 'dad', 'dadmademedothis', 'dads', 'daily', 'dailyaudiobible', 'daislbnu4n', 'daisy_fayy', 'dallas', 'dalton', 'dammit', 'damn', 'damnit', 'dan', 'dance', 'dancehall', 'dancer', 'dancerprobs', 'dancertweets', 'dancing', 'dang', 'danidarlinn', 'danielbrim', 'danny', 'danny0bri3n', 'dannyshaus', 'danza', 'dare', 'daredevil', 'dark', 'darkema', 'darling', 'dasjahwilson', 'data', 'date', 'dates', 'dating', 'datingadvice', 'daughter', 'davenport', 'davidamarion', 'davidandsharp', 'daxshepard1', 'day', 'day_ù', 'dayatmovies', 'dayone', 'days', 'dayz', 'dc', 'dcim', 'dcpo', 'ddnewyearsweeps', 'ddr', 'dead', 'deal', 'deals', 'deanslist', 'dear', 'death', 'debate', 'debating', 'debgalant', 'deblasio', 'debrink', 'debt', 'debts', 'dec', 'decades', 'decaffeinated', 'december', 'decent', 'decide', 'decided', 'deciding', 'deciduous', 'decision', 'decisions', 'decisive', 'deck', 'declared', 'decor', 'decrease', 'dedicate', 'dedicated', 'dedication', 'deep', 'deepen', 'deeper', 'deeply', 'deepthoughts', 'deepthroat', 'deer', 'deeter', 'defeat', 'defer', 'deff', 'define', 'definitely', 'definition', 'defriend', 'degree', 'del', 'delete', 'deleted', 'deleting', 'delevingne', 'deli', 'delicious', 'delight', 'delivery', 'delsolcolor', 'delta_dc', 'dem', 'deminewell', 'democrats', 'denial', 'dennohmless', 'density', 'deodorant', 'depend', 'depending', 'depressed', 'depressing', 'derekhigdon1', 'derickpauls', 'descent', 'deserve', 'design', 'designated', 'desire', 'desired', 'desk', 'desktop', 'despair', 'desperate', 'destanievires93', 'destination', 'destinyjimison', 'destress', 'destroy', 'destroyallcliches', 'destroying', 'destructive', 'determination', 'determined', 'detox', 'detoxworkshop', 'develop', 'development', 'devices', 'devinsteuber', 'devote', 'devoted', 'devouring', 'dew', 'dft0fxlnd7', 'dfvc7qs6rw', 'dhenry52', 'diabetes', 'dialogue', 'diana', 'diaz2000cynthia', 'dibartapa2011', 'dick', 'dickhead', 'dictate', 'did', 'diddy', 'die', 'diego', 'diem', 'diet', 'dieting', 'dietneverstarted', 'dietpepsi', 'dietstartstomorrow', 'difazio', 'difference', 'different', 'differently', 'dig', 'diggin', 'dignity', 'dillard', 'dillon', 'dime', 'dimension', 'dimensional', 'dinalohan', 'dining', 'dip', 'diploma', 'dipping', 'direct', 'directed', 'direction', 'directions', 'directly', 'dirt', 'dirty', 'disabled', 'disappear', 'disappearing', 'disappoint', 'disappointed', 'disappointment', 'discipline', 'discover', 'discrimination', 'disgusting', 'dish', 'dishes', 'dislike', 'disneyland', 'disorders', 'disposable', 'disrespect', 'diss', 'dissertation', 'distance', 'distant', 'distinguished', 'distract', 'distracted', 'distractions', 'distractions_ùªé', 'district', 'divergent', 'dividends', 'divorce', 'dizzmas', 'dizzycares', 'dj', 'djobzrimog', 'dk9klh8okl', 'dklrb6hbws', 'dm', 'dm6eqdg2b1', 'dma0064', 'dms', 'dmx', 'dnonpk3kzq', 'dnt', 'doable', 'dobro', 'doctor', 'doctorweedfairy', 'document', 'docwestmusic', 'doe', 'does', 'doesn', 'doesnt', 'dog', 'doggie', 'doggymolly', 'dogs', 'dogslife', 'doh', 'doilies', 'doin', 'doing', 'doinggreatthings', 'doingresolutionsright', 'doit', 'doiteveryday', 'dollar', 'dollars', 'dolled', 'dollop', 'dolphins', 'dome', 'dominate', 'dominic_howard', 'domoreart', 'don', 'don_marcell', 'donate', 'donation', 'donna', 'donnie_fairburn', 'donotdisturb', 'donovankh21', 'donovantroi', 'dont', 'donteven', 'dontfumble', 'dontmakeitworse', 'dontskiplegday', 'donut', 'doodle', 'door', 'doors', 'dope', 'dopeambition', 'dos', 'dose', 'dosomethingeveryday', 'dot', 'double', 'doubt', 'douche', 'downhomethought', 'download', 'downside', 'downton', 'doyou', 'doyouwantin', 'dozens', 'dqs', 'dr', 'dragomir', 'dragon', 'drake', 'drama', 'dramatic', 'dramatically', 'draw', 'draw365', 'drawing', 'drawsomething', 'drbenfung', 'dream', 'dreambody', 'dreamer', 'dreamofphilanthropy', 'dreams', 'dress', 'dresser', 'drifted', 'drink', 'drinking', 'drinkmoreh20', 'drinkmorewater', 'drinks', 'drive', 'driven', 'driver', 'drivers', 'driving', 'drizzled', 'drop', 'dropthebabyweight', 'dropthediet', 'drrubidium', 'druggie', 'drugs', 'druids', 'drumkits', 'drums', 'drunk', 'dsed', 'dslr', 'dsma', 'dsmy', 'dsrwa95sui', 'dtla', 'dubai', 'duck', 'ducks', 'duct', 'dude', 'dudes', 'duels', 'duh', 'dulcetry', 'dum', 'dumb', 'dumbasspeople', 'dumping', 'dumps', 'dunkindonuts', 'durtysmallz', 'dust', 'dustinsnapchatsin2015', 'dvd', 'dwall_21', 'dwell', 'dwelling', 'dwjc1ajsvb', 'dwv6xnvikf', 'dyes', 'dygghdalmh', 'dying', 'dylanmetzinger', 'dynamic', 'e1wg6mecho', 'ea', 'eagle', 'eamaddennfl', 'eap1we8a26', 'ear', 'earlier', 'early', 'earlystart', 'earnings', 'earth', 'easier', 'easily', 'easing', 'east', 'easy', 'easyemerge', 'easymoney', 'eat', 'eatclean', 'eatclean2015', 'eathealthier', 'eathealthy', 'eating', 'eatmore', 'eats', 'eatsleeppartyrepeat', 'ebola', 'ebooks', 'ebx8yh8clq', 'eccentric', 'ecigs', 'economic', 'eddie', 'edge', 'edgyjunecleaver', 'ediquet', 'edit', 'editing', 'edition', 'edm', 'edpolicy', 'education', 'educational', 'educator', 'edwards', 'edwytkind', 'eeat33uxyr', 'eeer', 'effect', 'effort', 'eg3b6bcjjm', 'eggs', 'egsud4ahcz', 'eh', 'ehh', 'ehhhhmily', 'eileenabc7', 'einstein', 'ekm94', 'el1eptgrdh', 'elbows', 'elections', 'electrical', 'elephants', 'elevator', 'elijah', 'eliminate', 'eliminating', 'elisalamia', 'elisamlo', 'eljames', 'elledodd', 'ellen', 'elliptical', 'elsangito', 'elserracho', 'elusive', 'em', 'email', 'emails', 'emanicholejack', 'emazinglights', 'embodies', 'embrace', 'embracing', 'emdegz', 'emerge', 'emergingthoughts', 'emerson', 'emilylhauser', 'emjstumpy', 'emmvv_whales24', 'emo', 'emoji', 'emojis', 'emoticon', 'emotion', 'emotional', 'emotionally', 'emotions', 'empathy', 'emphasis', 'empire', 'employees', 'employment', 'empressraw', 'emuh_thaw', 'emyth', 'emzeemaze', 'en', 'en3whrw3ii', 'enact', 'encourage', 'encouragement', 'end', 'ended', 'ending', 'endless', 'endorse', 'ends', 'enemies', 'energy', 'engage', 'engagement', 'engineer', 'engineering', 'english', 'enhancements', 'enhxy4zbob', 'enjoy', 'enjoying', 'enlisting', 'enoughisenough', 'ensure', 'enter', 'enthusiasm', 'entire', 'entirely', 'entourage', 'entrepreneur', 'entrepreneurial', 'entrepreneurism', 'entrepreneurs', 'entrepreneurship', 'entropy', 'entry', 'envelopes_com', 'environment', 'environmentalist', 'environmentally', 'eosrebelt5', 'ep', 'epic', 'epicfail', 'episode', 'episodes', 'epstein', 'equal', 'equally', 'equestrian', 'eradicate', 'erb_hannah', 'erbody', 'erbst7s70n', 'ericazendano', 'ericsecharia', 'ernest', 'erotica', 'errrdayresolution', 'erybodyhatesbri', 'escalators', 'escape', 'esol', 'esp', 'especially', 'espn', 'establishment', 'esteem', 'eternally', 'eternalsadness', 'etrickett815', 'etudes', 'europe', 'ev1hn7uujt', 'ev4bokg7ne', 'evans', 'evar', 'eve', 'evening', 'eventing', 'events', 'eventual', 'everybody', 'everyday', 'everyday_ù', 'everydaycounts', 'everyonematters', 'everyones', 'everysimpsonsever', 'everytime', 'evident', 'evil', 'evildadatron', 'evmendozaa', 'evolution', 'evolve', 'evp7l19suj', 'evpp8', 'ew', 'ewhmmvdvob', 'ewvcgv5qqe', 'eww', 'ex', 'exact', 'exactly', 'exceed', 'exceeded', 'excellence', 'excellent', 'excercise', 'excersise', 'excessively', 'exchange', 'excited', 'exciting', 'exclamation', 'excluded', 'exclusively', 'excuses', 'execution', 'exercise', 'exercisestatus', 'exercising', 'exhibiting', 'exist', 'existed', 'existence', 'exit', 'exo', 'exotic', 'expand', 'expect', 'expectations', 'expenses', 'experience', 'experienced', 'experiences', 'experiments', 'expert', 'expire', 'expires', 'explain', 'explore', 'exploregeorgia', 'expose', 'exposed', 'express', 'extended', 'extending', 'extra', 'extreme', 'extremely', 'eye', 'eyeballs', 'eyebrows', 'eyeliner', 'eyes', 'f3yo6je6eg', 'f5aukygl1b', 'f74pvjjv', 'f8v3306pxf', 'faahhkkk', 'fab', 'fabulous', 'face', 'facebook', 'facebooking', 'faced', 'faces', 'fact', 'facts', 'factz', 'fail', 'failed', 'failing', 'fails', 'failure', 'fair', 'fairlightex', 'fairly', 'faith', 'faithful', 'fake', 'fakes', 'fall', 'fallen', 'falling', 'falls', 'false', 'fam', 'fame', 'families', 'family', 'familyfirst', 'famous', 'fan', 'fanatics', 'fandom', 'fangirl', 'fangirlproblems', 'fans', 'fantastic', 'fantasy', 'far', 'faraaxs', 'farewell', 'farm', 'fart', 'farting', 'fascist', 'fashion', 'fast', 'faster', 'fastfood', 'fat', 'fatguyproblems', 'father', 'fatkid', 'fatnesstofitness', 'fatter', 'fatty', 'fatyear', 'fault', 'fav', 'favorite', 'favors', 'fb', 'fbccanton', 'fblogger', 'fcqegczkpa', 'fear', 'fearless', 'fears', 'features', 'feb', 'february', 'fedoras', 'feedmemore', 'feel', 'feeling', 'feelingmotivated', 'feelings', 'feelingterrified', 'feels', 'feelslikeheaven', 'feeserface', 'feet', 'fellow', 'felt', 'femalebloggerrt', 'feministn', 'fenway', 'ferguson', 'feuds', 'fewer', 'fewest', 'fgh5xhym4x', 'fhkah4xrva', 'fiancì', 'fiber', 'fibrous', 'fiction', 'field', 'fieldviewsolu', 'fiend', 'fierce', 'fifthharmony', 'fifties', 'figfit', 'fight', 'fighting', 'figuratively', 'figure', 'figured', 'figuredrawing', 'file', 'film', 'filmisnotdead', 'filter', 'fin', 'final', 'finally', 'finance', 'finances', 'financial', 'financialadvice', 'financially', 'findgod', 'finding', 'fine', 'finger', 'fingernails', 'fingers', 'fingerscrossed', 'finish', 'finished', 'finisher', 'finishing', 'finnish', 'fireball', 'fireplace', 'fireworks', 'firm', 'fish', 'fishing', 'fit', 'fitandhealthy', 'fitbit', 'fitfam', 'fitfluential', 'fitlife', 'fitness', 'fitnessandfeta', 'fitnessmotivation', 'fitspo', 'fitterandfaster', 'fitting', 'fix', 'fixed', 'fixsociety', 'fiyriznrys', 'fiz6tr9rlh', 'fkn', 'fkx051xrnh', 'fl', 'flakey', 'flapjack', 'flatass', 'flats', 'flatscreen', 'flawed', 'flawless', 'flawlessly', 'flawnocho', 'fleek', 'flexibility', 'flexible', 'flexx', 'flight', 'flip', 'flipping', 'float', 'floor', 'florida', 'floss', 'flossing', 'flotrack', 'flourish', 'flow', 'flower', 'flowing', 'flown', 'flu', 'fluffeh', 'fluid', 'flush', 'flushing', 'fly', 'flygirls', 'flying', 'fml', 'fmr', 'fo', 'focus', 'focused', 'focusing', 'focusisme', 'folder', 'folders', 'foley', 'folk', 'folks', 'follow', 'followback', 'followed', 'follower', 'followers', 'following', 'followme', 'followmebackfrankie', 'followthefrog', 'food', 'foodies', 'foods', 'fools', 'foolsomeofthepeoplesomeofthetime', 'foot', 'football', 'footprint', 'footsteps', 'force', 'forced', 'forces', 'forcibly', 'forcing', 'forever', 'foreverclumsy', 'forget', 'forgetting', 'forgive', 'forgiveness', 'forgiving', 'forgot', 'forgotten', 'fork', 'form', 'forreal', 'forsure', 'forth', 'fortheworld', 'fortune', 'fortunes', 'forward', 'foryourenjoyment', 'fostering', 'fourth', 'fox29philly', 'foxnews', 'foxnews2015', 'foxworthy', 'foycfg2me0', 'fozarelli', 'fqbswarxou', 'fr', 'franiefroufrou', 'frankieballard', 'frankiejgrande', 'franklin', 'frantasticmonday', 'frappucino', 'freaking', 'freakingtrue', 'fredericchopin', 'free', 'freezer', 'french', 'frequently', 'fresh', 'freshkutzjigg', 'freshstart', 'fri', 'friday', 'fridge', 'fried', 'friend', 'friending', 'friendly', 'friends', 'friends_ù', 'friendship', 'friendships', 'friendsonnetflix', 'friendzone', 'fries', 'friggin', 'frigging', 'frivolous', 'frm', 'frnds', 'fronz1lla', 'frowns', 'frozen', 'fruit', 'fruits', 'frustrating', 'fscqa0yus9', 'fsjbibomnh', 'fu', 'fuck', 'fuckboi', 'fuckboys', 'fucked', 'fucker', 'fuckin', 'fucking', 'fucks', 'fuckyou', 'fudge', 'fudgemathew', 'fueledbyramen', 'fuelthefire', 'fuelupfridays', 'fuk', 'fulfill', 'fulfilled', 'fulfillment', 'fullest', 'fully', 'fun', 'funding', 'fundraiser', 'funfact', 'funnier', 'funny', 'funnyordie', 'furry', 'fursuitfriday', 'futility', 'future', 'futurist', 'fuxking', 'fvck', 'fxckin', 'fxorever', 'fxtityvjtk', 'fyi', 'fytnjl49sl', 'g07waoy7mi', 'g0q7vlicue', 'g1000', 'g7nuqmqzj2', 'ga30edgfif', 'gabelandeskog92', 'gabygoldchain', 'gadget', 'gaffer', 'gaga', 'gah', 'gain', 'gained', 'gaining', 'gains', 'gainz', 'gal', 'galaxy', 'galcav7v6r', 'gambling', 'game', 'gameday', 'gamedev', 'gameofthrones', 'gamers', 'gamersunite', 'games', 'gamification', 'gaming', 'gang', 'ganna', 'gap', 'garage', 'garbage', 'garcelleb', 'garden', 'garrett_h94', 'gary', 'gas', 'gaspump', 'gatech', 'gathering', 'gave', 'gay', 'gaydaddy', 'gayproblems', 'ge', 'ge7idzfstc', 'gear', 'geez', 'geeze', 'gel', 'gelek', 'gels', 'gem', 'gen', 'general', 'generally', 'generic', 'generous', 'geno_auriemma', 'genuine', 'genuinely', 'genynot', 'george', 'gerard_coury', 'german', 'germany', 'getafterit', 'getbig', 'getfit', 'getfit2015', 'getfitnaturally', 'gethealthy', 'getinshape', 'getitdone2015', 'getlazy2k15', 'getlesmills', 'getoneword', 'getreadytodie', 'getreal', 'getriped', 'gets', 'gettalentedly', 'gettin', 'getting', 'gettingfit', 'gettingon', 'gettingworkdone', 'gf', 'ggfables', 'giant', 'gibbnykktx', 'gif', 'gift', 'gifted', 'gigs', 'gilinsky', 'gill', 'gilmar_barrios', 'gilmore', 'gimme', 'gin', 'ginganinjaa8', 'girl', 'girlfriend', 'girlonfire', 'girlposts', 'girls', 'girlsguideparis', 'girlswholift', 'gisforgift', 'gisjvqrbhv', 'git', 'giveaway', 'given', 'gives', 'giving', 'gl7vp1d0e5', 'glad', 'gladly', 'glass', 'glasses', 'glen', 'global', 'gluten', 'glutenfree', 'glxw6twj38', 'gm', 'gnarlylet', 'gncordova', 'gnix20', 'gnjmfes2qi', 'goal', 'goals', 'goalsfor2015', 'gobeavs', 'gobig', 'gobooze', 'gobucks', 'god', 'god1st', 'godbless', 'goddam', 'goddamn', 'goddess', 'godiva', 'gods', 'godslovechats', 'godwilling', 'goer', 'goes', 'gogh', 'gohard', 'going', 'goingstrong', 'golang', 'golddustcowgirl', 'goles', 'golf', 'golfers', 'golly', 'goltv', 'gom1dl3ia5', 'gomez__', 'gone', 'gonna', 'gonzo', 'good', 'goodbusiness', 'goodbye', 'goodbye2014', 'goodbyepast', 'goodchoices', 'goodhealth', 'goodness', 'goodreads', 'goodwill', 'googlecar', 'gooood', 'gooooodluck_ùî¼', 'gooooood', 'gooooooooooooo', 'gop', 'gopats', 'gorgeous', 'gospel', 'gossip', 'gossiping', 'got', 'goth', 'gotitfree', 'gotta', 'gotten', 'gouda', 'govegan', 'govenment', 'grab', 'grace', 'gracenoel27', 'grad', 'grade', 'grades', 'grading', 'gradua', 'gradually', 'graduate', 'graduates', 'graduation', 'grail', 'grammar', 'grand', 'grandma', 'grandmother', 'granted', 'grass', 'grateful', 'grave', 'gravy', 'grdxscdxbn', 'great', 'greater', 'greatest', 'greatness', 'greatstartto2015', 'green', 'greenhouse', 'greensboro', 'greeted', 'greg', 'gregorian', 'gregory', 'gres', 'grid', 'griddle', 'griffin', 'grimalkinrn', 'grind', 'grinding', 'grizzly', 'grotesque', 'ground', 'grounded', 'group', 'groupon', 'grow', 'growing', 'grown', 'grows', 'growth', 'growthemmr', 'grrm', 'grrrl', 'grumpycat', 'grumpyhuman', 'grwvebkiss', 'gsonkqxnk8', 'gsvcommunities', 'gt', 'gu4q623hpx', 'guacamole', 'guarantee', 'gud', 'guess', 'guesstimating', 'guide', 'guilt', 'guilty', 'guitar', 'guitarhero', 'gulfstreampark', 'gullible', 'gum', 'gummies', 'gun', 'gunna', 'guns', 'guy', 'guys', 'guys_ù_à_ù_à_ù_', 'gy3jx5dbxp', 'gym', 'gymlife', 'gymmotivation', 'gymrat', 'gymstruggles', 'gymtime', 'gymtimidation', 'gymwillbenormalbyfebruary', 'gz50yorbck', 'h2o', 'h5utppwsdv', 'h7a9i7dxvp', 'ha', 'haa', 'haaileeyy7', 'habit', 'habits', 'hack', 'hacked', 'hacksisteeneyed', 'haha', 'hahaha', 'hahahaha', 'haiku', 'hailee', 'hailstate', 'hair', 'haircut', 'hairs', 'hairstylist', 'hairy', 'hakyeon', 'half', 'hall', 'halloween', 'halsparks', 'halt', 'hamburger', 'hamizmyname', 'hammered', 'hampton', 'hamptonality', 'hanar_marouf', 'hand', 'handed', 'handle', 'handling', 'hands', 'handsome', 'handy', 'hang', 'hanging', 'hangover', 'hangovers', 'hangry', 'hannahhardesty2', 'hannahvns', 'hannybanany345', 'happen', 'happened', 'happenin', 'happening', 'happens', 'happier', 'happiest', 'happiness', 'happy', 'happy2015', 'happy2015america', 'happyheart', 'happyhumpday', 'happylife', 'happymonday', 'happynewyear', 'happynewyear2015', 'happynewyeareve', 'happynewyeareverybody', 'hard', 'hardcore', 'harder', 'hardest', 'hardtask', 'harming', 'harmony', 'harry_styles', 'hart', 'harvest', 'hashtag', 'hashtagoftheweek', 'hass_dinerroo', 'hat', 'hate', 'hated', 'hateful', 'haters', 'hating', 'hav', 'havent', 'having', 'hawking', 'hawks', 'hayesgrier', 'haylakartman', 'hazell0ver', 'hbd56bjrfr', 'hbortnxlsu', 'hborz91spr', 'hc222oh2f1', 'hd', 'hdnetntjmh', 'head', 'headass', 'heading', 'headphones', 'heads', 'heal', 'health', 'healthful', 'healthier', 'healthy', 'healthyfood', 'healthyfornewyears', 'healthygamer', 'healthylifestyle', 'healthyliving', 'healthynewyear', 'healthyteeth', 'hear', 'heard', 'hearing', 'hears', 'heart', 'heartache', 'heartless', 'heartonmysleeve', 'hearts', 'heat', 'heathagenstakeonroma', 'heatherbvitale', 'heathers', 'heaven', 'heavy', 'heb', 'hebrews', 'heck', 'heckling', 'hedgehog', 'heel', 'heels', 'hefty', 'height', 'hell', 'hella', 'hello', 'hello2015', 'hellofuture', 'help', 'helper', 'helping', 'helpothers', 'helps', 'hemmings', 'henna', 'hennynhandcuffs', 'hentai', 'hereicome', 'herestome', 'herewecome', 'herewego2015', 'hero', 'heroin', 'heromysterion', 'herpes', 'hershelgreene1', 'hershey', 'herzog', 'hesfat', 'hesitations', 'hewgyfmoea', 'hey', 'hfoxvg7nz3', 'hgtv', 'hgtvnewyear', 'hgtvroseparade', 'hhcvmtdbdk', 'hhpgpq8sd2', 'hi', 'hi_dar', 'hibernate', 'hibernating', 'hibghrycvj', 'hidden', 'hiding', 'hiemmabaron', 'high', 'higher', 'highly', 'highway', 'hilariously', 'hillsong', 'hillsongla', 'hilovers', 'hilton', 'hinder', 'hiphop', 'hippieatheart__', 'hips', 'hislifenotmine', 'historical', 'history', 'hit', 'hitting', 'hivoltdisciple', 'hiya', 'hjy5pix30z', 'hlangabezo', 'hmmm', 'hnfrayre', 'hnrks3punj', 'hny2015', 'hobbies', 'hobby', 'hockey', 'hoe', 'hoes', 'hogging', 'hoieqxn2w6', 'hold', 'holding', 'holds', 'hole', 'holiday', 'holidays', 'holisox', 'holistic', 'hollaaaa', 'holland', 'hollywood', 'holy', 'home', 'homedesign', 'homeland', 'homeless', 'homemade', 'homicides', 'hondadays', 'honest', 'honestly', 'honesty', 'honey', 'honor', 'hood', 'hoodies', 'hooping', 'hope', 'hopeforthecity', 'hopefully', 'hopemilbry', 'hopes', 'hoping', 'hopkins', 'horrible', 'horribly', 'horrified', 'horse', 'horseracing', 'hosea', 'hospital', 'hosts', 'hot', 'hotel', 'hottest', 'hour', 'hours', 'house', 'howimetyourmother', 'hozier', 'hp3tybw7g9', 'hpapolo', 'hptqzougcz', 'hrs', 'ht', 'htown87', 'htt', 'http', 'https', 'hu', 'hubbs', 'hubby', 'hudsonette', 'huey', 'hug', 'huge', 'hughe', 'hugs', 'huh', 'huignakmop', 'hulkhogan', 'human', 'humanintonation', 'humans', 'humble', 'humblebrag', 'humbled', 'humiliate', 'humility', 'humpdayhairnet', 'hun', 'hung', 'hunger', 'hungover', 'hungr', 'hungry', 'huntin', 'hunting', 'hurom', 'hurt', 'hurting', 'husband', 'hustle', 'hvac', 'hyle0wozgv', 'hypeorl', 'hzc0ceokmt', 'i20fyr2fw1', 'i55sbsr39d', 'i70bithdki', 'iaedchat', 'iambjbritt', 'iamstevent', 'iamthejayc', 'iawfhwcnqj', 'icandothis', 'icanteven', 'ice', 'iceblended', 'icecream', 'iced', 'iceland', 'ictrcajwfv', 'idea', 'ideals', 'ideas', 'idfwu', 'idfwuuuuuu', 'idgaf', 'idiocy', 'idiot', 'idiots', 'idk', 'idol', 'idols', 'idontneedyou', 'ieyrydeesr', 'if0q7qtybk', 'ifbshu1ytx', 'ig', 'iggyazalea', 'ignorant', 'ignore', 'ignoring', 'igrowbeard', 'ihqh5z7prx', 'ii_santiago', 'iiesg0cekt', 'ijk4xilkko', 'ijustdgad_22', 'iknewmorethen', 'ill', 'illdobetter', 'illegal', 'illustrations', 'ilvfvpp1lx', 'im', 'ima', 'imaa', 'image', 'imaginary', 'imagine', 'imagine_angela', 'imagined', 'imatthewkeller', 'imgeraldburns', 'imgirlcode', 'imgur', 'imjeremyeli', 'imjrb3', 'imma', 'immediately', 'impact', 'impeachobama', 'imperfect', 'impler', 'implies', 'imponderabilia', 'importance', 'important', 'importantly', 'impossible', 'impressions', 'improve', 'improvement', 'improving', 'impulse', 'imquitedapper', 'imtoooldforthisshit', 'inadequacy', 'inappropriate', 'inch', 'inching', 'include', 'included', 'includes', 'including', 'inconsistent', 'increase', 'increasing', 'incredible', 'incredibly', 'independent', 'indian', 'indians', 'indicators', 'indiemusic', 'indignantly', 'individual', 'indulge', 'indy', 'inevitable', 'inevitably', 'infects', 'infinity', 'infinitywallets', 'inflatable', 'influence', 'ingenuity', 'ingredients', 'initiative', 'ink', 'inner', 'innout', 'innovation', 'innovative', 'innovativelife', 'inordinate', 'insanity', 'insanitymax30', 'inse', 'insectoids', 'inside', 'insight', 'insincere', 'inspector', 'inspiration', 'inspirational', 'inspire', 'inspired', 'instagram', 'instagrams', 'instapundit', 'instead', 'instrument', 'instruments', 'insurance', 'insurgentyear', 'intake', 'integers', 'intelligentsia', 'intend', 'intensely', 'intentionally', 'inter', 'interacting', 'interaction', 'interesting', 'intermediary', 'intern', 'international', 'internet', 'internship', 'introduce', 'introversion', 'intthings', 'invent', 'invest', 'invested', 'investing', 'invincibleduece', 'invisible', 'invitation', 'invitations', 'invite', 'invites', 'involve', 'involved', 'involves', 'involving', 'inwards', 'io', 'ios8', 'iowa', 'ipad', 'ipc', 'iphone', 'iphone6', 'ireekofsuccess', 'ireland', 'irish', 'ironic', 'irrationally', 'irrelevant', 'is250', 'isaacbiovega', 'isaacsmarie1983', 'isel8oz4rq', 'ish', 'island', 'issues', 'isthataweirdresolution', 'italian', 'italy', 'itching', 'ithinkyes', 'itsaprobl', 'itsashleymorgan', 'itsdoreen_', 'itsgavin_bruhh', 'itsgonnahappen', 'itsjust_dezii', 'itsmarshallw', 'itsmehonayy', 'itsmidnightred', 'itsmylife', 'itsthattimeofyear', 'itsthethoughtthatcounts', 'itunes', 'itunesmusic', 'itz_ahmed7', 'itzyaboykevin', 'iv76z1mhdf', 'ivanamilicevic', 'ive', 'ivories', 'ivory', 'iwantin', 'iwantobehip', 'iwil', 'iwillwalk500miles', 'iwish', 'iwokeuplikethis', 'iwyarnfest', 'ix', 'iyn3nu5c1q', 'izkdawxxcw', 'j0hn_le', 'j1ynpbfvyh', 'j3cmxsmbrk', 'j7ebsk3gm2', 'j9adrl6gnk', 'ja', 'jabroni', 'jack', 'jackie', 'jacking', 'jackpot', 'jackson', 'jaclynhill', 'jacob', 'jada5starz', 'jail', 'jam', 'james', 'jameshankins', 'jamesmaslow', 'jamiecullum', 'jammed', 'jamonteverdi', 'jamoore224', 'jams', 'jan', 'jan1', 'jan3', 'janethevirgin', 'janggo', 'janitor', 'january', 'jatoaviation', 'jawdann_', 'jay_bird25', 'jaymichaels13', 'jaysperations', 'jbghumanjr', 'jbombdroppa12', 'jcoleman328', 'jean', 'jeanchatzky', 'jeans', 'jeep', 'jeff', 'jeffbernat', 'jeggings', 'jelly', 'jemelehill', 'jenbkings', 'jenmorrisonlive', 'jennakimjones', 'jenner', 'jenniferg12_', 'jennyprathum', 'jenselter', 'jere', 'jerky', 'jerry', 'jerseys', 'jeski66', 'jesse', 'jessicadrown', 'jessicamey14', 'jessicavaugn', 'jessiceratsix', 'jessitomlinson', 'jesus', 'jesuschrist', 'jesusfirst', 'jesusofnaz316', 'jesusyear', 'jewelry', 'jf0geui32z', 'jf0nejad6m', 'jg', 'jgomez1446', 'jhor247', 'jiggly', 'jillianmichaels', 'jillibean052', 'jimharbaugh', 'jimjefferies', 'jimmy', 'jimmyfallon', 'jimmygoebel', 'jimmyjohns', 'jiujitsu', 'jj', 'jk', 'jknkdaadrw', 'jknotreally', 'jkstinkylicious', 'jlb0vnz5i7', 'jllwwzy0dy', 'jmhazsp4hi', 'jmybad', 'jnotha', 'job', 'jobless', 'jobs', 'jodyhighroller', 'joe_sugg', 'joelmgarland', 'joeydiggsjr', 'joeymamba', 'jog', 'john', 'johnathan', 'johnny', 'johnny_cobra', 'johnnyboyyy904', 'johnnygulick', 'join', 'joined', 'joining', 'jointhefamily', 'joke', 'jokes', 'joking', 'jon', 'jonathanquick32', 'jonbellion', 'jone', 'joordaank', 'jordan', 'jordangee15', 'joseph', 'josh', 'journal', 'journalistslike', 'journals', 'journey', 'journo', 'joy', 'jqseryootp', 'jrswmgiztu', 'jrzyecuagrrl', 'jtimberlake', 'jtqymrojnc', 'judge', 'judgemental', 'judging', 'judgmental', 'judgy', 'juice', 'juiced', 'juicy_des', 'jules', 'juliancamarena', 'julianne', 'juliecrimaldi', 'julienkang', 'juliwithoutane', 'jump', 'jumpstart', 'june', 'junk', 'jus', 'juss', 'just', 'justaddvodka', 'justbecause', 'justduncit', 'justforme', 'justice', 'justifiedfx', 'justin', 'justinbieber', 'justkidding', 'justsayin', 'justwaitonit', 'jx5dih8q61', 'jxorhjevcs', 'k1ng_james_', 'k2therend2', 'k5r6auqgur', 'k6b3c01bep', 'k8jcv', 'kaitlinobscura', 'kalahelantra16', 'kale', 'kalynharris1', 'kaneshow', 'kanjani', 'kansas', 'kansasupdate', 'kanye', 'karaoke', 'kardashian', 'kardashians', 'karma', 'karoline_marie_', 'kate_gurcik', 'katelynnnricee', 'katenasser', 'kause', 'kayaking', 'kayne', 'kaynewest', 'kclarke022', 'kdwolf77', 'keeping', 'keepingconsistent', 'keepingitsimple', 'keepitmenace', 'keepitsimple', 'keeps', 'kellystilwell', 'ken', 'kenmasters', 'kennedy', 'kennedycenterhonors', 'kennedynation', 'kenny', 'kenya', 'kenyaquotes', 'kept', 'ketchikan', 'kevin', 'key', 'keyboard', 'kfire92', 'kfzkoth2zp', 'kg4xkhlaun', 'kguh0c4tka', 'kiakey', 'kick', 'kickcancersbutt', 'kicked', 'kicker', 'kickin', 'kicks', 'kickstarter', 'kickstarter2015', 'kicresolutions', 'kid', 'kidd', 'kidding', 'kids', 'kielyannese', 'kigurumi', 'kill', 'killed', 'killer', 'killin', 'killing', 'kilmer', 'kim', 'kimkardashian', 'kind', 'kinda', 'kinder', 'kindle', 'kindly', 'kindness', 'kindof', 'kinds', 'kingdomhearts', 'kinglorenzo911', 'kingquijano', 'kings', 'kinkynewyearsresolutions', 'kiondo_', 'kiralies', 'kirsty_hulse', 'kismetue', 'kiss', 'kissed', 'kisses', 'kissing', 'kitchen', 'kkbskmkyuj', 'kkdcjoqjko', 'klfphjyfyl', 'kn', 'knbw4p1fvc', 'knee', 'knew', 'knights', 'knightsofcydonia', 'knit', 'knobs', 'knockoff', 'knope', 'know', 'knowing', 'knowledge', 'known', 'knows', 'knuckle', 'koheisasian', 'kool', 'koozies', 'korycunningham', 'kosdff', 'kourtney_shotz', 'krispykreme', 'kristenclark7', 'krneely', 'kroger', 'krovere5', 'krystellemeth', 'ks1asxlvav', 'kscmaghirang', 'ksmith_007', 'kuduro', 'kuw74vfcwz', 'kuyz2fulst', 'ky_stendardo', 'kylebiggavel', 'kyleelrodd', 'kylie', 'kymeshawhite', 'kymkral', 'l00tapp', 'l00tappp', 'l04jmuhv6w', 'l1gijn3jl3', 'l8xe23onpg', 'la', 'label', 'laceup', 'lack', 'ladder', 'ladies', 'lady', 'ladyfriends', 'ladymacdeath32', 'laeum5ewj5', 'lager', 'laid', 'laker', 'lakers', 'laketahoeca', 'lakingsicecrew', 'lambo', 'lame', 'lamps', 'lanadelrey', 'lancearmstrong', 'land', 'landmines', 'lang', 'language', 'languagelearning', 'languages', 'languish', 'lao', 'laptop', 'lara', 'lard', 'large', 'larry', 'lashambhala', 'lasted', 'lasts', 'lastsaturday', 'late', 'later', 'latest', 'latte', 'lattes', 'laugh', 'laughing', 'laughter', 'launch', 'launching', 'lauren', 'laurenmabra', 'law', 'lawn', 'laws', 'lay', 'laziness', 'lazy', 'lazy_ù', 'lazyy', 'lbj', 'lbr', 'lbs', 'lc1domapbc', 'lcv97vwvn6', 'le', 'lead', 'leader', 'leaders', 'leaf', 'league', 'leagueoflegends', 'leagues', 'lean', 'leanandmean2015', 'leaner', 'learn', 'learned', 'learning', 'leash', 'leather', 'leave', 'leaves', 'leaving', 'lectures', 'leebrice', 'leekholafai', 'leemosencasa', 'leevonperry69', 'left', 'lefwcb0hrc', 'leg', 'legacy', 'legally', 'legendary', 'leggings', 'leggoo', 'legislation', 'legit', 'legitimately', 'legs', 'leiannelliott', 'leighannadam', 'lem', 'lemme', 'lemoncello', 'length', 'lenph97rzs', 'lenses', 'lent', 'leotard', 'les', 'leslemonauthor', 'leslie', 'leslieerin1', 'leslieks', 'lesmills', 'lessdrama', 'lessen', 'lessfacebook', 'lesson', 'lessons', 'lessonsforlife', 'lessstress', 'let', 'letitgoletitgo', 'letmehelpyou', 'lets', 'letsdothis', 'letsgo', 'letsmakeitagoodone', 'letsseehowthisends', 'letsseewhathappens', 'letters', 'letting', 'level', 'levels', 'levi_ordway', 'levis', 'lewis', 'lexiiiemariiie', 'lexus', 'lexxi_007', 'lfm_xo', 'lgm', 'li78rmbs6e', 'liar', 'liberace', 'liberals', 'license', 'lick', 'lidddddyy', 'lie', 'lies', 'life', 'lifeasitcomes12', 'lifeboat', 'lifegoals', 'lifelessons', 'lifelimits', 'lifelong', 'lifelongresolution', 'lifestyle', 'lifetime', 'lifeuntapped', 'lift', 'lifting', 'light', 'lighters', 'lighthouse', 'lightmalum', 'lightning', 'ligsbuypks', 'like', 'like_ù', 'liked', 'likely', 'likeness', 'likes', 'likewise', 'liklebludklart', 'lil', 'limb', 'limit', 'limitations', 'limited', 'limiting', 'limits', 'lincolncity', 'lindsaylohan', 'lindseylelledee', 'lindzlindz16', 'line', 'lines', 'linger', 'lion', 'lipstick', 'liquid', 'liquor', 'list', 'listed', 'listen', 'listening', 'lists', 'lite', 'liter', 'literally', 'literaryagencies', 'literaryagents', 'liters', 'litmag', 'little', 'littleschultz37', 'live', 'liveandlearn', 'lived', 'livefohim', 'liveitteachit', 'livelarge', 'livelifehappy', 'lively', 'lives', 'livfit', 'livin', 'living', 'lizuselton', 'ljf4e2grxc', 'llmstallings', 'lloyd', 'llvcjvuwrn', 'lmao', 'lmfao', 'lmfaoo', 'load', 'loads', 'loan', 'loans', 'local', 'location', 'locking', 'lockup', 'locos', 'lofi', 'loft', 'lol', 'lon', 'london', 'lonely', 'long', 'longer', 'longhairdontcare', 'lonley', 'look', 'lookin', 'looking', 'looks', 'loookin', 'loop', 'loose', 'loosen', 'loosens', 'loosing', 'lootpack', 'lopez', 'lord', 'lordoftherings', 'lords', 'lordsofdogtown', 'los', 'lose', 'losers', 'loseweight', 'losin', 'losing', 'loss', 'lost', 'lostgirl', 'losthistory', 'lot', 'lotr', 'lots', 'lotsofmakeup', 'lotsoskinproblemssuddenly', 'lotteries', 'lottery', 'lou', 'loud', 'louder', 'loudly', 'louis_tomlinson', 'love', 'lovecliffjensen', 'loved', 'lovelife', 'lovely', 'lovelydawnx', 'lovemychurch', 'loveoneanother', 'lovers', 'loves', 'lovethissong', 'loving', 'lovinglife', 'low', 'lowcal', 'lowcarb', 'lower', 'lowest', 'lowkey', 'loyal', 'lpmsvqueh4', 'lpn', 'lsat', 'lt', 'ltschuckbass', 'ltthimanyways', 'luc', 'luck', 'lucky', 'lucky_gsd', 'luckyjadejules', 'luis', 'luke', 'luke5sos', 'lukebryanonline', 'lukefurmanou', 'lumeneus', 'lumps', 'luna', 'lunch', 'luoilvrzvy', 'lureason', 'lurking', 'lwmbzhfo8e', 'lyhgmkbwy9', 'lying', 'lyiurh39zv', 'lyndsnix', 'lynessajames', 'lyrics', 'lyssa_faiith', 'lzoatkinson', 'lzy03llz8d', 'm1ogihjpys', 'm3bphnkuew', 'm3iyz7dqwm', 'm44', 'm44surhsm9', 'm71pwihfsu', 'mac', 'macarena', 'machine', 'mad', 'madamradams', 'madden', 'maddi_rowley', 'madison_nikole', 'madisonpaige06', 'madlib', 'madonna', 'madonnarule2015', 'madsthecreator', 'mafia', 'magazines', 'magcon', 'magic', 'magicmike', 'magnets', 'magnumpi', 'mail', 'mailing', 'mails', 'main', 'mainframe', 'mainly', 'maintain', 'maize_blue75', 'major', 'majority', 'makasandwich_', 'make', 'makeadifference', 'makeithappen', 'makemoney', 'maker', 'makes', 'makeup', 'makeuptransformation', 'making', 'male', 'mall', 'mamadas', 'man', 'manage', 'management', 'manager', 'manatees', 'mandatory', 'mandymitch', 'mangosalute', 'manicures', 'manipulated', 'mankind', 'manly', 'manner', 'manolutions', 'mapytmn', 'marahuber3', 'marathon', 'marathoning', 'marathontraining', 'march', 'marcopoulos09', 'marcuscooks', 'marewaglover', 'margaretyo', 'margaritas', 'marilynjspeaks', 'marine', 'mario', 'mark_singerman', 'markberman', 'market', 'marketing', 'markpacker', 'markpavelich', 'marks', 'marlatabaka', 'maroon', 'maroon5', 'marriage', 'married', 'marry', 'marryme', 'marshall', 'marshallramsey', 'marty', 'marxist', 'mary', 'maryjsdiary', 'marym19', 'marypapas2', 'mas2destruction', 'masbitch', 'masks', 'massage', 'massive', 'massively', 'master', 'masterbate', 'masterbating', 'masturbate', 'mat', 'match', 'matches', 'matching', 'material', 'materialculture', 'materialism', 'math', 'mathchat', 'mathematically', 'maths', 'matmadiro', 'matter', 'matters', 'matthewbrysyee', 'matthewd_', 'matthewkheafy', 'mattmarton', 'mattnewsherald', 'mattpodwysocki', 'mature', 'maui', 'maybe', 'maybelater', 'mayday', 'mayesmikayla', 'mayfairromance', 'mba', 'mbdyeoptkj', 'mccarthy', 'mcconnell', 'mcconnelling', 'mcdonald', 'mcdonalds', 'mcfly', 'mcguires', 'mckynnalorraine', 'mcuban', 'mcw3wbddqd', 'mdmyjdfbrf', 'mdxokpgrls', 'meal', 'mealplan', 'mealprep', 'meals', 'mean', 'meaner', 'meanest', 'meangirl_dara', 'means', 'meant', 'meanttobebroken', 'mearlonfox13', 'measurable', 'measure', 'meat', 'meathead', 'mechanics', 'medal', 'media', 'medialife', 'medical', 'mediocre', 'meditate', 'meditation', 'medium', 'meds', 'meet', 'meeting', 'meets', 'mega64', 'megabloks', 'megamillions', 'megangia28', 'meghantrainor', 'meghugs', 'melanielynnnnn', 'melindaax21', 'melissashoop_', 'melook', 'member', 'membership', 'memberships', 'memo', 'memorable', 'memories', 'memorizing', 'memory', 'memphis', 'men', 'mental', 'mentally', 'mention', 'mentor', 'menu', 'meowshawn_lynch', 'merchandise', 'mercilessly', 'mercyforanimals', 'merry', 'merylnyc', 'mesfe', 'mesfer17', 'mess', 'messages', 'messed', 'messing', 'met', 'metal', 'metal_mixtress', 'metaphorically', 'meth', 'method', 'mets', 'metsfanatic86', 'mexican', 'mf', 'mf3auhoxx4', 'mfcetphorq', 'mfs', 'mhgb0q3y9h', 'mi', 'michael', 'michael5sos', 'michael_m00re', 'michaelmonroy3', 'michaelsmartguy', 'mickey', 'microbrew', 'mid', 'middle', 'midnight', 'mightnothappen', 'mighty', 'mijixry5ji', 'mike', 'mikeconneen', 'mikehamad', 'mikehardlemonade', 'mil', 'mile', 'miler', 'miles', 'mileycyrus', 'milk', 'million', 'milliondollars', 'millions', 'min', 'minaj', 'mind', 'minded', 'mindfood', 'mindful', 'mindfulliving', 'mindfulness', 'mindlessly', 'mindset', 'mines', 'mingna', 'miniaturecow', 'miniaturedonkey', 'minimize', 'minister', 'mins', 'mint', 'mintmilana', 'minus', 'minute', 'minutes', 'miracles', 'miraculous', 'mirror', 'mis', 'miserable', 'miserably', 'misogyny', 'miss', 'miss_shortitude', 'missed', 'missing', 'mission', 'missionaccomplished', 'missslavigne', 'missymaddy15', 'missyoliv', 'mistake', 'mistakes', 'mix', 'mixed', 'mixtape', 'mlb', 'mlbp', 'mlbpaclubhouse', 'mmevaacnky', 'mmt', 'mn', 'mnnerplc24', 'mo', 'moar', 'mobile', 'mode', 'model', 'modeling', 'mojohand', 'mol', 'mom', 'moment', 'moments', 'momma', 'mommy', 'moms', 'mon', 'monday', 'monday_ù', 'mondayblogs', 'mondays', 'money', 'money_ù', 'money_ùõü_ùõü_ù', 'moneyssssss', 'moneywise', 'monica', 'monkey', 'monogamy', 'monopolies', 'monster', 'month', 'months', 'mooc', 'mooch', 'mood', 'moon', 'moore', 'more_ù', 'more_ùõü', 'moreactionmike', 'morecats', 'moreeeeee', 'moreorganized', 'morepatient', 'morganotis', 'morning', 'morninggggggg', 'morrre', 'mortally', 'mortgage', 'mossa', 'motherteresa', 'motivate', 'motivated', 'motivation', 'motivational', 'motorola', 'motto', 'mount', 'mountain', 'mouth', 'mouth_ùª_', 'mouthypants', 'movement', 'moves', 'movie', 'movies', 'moving', 'mozzarella', 'mph', 'mplatco', 'mpls', 'mpttuqvlq7', 'mqj6tpzoku', 'mr', 'mr0mk1hple', 'mr_tquinones', 'mrjerryxxx', 'mrmarkfairhurst', 'mrmys2lokn', 'mrowl', 'mrs', 'ms', 'msg', 'mtels', 'mtmcfvltlv', 'mttra8jn2i', 'mtv', 'mtwn4yv', 'mtyn0bkuar', 'muaythai', 'muffin', 'muffintop', 'muhbahnigg', 'mulof2wusu', 'multiorgasmic', 'mum', 'mundane', 'munkty', 'muppets', 'mur', 'murphy', 'muscle', 'muscles', 'muse', 'muses', 'music', 'musical', 'musician', 'musicians', 'musiclife', 'musicmatters', 'musky', 'mustache', 'mute', 'muvhd4zzyd', 'mvnandez', 'mvqx9blvy4', 'mwaxumkphs', 'mwl1pwtgul', 'mwncnyyxjo', 'mxfiavibes', 'mycoffee', 'myfavoritefunnygirl', 'myfitnesspal', 'myheadhurts', 'myhugeass', 'mymomsagingr', 'mymotivation', 'mymy0hueia', 'mynewbackground', 'myoasisla', 'myoffice', 'myrecipemagic', 'myself_ù', 'mythirties', 'myuxpas6pz', 'mztbtijplv', 'nachos', 'nah', 'naielizaharvey', 'nails', 'naked', 'naked_ù', 'named', 'names', 'namtlknbout', 'nana', 'nancy_evaaan', 'nancygracehln', 'nancyspizza', 'nanobot', 'napping', 'naps', 'narrow', 'nashgrier', 'nashschristmaskit', 'nashvillescoop', 'naspashares', 'nasreinberro', 'nataliezea', 'nati2de', 'nation', 'national', 'nationalgridus', 'natural', 'nature', 'nauseous', 'naw', 'nawimsayin', 'nbmv3vrfzk', 'ncis_cbs', 'ndh2014', 'ne', 'necco', 'necessary', 'necks', 'neckties', 'need', 'needa', 'needacleverhashtag', 'needafriend', 'needed', 'needle', 'needs', 'needy', 'negative', 'negatives', 'negativity', 'neglected', 'neglecting', 'neighbors', 'neilwatkins05', 'nelly', 'nemvp9n7py', 'neon', 'nephews', 'nerds', 'nervo', 'nervomusic', 'nervous', 'nessa_255', 'net', 'netfix', 'netflix', 'networking', 'neve', 'neverseenahiddlestonmovie', 'neverworthmytime', 'new', 'newagerampage', 'newauthor', 'newbeginning', 'newbeginnings', 'newbierunners', 'newbies', 'newdriver', 'newest', 'newjob', 'newme', 'neworleans', 'newpromises', 'news', 'newschannel8', 'newseason', 'newsletters', 'newspaper', 'newy', 'newyea', 'newyear', 'newyear2015', 'newyearnewme', 'newyearnewmesteps', 'newyearnewyou', 'newyears', 'newyears2015', 'newyearsameme', 'newyearsdiet', 'newyearseve', 'newyearskiss', 'newyearsprobs', 'newyearsre', 'newyearsres', 'newyearsresolut', 'newyearsresoluti', 'newyearsresolution', 'newyearsresolutions', 'newyearssix', 'newyearswish', 'newyorkcity', 'newyorkcityrooftop', 'newyorksyddie', 'newyou', 'newyrsresolutin', 'nexgenrapper', 'nezzness', 'nfc', 'nflnetwork', 'ngdwczgsjr', 'ngohp5xkwf', 'ngr42wymts', 'ngteqigsqj', 'nhxuu483ud', 'niallofficial', 'nice', 'nicee', 'nicer', 'nicholeonnen', 'nick__armenta', 'nick_rau', 'nickdemirjian_', 'nickdougherty_', 'nickels', 'nicki', 'nickjchaney', 'nicolasgarraud2', 'nicolecbs5', 'nicolewinhoffer', 'niece', 'nigga', 'niggas', 'niggieminaj', 'night', 'nightmare', 'nightofthelivingdead', 'nights', 'nike', 'nike2015', 'nikeplus', 'niki_j_blige', 'nimmy_turner', 'ninahermes', 'ninja', 'niny_li', 'nip', 'nipples', 'nj', 'njit18byfn', 'njmqhspjgp', 'njzi5wnpjv', 'nl89gmdmoy', 'nm8c4qiaaf', 'noblamingorcomplaining', 'nobodiesbusiness', 'nochillposts', 'nocreditcarddebt', 'nodaysoff', 'nodebtdiet', 'noexcuses', 'nofilter', 'nohaters', 'noise', 'nolove', 'nomakeup', 'nomeat', 'nomnom', 'nomorechew', 'non', 'nonameinindy', 'nonprophetess', 'nonscarymelb', 'noodles', 'noon', 'nope', 'noragrets', 'noreally', 'noresolutions', 'normal', 'normally', 'nose', 'nosey', 'noshade', 'not_typical', 'notaaronallison', 'notabadidea', 'notarizedbet', 'note', 'notecards', 'nothin', 'nothing_ù_ç', 'notice', 'noticed', 'notopants', 'notorious', 'notrealbowling', 'notsorry', 'nottheirorthere', 'nourish', 'nov', 'novel', 'novels', 'np', 'npcteennationals', 'nqjsgrhzvc', 'ntsigxatal', 'nudes', 'nuggets', 'number', 'numbers', 'nurse', 'nurselife', 'nut', 'nutella', 'nutrition', 'nutshell', 'nxne3', 'ny', 'ny5yenjq1u', 'nyc', 'nycarts', 'nyday', 'nye', 'nye2015', 'nyr', 'nyresolutions', 'nz', 'nz3eslqyc0', 'nzmoney88', 'nzy1pvax3c', 'o6y0sungxj', 'o_o', 'oadjaoxpyx', 'oaths', 'oatmeal', 'obama', 'obay', 'obey', 'obnoxious', 'obscurity', 'observe', 'obsessed', 'obsessing', 'obsession', 'obstacles', 'obtaining', 'obvious', 'obviously', 'ocarina', 'ocarinia', 'occasions', 'ocd', 'ocean', 'ocflowpromo', 'ochem_g', 'ochocinco', 'odut7rqndk', 'of2offl4vk', 'offal', 'offend', 'offensive', 'offer', 'offering', 'office', 'officer', 'official', 'officially', 'offkey_kc', 'offlane', 'offline', 'oh', 'ohemgee', 'ohhhhhh', 'ohmygoff', 'ohshitgiselle', 'ohtzkuhps3', 'oil', 'oilpaints', 'ojzizzpfit', 'ok', 'okay', 'ol', 'olczhsdgav', 'old', 'olgyn16v8n', 'oliverstewart5', 'omg', 'omgchronicles', 'omgsteponme', 'omy', 'onedirection', 'onedrive', 'ones', 'onesie', 'oneword365', 'ongoing', 'onionadczar', 'online', 'onlinedating', 'onlyatsouthern', 'onlyinbos', 'onlyonesilletti', 'ono', 'onstage', 'onthatgymgrind', 'onvr', 'oo1dvfufac', 'ooc', 'ooevfllia9', 'oomf', 'ooohh', 'oops', 'op', 'open', 'opened', 'opening', 'opera', 'operation', 'opinion', 'opinionated', 'opinions', 'opportunities', 'opportunity', 'opposite', 'opposites', 'oprah', 'opticwhite', 'optimistic', 'oqqcvlz5to', 'oqwssmx3rs', 'orange', 'order', 'ordered', 'orders', 'ordinary', 'ordinarylife', 'oregon', 'oreos', 'organic', 'organise', 'organizations', 'organize', 'organized', 'organizing', 'orgasmdenial', 'orgasms', 'orientation', 'originalcindy_', 'orlandosentinel', 'orleans', 'ornah', 'ornery', 'orvieto', 'osh74', 'osnapitzlyndsey', 'osoj159hyj', 'otg2geejta', 'ouch', 'ouijameme', 'oujdnbaqdj', 'ourd', 'outbackbowl', 'outdoors', 'outed', 'outfit', 'outlets', 'outnumbered', 'outofmyway', 'outrun', 'outs', 'outside', 'outta', 'overall', 'overcome', 'overdue', 'overheard', 'overmycapacity', 'overpass', 'overpower', 'overrated', 'overreact', 'overs', 'overthinking', 'owenpallett', 'owl', 'owlcity', 'owntv', 'oxasrjvtga', 'oys', 'p1eishng0i', 'p1mfkf1213', 'p2', 'p3', 'p33wnsxxdy', 'p7lfgm1ody', 'p8', 'p90', 'pace', 'pack', 'packed', 'packers', 'packs', 'padres', 'page', 'paid', 'pain', 'painandgain', 'painfully', 'paint', 'painting', 'pair', 'pajamas', 'pal', 'paleo', 'paleodiet', 'palmer', 'panara', 'pancake', 'pancakes', 'pandawhoraves', 'pandora', 'pandora_radio', 'panic', 'pans', 'panthershane', 'pants', 'paper', 'papers', 'parade', 'parent', 'parents', 'paris', 'park', 'parking', 'parkour', 'parksandrec', 'parksandrecnbc', 'participate', 'parties', 'partipants27', 'partner', 'partnered', 'partners', 'parts', 'party', 'partying', 'partylikeajournalist', 'partypooper', 'partytime', 'pass', 'passed', 'passenger', 'passion', 'passionately', 'passport', 'past', 'past_ùôü_ùõð', 'pastor', 'pastorclw', 'path', 'patience', 'patient', 'patiently', 'patients', 'patronizing', 'pattern', 'paul', 'paul_dolce', 'paunch', 'pay', 'paychecks', 'paying', 'payitforward', 'payments', 'pbr', 'pbss92zrqj', 'pcross90fitx', 'pcsb', 'pdxjapanesegdn', 'peace', 'peanut', 'peanuts', 'pears', 'peck', 'pee', 'peeplescarly', 'peer', 'pelligolf', 'pen', 'penalties', 'pend', 'penguin', 'penny', 'people', 'people_ù', 'pepper', 'peppering', 'perf', 'perfect', 'perfecting', 'perfectionist', 'perform', 'performance', 'performer', 'performing', 'period', 'perks', 'persecuted', 'person', 'personal', 'personaldevelopment', 'personalfinance', 'personality', 'perspective', 'perspectives', 'pesky', 'pet', 'peta', 'peta2', 'pete', 'peter', 'petermorlow', 'peters', 'petersarsgaard', 'peteyplastic', 'petty', 'pewdfcso3m', 'pewdiepie', 'pffft', 'phat', 'phdsamford', 'philanthropy', 'philosophy', 'philsabadass', 'phoebesmusic', 'phone', 'phones', 'phonies', 'photo', 'photograph', 'photography', 'photos', 'phrase', 'physical', 'physicality', 'physically', 'physique', 'physiques', 'piano', 'pic', 'pick', 'picked', 'picking', 'pics', 'pict', 'picture', 'picturebooks', 'pictures', 'piddley', 'pie', 'piece', 'pieces', 'piercings', 'pierre', 'pilates', 'pile', 'piloted', 'pilsburyjoeboy', 'pink', 'pinklemonade', 'pinned', 'pinning', 'pinningnut', 'pinterest', 'pios', 'pirates', 'pissed', 'pit', 'pitbullnye', 'pity', 'pityparty', 'piyo', 'pizza', 'pjs', 'place', 'places', 'plan', 'plane', 'planes', 'planet', 'planetfitness', 'plank', 'planking', 'planned', 'planning', 'plans', 'plant', 'plants', 'plastic', 'plastics', 'platform', 'platforms', 'platinum', 'plato', 'play', 'player', 'players', 'playful', 'playing', 'playlist', 'playoff', 'plbsports', 'plearn', 'pleasantly', 'pleasesayitsnotso', 'pleasetouch', 'pleasing', 'pledge', 'pleeaaasseeeeee', 'plenty', 'plexus', 'plotting', 'pls', 'plunge', 'plus', 'pm', 'poach', 'pocket', 'pocketing', 'podcast', 'podcasts', 'poetry', 'pof', 'point', 'pointing', 'pointless', 'poison', 'poisons', 'poke', 'polarvortex', 'police', 'policy', 'polite', 'polo', 'pong', 'ponies', 'pontiacfirebird', 'pool', 'poon', 'poop', 'poor', 'poorly', 'pop', 'poppin', 'pops', 'popular', 'porch', 'pork', 'porn', 'porsche', 'portland', 'portraits', 'posing', 'position', 'positive', 'positive_ù', 'positive_ùôî_ùôî_ùôî', 'positives', 'positivity', 'possible', 'possibly', 'possitive', 'post', 'postbabybody', 'postbadbeards', 'posting', 'postlandfill', 'posts', 'posture', 'pot', 'potato', 'potatoes', 'potential', 'pots', 'potus', 'pound', 'pounds', 'pour', 'power', 'powerball', 'ppl', 'pr3zkid', 'practice', 'praise', 'praxeology', 'pray', 'prayer', 'prayers', 'praying', 'preachestruth', 'precious', 'preds', 'preferably', 'pregnancy', 'pregnant', 'preparation', 'prepared', 'preparing', 'prepping', 'preppy_nc', 'prerequisite', 'presence', 'present', 'presents', 'preserve', 'president', 'pressing', 'pressure', 'pressured', 'preston_dylan', 'prestoncampbeli', 'pretend', 'pretending', 'pretent', 'pretentious', 'prettier', 'pretty', 'prettypixiecat', 'pretzel', 'prevenient', 'prevent', 'preventing', 'previous', 'prezblackhurst', 'price', 'prices', 'prick', 'primary', 'prime', 'princes', 'princesskenaa', 'princesss_bb', 'principal', 'principle', 'printer', 'prior', 'priorities', 'priority', 'private', 'privileges', 'proactive', 'proana', 'prob', 'probably', 'problem', 'problems', 'problemsolved', 'probs', 'process', 'proclaim', 'procrastinate', 'procrastinating', 'procrastination', 'produce', 'producing', 'product', 'productive', 'productive_ùô', 'productivity', 'profanity', 'professionally', 'professionals', 'professions', 'proficient', 'profile', 'profit', 'profound', 'program', 'programs', 'progress', 'project', 'projectlife', 'projects', 'prolly', 'promise', 'promised', 'promises', 'promisespromises', 'promote', 'promoting', 'promulgate', 'prone', 'proof', 'propaganda', 'proper', 'properly', 'properties', 'proposal', 'proposition', 'prosper', 'prosperity', 'prosperous', 'prostitution', 'protagonist', 'protagonist52', 'protect', 'protection', 'protest', 'proud', 'prov', 'prove', 'provided', 'providing', 'proving', 'prules', 'prxpxhyftp', 'ps4', 'psa', 'psalms', 'pseudo_fred', 'psilent', 'pspowerup', 'psychic', 'pt', 'pt1pxlbweg', 'pthe', 'ptqb1035mi', 'public', 'publish', 'published', 'publisher', 'publishers', 'publishing', 'puddinstrip', 'puhdado', 'pull', 'pulled', 'pulppictionary', 'pumped', 'pumpkin', 'pumps', 'pun', 'punch', 'punches', 'punching', 'punctual', 'punctuation', 'punintended', 'punishment', 'punku', 'puppy', 'purchased', 'purchases', 'pure', 'purge', 'purging', 'purpose', 'purposefully', 'pursue', 'pursuing', 'pursuit', 'push', 'pushing', 'puss', 'pussy', 'puts', 'putting', 'pv7r3dcofp', 'pvncg1gnqn', 'pwtfyvvazs', 'pwz0dwjate', 'pxoc3kzftw', 'pyjqpavpnl', 'q3fyagixhw', 'q43jvpsdpy', 'q4gdas5zef', 'q7m2rrashm', 'q87w', 'q96nrstb1s', 'q9n9gtlqw7', 'q9o818l3ef', 'qdqv3e5f2m', 'qdryhyaqsb', 'qdszd39swt', 'qe9fg9dqcf', 'qeinbxz5q1', 'qj8kesxggs', 'qlvxwgxggq', 'qnypixx30e', 'qp3aj9diru', 'qpp1aakoxg', 'qpvoiiy4w7', 'qsvahm1jzi', 'qualified', 'quality', 'quantifiable', 'quart', 'quarter', 'quarterly', 'queen', 'queen_of_prep', 'queso', 'queue', 'quick', 'quicker', 'quickly', 'quiet', 'quit', 'quiting', 'quitsmoking', 'quitter', 'quitting', 'quote', 'quoteoftheday', 'quoteoftheyear', 'quotes', 'quotient', 'qypchu7qpy', 'qzub7blvjh', 'r4bboecfsf', 'r9uikuiiwl', 'race', 'races', 'rach5060', 'rachaellehr', 'rachel__nichols', 'rachel_koshy', 'rachelbeauty4', 'rachelclarkgiveaway', 'rachellecalabs', 'rachelx2x', 'rachgraph', 'racial', 'racism', 'racist', 'radio', 'radiohead', 'radionow1009', 'rage', 'rainier', 'rainrain919', 'rainsophie', 'rainy', 'raise', 'rajbnebnxb', 'ralph', 'ramen', 'ramp', 'ran', 'ranbhm36ve', 'ranch', 'random', 'randomthoughts', 'randosen', 'ranger', 'ranked', 'rap', 'rape', 'raping', 'rapper', 'rarely', 'rash', 'rat', 'ratchets', 'rate', 'rave', 'raw', 'ray', 'ray_ban', 'raynehall', 'rbalc5726s', 'rbxrs2cfw1', 'rdavis12', 'rdxtav6qqi', 'reach', 'reacquire', 'react', 'reactions', 'read', 'reader', 'reading', 'ready', 'reaganjay', 'real', 'real_liam_payne', 'realadamkaufman', 'realbrianhardin', 'realcocktail', 'realestate', 'realfakegator', 'realgrumpycat', 'realist', 'realistic', 'realisticgoals', 'realisticresolutions', 'realities', 'reality', 'realize', 'realized', 'really', 'realrosstalk', 'reals', 'realtalk', 'realworld', 'rear', 'reason', 'reasons', 'rebeccarocklynn', 'rebeccaturnerrd', 'rebel', 'rebelwilson', 'rebuild', 'receipts', 'receive', 'recently', 'recipe', 'recipes', 'recite', 'reckless_ù', 'recluse', 'recommendations', 'recommended', 'reconciliation', 'reconnect', 'record', 'recording', 'records', 'recovering', 'recoveryspirit', 'recreate', 'recreational', 'recruit', 'recruiting', 'recycling', 'red', 'redbox', 'redecorate', 'redeemer', 'redmeat', 'reduce', 'reductionists', 'reek23', 'reese', 'refer', 'referred', 'refill', 'reflect', 'reform', 'refreshed', 'refuse', 'regain', 'register', 'regret', 'regrets', 'regs', 'regular', 'reidriseling', 'reile_talk', 'reimagine', 'reinvent', 'reinventyourself', 'reject', 'rejoice', 'relateable', 'related', 'relationship', 'relationships', 'relatives', 'relax', 'relaxation', 'relaxed', 'relaxing', 'release', 'released', 'religiously', 'remain', 'remake', 'remarks', 'remember', 'remembered', 'remembering', 'remind', 'reminds', 'remix', 'remo', 'remote', 'remove', 'removed', 'render', 'renew', 'renewable', 'renewing', 'rentals', 'rep', 'repair', 'repeatedly', 'repeats', 'replace', 'replacement', 'replacing', 'replies', 'reply', 'replying', 'reporters', 'reporting', 'repost', 'reptilian', 'republican', 'republicans', 'requests', 'require', 'requirement', 'res', 'researching', 'resembles', 'reserve', 'reserves', 'reset', 'resist', 'resolove', 'resolut', 'resolution', 'resolution_ù', 'resolutionbroken', 'resolutioncomplete', 'resolutions', 'resolutionsfor2015', 'resolve', 'resolved', 'resolving', 'resorting', 'respect', 'respected', 'respectful', 'respects', 'respond', 'response', 'responsibilities', 'responsibility', 'responsible', 'responsibly', 'responsive', 'rest', 'restarting', 'restaurant', 'restaurants', 'restraint', 'results', 'resume', 'retail', 'rethink', 'retina', 'retiring', 'retro', 'return', 'returned', 'retweeet', 'retweet', 'retweets', 'reunite', 'reuse', 'revaluation', 'revamp', 'revamping', 'revelation', 'revenge', 'reversal', 'reverse', 'review', 'reward4missingsocks', 'rewarding', 'rewatch', 'rg8wyahrj4', 'rhet', 'rhino', 'rhmzrwzbvn', 'rhyep86ivl', 'rhyme', 'riannadizzle', 'rice', 'rich', 'richardbranson', 'richardlopez67', 'richardquest', 'richonown', 'rickikillinen', 'rickyfields', 'rickypdillon', 'rid', 'ride', 'ridersbylee', 'riding', 'rigell', 'right', 'riil_sports', 'rileyreyxxx', 'rimpoche', 'ring', 'rings', 'rinos', 'rio', 'riotfest', 'ripped', 'rise', 'riseandgrind', 'risk', 'risks', 'risotta', 'risotto', 'rissake', 'river', 'rl', 'rmsxurv4w7', 'road', 'roadie', 'roadtripping', 'roastedbeanz', 'robert', 'robes', 'robinthede', 'robot', 'rochae_04', 'rock', 'rockii96', 'rockin', 'rockineve', 'rogers', 'roh', 'roll', 'rolling', 'rolls', 'romans', 'room', 'roommate', 'rooms', 'roosevelt', 'root', 'roots', 'ropes', 'roses', 'rosettastone', 'rough', 'round', 'routine', 'row', 'roy_elrey', 'rp', 'rps', 'rt', 'rtgjxci86g', 'rub', 'rubbish', 'ruebi_lhb', 'ruh', 'ruined', 'rule', 'rules', 'rummaging', 'run', 'runchat', 'runchattanooga', 'rundisney', 'runner', 'runnerspace', 'running', 'runs', 'runsolution', 'rush', 'rusolution', 'russ', 'russellwgordon', 'russian', 'rustretch', 'ruthless', 'ryancapouch', 'ryanjchang', 'rzvp1vpbpt', 's1ieg8ceap', 's20phrfgyc', 's3lentz', 'saaaame', 'saccwhack', 'sachat', 'sacrifice', 'sad', 'saddest', 'sadly', 'safe', 'safety', 'saga', 'sagrad', 'said', 'sake', 'salad', 'salads', 'sale', 'sally07', 'saloon', 'salt', 'sambirmingham2', 'samirella8', 'sammymewy', 'sammywilk', 'samsmithworld', 'samuelmahoney2', 'samvolmaar', 'san', 'sanatumagal', 'sandals', 'sandalsresorts', 'sandra', 'sandwiches', 'sandyps56', 'sangria', 'sankawr', 'santa', 'sara', 'sarahakaandy', 'sarahkpeck', 'sarahramler', 'saranwrap', 'sarasota', 'sarasotalifestyle', 'sarcasm', 'sarcastic', 'sarcasticrover', 'sardinepundit', 'sass', 'sassycassie92', 'sat', 'satisfied', 'saturday', 'sausage', 'savage', 'savannahshipman', 'save', 'savedallas2015', 'savewater', 'saving', 'savings', 'savvyelise__', 'saw', 'say', 'say_ù', 'sayin', 'saying', 'saymorris', 'says', 'sbjo9lrfoy', 'sblackmoore', 'sc', 'scale', 'scared', 'scarves', 'scene', 'schedule', 'school', 'schools', 'science', 'score', 'scorpion', 'scortscort', 'scotch', 'scott', 'scotthbrown', 'scottrude120', 'scottwarner18', 'scotty_cat', 'scouty', 'scratch', 'scratching', 'scream', 'screaming', 'screen', 'screenwriting', 'screw', 'script', 'scrolling', 'scrooge', 'scsibttvnk', 'scumbag', 'scwjirdt1y', 'sdg', 'se', 'seafood', 'searching', 'season', 'seasoned', 'seasons', 'seasons_market', 'seat', 'seattle', 'sec', 'second', 'secondfitness', 'seconds', 'secret', 'section', 'secure', 'secured', 'seeds', 'seehowlongthislasts', 'seeing', 'seek', 'seeking', 'seemoreputters', 'seemsrealistic', 'seen', 'sees', 'seeya', 'segment', 'seize', 'selections', 'selenaa_suzette', 'self', 'selfcontrol', 'selfhelp', 'selfie', 'selfies', 'selfimprovement', 'selfish', 'sell', 'selvektv', 'semen', 'semi', 'sempxytl48', 'senator', 'send', 'sending', 'sends', 'senryu', 'sense', 'sent', 'sentence', 'sentences', 'separate', 'september', 'serenashortcake', 'series', 'seriously', 'serve', 'serves', 'service', 'servicerecipe', 'session', 'sessions', 'set', 'sethdaigle1', 'setting', 'settingthebarlow', 'settle', 'settled', 'settlers', 'settling', 'seven10software', 'sex', 'sexier', 'sexual', 'sexually', 'sexy', 'sf', 'sfphotogirl', 'sgro97', 'sh', 'shadows', 'shall', 'shallow', 'shame', 'shampoo', 'shanabo_o', 'shanenash94', 'shape', 'shaped', 'shapee', 'shar_shebeck', 'share', 'shared', 'sharethelove', 'sharing', 'shark', 'sharksheadline', 'sharktank', 'sharpen', 'shave', 'shawshankredemption', 'shaynacat', 'shayshaybug', 'shb', 'shbam', 'she_halfrican', 'sheep', 'sheeshing', 'sheet', 'sheinztime', 'shelbieyoung', 'shelbyskrhak', 'shell', 'shelves', 'shiksayisrael', 'shining', 'shirts', 'shit', 'shitface', 'shittier', 'shitty', 'shiyafernandez', 'shnanananon', 'shoe', 'shoes', 'shoot', 'shooting', 'shop', 'shoplift', 'shopping', 'shops', 'short', 'shorts', 'shot', 'shots', 'shoulders', 'shoutabyss', 'shoved', 'showed', 'shower', 'showing', 'shown', 'shows', 'showtickets', 'shrimpy', 'shrine', 'shrinks', 'shut', 'shutitdown', 'shutting', 'shxt', 'shy', 'shyt', 'siberian', 'sibling', 'sick', 'sickness', 'sickofallthehate', 'sidneyrossee', 'sierra', 'sign', 'signed', 'significant', 'signing', 'signs', 'silence', 'silly', 'silver', 'sim23simma', 'similar', 'simple', 'simpleenough', 'simpletruth4u', 'simpletruthorganic', 'simplify', 'simplistic', 'simply', 'simpsons', 'simultaneously', 'sing', 'singer', 'singing', 'single', 'singlelife', 'sink', 'sins', 'siothehunter32', 'sip', 'sistaaaaaasoul', 'sister', 'sisters', 'sit', 'sites', 'sitting', 'situation', 'situations', 'siu7davwko', 'size', 'sized', 'sizes', 'sjp6nvdnvk', 'skateboarding', 'sketch', 'skill', 'skills', 'skin', 'skinny', 'skinnydreams', 'skinnyjeansbestfriend', 'skip', 'skipping', 'skirt', 'skxtey9j35', 'skydiving', 'skye613', 'skyewrita', 'skylarastin', 'skyys_the_way', 'sl4lfz4ysb', 'slacker', 'slagsavngp', 'slap', 'slapping', 'slated', 'slay', 'sleep', 'sleeping', 'sleepy', 'slight', 'slightly', 'slinky', 'slipperyslope', 'slobs', 'slopes', 'sloppy', 'slouching', 'slow', 'slowjuicer', 'slowly', 'slurpslurp', 'sluts', 'slutty', 'smack', 'small', 'smaller', 'smart', 'smarter', 'smell', 'smells', 'smickle', 'smile', 'smilemore', 'smiles', 'smiley_virusss', 'smiling', 'smith', 'smoke', 'smokefree', 'smokeweed', 'smokin', 'smoking', 'smooth', 'smoothie', 'smoothies', 'smothered', 'snake', 'snapchat', 'snapchatprobbz', 'snapchats', 'snappin', 'snaps', 'sneakers', 'sneeze', 'snhu', 'snibla64', 'snowy', 'snusrwece7', 'snyxeorl9f', 'soaking', 'sober', 'sobriety', 'social', 'socialize', 'socialmedia', 'society', 'sock', 'socks', 'soda', 'sodafree2015', 'sodas', 'sodium', 'soexcited', 'soft', 'soil', 'solar', 'solemnly', 'solid', 'solidify', 'solo', 'solovedbygod1', 'solution', 'somebody', 'someday', 'somethin', 'son', 'song', 'songs', 'sono', 'soon', 'sooo', 'soooo', 'soosisloose', 'sopositive', 'sore', 'sorry', 'sorrynotsorry', 'sort', 'sorta', 'soul', 'souls', 'sound', 'soundcloud', 'soundhound', 'sounds', 'soundtrack', 'soup', 'soupset', 'sources', 'southafrica', 'southern', 'sov', 'sowhat', 'soy', 'sp', 'space', 'spaces', 'spanish', 'sparkles', 'sparrow', 'spartanrace', 'speak', 'speaking', 'special', 'specific', 'specifically', 'specimen', 'speculate', 'speeches', 'speed', 'spell', 'spend', 'spending', 'spent', 'spew', 'spewed', 'spice', 'spicier', 'spiffy', 'spikefriedman', 'spill', 'spin', 'spirit', 'spiritually', 'split', 'splits', 'spoilers', 'spoken', 'sponsor', 'sport', 'sports', 'sportsbiz', 'sportsmanship', 'sportsyelling', 'sporty', 'spot', 'spotify', 'spray', 'spread', 'spring', 'sqefqtghhd', 'squad', 'squash', 'squat', 'squats', 'squatting', 'sr20', 'srsly', 'ssj4', 'sskirtss', 'sta', 'stab', 'stable', 'stack', 'stadiums', 'staff', 'stafford', 'stage', 'stairs', 'stakeholders', 'stalking', 'stallingstx', 'stallionbooty', 'stan', 'stand', 'standards', 'standing', 'standtall___', 'standup', 'stank', 'staples', 'star', 'starbswiththegirls', 'starbucks', 'stared', 'stargatesg1', 'staright', 'staring', 'starks', 'stars', 'starship', 'start', 'startac', 'started', 'starting', 'startingtosave', 'startnow', 'startrek', 'starts', 'startstonight_ù', 'starttheyearright', 'startup', 'startupchallenge', 'startuplife', 'startups', 'starving', 'starwars', 'starwarstheforceawakens', 'stash', 'state', 'state_ù', 'station', 'stations', 'status', 'stay', 'stayawwsome', 'stayconnected', 'staying', 'stayingfit', 'staypositive', 'steady', 'steak', 'steal', 'stealing', 'steampunk', 'steer', 'step', 'steph_stine', 'steph_whiteman', 'stephaniedeus14', 'stephen', 'stephencredible', 'stephenfry', 'stephhollomon', 'stephturns40', 'stepping', 'steps', 'stessed', 'stevenontwatter', 'stevie_hergert', 'stick', 'sticking', 'sticks', 'stillness', 'stillquiethours', 'stillstickintoit', 'stir', 'stitchdolll', 'stocks', 'stoked', 'stomach', 'stone', 'stonebryson', 'stonerproblems', 'stones', 'stop', 'stophaydenisbad', 'stopped', 'stopsmokingcios', 'stoptalkinstartdoin', 'store', 'stores', 'stories', 'story', 'storyofmylife', 'straight', 'straighten', 'straightforward', 'straightfromtheword', 'straining', 'strange', 'stranger', 'strangers', 'strategy', 'strawberry', 'streak', 'streak32', 'streamchallenge', 'streamline', 'street', 'strength', 'stress', 'stressing', 'stretchitout', 'strict', 'strictly', 'strike', 'strip', 'stripper', 'strippers', 'strive', 'striveforgreatness', 'striving', 'strokin', 'strong', 'stronger', 'stronger2015', 'strongly', 'struggle', 'struggles', 'sts', 'stub', 'stubhub', 'stuck', 'student', 'studentaffairs', 'studing', 'studio', 'study', 'studying', 'stuff', 'stunt', 'stupid', 'stupidity', 'stupidpeople', 'style', 'sub', 'subjective', 'submissive', 'submit', 'subscribe', 'subscribers', 'subscriptions', 'substantial', 'subtweeting', 'succeed', 'success', 'successes', 'successful', 'successfulday', 'successfully', 'successstory', 'suck', 'sucka', 'sucked', 'sucker', 'sucks', 'sufininja', 'sugar', 'sugars', 'sugary', 'suggest', 'suggested', 'suggestions', 'suhpwhjzra', 'suit', 'sum', 'sumanravuri', 'summer', 'summer_hillxx', 'summerbodies', 'sums', 'sun', 'sunblock', 'sunday', 'sundays', 'sunglasses', 'sunk', 'sunrise', 'suns', 'supbro', 'supdeed', 'super', 'superb_pat', 'supersoulsunday', 'supper', 'supplements', 'support', 'supporting', 'supportive', 'sure', 'surely', 'surgery', 'surprise', 'surprised', 'surround', 'surrounding', 'survival', 'survive', 'survived', 'survivor', 'sushi', 'suspect', 'sustain', 'sustainable', 'suzana33074', 'svl76qvgun', 'svu', 'swag', 'swallow', 'swallower', 'swankymorm', 'swear', 'swearing', 'sweat', 'sweater', 'sweatpants', 'sweats', 'sweeeeet', 'sweet', 'sweetcodeine', 'sweeteners', 'sweetie', 'sweets', 'swift', 'swig', 'swiggity', 'swimmer', 'swinford56', 'swing', 'swirl', 'switch', 'switchgear', 'swole', 'swoleuniversity', 'sword', 'swore', 'sxfdmanfp4', 'sydnipina', 'symptoms', 'syne', 'syrup', 'sysop', 'szius88mnc', 't25', 't62ltpkkyl', 't8qgmmdleb', 't_mosh_baby', 't_partington', 'tab', 'table', 'tables', 'tablet', 'tabs', 'tackle', 'taco', 'tacobell', 'tacos', 'tactic', 'tad', 'tag', 'tagalog', 'tahoe', 'tail', 'tails', 'takeaway', 'takeayogabreak', 'taken', 'taken3', 'takeover', 'takes', 'takin', 'taking', 'takingbackmylife', 'talent', 'talentpool', 'talk', 'talkin', 'talking', 'tall', 'taller', 'tamales', 'tamar_kali', 'tampa', 'tan', 'tangarae12', 'tanishalong', 'tank', 'tape', 'tapes', 'tapestry', 'task', 'tasks', 'taste', 'tati', 'tattoo', 'tattoos', 'taught', 'taughtmewell', 'taxes', 'taxpayers', 'tayamariep', 'taylor', 'taylorrching', 'taylorswift', 'taylorswift13', 'taylorymeadows', 'tbh', 'tbt', 'tcc4348', 'tcfmu9ujtz', 'tcot', 'tea', 'teach', 'teacher', 'teacherproblems', 'teachers', 'teaching', 'teachings', 'team', 'teambobbyewing', 'teamless', 'teams', 'tear', 'tears', 'tech', 'techlationships', 'technology', 'teddy', 'tedtalk', 'teennickoficial', 'teeth', 'television', 'tell', 'telling', 'tells', 'temper', 'temple', 'tempted', 'tenderness', 'tennis', 'term', 'terminatorgenisys', 'terms', 'terra_nicole', 'terrible', 'test', 'testament', 'tests', 'texasmusic', 'text', 'texting', 'texts', 'tf', 'thad', 'thaila_xo', 'thank', 'thankful', 'thankfully', 'thanks', 'thankyou', 'thankyounetflix', 'thatisall', 'thats', 'thatsapromise', 'thatsgoldchinaa', 'thatwaseasy', 'the_deeter', 'the_real_kolby_', 'theaceleste', 'thebrianmo', 'thecarlmyers', 'thecatchfence', 'thechristylopez', 'thedolcediet', 'thedrunkening', 'theellenshow', 'theflathat', 'thefoursbar', 'thefuckerybruhh', 'thegamechanger', 'thegreatestofthese', 'thehobbit', 'thehomiepineapl', 'theiflist', 'theinlivingcolor', 'theirs', 'thekojac', 'thelist', 'themaster', 'theme', 'themoms', 'thenewtriplethreat', 'thenforevermore', 'thenow', 'theoreticallypossible', 'theory', 'thepinkpistolok', 'therapy', 'therealgt4', 'therealjuicyj', 'therealstevemin', 'therecipeclub', 'theresalwaysaplanb', 'thermofit', 'theseareafewofmyfavoritethings', 'thesexualgifs', 'thespringsla', 'thestruggle', 'theuncurvable', 'thewalkingdeadmarathon', 'thewallstbull', 'theyearof', 'theyoungkb', 'theyoungogproject', 'theyrecomingtogetyoubarbara', 'theyself', 'thi', 'thighs', 'thing', 'thing_finder', 'things', 'think', 'thinking', 'thinks', 'thirtyone', 'thisoneincluded', 'thisoneisnot', 'thisstopstoday', 'thnx', 'tho', 'thomasaugusto', 'thompson', 'thomyorke', 'thongs', 'thoroughly', 'thotful', 'thots', 'thoughh', 'thought', 'thoughtfully', 'thoughtless', 'thoughts', 'thoughtsfor2015', 'threw', 'thrive', 'throat', 'thrones', 'throw', 'throwing', 'throws', 'thuhndercat', 'thunderbahl', 'thursday', 'thx', 'ti4eli7xrt', 'tiana_lovexox', 'tiburonnaples', 'ticket', 'tickets', 'tickle', 'tidal', 'tie', 'tiger', 'tight', 'tightens', 'tights', 'til', 'till', 'tim_hz', 'timberbiel', 'time', 'timeformyself', 'timelines', 'timely', 'timer', 'times', 'timetogetserious', 'timraycraft57', 'tino', 'tiny', 'tip', 'tip_sloww', 'tipping', 'tips', 'tired', 'tiredofyourshit', 'titanium', 'tithes', 'titie', 'titles', 'tits', 'tixwish', 'tk', 'tktyyqpmkm', 'tl', 'tl2fjr3xqy', 'tlc6vagbp3', 'tltntdydtb', 'tmi', 'tnoconnor', 'toast', 'tobacco', 'today', 'toddpm', 'todolist', 'toe', 'toes', 'toeåê', 'toilet', 'toilets', 'tokpwrvdhq', 'told', 'tolerance', 'tolerate', 'tom', 'tom9d', 'tomadelsbach', 'tommyatwell', 'tommymilagro', 'tomorrow', 'tompycan', 'ton', 'tone', 'toned', 'tones', 'toneup', 'tonic', 'tonight', 'toning', 'tonite', 'tony', 'took', 'toothbrush', 'topboobs', 'topic', 'tor_casale', 'tornawalynnski', 'toronto', 'total', 'totally', 'touch', 'tough', 'toughest', 'toughmudder2015', 'tournament', 'towel', 'towels', 'town', 'toxic', 'toys', 'tperez_3434', 'tpkw2lhsze', 'tquadah', 'tra', 'trace', 'tracedeaton', 'track', 'tracker', 'tracking', 'tracks', 'trade', 'tradition', 'traditional', 'trail', 'trailer', 'train', 'trainer', 'trainhard', 'training', 'trainlikeapro', 'trans', 'transfer', 'transformation', 'transformational', 'transformed', 'transit', 'transition', 'trap', 'trapped', 'traps', 'trash', 'travel', 'traveling', 'travels', 'traveltips', 'trea', 'treadmill', 'treat', 'treated', 'treating', 'treatingmyselfright', 'treatment', 'treatments', 'treats', 'tree', 'trend', 'trending', 'trendingnow', 'trendyproblems', 'trenton_jones', 'triathlon', 'trick', 'tricky', 'tried', 'tries', 'trifecta', 'trim', 'trimming', 'trinkets', 'trip', 'triple', 'trips', 'tristamofficial', 'tristinanncott1', 'trivia', 'triviumofficial', 'triviumpaolo', 'troll', 'trollop', 'trouble', 'troublewithwrds', 'truck', 'true', 'truely', 'truestory', 'truffle', 'truffles', 'truly', 'trumbull', 'trust', 'trusting', 'truth', 'truthchirper', 'truthful', 'truthfultumblr', 'trx', 'try', 'tryagainnextyear', 'tryin', 'trying', 'tryingtofitin', 'tryna', 'tryveg', 'tsa', 'tsagov', 'tshirts', 'tsrn4jnbp1', 'tt', 'tty', 'tub', 'tug', 'tumbierposts', 'tumblr', 'tummy', 'tuned', 'tunes', 'turbo', 'turkey', 'turn', 'turned', 'turning', 'turns', 'turtlenecks', 'tv', 'tvtag', 'twaimz', 'tweet', 'tweeted', 'tweeting', 'tweets', 'tweetthistuesday', 'tweettillihavenomorefriends', 'tweetup', 'twerking', 'twhiddleston', 'twice', 'twilight', 'twin', 'twinkies', 'twins', 'twitch', 'twitter', 'twitterfans', 'twodetroits', 'txuxxjapsu', 'tyarnold18', 'tyb_jarvey', 'tylenol', 'tyler_e3', 'tylerfarr', 'type', 'typhoon', 'typical', 'typing', 'typos', 'tyrfbkzj7r', 'tyte', 'tyteshit', 'tzlnnhjjwl', 'tzu', 'ubh3g8i3aa', 'ubuy2ipjo1', 'uccessful', 'uctuyb1y6e', 'ugh', 'ugly', 'uh', 'uhh', 'uiuorfcvw5', 'ujv5ffl12g', 'uk', 'ulonx0tfzk', 'ulta_beauty', 'ultimatum', 'ultra', 'ultrachat', 'um', 'um2fe8tkzj', 'umaauwg7a5', 'umlol4k5je', 'umm', 'una', 'unapologetically', 'unaware', 'unbroken', 'uncle', 'unclesebastian', 'uncomplicate', 'unconditional', 'undefeated', 'undergrad', 'underpants', 'understand', 'understanding', 'underwater', 'underwear', 'underwood', 'undies', 'undiscovered', 'unencumbered', 'unfair', 'unfit', 'unfollow', 'unfollowing', 'unhappy', 'unhealthy', 'uni', 'unicorn', 'unified', 'unincorporated', 'unintentionally', 'universal', 'unkind', 'unless', 'unlimited', 'unlock', 'unnatural', 'unnecessary', 'unpleasant', 'unplug', 'unprocessed', 'unproductive', 'unrealistic', 'unrush', 'unstoppable', 'unstructured', 'unsubscribed', 'unsubscribing', 'untangling', 'untilithurts', 'untouched', 'unusedpotential', 'upbeat', 'upcoming', 'updates', 'upgrade', 'upgradedape', 'uploading', 'upping', 'uppp_ù', 'uprising', 'ups', 'upsers', 'upset', 'upsets', 'ur', 'urtb9l7cg2', 'usa', 'usage', 'usdnjcxh3u', 'use', 'used', 'useless', 'uses', 'ush6rhihw4', 'using', 'ussportsmen', 'usual', 'usually', 'ut0sc4bigu', 'utrku3g1nc', 'uttered', 'uv8hwipb0e', 'uverse', 'uw9uyrqrak', 'uwbzn9cqcz', 'ux5tos1bxy', 'uyo606tofw', 'uzrjeobzop', 'v06trwmxjp', 'v1irnmjhq3', 'v2gef6s49q', 'v4z5aotuys', 'v9xbbh2k3l', 'vacation', 'vacuum', 'vacuuming', 'vacuumkiller', 'vagabondprobs', 'vain', 'val', 'valentine', 'valentinesday', 'valu', 'value', 'valued', 'values', 'van', 'vanessa_lever', 'vanessakeccles', 'vanilla', 'vanswarpedtour', 'vape', 'vaping', 'vast', 'vbzyu4bedj', 'vcdk3idi8f', 'vdmesa9lwc', 'vdqhev1igp', 'veal', 'vegan', 'veganuary', 'vegetable', 'vegetables', 'vegetarian', 'vegetarianism', 'veggies', 'veins', 'velsburylegg', 'ventured', 'versa', 'verse', 'verses', 'version', 'veterans', 'vibes', 'vicarkelly', 'vice', 'vices', 'vicissitudes', 'victim', 'victoria', 'victoriassecret', 'vid', 'video', 'videogames', 'videos', 'vids', 'view', 'vikkstar123', 'vincent', 'vine', 'viner', 'vinyl', 'vinylmeplease', 'violence', 'virgin', 'virginity', 'virgos', 'virtualcleanup', 'vision', 'visit', 'visiting', 'visits', 'vlog', 'vmfa', 'vocabulary', 'vodka', 'voice', 'voiceofdareal', 'vojmaccevc', 'volunteer', 'volunteered', 'vortex', 'voted', 'voters', 'vow', 'vowed', 'vpcfsqm', 'vpfqt1jnfx', 'vqr', 'vs', 'vssfctyoih', 'vunzo51wvq', 'vvh57gjcqn', 'vwalk24', 'vwypgddwnk', 'vxmibdkuvd', 'vyhyyxtjgt', 'w9a8vc8mvv', 'wafers', 'waffles', 'wag', 'wage', 'wages', 'wagon', 'wahhh', 'waist', 'wait', 'waiting', 'wake', 'wakeandbake', 'wakes', 'waking', 'waldo', 'waldorf', 'walgreens', 'walk', 'walking', 'wallet', 'wallplates', 'walls', 'wallshark84', 'walmart', 'wana', 'wanderlust', 'wanna', 'wannabebeckham', 'want', 'wanted', 'wanting', 'wants', 'war', 'warchyld_ent', 'ward', 'wardrobe', 'warm', 'warming', 'warned', 'warner', 'warrior', 'wars', 'washed', 'washer', 'washing', 'washington', 'waste', 'wasted', 'wasting', 'wastingtime', 'watch', 'watching', 'water', 'watercolors', 'waterfalls', 'watermelon', 'wattsdantzler', 'wave', 'waves', 'way', 'ways', 'wayside', 'wb67hv4gks', 'wbliv28g1u', 'wcw', 'wdbj7', 'wealthy', 'wear', 'wearable', 'wearing', 'weather', 'weave', 'weaving', 'web', 'webmd', 'website', 'wedding', 'wednesday', 'wednesdaywisdom', 'weed', 'weeding', 'week', 'weekend', 'weekers', 'weekly', 'weeks', 'ween', 'weigh', 'weight', 'weightloss', 'weightlossgoals', 'weightlossjourney', 'weightlosstransformation', 'weightraining', 'weights', 'weighttraining', 'weightwatchers', 'weightxozìá2', 'weird', 'welcome', 'welcomed', 'welcoming', 'wellness', 'wellp', 'wellread2015', 'wellsfargo', 'welp', 'wendys', 'went', 'werfwr7anr', 'werner', 'werunwild', 'west', 'westcoast', 'wet', 'whammies', 'whats', 'whatsnext', 'whche1xjss', 'wheel', 'wheels', 'whennnn', 'whirlwind', 'whiskey', 'white', 'whitebeltbjj', 'whoops', 'whyamidoingthis', 'wickedgrounds', 'wider', 'wife', 'wifey', 'wifiemail', 'wigger', 'wii', 'wildchild', 'wilder', 'wildflowers', 'williamjardell', 'willing', 'willowlove1', 'wilson', 'wiltejkiel', 'win', 'wind', 'windbreaker', 'winded', 'window', 'windows', 'windshield', 'wine', 'wing', 'wink', 'winner', 'winners', 'winnetka', 'winnie4ed', 'winning', 'winter', 'winterrunning', 'winterweight', 'wipe', 'wisconsin', 'wisdom', 'wiser', 'wish', 'wished', 'wishes', 'wishful', 'wishfulthinking', 'wishing', 'wit', 'wizard', 'wizkhalllifa', 'wjclpdxwkk', 'wknd', 'wkshp', 'wnufdbb7gy', 'wo', 'woke', 'wolf', 'wolvereness', 'woman', 'women', 'womenshumor', 'womp', 'wonderful', 'wondering', 'wontlast', 'wood', 'woooooooooah', 'woops', 'woot', 'word', 'wordoftheyear', 'words', 'work', 'worked', 'worker', 'workhard', 'workin', 'working', 'workinn', 'workitout', 'workout', 'workoutmotivation', 'workoutorwalkout', 'workouts', 'workplace', 'works', 'world', 'worldpeace', 'worlds', 'worldwide', 'worn', 'worries', 'worry', 'worrying', 'worse', 'worst', 'worstdpever', 'worsteditorever', 'worth', 'worthit', 'worthwhile', 'worthy', 'wound', 'wounds', 'wow', 'wrangler', 'wrapped', 'wreck', 'wrestlemania', 'wrestling', 'wrist', 'write', 'writerlife', 'writerslife', 'writestuff', 'writing', 'writng', 'written', 'wrong', 'wrote', 'wtf', 'wu0ovpsd4a', 'wwchat', 'wwf', 'wwkkd', 'wwl9jdvahz', 'wwwblogs', 'wx7ms264qu', 'wxbdjqdzbe', 'wxblszgz3k', 'wxiaqvztin', 'wyoming', 'wzgtagmppr', 'wznlktgyy2', 'x10', 'x11', 'x3fjeptops', 'x4', 'xaviersworld', 'xbox', 'xboxfitness', 'xcyz2agbia', 'xd', 'xf8xnssxf0', 'xfas5seibi', 'xiab2den2f', 'xm3pwuphp7', 'xmas', 'xnova_cane', 'xnpbss133r', 'xocarolinebelle', 'xort', 'xp6gag73cf', 'xpgis0rvz5', 'xplpo0rfpz', 'xrosemary', 'xsezqyedt7', 'xsmootx', 'xtiltqo8fd', 'xu6tp6puy3', 'xun08zpyd5', 'xwehx6u88w', 'xz17huf2vk', 'y1kabowmbv', 'y2rtmwzawo', 'y58i0925ia', 'y70d7olhos', 'y7r6fc5jpa', 'y8ptrxa2ev', 'ya', 'yaahssellfff', 'yall', 'yasss', 'yawn', 'yay', 'yd76z66lly', 'yea', 'yeaaaah', 'yeah', 'yeahright', 'year', 'year_ù_ä', 'yearendresolution', 'yearly', 'yearofthesmile', 'years', 'years_ù', 'yearsendresolution', 'yeeyee', 'yehkt7ywzj', 'yel2wesk1q', 'yell', 'yelling', 'yells', 'yes', 'yeslawd', 'yesss', 'yesterday', 'yikes', 'ykip7perww', 'yl3zcsowki', 'yn31ruqkqm', 'yo', 'yoda', 'yoga', 'yogabutt', 'yoko', 'yolked', 'yolo', 'york', 'yosemite', 'yosemitenps', 'yotc', 'youareworthit', 'yougotthatright', 'youneverknow', 'young', 'younger', 'youngster', 'youonlyliveonce', 'yoursweetrani', 'youth', 'youthful', 'youtube', 'youtuber', 'youtubers', 'ypfans_usa', 'yplthqiwmo', 'yr', 'yr6znhmkjf', 'yr7jvscgdq', 'yrxvf5ewbs', 'yszl3bnmus', 'ytcreators', 'ytnilbsuid', 'yuccimane', 'yuck', 'yucky', 'yuengling', 'yum', 'yummy', 'yummy2015', 'yungcheun', 'yungwindex', 'yup', 'yus', 'yuxgajtrna', 'yzhjz91lfs', 'z0khf3u81i', 'z4tz4zlm6f', 'z9ruejnyro', 'zack_rozay', 'zactavious', 'zalfie', 'zaynmalik', 'zc80nas47m', 'zcrom', 'zd1f1xe6mg', 'zebra', 'zedd', 'zeehourani', 'zeketurner3', 'zelda', 'zero', 'zerowaste2015', 'zfbfqf6td2', 'zj10', 'zkdcpv2jw0', 'zlilrrvyzb', 'zodiacfacts', 'zoe_vanesssa', 'zona', 'zone', 'zorm', 'zozeebo', 'zp0gq3fmep', 'zrqh9slmeo', 'zw4taru8u4', 'ªá', 'ªè', '¼_ù', 'à_ù', 'à_ùª', 'á_ùõý', 'â_ù', 'â_ù_ä', 'â_ùô', 'â_ùõ', 'â_ùõ__ùõ_', 'â_ùõ__ùõ__ùôô', 'âreally', 'ârt', 'âà', 'ã_ù', 'ä_ù', 'ä_ù___ù_à', 'ä_ù_ö_ù_ö', 'äã', 'äè', 'å_', 'åà', 'åá', 'åê', 'åø', 'ç_ùõð_ùõð_ùõð_ùõð', 'è_ù', 'è_ù_ç', 'é_ù', 'ê_ù_', 'ìñ', 'î_ù', 'î_ùõø', 'ï_', 'ï__ù', 'ï__ùô', 'ï__ùõ', 'ï_ù', 'ï_ùôî', 'ïî', 'ïî_ù', 'ïó', 'ïö', 'ïü', 'ïü_ù', 'ð¼', 'ò_ù', 'ó_ù_ä', 'ô_ùóç', 'ö_ù', 'ö_ùõø', 'ù_ù', 'û_', 'û_dont', 'û_http', 'û_ùõ', 'ûª', 'ûªall', 'ûªm', 'ûªs', 'ûªsåêresolution', 'ûªt', 'ûï', 'ûïstuff', 'ûò', 'ûó', 'ûólearn', 'ü_ù', 'ü_ùõð', 'üá', 'üê', 'ý_', 'ýµ']\n"
          ],
          "name": "stdout"
        }
      ]
    },
    {
      "cell_type": "code",
      "metadata": {
        "id": "zq2RrtmbcMAq",
        "colab_type": "code",
        "outputId": "c6e0d662-6024-4197-b6a0-75ca87de2417",
        "colab": {
          "base_uri": "https://localhost:8080/",
          "height": 50
        }
      },
      "source": [
        "#Here we use term frequency to downscale the importance of words occuring many times in a tweet. That way we hopefully get more weighted words. \n",
        "tfidf_transformer = TfidfTransformer()\n",
        "X_train_tfidf = tfidf_transformer.fit_transform(X_train)\n",
        "print(X_train_tfidf.shape)\n",
        "X_test_tfidf = tfidf_transformer.fit_transform(X_test)\n",
        "print(X_test_tfidf.shape)"
      ],
      "execution_count": 24,
      "outputs": [
        {
          "output_type": "stream",
          "text": [
            "(4008, 8054)\n",
            "(1003, 8054)\n"
          ],
          "name": "stdout"
        }
      ]
    },
    {
      "cell_type": "code",
      "metadata": {
        "id": "nhiL5hB2cP7O",
        "colab_type": "code",
        "outputId": "3cb02d4d-db1e-4105-c9d7-c019d35d9db3",
        "colab": {
          "base_uri": "https://localhost:8080/",
          "height": 354
        }
      },
      "source": [
        "#Accuracy without using term frequency.\n",
        "NBmodel = MultinomialNB().fit(X_train, train.Resolution_Category)\n",
        "predicted_1 = NBmodel.predict(X_test)\n",
        "np.mean(predicted_1 == test.Resolution_Category)\n",
        "\n",
        "#Accuracy using term frequency. (Odd that its lower, but we do have a small data set)\n",
        "NBmodel = MultinomialNB().fit(X_train_tfidf, train.Resolution_Category)\n",
        "predicted_2 = NBmodel.predict(X_test_tfidf)\n",
        "np.mean(predicted_2 == test.Resolution_Category)\n",
        "\n",
        "#A classification_report without term frequency. Right now its pretty trash.\n",
        "print(metrics.classification_report(test.Resolution_Category, predicted_1))"
      ],
      "execution_count": 27,
      "outputs": [
        {
          "output_type": "stream",
          "text": [
            "                              precision    recall  f1-score   support\n",
            "\n",
            "                      Career       0.00      0.00      0.00        15\n",
            "          Education/Training       0.00      0.00      0.00        22\n",
            "Family/Friends/Relationships       0.50      0.03      0.06        59\n",
            "                     Finance       1.00      0.39      0.56        31\n",
            "            Health & Fitness       0.63      0.50      0.56       173\n",
            "                       Humor       0.49      0.21      0.30       210\n",
            "             Personal Growth       0.44      0.92      0.59       354\n",
            "               Philanthropic       1.00      0.06      0.11        18\n",
            "        Recreation & Leisure       0.60      0.06      0.11        99\n",
            "Time Management/Organization       0.00      0.00      0.00        22\n",
            "\n",
            "                    accuracy                           0.48      1003\n",
            "                   macro avg       0.47      0.22      0.23      1003\n",
            "                weighted avg       0.50      0.48      0.40      1003\n",
            "\n"
          ],
          "name": "stdout"
        },
        {
          "output_type": "stream",
          "text": [
            "/usr/local/lib/python3.6/dist-packages/sklearn/metrics/_classification.py:1272: UndefinedMetricWarning: Precision and F-score are ill-defined and being set to 0.0 in labels with no predicted samples. Use `zero_division` parameter to control this behavior.\n",
            "  _warn_prf(average, modifier, msg_start, len(result))\n"
          ],
          "name": "stderr"
        }
      ]
    },
    {
      "cell_type": "code",
      "metadata": {
        "id": "ofd0tq7_ch5x",
        "colab_type": "code",
        "colab": {}
      },
      "source": [
        "#just creating a list of the different categories in the \"Resolution_Category\" column.\n",
        "categories = list()\n",
        "for i in test.Resolution_Category:\n",
        "  if i in categories:\n",
        "    pass\n",
        "  else:\n",
        "    categories.append(i)"
      ],
      "execution_count": 0,
      "outputs": []
    },
    {
      "cell_type": "code",
      "metadata": {
        "id": "R94JjaHxclsR",
        "colab_type": "code",
        "outputId": "4177cce7-46d5-4fd2-f2c0-db3b46d6fb8b",
        "colab": {
          "base_uri": "https://localhost:8080/",
          "height": 599
        }
      },
      "source": [
        "# A nice confusion matrix using seaborn.\n",
        "array = metrics.confusion_matrix(test.Resolution_Category, predicted_1)\n",
        "plt.figure(figsize=(12,7))\n",
        "sn.set(font_scale=1) # for x/y label size\n",
        "sn.heatmap(array, annot=True, annot_kws={\"size\": 10}, xticklabels = categories, yticklabels = categories) # annot_kws is the size of the numbers.\n",
        "plt.show()"
      ],
      "execution_count": 29,
      "outputs": [
        {
          "output_type": "display_data",
          "data": {
            "image/png": "[encoded data removed]",
            "text/plain": [
              "<Figure size 864x504 with 2 Axes>"
            ]
          },
          "metadata": {
            "tags": []
          }
        }
      ]
    },
    {
      "cell_type": "code",
      "metadata": {
        "id": "LaiJAKDHia24",
        "colab_type": "code",
        "colab": {}
      },
      "source": [
        ""
      ],
      "execution_count": 0,
      "outputs": []
    }
  ]
}