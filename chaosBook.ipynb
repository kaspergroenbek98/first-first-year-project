{
  "nbformat": 4,
  "nbformat_minor": 0,
  "metadata": {
    "colab": {
      "name": "chaosBook.ipynb",
      "provenance": [],
      "collapsed_sections": [],
      "toc_visible": true
    },
    "kernelspec": {
      "name": "python3",
      "display_name": "Python 3"
    }
  },
  "cells": [
    {
      "cell_type": "code",
      "metadata": {
        "id": "8M2sbI5Acnrh",
        "colab_type": "code",
        "outputId": "5529d34b-6575-4dd0-fcfd-beb612aa1f3c",
        "colab": {
          "base_uri": "https://localhost:8080/",
          "height": 118
        }
      },
      "source": [
        "! git clone https://github.com/kaspergroenbek98/first-first-year-project.git"
      ],
      "execution_count": 1,
      "outputs": [
        {
          "output_type": "stream",
          "text": [
            "Cloning into 'first-first-year-project'...\n",
            "remote: Enumerating objects: 12, done.\u001b[K\n",
            "remote: Counting objects: 100% (12/12), done.\u001b[K\n",
            "remote: Compressing objects: 100% (11/11), done.\u001b[K\n",
            "remote: Total 12 (delta 1), reused 5 (delta 0), pack-reused 0\u001b[K\n",
            "Unpacking objects: 100% (12/12), done.\n"
          ],
          "name": "stdout"
        }
      ]
    },
    {
      "cell_type": "code",
      "metadata": {
        "id": "k-mYQqynljhN",
        "colab_type": "code",
        "colab": {
          "base_uri": "https://localhost:8080/",
          "height": 134
        },
        "outputId": "f428c840-6fe9-43c5-8c46-636b5103bacc"
      },
      "source": [
        "import numpy as np\n",
        "import nltk\n",
        "import csv\n",
        "nltk.download('punkt')\n",
        "nltk.download('stopwords')\n",
        "\n",
        "# Read the data into a header and a data np.array\n",
        "with open('first-first-year-project/data.csv', encoding='latin1') as csv_file:\n",
        "    csv_reader = csv.reader(csv_file, delimiter=',')\n",
        "    data = np.array([np.array(line) for line in csv_reader])\n",
        "header, data = data[0,:], data[1:,:]\n",
        "print(header)"
      ],
      "execution_count": 4,
      "outputs": [
        {
          "output_type": "stream",
          "text": [
            "[nltk_data] Downloading package punkt to /root/nltk_data...\n",
            "[nltk_data]   Package punkt is already up-to-date!\n",
            "[nltk_data] Downloading package stopwords to /root/nltk_data...\n",
            "[nltk_data]   Package stopwords is already up-to-date!\n",
            "['other_topic' 'resolution_topics' 'gender' 'name' 'Resolution_Category'\n",
            " 'retweet_count' 'text' 'tweet_coord' 'tweet_created' 'tweet_date'\n",
            " 'tweet_id' 'tweet_location' 'tweet_state' 'user_timezone' 'tweet_region']\n"
          ],
          "name": "stdout"
        }
      ]
    },
    {
      "cell_type": "code",
      "metadata": {
        "id": "_Z52jOoIc8DX",
        "colab_type": "code",
        "colab": {}
      },
      "source": [
        "porter = nltk.PorterStemmer()\n",
        "\n",
        "# Remove all stopwords, non-alphabet words (except spaces), and stem the words\n",
        "for i, row in enumerate(data[:,6]):\n",
        "    row = row.lower()\n",
        "    row = ''.join(char for char in row if char.isalpha() or char == ' ')\n",
        "    row = ' '.join(porter.stem(word) for word in row.split() if word not in stopwords)\n",
        "    data[i,6] = row\n",
        "\n",
        "# Create a long string of ALL words, then token them, and create a frequency distribution\n",
        "actualWords = ' '.join(token for sentence in data[:,6] for token in sentence.split())\n",
        "tokens = nltk.word_tokenize(actualWords)\n",
        "fd = nltk.FreqDist(tokens)\n"
      ],
      "execution_count": 0,
      "outputs": []
    },
    {
      "cell_type": "code",
      "metadata": {
        "colab_type": "code",
        "id": "wMSGwZrGnsz5",
        "colab": {}
      },
      "source": [
        "word_features = [word for (word, count) in fd.most_common(2000)]\n",
        "\n",
        "def document_features(document):\n",
        "    document_words = set(document)\n",
        "    features = {}\n",
        "    for word in word_features:\n",
        "        features['contains(%s)' % word] = (word in document_words)\n",
        "    return features\n",
        "size = 1000\n",
        "featuresets = [(document_features(d.split()), c) for (d,c) in zip(data[:size,6], data[:size,-1])] # column 6 is text data, column 2 is gender data\n",
        "train_set, test_set = featuresets[size//2:], featuresets[:size//2]\n",
        "classifier = nltk.NaiveBayesClassifier.train(train_set)"
      ],
      "execution_count": 0,
      "outputs": []
    },
    {
      "cell_type": "code",
      "metadata": {
        "id": "QGxzNW7Jdnkn",
        "colab_type": "code",
        "outputId": "48b9625d-1d8d-4b84-e8b0-c83999f5a99f",
        "colab": {
          "base_uri": "https://localhost:8080/",
          "height": 218
        }
      },
      "source": [
        "print(nltk.classify.accuracy(classifier, test_set))\n",
        "classifier.show_most_informative_features(10)"
      ],
      "execution_count": 0,
      "outputs": [
        {
          "output_type": "stream",
          "text": [
            "0.276\n",
            "Most Informative Features\n",
            "          contains(want) = True           Midwes : South  =      5.8 : 1.0\n",
            "         contains(happi) = True           Northe : South  =      5.6 : 1.0\n",
            "          contains(diet) = True           Northe : West   =      5.1 : 1.0\n",
            "  contains(happynewyear) = True           Midwes : South  =      5.1 : 1.0\n",
            "         contains(thing) = True           Midwes : West   =      4.7 : 1.0\n",
            "         contains(bitch) = True           Northe : South  =      4.5 : 1.0\n",
            "          contains(best) = True           Northe : Midwes =      4.5 : 1.0\n",
            " contains(mlbpaclubhous) = True           Midwes : South  =      4.4 : 1.0\n",
            "           contains(nye) = True           Northe : West   =      4.2 : 1.0\n",
            "          contains(take) = True           Midwes : Northe =      4.1 : 1.0\n"
          ],
          "name": "stdout"
        }
      ]
    },
    {
      "cell_type": "code",
      "metadata": {
        "id": "b2RcCHH4f5YB",
        "colab_type": "code",
        "colab": {}
      },
      "source": [
        "bigrm = list(nltk.ngrams(tokens, 2))\n",
        "fdbigrm = nltk.FreqDist(bigrm)\n"
      ],
      "execution_count": 0,
      "outputs": []
    },
    {
      "cell_type": "code",
      "metadata": {
        "colab_type": "code",
        "id": "tLzbcMATnqxK",
        "outputId": "40e24dfb-2b5d-49cf-af9a-1f50ff064ad5",
        "colab": {
          "base_uri": "https://localhost:8080/",
          "height": 50
        }
      },
      "source": [
        "word_features = list(fdbigrm.keys())[:2000]\n",
        "\n",
        "def document_features(document):\n",
        "    document_words = set(document)\n",
        "    features = {}\n",
        "    for word in word_features:\n",
        "        features[f'contains({word})'] = (word in document_words)\n",
        "    return features\n",
        "size = 1000\n",
        "featuresets = [(document_features(nltk.ngrams(d.split(), 2)), c) for (d,c) in zip(data[:size,6], data[:size,-1])] # column 6 is text data, column 2 is gender data\n",
        "train_set, test_set = featuresets[size//2:], featuresets[:size//2]\n",
        "classifier = nltk.NaiveBayesClassifier.train(train_set)"
      ],
      "execution_count": 0,
      "outputs": [
        {
          "output_type": "stream",
          "text": [
            "/usr/local/lib/python3.6/dist-packages/ipykernel_launcher.py:4: DeprecationWarning: generator 'ngrams' raised StopIteration\n",
            "  after removing the cwd from sys.path.\n"
          ],
          "name": "stderr"
        }
      ]
    },
    {
      "cell_type": "code",
      "metadata": {
        "id": "ORt2vo69pTLH",
        "colab_type": "code",
        "outputId": "dd7fc74d-0ad2-48df-a37a-78466cfe74d1",
        "colab": {
          "base_uri": "https://localhost:8080/",
          "height": 218
        }
      },
      "source": [
        "print(nltk.classify.accuracy(classifier, test_set))\n",
        "classifier.show_most_informative_features(10)"
      ],
      "execution_count": 0,
      "outputs": [
        {
          "output_type": "stream",
          "text": [
            "0.28\n",
            "Most Informative Features\n",
            "contains(('new', 'year')) = True             West : Northe =      2.4 : 1.0\n",
            "contains(('everi', 'day')) = True             West : South  =      1.8 : 1.0\n",
            "contains(('im', 'realli')) = True           Midwes : South  =      1.7 : 1.0\n",
            "contains(('social', 'media')) = True           Midwes : South  =      1.7 : 1.0\n",
            "contains(('get', 'rid')) = True           Midwes : West   =      1.6 : 1.0\n",
            "contains(('mine', 'get')) = True           Midwes : West   =      1.6 : 1.0\n",
            "contains(('year', 'stop')) = True           Midwes : West   =      1.6 : 1.0\n",
            "  contains(('im', 'go')) = True           Midwes : West   =      1.6 : 1.0\n",
            "contains(('live', 'life')) = True           Midwes : West   =      1.6 : 1.0\n",
            "contains(('lose', 'weight')) = True           Northe : South  =      1.5 : 1.0\n"
          ],
          "name": "stdout"
        }
      ]
    },
    {
      "cell_type": "code",
      "metadata": {
        "id": "hkCun1ExqVEX",
        "colab_type": "code",
        "outputId": "2c31db04-759a-4f08-970a-3b312f77a6ad",
        "colab": {
          "base_uri": "https://localhost:8080/",
          "height": 34
        }
      },
      "source": [
        "'newyearsresolution' in stopwords"
      ],
      "execution_count": 0,
      "outputs": [
        {
          "output_type": "execute_result",
          "data": {
            "text/plain": [
              "True"
            ]
          },
          "metadata": {
            "tags": []
          },
          "execution_count": 142
        }
      ]
    },
    {
      "cell_type": "code",
      "metadata": {
        "id": "FKsY-EyFrOt0",
        "colab_type": "code",
        "colab": {}
      },
      "source": [
        ""
      ],
      "execution_count": 0,
      "outputs": []
    },
    {
      "cell_type": "code",
      "metadata": {
        "id": "oQbeOyVQuAf8",
        "colab_type": "code",
        "colab": {}
      },
      "source": [
        ""
      ],
      "execution_count": 0,
      "outputs": []
    }
  ]
}