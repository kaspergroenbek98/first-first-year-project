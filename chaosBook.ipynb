{
  "nbformat": 4,
  "nbformat_minor": 0,
  "metadata": {
    "colab": {
      "name": "chaosBook.ipynb",
      "provenance": [],
      "collapsed_sections": [],
      "toc_visible": true,
      "include_colab_link": true
    },
    "kernelspec": {
      "name": "python3",
      "display_name": "Python 3"
    }
  },
  "cells": [
    {
      "cell_type": "markdown",
      "metadata": {
        "id": "view-in-github",
        "colab_type": "text"
      },
      "source": [
        "<a href=\"https://colab.research.google.com/github/kaspergroenbek98/first-first-year-project/blob/master/chaosBook.ipynb\" target=\"_parent\"><img src=\"https://colab.research.google.com/assets/colab-badge.svg\" alt=\"Open In Colab\"/></a>"
      ]
    },
    {
      "cell_type": "code",
      "metadata": {
        "id": "8M2sbI5Acnrh",
        "colab_type": "code",
        "outputId": "ecd11044-0b43-4b45-a803-ac575a9f85e6",
        "colab": {
          "base_uri": "https://localhost:8080/",
          "height": 34
        }
      },
      "source": [
        "! git clone https://github.com/kaspergroenbek98/first-first-year-project.git"
      ],
      "execution_count": 0,
      "outputs": [
        {
          "output_type": "stream",
          "text": [
            "fatal: destination path 'first-first-year-project' already exists and is not an empty directory.\n"
          ],
          "name": "stdout"
        }
      ]
    },
    {
      "cell_type": "code",
      "metadata": {
        "id": "k-mYQqynljhN",
        "colab_type": "code",
        "colab": {}
      },
      "source": [
        "### Functions and import calls\n",
        "\n",
        "import numpy as np\n",
        "import nltk\n",
        "import csv\n",
        "import nltk\n",
        "import re\n",
        "from collections import Counter\n",
        "\n",
        "### START OF VOCABULARY ###\n",
        "def generate_vocabulary(data, fCol, vocabType):\n",
        "    '''\n",
        "    Returns a list/vocabulary of len <= \"size\" based on the vocabType and the featureColumn specified\n",
        "    '''\n",
        "    size = 2000\n",
        "    # Only get large groups to get representative data\n",
        "    major_features = np.array(nltk.FreqDist(data[:,fCol]).most_common(5))\n",
        "    major_masks = np.array([data[:,fCol] == f for (f, cnt) in major_features])\n",
        "    fqs = [tweet_word_distribution(data[mask,:]) for mask in major_masks]\n",
        "    return list(vocabType(data, fCol, major_features, major_masks, fqs, size))\n",
        "\n",
        "def vocab_feature_most_common(data, fCol, major_features, major_masks, fqs, size):\n",
        "    '''\n",
        "    Returns a vocabulary checklist for each tweet to check off (True/False).\n",
        "    Prioritises the most common words for each feature\n",
        "    '''\n",
        "    vocabulary = set()\n",
        "    # get the most common words in each freq dist. zip(*...) removes the counts from fd, and updates vocabulary ONLY with the words\n",
        "    for fd in fqs:\n",
        "        vocabulary.update(list(zip(*fd.most_common(size//len(major_features))))[0])\n",
        "    return vocabulary\n",
        "\n",
        "def vocab_feature_unique(data, fCol, major_features, major_masks, fqs, size):\n",
        "    '''\n",
        "    Returns a vocabulary checklist for each tweet to check off (True/False).\n",
        "    Prioritises words which are uncommon in other features, but common in one feature\n",
        "    '''\n",
        "    major_mask = np.array(major_masks.sum(axis=0), dtype='bool')\n",
        "    fq = tweet_word_distribution(data[major_mask,:]) # Get a fq over the words used by all in the major categories\n",
        "    words = [word for (word, cnt) in fq.items() if cnt >= 20] # removes rarely mentioned words which probably arent indicative of a significant trend\n",
        "    priorityArray = []\n",
        "    for i, word in enumerate(words):\n",
        "        priorityArray.append([word])\n",
        "        #divide frequency of word in that state by the tweetcount from that state, and by how often that word is used in total by all states\n",
        "        score = max(fqs[fID][word]/(int(major_features[fID][1])*fq[word]) for fID in range(len(major_masks)))\n",
        "        priorityArray[i].append(score)\n",
        "    priorityArray.sort(key = lambda x: x[1], reverse=True) # Sort them based on their best score\n",
        "    vocabulary = zip(*priorityArray[:size])[0] # Removes their scores\n",
        "    return vocabulary\n",
        "### END OF VOCABULARY ###\n",
        "    \n",
        "def identify_hashtags(data):\n",
        "    col = np.zeros((data.shape[0],1), 'str')\n",
        "    data = np.append(data, col, axis=1)\n",
        "    for i, text in enumerate(data[:,6]):\n",
        "        results = re.findall(r\"#\\w+\", text) # Finds matches and returns them as an iterable\n",
        "        if results:\n",
        "            data[i,15] = ' '.join(results)\n",
        "        else:\n",
        "            data[i,15] = ''\n",
        "\n",
        "def tweet_features(tweet, word_features):\n",
        "    tweet_words = set(tweet)\n",
        "    features = {}\n",
        "    for word in word_features:\n",
        "        features[f'contains({word})'] = (word in tweet_words)\n",
        "    return features\n",
        "\n",
        "def divide_featureset(feature):\n",
        "    '''\n",
        "    Divides numpy featureset of (featureVector, classification) into a 80:10:10 train:dev:test set\n",
        "    '''\n",
        "    testSize = int(len(feature)*0.8)\n",
        "    train, rest = feature[:testSize], feature[testSize:]\n",
        "    restSize = len(rest)//2\n",
        "    dev, test = rest[:restSize], rest[restSize:]\n",
        "    return train, dev, test\n",
        "\n",
        "def clean(data):\n",
        "    porter = nltk.PorterStemmer()\n",
        "\n",
        "    # Remove all stopwords, non-alphabet words (except spaces), and stem the words\n",
        "    for i, row in enumerate(data[:,6]):\n",
        "        row = row.lower()\n",
        "        row = ''.join(char for char in row if char.isalpha() or char == ' ')\n",
        "        row = ' '.join(porter.stem(word) for word in row.split() if word not in stopwords)\n",
        "        data[i,6] = row\n",
        "\n",
        "def tweet_word_distribution(data):\n",
        "    # Split each sentence into tokens, and create a frequency distribution\n",
        "    tokens = [token for sentence in data[:,6] for token in sentence.split()]\n",
        "    fd = nltk.FreqDist(tokens)\n",
        "    return fd\n",
        "\n",
        "def generate_features(data, vocabulary, fCol):\n",
        "    \"\"\" \n",
        "    Creates tuples with a vector containing boolean values depending on whether\n",
        "    or not the word is in the tweet - along with the label of the tweet.\n",
        "    \"\"\"\n",
        "    features = [(tweet_features(d.split(), vocabulary), c) for (d,c) in zip(data[:,6], data[:,fCol])] # column 6 is text data, column 2 is gender data\n",
        "    return features"
      ],
      "execution_count": 0,
      "outputs": []
    },
    {
      "cell_type": "code",
      "metadata": {
        "id": "qgUqeGED4LM3",
        "colab_type": "code",
        "outputId": "f7b5f9ee-9dc8-46b8-f9e1-ca08bed5bc17",
        "colab": {
          "base_uri": "https://localhost:8080/",
          "height": 153
        }
      },
      "source": [
        "nltk.download('punkt')\n",
        "nltk.download('stopwords')\n",
        "stopwords = set(nltk.corpus.stopwords.words('english'))\n",
        "\n",
        "# Read the data into a header and a data np.array - the array is then shuffled\n",
        "with open('first-first-year-project/data.csv', encoding='latin1') as csv_file:\n",
        "    csv_reader = csv.reader(csv_file, delimiter=',')\n",
        "    data = np.array([np.array(line) for line in csv_reader])\n",
        "header, data = data[0,:], data[1:,:]\n",
        "np.random.shuffle(data)\n",
        "print(header)\n",
        "\n",
        "# Identify hashtags and insert them in the 15th column\n",
        "identify_hashtags(data)\n",
        "print(data.shape) # Note that shape starts at 1 and ends at 16, so the interval is [0:15]"
      ],
      "execution_count": 0,
      "outputs": [
        {
          "output_type": "stream",
          "text": [
            "[nltk_data] Downloading package punkt to /root/nltk_data...\n",
            "[nltk_data]   Package punkt is already up-to-date!\n",
            "[nltk_data] Downloading package stopwords to /root/nltk_data...\n",
            "[nltk_data]   Package stopwords is already up-to-date!\n",
            "['other_topic' 'resolution_topics' 'gender' 'name' 'Resolution_Category'\n",
            " 'retweet_count' 'text' 'tweet_coord' 'tweet_created' 'tweet_date'\n",
            " 'tweet_id' 'tweet_location' 'tweet_state' 'user_timezone' 'tweet_region']\n",
            "(5011, 15)\n"
          ],
          "name": "stdout"
        }
      ]
    },
    {
      "cell_type": "code",
      "metadata": {
        "id": "_Z52jOoIc8DX",
        "colab_type": "code",
        "colab": {}
      },
      "source": [
        "clean(data)\n",
        "fCol = {'gender':2, 'Resolution_Category':4, 'tweet_state':12, 'hashtags':15} # Dont think hashtags work right now\n",
        "vocabType = [vocab_feature_most_common, vocab_feature_unique][0] #Pick one by replacing the number in [int]\n",
        "vocabulary =         generate_vocabulary(data, fCol['tweet_state'], vocabType)\n",
        "features = generate_features(data, vocabulary, fCol['tweet_state'])\n",
        "train, dev, test = divide_featureset(features)"
      ],
      "execution_count": 0,
      "outputs": []
    },
    {
      "cell_type": "code",
      "metadata": {
        "colab_type": "code",
        "id": "wMSGwZrGnsz5",
        "outputId": "e8c8427d-1fa6-4d99-b259-e2d3bc950256",
        "colab": {
          "base_uri": "https://localhost:8080/",
          "height": 221
        }
      },
      "source": [
        "classifier = nltk.NaiveBayesClassifier.train(train)\n",
        "print(nltk.classify.accuracy(classifier, dev))\n",
        "classifier.show_most_informative_features(10)"
      ],
      "execution_count": 0,
      "outputs": [
        {
          "output_type": "stream",
          "text": [
            "0.1536926147704591\n",
            "Most Informative Features\n",
            "          contains(quit) = True               ND : CA     =    150.0 : 1.0\n",
            "          contains(easi) = True               DE : CA     =     85.7 : 1.0\n",
            "          contains(date) = True               MT : CA     =     85.7 : 1.0\n",
            "        contains(chocol) = True               DE : CA     =     85.7 : 1.0\n",
            "        contains(hahaha) = True               MT : CA     =     85.7 : 1.0\n",
            "          contains(hous) = True               MT : CA     =     85.7 : 1.0\n",
            "        contains(colleg) = True               NH : CA     =     83.3 : 1.0\n",
            "          contains(babi) = True               ND : TX     =     80.8 : 1.0\n",
            " contains(mlbpaclubhous) = True               ND : TX     =     80.8 : 1.0\n",
            "          contains(noth) = True               WY : CA     =     75.0 : 1.0\n"
          ],
          "name": "stdout"
        }
      ]
    },
    {
      "cell_type": "code",
      "metadata": {
        "id": "b2RcCHH4f5YB",
        "colab_type": "code",
        "outputId": "2e58be70-93c6-4c49-e6c7-15b9011010af",
        "colab": {
          "base_uri": "https://localhost:8080/",
          "height": 180
        }
      },
      "source": [
        "bigrm = list(nltk.ngrams(tokens, 2))\n",
        "fdbigrm = nltk.FreqDist(bigrm)\n"
      ],
      "execution_count": 0,
      "outputs": [
        {
          "output_type": "error",
          "ename": "NameError",
          "evalue": "ignored",
          "traceback": [
            "\u001b[0;31m---------------------------------------------------------------------------\u001b[0m",
            "\u001b[0;31mNameError\u001b[0m                                 Traceback (most recent call last)",
            "\u001b[0;32m<ipython-input-39-98f3064dea0d>\u001b[0m in \u001b[0;36m<module>\u001b[0;34m()\u001b[0m\n\u001b[0;32m----> 1\u001b[0;31m \u001b[0mbigrm\u001b[0m \u001b[0;34m=\u001b[0m \u001b[0mlist\u001b[0m\u001b[0;34m(\u001b[0m\u001b[0mnltk\u001b[0m\u001b[0;34m.\u001b[0m\u001b[0mngrams\u001b[0m\u001b[0;34m(\u001b[0m\u001b[0mtokens\u001b[0m\u001b[0;34m,\u001b[0m \u001b[0;36m2\u001b[0m\u001b[0;34m)\u001b[0m\u001b[0;34m)\u001b[0m\u001b[0;34m\u001b[0m\u001b[0;34m\u001b[0m\u001b[0m\n\u001b[0m\u001b[1;32m      2\u001b[0m \u001b[0mfdbigrm\u001b[0m \u001b[0;34m=\u001b[0m \u001b[0mnltk\u001b[0m\u001b[0;34m.\u001b[0m\u001b[0mFreqDist\u001b[0m\u001b[0;34m(\u001b[0m\u001b[0mbigrm\u001b[0m\u001b[0;34m)\u001b[0m\u001b[0;34m\u001b[0m\u001b[0;34m\u001b[0m\u001b[0m\n",
            "\u001b[0;31mNameError\u001b[0m: name 'tokens' is not defined"
          ]
        }
      ]
    },
    {
      "cell_type": "code",
      "metadata": {
        "colab_type": "code",
        "id": "tLzbcMATnqxK",
        "outputId": "69a76717-a3f1-4461-8277-b662ffccd52b",
        "colab": {
          "base_uri": "https://localhost:8080/",
          "height": 231
        }
      },
      "source": [
        "word_features = list(fdbigrm.keys())[:2000]\n",
        "\n",
        "\n",
        "size = 1000\n",
        "featuresets = [(tweet_features(nltk.ngrams(d.split(), 2)), c) for (d,c) in zip(data[:size,6], data[:size,2])] # column 6 is text data, column 2 is gender data\n",
        "train_set, test_set = featuresets[size//2:], featuresets[:size//2]\n",
        "classifier = nltk.NaiveBayesClassifier.train(train_set)"
      ],
      "execution_count": 0,
      "outputs": [
        {
          "output_type": "error",
          "ename": "NameError",
          "evalue": "ignored",
          "traceback": [
            "\u001b[0;31m---------------------------------------------------------------------------\u001b[0m",
            "\u001b[0;31mNameError\u001b[0m                                 Traceback (most recent call last)",
            "\u001b[0;32m<ipython-input-40-db0fe6d1e459>\u001b[0m in \u001b[0;36m<module>\u001b[0;34m()\u001b[0m\n\u001b[0;32m----> 1\u001b[0;31m \u001b[0mword_features\u001b[0m \u001b[0;34m=\u001b[0m \u001b[0mlist\u001b[0m\u001b[0;34m(\u001b[0m\u001b[0mfdbigrm\u001b[0m\u001b[0;34m.\u001b[0m\u001b[0mkeys\u001b[0m\u001b[0;34m(\u001b[0m\u001b[0;34m)\u001b[0m\u001b[0;34m)\u001b[0m\u001b[0;34m[\u001b[0m\u001b[0;34m:\u001b[0m\u001b[0;36m2000\u001b[0m\u001b[0;34m]\u001b[0m\u001b[0;34m\u001b[0m\u001b[0;34m\u001b[0m\u001b[0m\n\u001b[0m\u001b[1;32m      2\u001b[0m \u001b[0;34m\u001b[0m\u001b[0m\n\u001b[1;32m      3\u001b[0m \u001b[0;34m\u001b[0m\u001b[0m\n\u001b[1;32m      4\u001b[0m \u001b[0msize\u001b[0m \u001b[0;34m=\u001b[0m \u001b[0;36m1000\u001b[0m\u001b[0;34m\u001b[0m\u001b[0;34m\u001b[0m\u001b[0m\n\u001b[1;32m      5\u001b[0m \u001b[0mfeaturesets\u001b[0m \u001b[0;34m=\u001b[0m \u001b[0;34m[\u001b[0m\u001b[0;34m(\u001b[0m\u001b[0mtweet_features\u001b[0m\u001b[0;34m(\u001b[0m\u001b[0mnltk\u001b[0m\u001b[0;34m.\u001b[0m\u001b[0mngrams\u001b[0m\u001b[0;34m(\u001b[0m\u001b[0md\u001b[0m\u001b[0;34m.\u001b[0m\u001b[0msplit\u001b[0m\u001b[0;34m(\u001b[0m\u001b[0;34m)\u001b[0m\u001b[0;34m,\u001b[0m \u001b[0;36m2\u001b[0m\u001b[0;34m)\u001b[0m\u001b[0;34m)\u001b[0m\u001b[0;34m,\u001b[0m \u001b[0mc\u001b[0m\u001b[0;34m)\u001b[0m \u001b[0;32mfor\u001b[0m \u001b[0;34m(\u001b[0m\u001b[0md\u001b[0m\u001b[0;34m,\u001b[0m\u001b[0mc\u001b[0m\u001b[0;34m)\u001b[0m \u001b[0;32min\u001b[0m \u001b[0mzip\u001b[0m\u001b[0;34m(\u001b[0m\u001b[0mdata\u001b[0m\u001b[0;34m[\u001b[0m\u001b[0;34m:\u001b[0m\u001b[0msize\u001b[0m\u001b[0;34m,\u001b[0m\u001b[0;36m6\u001b[0m\u001b[0;34m]\u001b[0m\u001b[0;34m,\u001b[0m \u001b[0mdata\u001b[0m\u001b[0;34m[\u001b[0m\u001b[0;34m:\u001b[0m\u001b[0msize\u001b[0m\u001b[0;34m,\u001b[0m\u001b[0;36m2\u001b[0m\u001b[0;34m]\u001b[0m\u001b[0;34m)\u001b[0m\u001b[0;34m]\u001b[0m \u001b[0;31m# column 6 is text data, column 2 is gender data\u001b[0m\u001b[0;34m\u001b[0m\u001b[0;34m\u001b[0m\u001b[0m\n",
            "\u001b[0;31mNameError\u001b[0m: name 'fdbigrm' is not defined"
          ]
        }
      ]
    },
    {
      "cell_type": "code",
      "metadata": {
        "id": "Iz-ZHiSR5cLQ",
        "colab_type": "code",
        "outputId": "ba617d04-4765-4561-c18c-13e6d9feb895",
        "colab": {
          "base_uri": "https://localhost:8080/",
          "height": 54
        }
      },
      "source": [
        "print(train[:1])"
      ],
      "execution_count": 0,
      "outputs": [
        {
          "output_type": "stream",
          "text": [
            "[({'contains(crochet)': False, 'contains(seek)': False, 'contains(duck)': False, 'contains(ûïlaurenmabra)': False, 'contains(face)': False, 'contains(song)': False, 'contains(girlfriend)': False, 'contains(k)': False, 'contains(ûïtumbierpost)': False, 'contains(tattoo)': False, 'contains(limit)': False, 'contains(pot)': False, 'contains(someon)': False, 'contains(û)': False, 'contains(health)': False, 'contains(show)': False, 'contains(woman)': False, 'contains(content)': False, 'contains(even)': False, 'contains(whenev)': False, 'contains(blog)': False, 'contains(emot)': False, 'contains(tonight)': False, 'contains(find)': False, 'contains(helpoth)': False, 'contains(grace)': False, 'contains(justinbieb)': False, 'contains(mû)': False, 'contains(ween)': False, 'contains(plank)': False, 'contains(hair)': False, 'contains(shape)': False, 'contains(earli)': False, 'contains(bring)': False, 'contains(ass)': False, 'contains(supper)': False, 'contains(bjork)': False, 'contains(import)': False, 'contains(van)': False, 'contains(convers)': False, 'contains(appoint)': False, 'contains(want)': False, 'contains(cunt)': False, 'contains(realist)': False, 'contains(ùî)': False, 'contains(phone)': False, 'contains(go)': False, 'contains(self)': False, 'contains(leav)': False, 'contains(alphaathlet)': False, 'contains(britneegunz)': False, 'contains(ïó)': False, 'contains(marathon)': False, 'contains(heavi)': False, 'contains(bride)': False, 'contains(newyorksyddi)': False, 'contains(fun)': False, 'contains(needi)': False, 'contains(leg)': False, 'contains(clean)': False, 'contains(memori)': False, 'contains(hampton)': False, 'contains(make)': False, 'contains(prayer)': False, 'contains(motto)': False, 'contains(ball)': False, 'contains(load)': False, 'contains(ninaherm)': False, 'contains(spend)': False, 'contains(well)': False, 'contains(visit)': False, 'contains(price)': False, 'contains(hennynhandcuff)': False, 'contains(high)': False, 'contains(add)': False, 'contains(avail)': False, 'contains(train)': False, 'contains(yall)': False, 'contains(wannabebeckham)': False, 'contains(decid)': False, 'contains(bodi)': False, 'contains(httptcotyrfbkzjr)': False, 'contains(seriou)': False, 'contains(metal)': False, 'contains(toû)': False, 'contains(mile)': False, 'contains(someth)': False, 'contains(grate)': False, 'contains(let)': False, 'contains(ùõ)': False, 'contains(impli)': False, 'contains(rampb)': False, 'contains(respons)': False, 'contains(cute)': False, 'contains(blue)': False, 'contains(start)': False, 'contains(owenpallett)': False, 'contains(dream)': False, 'contains(old)': False, 'contains(what)': False, 'contains(rave)': False, 'contains(better)': False, 'contains(em)': False, 'contains(rip)': False, 'contains(closet)': False, 'contains(day)': False, 'contains(treaû)': False, 'contains(matter)': False, 'contains(resolut)': False, 'contains(blanket)': False, 'contains(challeng)': False, 'contains(justin)': False, 'contains(session)': False, 'contains(gaspump)': False, 'contains(ppl)': False, 'contains(filthi)': True, 'contains(pure)': False, 'contains(love)': False, 'contains(bigger)': False, 'contains(ùªîùôùô)': False, 'contains(colleg)': False, 'contains(wast)': False, 'contains(damn)': False, 'contains(scene)': False, 'contains(offens)': False, 'contains(draw)': False, 'contains(birthday)': False, 'contains(wake)': False, 'contains(quit)': False, 'contains(straight)': False, 'contains(alon)': False, 'contains(present)': False, 'contains(help)': False, 'contains(guitar)': False, 'contains(stop)': False, 'contains(hog)': False, 'contains(dedic)': False, 'contains(your)': False, 'contains(readi)': False, 'contains(weight)': False, 'contains(wont)': False, 'contains(sankawr)': False, 'contains(nye)': False, 'contains(nicer)': False, 'contains(bikini)': False, 'contains(problem)': False, 'contains(enjoy)': False, 'contains(youareworthit)': False, 'contains(collect)': False, 'contains(dnt)': False, 'contains(xaviersworld)': False, 'contains(home)': False, 'contains(breakup)': False, 'contains(eve)': False, 'contains(fudgemathew)': False, 'contains(miss)': False, 'contains(somehow)': False, 'contains(chang)': False, 'contains(gain)': False, 'contains(auntieann)': False, 'contains(thank)': False, 'contains(gilinskyû)': False, 'contains(inner)': False, 'contains(kid)': False, 'contains(three)': False, 'contains(encourag)': False, 'contains(hilov)': False, 'contains(today)': False, 'contains(goodby)': False, 'contains(exist)': False, 'contains(instagram)': False, 'contains(healthi)': False, 'contains(church)': False, 'contains(adher)': False, 'contains(cant)': False, 'contains(heartach)': False, 'contains(stick)': False, 'contains(wine)': False, 'contains(save)': False, 'contains(depress)': False, 'contains(cross)': False, 'contains(ùâùâ)': False, 'contains(dog)': False, 'contains(regret)': False, 'contains(record)': False, 'contains(bitch)': False, 'contains(killingno)': False, 'contains(believ)': False, 'contains(ùôî)': False, 'contains(broke)': False, 'contains(coke)': False, 'contains(back)': False, 'contains(minut)': False, 'contains(immort)': False, 'contains(full)': False, 'contains(cat)': False, 'contains(person)': False, 'contains(selfi)': False, 'contains(brother)': False, 'contains(judg)': False, 'contains(read)': False, 'contains(hahaha)': False, 'contains(less)': False, 'contains(eyebrow)': False, 'contains(dont)': False, 'contains(stuff)': False, 'contains(httptcotqgmmdleb)': False, 'contains(pen)': False, 'contains(tank)': False, 'contains(whole)': False, 'contains(februari)': False, 'contains(wink)': False, 'contains(ladi)': False, 'contains(lost)': False, 'contains(articl)': False, 'contains(set)': False, 'contains(healthier)': False, 'contains(httptcohborzspr)': False, 'contains(fresh)': False, 'contains(citi)': False, 'contains(win)': False, 'contains(achiev)': False, 'contains(quiet)': False, 'contains(throughout)': False, 'contains(driven)': False, 'contains(bet)': False, 'contains(elsenewyearsresolut)': False, 'contains(deep)': False, 'contains(grow)': False, 'contains(workout)': False, 'contains(figur)': False, 'contains(faith)': False, 'contains(beyoncì)': False, 'contains(got)': False, 'contains(complet)': False, 'contains(without)': False, 'contains(lard)': False, 'contains(yearû)': False, 'contains(hoop)': False, 'contains(thing)': False, 'contains(meat)': False, 'contains(heart)': False, 'contains(httptcoqpajdiruû)': False, 'contains(heroin)': False, 'contains(becom)': False, 'contains(habit)': False, 'contains(vow)': False, 'contains(right)': False, 'contains(golf)': False, 'contains(either)': False, 'contains(iamdrwil)': False, 'contains(correct)': False, 'contains(ü)': False, 'contains(mine)': False, 'contains(longer)': False, 'contains(apolog)': False, 'contains(banana)': False, 'contains(youneedacar)': False, 'contains(feel)': False, 'contains(time)': False, 'contains(break)': False, 'contains(liter)': False, 'contains(seem)': False, 'contains(httû)': False, 'contains(ltapp)': False, 'contains(wana)': False, 'contains(fantasi)': False, 'contains(shoe)': False, 'contains(hi)': False, 'contains(probabl)': False, 'contains(also)': False, 'contains(fall)': False, 'contains(media)': False, 'contains(leanandmean)': False, 'contains(hate)': False, 'contains(kngjame)': False, 'contains(date)': False, 'contains(pictur)': False, 'contains(career)': False, 'contains(httptcoyrxvfewb)': False, 'contains(kick)': False, 'contains(look)': False, 'contains(rachelclarkgiveaway)': False, 'contains(prioriti)': False, 'contains(eye)': False, 'contains(eas)': False, 'contains(travel)': False, 'contains(pork)': False, 'contains(bc)': False, 'contains(longgod)': False, 'contains(land)': False, 'contains(tv)': False, 'contains(br)': False, 'contains(around)': False, 'contains(pic)': False, 'contains(vision)': False, 'contains(ride)': False, 'contains(book)': False, 'contains(accomplish)': False, 'contains(toast)': False, 'contains(httptcogeiwn)': False, 'contains(room)': False, 'contains(pay)': False, 'contains(relat)': False, 'contains(take)': False, 'contains(goe)': False, 'contains(buy)': False, 'contains(roll)': False, 'contains(cariloha)': False, 'contains(haha)': False, 'contains(plan)': False, 'contains(ix)': False, 'contains(met)': False, 'contains(orlandosentinel)': False, 'contains(legaci)': False, 'contains(treat)': False, 'contains(lord)': False, 'contains(approv)': False, 'contains(pretenti)': False, 'contains(anoth)': False, 'contains(year)': False, 'contains(complex)': False, 'contains(track)': False, 'contains(focu)': False, 'contains(sock)': False, 'contains(human)': False, 'contains(everi)': False, 'contains(wait)': False, 'contains(never)': False, 'contains(watch)': False, 'contains(yoga)': False, 'contains(mf)': False, 'contains(sarahdateechur)': False, 'contains(ùü)': False, 'contains(sweeten)': False, 'contains(peac)': False, 'contains(ageofultron)': False, 'contains(simpli)': False, 'contains(sign)': False, 'contains(kept)': False, 'contains(lose)': False, 'contains(journal)': False, 'contains(advis)': False, 'contains(peopl)': False, 'contains(resolutionsfor)': False, 'contains(swear)': False, 'contains(super)': False, 'contains(walk)': False, 'contains(sugar)': False, 'contains(junk)': False, 'contains(noshop)': False, 'contains(atleast)': False, 'contains(corner)': False, 'contains(ïóü)': False, 'contains(ye)': False, 'contains(sarahkpeck)': False, 'contains(credit)': False, 'contains(lol)': False, 'contains(kill)': False, 'contains(social)': False, 'contains(hug)': False, 'contains(friggin)': False, 'contains(liveitteachit)': False, 'contains(hoe)': False, 'contains(ù)': False, 'contains(teacher)': False, 'contains(major)': False, 'contains(prison)': False, 'contains(opportun)': False, 'contains(fail)': False, 'contains(realli)': False, 'contains(iûªm)': False, 'contains(juliwithoutan)': False, 'contains(ask)': False, 'contains(ever)': False, 'contains(laugh)': False, 'contains(happen)': False, 'contains(ummm)': False, 'contains(two)': False, 'contains(other)': False, 'contains(lou)': False, 'contains(motiv)': False, 'contains(pound)': False, 'contains(simpl)': False, 'contains(new)': False, 'contains(follow)': False, 'contains(who)': False, 'contains(geez)': False, 'contains(action)': False, 'contains(coffe)': False, 'contains(adult)': False, 'contains(noth)': False, 'contains(ignor)': False, 'contains(especi)': False, 'contains(excel)': False, 'contains(pile)': False, 'contains(passeng)': False, 'contains(letter)': False, 'contains(thespringsla)': False, 'contains(hypeorl)': False, 'contains(outdoor)': False, 'contains(flirt)': False, 'contains(chorgraph)': False, 'contains(hand)': False, 'contains(speak)': False, 'contains(app)': False, 'contains(act)': False, 'contains(juic)': False, 'contains(breakfast)': False, 'contains(least)': False, 'contains(madonna)': False, 'contains(final)': False, 'contains(succeed)': False, 'contains(w)': False, 'contains(wear)': False, 'contains(usual)': False, 'contains(pull)': False, 'contains(truth)': False, 'contains(move)': False, 'contains(pant)': False, 'contains(kismetu)': False, 'contains(chicago)': False, 'contains(favorit)': False, 'contains(beforenewyearsresolut)': False, 'contains(instead)': False, 'contains(much)': False, 'contains(amaz)': False, 'contains(harder)': False, 'contains(alway)': False, 'contains(sever)': False, 'contains(ive)': False, 'contains(havent)': False, 'contains(wonder)': False, 'contains(dad)': False, 'contains(tri)': False, 'contains(awesom)': False, 'contains(movi)': False, 'contains(god)': False, 'contains(sober)': False, 'contains(discov)': False, 'contains(one)': False, 'contains(babi)': False, 'contains(critic)': False, 'contains(talk)': False, 'contains(getfit)': False, 'contains(wknd)': False, 'contains(els)': False, 'contains(gunna)': False, 'contains(powerbal)': False, 'contains(life)': False, 'contains(flip)': False, 'contains(patient)': False, 'contains(busi)': False, 'contains(togeth)': False, 'contains(six)': False, 'contains(game)': False, 'contains(still)': False, 'contains(beat)': False, 'contains(develop)': False, 'contains(daili)': False, 'contains(ok)': False, 'contains(team)': False, 'contains(devot)': False, 'contains(success)': False, 'contains(twisf)': False, 'contains(oh)': False, 'contains(fl)': False, 'contains(film)': False, 'contains(rich)': True, 'contains(mani)': False, 'contains(fifti)': False, 'contains(children)': False, 'contains(figuredraw)': False, 'contains(mccoyderek)': False, 'contains(sure)': False, 'contains(pack)': False, 'contains(girlùâ)': False, 'contains(play)': False, 'contains(biggiepaul)': False, 'contains(giveaway)': False, 'contains(via)': False, 'contains(p)': False, 'contains(boredom)': False, 'contains(till)': False, 'contains(saveû)': False, 'contains(lil)': False, 'contains(call)': False, 'contains(re)': False, 'contains(grimalkinrn)': False, 'contains(happi)': False, 'contains(donat)': False, 'contains(bed)': False, 'contains(newyearsresolutû)': False, 'contains(projectlif)': False, 'contains(lmao)': False, 'contains(artist)': False, 'contains(boy)': False, 'contains(might)': False, 'contains(food)': False, 'contains(remind)': False, 'contains(pleas)': False, 'contains(end)': False, 'contains(goodread)': False, 'contains(mental)': False, 'contains(art)': False, 'contains(idgaf)': False, 'contains(crowd)': False, 'contains(screenwrit)': False, 'contains(ùâù)': False, 'contains(preciou)': False, 'contains(check)': False, 'contains(volunt)': False, 'contains(done)': False, 'contains(hard)': False, 'contains(hour)': False, 'contains(httptcowvapitq)': False, 'contains(pick)': False, 'contains(cosplay)': False, 'contains(ùô)': False, 'contains(level)': False, 'contains(underwood)': False, 'contains(delsolcolor)': False, 'contains(fuck)': False, 'contains(healthyliv)': False, 'contains(dick)': False, 'contains(everyon)': False, 'contains(thought)': False, 'contains(energi)': False, 'contains(french)': False, 'contains(aka)': False, 'contains(doctor)': False, 'contains(fearless)': False, 'contains(get)': False, 'contains(decis)': False, 'contains(valu)': False, 'contains(hashtagoftheweek)': False, 'contains(late)': False, 'contains(drink)': False, 'contains(sweet)': False, 'contains(damico)': False, 'contains(touch)': False, 'contains(tan)': False, 'contains(bit)': False, 'contains(resolutionerbodi)': False, 'contains(angelesdlr)': False, 'contains(stay)': False, 'contains(yearno)': False, 'contains(forward)': False, 'contains(carri)': False, 'contains(prosper)': False, 'contains(whether)': False, 'contains(weed)': False, 'contains(debat)': False, 'contains(emazinglight)': False, 'contains(chees)': False, 'contains(fit)': False, 'contains(improv)': False, 'contains(min)': False, 'contains(mean)': False, 'contains(long)': False, 'contains(resolutionjack)': False, 'contains(see)': False, 'contains(current)': False, 'contains(goalsfor)': False, 'contains(lift)': False, 'contains(wash)': False, 'contains(forgiv)': False, 'contains(worst)': False, 'contains(power)': False, 'contains(activ)': False, 'contains(good)': False, 'contains(mcdonald)': False, 'contains(word)': False, 'contains(httptcobmnplipvz)': False, 'contains(stori)': False, 'contains(bell)': False, 'contains(countdownto)': False, 'contains(littlegarcia)': False, 'contains(toilet)': False, 'contains(didnt)': False, 'contains(afraid)': False, 'contains(definit)': False, 'contains(pain)': False, 'contains(ûïtwaimz)': False, 'contains(episod)': False, 'contains(number)': False, 'contains(perfect)': False, 'contains(jump)': False, 'contains(event)': False, 'contains(resum)': False, 'contains(club)': False, 'contains(alcohol)': False, 'contains(world)': False, 'contains(sorri)': False, 'contains(heaven)': False, 'contains(fruit)': False, 'contains(unhealthi)': False, 'contains(gossip)': False, 'contains(mind)': False, 'contains(smoke)': False, 'contains(rememb)': False, 'contains(hit)': False, 'contains(list)': False, 'contains(im)': False, 'contains(newyear)': False, 'contains(bad)': False, 'contains(trust)': False, 'contains(intth)': False, 'contains(edm)': False, 'contains(finish)': False, 'contains(morn)': False, 'contains(skateboard)': False, 'contains(cook)': False, 'contains(madamradam)': False, 'contains(alreadi)': False, 'contains(startup)': False, 'contains(subscrib)': False, 'contains(loganhamilton)': False, 'contains(broken)': False, 'contains(slacker)': False, 'contains(aspartam)': False, 'contains(baseballlif)': False, 'contains(sing)': False, 'contains(tweet)': False, 'contains(glennaon)': False, 'contains(flow)': False, 'contains(chin)': False, 'contains(anymor)': False, 'contains(public)': False, 'contains(startupchalleng)': False, 'contains(think)': False, 'contains(white)': False, 'contains(guy)': False, 'contains(missslavign)': False, 'contains(live)': False, 'contains(cigarettesûyasss)': False, 'contains(may)': False, 'contains(real)': False, 'contains(veil)': False, 'contains(tear)': False, 'contains(sweat)': False, 'contains(countri)': False, 'contains(aswiftielovat)': False, 'contains(turn)': False, 'contains(gift)': False, 'contains(piec)': False, 'contains(creativ)': False, 'contains(solovedbygod)': False, 'contains(httptcodjobzrimog)': False, 'contains(worth)': False, 'contains(upgrad)': False, 'contains(rt)': False, 'contains(great)': False, 'contains(hous)': False, 'contains(newyearsev)': False, 'contains(gotta)': False, 'contains(suck)': False, 'contains(amp)': False, 'contains(last)': False, 'contains(like)': False, 'contains(celebr)': False, 'contains(rid)': False, 'contains(order)': False, 'contains(come)': False, 'contains(care)': False, 'contains(beer)': False, 'contains(overpass)': False, 'contains(httptcoerbstsn)': False, 'contains(post)': False, 'contains(cut)': False, 'contains(wrong)': False, 'contains(easi)': False, 'contains(newyearsresolutionconsist)': False, 'contains(littl)': False, 'contains(holiday)': False, 'contains(cruis)': False, 'contains(purchas)': False, 'contains(rather)': False, 'contains(gal)': False, 'contains(myoffic)': False, 'contains(sometim)': False, 'contains(eleven)': False, 'contains(worri)': False, 'contains(ùâ)': False, 'contains(bless)': False, 'contains(futur)': False, 'contains(followthefrog)': False, 'contains(rachelbeauti)': False, 'contains(newyearsresolut)': True, 'contains(tixwish)': False, 'contains(ùôùô)': False, 'contains(synergi)': False, 'contains(job)': False, 'contains(lazi)': False, 'contains(escal)': False, 'contains(excit)': False, 'contains(made)': False, 'contains(listen)': False, 'contains(that)': False, 'contains(detox)': False, 'contains(gole)': False, 'contains(madonnarul)': False, 'contains(ramen)': False, 'contains(fierc)': False, 'contains(girl)': False, 'contains(strict)': False, 'contains(relationship)': False, 'contains(passion)': False, 'contains(offend)': False, 'contains(ground)': False, 'contains(past)': False, 'contains(wastingtim)': False, 'contains(artifici)': False, 'contains(pizza)': False, 'contains(age)': False, 'contains(refer)': False, 'contains(pass)': False, 'contains(wife)': False, 'contains(settl)': False, 'contains(danc)': False, 'contains(mayb)': False, 'contains(marri)': False, 'contains(trip)': False, 'contains(lesmil)': False, 'contains(open)': False, 'contains(along)': False, 'contains(adopt)': False, 'contains(includ)': False, 'contains(httptcosmnomkppr)': False, 'contains(concert)': False, 'contains(school)': False, 'contains(block)': False, 'contains(unstopp)': False, 'contains(musicmatt)': False, 'contains(ad)': False, 'contains(galaxi)': False, 'contains(movingon)': False, 'contains(share)': False, 'contains(emzeemaz)': False, 'contains(wave)': False, 'contains(sit)': False, 'contains(philosophi)': False, 'contains(run)': False, 'contains(neighbor)': False, 'contains(newest)': False, 'contains(attcrowd)': False, 'contains(yesterday)': False, 'contains(notecard)': False, 'contains(oomf)': False, 'contains(coast)': False, 'contains(dalla)': False, 'contains(youtub)': False, 'contains(moment)': False, 'contains(kinglorenzo)': False, 'contains(ïü)': False, 'contains(ill)': False, 'contains(fewer)': False, 'contains(resolv)': False, 'contains(diet)': False, 'contains(hope)': False, 'contains(control)': False, 'contains(seatû)': False, 'contains(place)': False, 'contains(httptcontsigxat)': False, 'contains(ùõäùîùõø)': False, 'contains(squat)': False, 'contains(christma)': False, 'contains(freezer)': False, 'contains(famili)': False, 'contains(httptcoczpvjqxqct)': False, 'contains(ismyyear)': True, 'contains(cri)': False, 'contains(remain)': False, 'contains(ùõù)': False, 'contains(northmiamibeach)': False, 'contains(scream)': False, 'contains(jillianmichael)': False, 'contains(chicken)': False, 'contains(ticket)': False, 'contains(bmnyc)': False, 'contains(entrepreneur)': False, 'contains(anybodi)': False, 'contains(joke)': False, 'contains(chrisbrown)': False, 'contains(organ)': False, 'contains(everyday)': False, 'contains(ûïchrisbrown)': False, 'contains(gonna)': False, 'contains(kind)': False, 'contains(httptcoenhxyzbob)': False, 'contains(wanna)': False, 'contains(point)': False, 'contains(realiti)': False, 'contains(four)': False, 'contains(mediocr)': False, 'contains(black)': False, 'contains(wow)': False, 'contains(chocol)': False, 'contains(terminatorgenisi)': False, 'contains(way)': False, 'contains(spent)': False, 'contains(station)': False, 'contains(center)': False, 'contains(makasandwich)': False, 'contains(night)': False, 'contains(behind)': False, 'contains(plane)': False, 'contains(direct)': False, 'contains(taco)': False, 'contains(toward)': False, 'contains(disappoint)': False, 'contains(httptcoijkxilkko)': False, 'contains(son)': False, 'contains(nickjchaney)': False, 'contains(happynewyear)': True, 'contains(need)': False, 'contains(friend)': False, 'contains(enter)': False, 'contains(genynot)': False, 'contains(avoid)': False, 'contains(budget)': False, 'contains(throw)': False, 'contains(page)': False, 'contains(april)': False, 'contains(gay)': False, 'contains(gogh)': False, 'contains(financ)': False, 'contains(cigarettesû)': False, 'contains(measur)': False, 'contains(part)': False, 'contains(distract)': False, 'contains(meth)': False, 'contains(return)': False, 'contains(nice)': False, 'contains(continu)': False, 'contains(email)': False, 'contains(bye)': False, 'contains(twitter)': False, 'contains(write)': False, 'contains(forgiven)': False, 'contains(ìñ)': False, 'contains(jan)': False, 'contains(peteyplast)': False, 'contains(mlbpaclubhous)': False, 'contains(compliment)': False, 'contains(everyth)': False, 'contains(step)': False, 'contains(color)': False, 'contains(anyth)': False, 'contains(cannot)': False, 'contains(abddissn)': False, 'contains(path)': False, 'contains(know)': False, 'contains(graduat)': False, 'contains(doesnt)': False, 'contains(friendship)': False, 'contains(product)': False, 'contains(smile)': False, 'contains(christ)': False, 'contains(whatthegreatestofthes)': False, 'contains(knowùó)': False, 'contains(ima)': False, 'contains(ab)': False, 'contains(say)': False, 'contains(tuesdayyaaaayyyi)': False, 'contains(water)': False, 'contains(numpseybrindlebox)': False, 'contains(escap)': False, 'contains(publish)': False, 'contains(drive)': False, 'contains(join)': False, 'contains(door)': False, 'contains(linger)': False, 'contains(week)': False, 'contains(lb)': False, 'contains(addict)': False, 'contains(build)': False, 'contains(cuz)': False, 'contains(annoy)': False, 'contains(straighten)': False, 'contains(entir)': False, 'contains(newyearsresolutionû)': False, 'contains(scienc)': False, 'contains(httptcoxpdginzbpq)': False, 'contains(mostli)': False, 'contains(head)': False, 'contains(mtv)': False, 'contains(lexxi)': False, 'contains(differ)': False, 'contains(yike)': False, 'contains(brown)': False, 'contains(close)': False, 'contains(nois)': False, 'contains(nashgrier)': False, 'contains(begin)': False, 'contains(park)': False, 'contains(cancer)': False, 'contains(connect)': False, 'contains(cigarett)': False, 'contains(support)': False, 'contains(competit)': False, 'contains(enough)': False, 'contains(often)': False, 'contains(yet)': False, 'contains(üfirst)': False, 'contains(retweet)': False, 'contains(spanish)': False, 'contains(cameron)': False, 'contains(inspir)': False, 'contains(put)': False, 'contains(construct)': False, 'contains(drunk)': False, 'contains(bother)': False, 'contains(urbanteach)': False, 'contains(tab)': False, 'contains(click)': False, 'contains(big)': False, 'contains(month)': False, 'contains(redbox)': False, 'contains(mistak)': False, 'contains(oreo)': False, 'contains(neg)': False, 'contains(pump)': False, 'contains(sleep)': False, 'contains(wish)': False, 'contains(tomorrow)': False, 'contains(ùªî)': False, 'contains(apart)': False, 'contains(shit)': False, 'contains(exercis)': False, 'contains(st)': False, 'contains(shank)': False, 'contains(effort)': False, 'contains(goal)': False, 'contains(away)': False, 'contains(h)': False, 'contains(curs)': False, 'contains(husband)': False, 'contains(soda)': False, 'contains(trentonjon)': False, 'contains(idea)': False, 'contains(burn)': False, 'contains(bar)': False, 'contains(pretti)': False, 'contains(base)': False, 'contains(lexu)': False, 'contains(tell)': False, 'contains(goth)': False, 'contains(riotfest)': False, 'contains(closer)': False, 'contains(lot)': False, 'contains(twice)': False, 'contains(shelbyskrhak)': False, 'contains(carrieunderwoodsleg)': False, 'contains(doubt)': False, 'contains(hurt)': False, 'contains(die)': False, 'contains(repli)': False, 'contains(ah)': False, 'contains(concret)': False, 'contains(meet)': False, 'contains(abl)': False, 'contains(ùõøïîünewyearsresolut)': False, 'contains(attach)': False, 'contains(posit)': False, 'contains(half)': False, 'contains(car)': False, 'contains(impregn)': False, 'contains(hipspan)': False, 'contains(proud)': False, 'contains(u)': False, 'contains(tiburonnapl)': False, 'contains(httptcovxmibdkuvd)': False, 'contains(promis)': False, 'contains(money)': False, 'contains(ùä)': False, 'contains(flawnocho)': False, 'contains(choos)': False, 'contains(pop)': False, 'contains(eat)': False, 'contains(x)': False, 'contains(mouth)': False, 'contains(use)': False, 'contains(first)': False, 'contains(music)': False, 'contains(seri)': False, 'contains(newyearnewm)': False, 'contains(weird)': False, 'contains(joelmgarland)': False, 'contains(next)': False, 'contains(wed)': False, 'contains(left)': False, 'contains(video)': False, 'contains(keep)': False, 'contains(sneaker)': False, 'contains(ink)': False, 'contains(nd)': False, 'contains(privat)': False, 'contains(bae)': False, 'contains(work)': False, 'contains(leagu)': False, 'contains(possibl)': False, 'contains(sinc)': False, 'contains(refil)': False, 'contains(hold)': False, 'contains(nigga)': False, 'contains(would)': False, 'contains(stubhub)': False, 'contains(januari)': False, 'contains(shop)': False, 'contains(procrastin)': False, 'contains(parti)': False, 'contains(engag)': False, 'contains(lifestyl)': False, 'contains(drop)': False, 'contains(true)': False, 'contains(fight)': False, 'contains(florida)': False, 'contains(sun)': False, 'contains(learn)': False, 'contains(focus)': False, 'contains(smart)': False, 'contains(browni)': False, 'contains(name)': False, 'contains(best)': False, 'contains(id)': False, 'contains(whatev)': False, 'contains(hot)': False, 'contains(lie)': False, 'contains(gym)': False, 'contains(workinghop)': False, 'contains(distanc)': False, 'contains(fat)': False, 'contains(netflix)': False, 'contains(yeah)': False, 'contains(protect)': False, 'contains(man)': False, 'contains(unplug)': False, 'contains(lovelif)': False, 'contains(give)': False, 'contains(anyon)': False, 'contains(actual)': False, 'contains(bacon)': False, 'contains(shall)': False, 'contains(ùùù)': False, 'contains(vincent)': False}, 'IL')]\n"
          ],
          "name": "stdout"
        }
      ]
    },
    {
      "cell_type": "markdown",
      "metadata": {
        "id": "B31ntxQ2oRt-",
        "colab_type": "text"
      },
      "source": [
        "# Bad Word Implementation"
      ]
    },
    {
      "cell_type": "code",
      "metadata": {
        "id": "O6AunX_EoF-O",
        "colab_type": "code",
        "colab": {}
      },
      "source": [
        "import pandas as pd\n",
        "import itertools\n",
        "clean(data)\n",
        "np.random.shuffle(data)"
      ],
      "execution_count": 0,
      "outputs": []
    },
    {
      "cell_type": "code",
      "metadata": {
        "id": "ZPzajOR5oXG5",
        "colab_type": "code",
        "colab": {}
      },
      "source": [
        "bad_words_txt = pd.read_csv('first-first-year-project/bad-words.txt', sep='\\n',)\n",
        "bad_words_array = bad_words_txt.to_numpy()\n",
        "bad_words_list = bad_words_array.tolist()\n",
        "bad_words = list(itertools.chain(*bad_words_list))"
      ],
      "execution_count": 0,
      "outputs": []
    },
    {
      "cell_type": "code",
      "metadata": {
        "id": "Kr5p5Xs0od1-",
        "colab_type": "code",
        "colab": {}
      },
      "source": [
        "tweets_created = list(data[:,8])\n",
        "dates = [i.split(' ',1)[0] for i in tweets_created]\n",
        "times = [i.split(' ',1)[-1] for i in tweets_created]"
      ],
      "execution_count": 0,
      "outputs": []
    },
    {
      "cell_type": "code",
      "metadata": {
        "id": "kp9AK4z6on99",
        "colab_type": "code",
        "colab": {}
      },
      "source": [
        "fCol = {'gender':2, 'Resolution_Category':4, 'tweet_created':8, 'tweet_state':12, 'tweet_region':14, 'hashtags':15}"
      ],
      "execution_count": 0,
      "outputs": []
    },
    {
      "cell_type": "markdown",
      "metadata": {
        "id": "f5MT_aLbowDs",
        "colab_type": "text"
      },
      "source": [
        "## Bad words and Gender"
      ]
    },
    {
      "cell_type": "code",
      "metadata": {
        "id": "8Ckc99PYoqDB",
        "colab_type": "code",
        "colab": {}
      },
      "source": [
        "features2 = generate_features(data, bad_words, fCol['gender'])\n",
        "train2, dev2, test2 = divide_featureset(features2)"
      ],
      "execution_count": 0,
      "outputs": []
    },
    {
      "cell_type": "code",
      "metadata": {
        "id": "z6z5sKylozeJ",
        "colab_type": "code",
        "outputId": "4c2b382c-5511-4030-dd64-6fa7c261e0e2",
        "colab": {
          "base_uri": "https://localhost:8080/",
          "height": 307
        }
      },
      "source": [
        "classifier2 = nltk.NaiveBayesClassifier.train(train2)\n",
        "print(nltk.classify.accuracy(classifier2, dev2))\n",
        "classifier2.show_most_informative_features(15)"
      ],
      "execution_count": 0,
      "outputs": [
        {
          "output_type": "stream",
          "text": [
            "0.4870259481037924\n",
            "Most Informative Features\n",
            "        contains(bigger) = True             male : female =      6.4 : 1.0\n",
            "          contains(crap) = True             male : female =      3.1 : 1.0\n",
            "        contains(toilet) = True             male : female =      3.1 : 1.0\n",
            "         contains(shoot) = True             male : female =      3.1 : 1.0\n",
            "          contains(poop) = True             male : female =      3.1 : 1.0\n",
            "          contains(butt) = True             male : female =      2.6 : 1.0\n",
            "         contains(fight) = True             male : female =      2.5 : 1.0\n",
            "           contains(god) = True             male : female =      2.5 : 1.0\n",
            "           contains(fat) = True             male : female =      2.4 : 1.0\n",
            "          contains(blow) = True             male : female =      2.4 : 1.0\n",
            "        contains(heroin) = True             male : female =      2.4 : 1.0\n",
            "          contains(cunt) = True             male : female =      2.4 : 1.0\n",
            "          contains(hell) = True           female : male   =      2.3 : 1.0\n",
            "      contains(bullshit) = True           female : male   =      2.3 : 1.0\n",
            "         contains(adult) = True           female : male   =      2.3 : 1.0\n"
          ],
          "name": "stdout"
        }
      ]
    },
    {
      "cell_type": "markdown",
      "metadata": {
        "id": "X-_5HBP1o6Ho",
        "colab_type": "text"
      },
      "source": [
        "## Bad words and Categories"
      ]
    },
    {
      "cell_type": "code",
      "metadata": {
        "id": "3MZrIe2Go0FT",
        "colab_type": "code",
        "outputId": "b55e2631-5d0e-43be-d815-06daf447114f",
        "colab": {
          "base_uri": "https://localhost:8080/",
          "height": 221
        }
      },
      "source": [
        "features3 = generate_features(data, bad_words, fCol['Resolution_Category'])\n",
        "train3, dev3, test3 = divide_featureset(features3)\n",
        "classifier3 = nltk.NaiveBayesClassifier.train(train3)\n",
        "print(nltk.classify.accuracy(classifier3, dev3))\n",
        "classifier3.show_most_informative_features(10)"
      ],
      "execution_count": 0,
      "outputs": [
        {
          "output_type": "stream",
          "text": [
            "0.3852295409181637\n",
            "Most Informative Features\n",
            "        contains(german) = True           Educat : Person =     18.4 : 1.0\n",
            "         contains(nigga) = True           Career : Person =     13.7 : 1.0\n",
            "          contains(damn) = True           Philan : Person =     13.0 : 1.0\n",
            "           contains(kid) = True           Philan : Health =     10.6 : 1.0\n",
            "          contains(blow) = True           Financ : Person =      9.5 : 1.0\n",
            "         contains(fight) = True           Philan : Person =      9.3 : 1.0\n",
            "           contains(god) = True           Person : Humor  =      9.1 : 1.0\n",
            "         contains(death) = True           Career : Humor  =      8.3 : 1.0\n",
            "        contains(fucker) = True           Career : Humor  =      8.3 : 1.0\n",
            "        contains(harder) = True           Career : Humor  =      8.3 : 1.0\n"
          ],
          "name": "stdout"
        }
      ]
    },
    {
      "cell_type": "markdown",
      "metadata": {
        "id": "TSpZm8KWpBmN",
        "colab_type": "text"
      },
      "source": [
        "## Bad words and Regions"
      ]
    },
    {
      "cell_type": "code",
      "metadata": {
        "id": "7QYADktCo_Jv",
        "colab_type": "code",
        "outputId": "ceca7bf2-5047-4c80-9f45-b935126cd934",
        "colab": {
          "base_uri": "https://localhost:8080/",
          "height": 221
        }
      },
      "source": [
        "features4 = generate_features(data, bad_words, fCol['tweet_region'])\n",
        "train4, dev4, test4 = divide_featureset(features4)\n",
        "classifier4 = nltk.NaiveBayesClassifier.train(train4)\n",
        "print(nltk.classify.accuracy(classifier4, dev4))\n",
        "classifier4.show_most_informative_features(10)"
      ],
      "execution_count": 0,
      "outputs": [
        {
          "output_type": "stream",
          "text": [
            "0.2954091816367265\n",
            "Most Informative Features\n",
            "        contains(bigger) = True             West : South  =      4.7 : 1.0\n",
            "          contains(sick) = True           Midwes : South  =      3.8 : 1.0\n",
            "         contains(black) = True           Northe : South  =      3.6 : 1.0\n",
            "           contains(kid) = True             West : South  =      3.1 : 1.0\n",
            "         contains(shoot) = True             West : South  =      3.0 : 1.0\n",
            "          contains(poop) = True             West : South  =      3.0 : 1.0\n",
            "          contains(fear) = True           Midwes : West   =      3.0 : 1.0\n",
            "          contains(suck) = True           Midwes : West   =      3.0 : 1.0\n",
            "         contains(fight) = True           Northe : Midwes =      2.8 : 1.0\n",
            "        contains(harder) = True           Midwes : West   =      2.8 : 1.0\n"
          ],
          "name": "stdout"
        }
      ]
    },
    {
      "cell_type": "markdown",
      "metadata": {
        "id": "PnIzzNTRpHJy",
        "colab_type": "text"
      },
      "source": [
        "## Bad words and Dates"
      ]
    },
    {
      "cell_type": "code",
      "metadata": {
        "id": "To2TttQ1pGio",
        "colab_type": "code",
        "outputId": "b0f05c71-ca02-41d4-8773-d062a416cafe",
        "colab": {
          "base_uri": "https://localhost:8080/",
          "height": 333
        }
      },
      "source": [
        "#In progress: comparison of bad words and dates\n",
        "features5 = generate_features(data, bad_words, dates)\n",
        "train5, dev5, test5 = divide_featureset(features5)\n",
        "classifier5 = nltk.NaiveBayesClassifier.train(train5)\n",
        "print(nltk.classify.accuracy(classifier5, dev5))\n",
        "classifier5.show_most_informative_features(10)"
      ],
      "execution_count": 0,
      "outputs": [
        {
          "output_type": "error",
          "ename": "IndexError",
          "evalue": "ignored",
          "traceback": [
            "\u001b[0;31m---------------------------------------------------------------------------\u001b[0m",
            "\u001b[0;31mIndexError\u001b[0m                                Traceback (most recent call last)",
            "\u001b[0;32m<ipython-input-50-fd733149d2b7>\u001b[0m in \u001b[0;36m<module>\u001b[0;34m()\u001b[0m\n\u001b[0;32m----> 1\u001b[0;31m \u001b[0mfeatures5\u001b[0m \u001b[0;34m=\u001b[0m \u001b[0mgenerate_features\u001b[0m\u001b[0;34m(\u001b[0m\u001b[0mdata\u001b[0m\u001b[0;34m,\u001b[0m \u001b[0mbad_words\u001b[0m\u001b[0;34m,\u001b[0m \u001b[0mdates\u001b[0m\u001b[0;34m)\u001b[0m\u001b[0;34m\u001b[0m\u001b[0;34m\u001b[0m\u001b[0m\n\u001b[0m\u001b[1;32m      2\u001b[0m \u001b[0mtrain5\u001b[0m\u001b[0;34m,\u001b[0m \u001b[0mdev5\u001b[0m\u001b[0;34m,\u001b[0m \u001b[0mtest5\u001b[0m \u001b[0;34m=\u001b[0m \u001b[0mdivide_featureset\u001b[0m\u001b[0;34m(\u001b[0m\u001b[0mfeatures5\u001b[0m\u001b[0;34m)\u001b[0m\u001b[0;34m\u001b[0m\u001b[0;34m\u001b[0m\u001b[0m\n\u001b[1;32m      3\u001b[0m \u001b[0mclassifier5\u001b[0m \u001b[0;34m=\u001b[0m \u001b[0mnltk\u001b[0m\u001b[0;34m.\u001b[0m\u001b[0mNaiveBayesClassifier\u001b[0m\u001b[0;34m.\u001b[0m\u001b[0mtrain\u001b[0m\u001b[0;34m(\u001b[0m\u001b[0mtrain5\u001b[0m\u001b[0;34m)\u001b[0m\u001b[0;34m\u001b[0m\u001b[0;34m\u001b[0m\u001b[0m\n\u001b[1;32m      4\u001b[0m \u001b[0mprint\u001b[0m\u001b[0;34m(\u001b[0m\u001b[0mnltk\u001b[0m\u001b[0;34m.\u001b[0m\u001b[0mclassify\u001b[0m\u001b[0;34m.\u001b[0m\u001b[0maccuracy\u001b[0m\u001b[0;34m(\u001b[0m\u001b[0mclassifier5\u001b[0m\u001b[0;34m,\u001b[0m \u001b[0mdev5\u001b[0m\u001b[0;34m)\u001b[0m\u001b[0;34m)\u001b[0m\u001b[0;34m\u001b[0m\u001b[0;34m\u001b[0m\u001b[0m\n\u001b[1;32m      5\u001b[0m \u001b[0mclassifier5\u001b[0m\u001b[0;34m.\u001b[0m\u001b[0mshow_most_informative_features\u001b[0m\u001b[0;34m(\u001b[0m\u001b[0;36m10\u001b[0m\u001b[0;34m)\u001b[0m\u001b[0;34m\u001b[0m\u001b[0;34m\u001b[0m\u001b[0m\n",
            "\u001b[0;32m<ipython-input-35-e6e16487ae41>\u001b[0m in \u001b[0;36mgenerate_features\u001b[0;34m(data, vocabulary, fCol)\u001b[0m\n\u001b[1;32m     97\u001b[0m     \u001b[0;32mor\u001b[0m \u001b[0;32mnot\u001b[0m \u001b[0mthe\u001b[0m \u001b[0mword\u001b[0m \u001b[0;32mis\u001b[0m \u001b[0;32min\u001b[0m \u001b[0mthe\u001b[0m \u001b[0mtweet\u001b[0m \u001b[0;34m-\u001b[0m \u001b[0malong\u001b[0m \u001b[0;32mwith\u001b[0m \u001b[0mthe\u001b[0m \u001b[0mlabel\u001b[0m \u001b[0mof\u001b[0m \u001b[0mthe\u001b[0m \u001b[0mtweet\u001b[0m\u001b[0;34m.\u001b[0m\u001b[0;34m\u001b[0m\u001b[0;34m\u001b[0m\u001b[0m\n\u001b[1;32m     98\u001b[0m     \"\"\"\n\u001b[0;32m---> 99\u001b[0;31m     \u001b[0mfeatures\u001b[0m \u001b[0;34m=\u001b[0m \u001b[0;34m[\u001b[0m\u001b[0;34m(\u001b[0m\u001b[0mtweet_features\u001b[0m\u001b[0;34m(\u001b[0m\u001b[0md\u001b[0m\u001b[0;34m.\u001b[0m\u001b[0msplit\u001b[0m\u001b[0;34m(\u001b[0m\u001b[0;34m)\u001b[0m\u001b[0;34m,\u001b[0m \u001b[0mvocabulary\u001b[0m\u001b[0;34m)\u001b[0m\u001b[0;34m,\u001b[0m \u001b[0mc\u001b[0m\u001b[0;34m)\u001b[0m \u001b[0;32mfor\u001b[0m \u001b[0;34m(\u001b[0m\u001b[0md\u001b[0m\u001b[0;34m,\u001b[0m\u001b[0mc\u001b[0m\u001b[0;34m)\u001b[0m \u001b[0;32min\u001b[0m \u001b[0mzip\u001b[0m\u001b[0;34m(\u001b[0m\u001b[0mdata\u001b[0m\u001b[0;34m[\u001b[0m\u001b[0;34m:\u001b[0m\u001b[0;34m,\u001b[0m\u001b[0;36m6\u001b[0m\u001b[0;34m]\u001b[0m\u001b[0;34m,\u001b[0m \u001b[0mdata\u001b[0m\u001b[0;34m[\u001b[0m\u001b[0;34m:\u001b[0m\u001b[0;34m,\u001b[0m\u001b[0mfCol\u001b[0m\u001b[0;34m]\u001b[0m\u001b[0;34m)\u001b[0m\u001b[0;34m]\u001b[0m \u001b[0;31m# column 6 is text data, column 2 is gender data\u001b[0m\u001b[0;34m\u001b[0m\u001b[0;34m\u001b[0m\u001b[0m\n\u001b[0m\u001b[1;32m    100\u001b[0m     \u001b[0;32mreturn\u001b[0m \u001b[0mfeatures\u001b[0m\u001b[0;34m\u001b[0m\u001b[0;34m\u001b[0m\u001b[0m\n",
            "\u001b[0;31mIndexError\u001b[0m: only integers, slices (`:`), ellipsis (`...`), numpy.newaxis (`None`) and integer or boolean arrays are valid indices"
          ]
        }
      ]
    },
    {
      "cell_type": "code",
      "metadata": {
        "id": "Eb6BeHwZpMlA",
        "colab_type": "code",
        "colab": {}
      },
      "source": [
        "#In progress: creation of bad word bigrams \n",
        "tokens = [token for sentence in data[:,6] for token in sentence.split()]\n",
        "bigrams2 = list(nltk.ngrams(tokens, 2))\n",
        "fdbigrams2 = nltk.FreqDist(bigrams2)"
      ],
      "execution_count": 0,
      "outputs": []
    },
    {
      "cell_type": "code",
      "metadata": {
        "id": "17BsrQCwpPde",
        "colab_type": "code",
        "colab": {}
      },
      "source": [
        ""
      ],
      "execution_count": 0,
      "outputs": []
    },
    {
      "cell_type": "markdown",
      "metadata": {
        "id": "xTzpuDaQZxBz",
        "colab_type": "text"
      },
      "source": [
        "#**K-Fold implementation** (WORKING!)"
      ]
    },
    {
      "cell_type": "code",
      "metadata": {
        "id": "RL1uHw7DtiRN",
        "colab_type": "code",
        "colab": {}
      },
      "source": [
        "# Data preperations, set all the relevant labels here as done earlier\n",
        "np.random.shuffle(data)\n",
        "kf_fCol = {'gender':2, 'Resolution_Category':4, 'tweet_state':12, 'hashtags':15}\n",
        "kf_vocabType = [vocab_feature_most_common, vocab_feature_unique][0] #Pick one by replacing the number in [int]\n",
        "kf_vocabulary = generate_vocabulary(data, kf_fCol['gender'], kf_vocabType)\n",
        "kf_features = generate_features(data, vocabulary, fCol['gender'])\n",
        "\n",
        "\n",
        "#kf_features = kf_features[:500]  # Define the amount of data to use"
      ],
      "execution_count": 0,
      "outputs": []
    },
    {
      "cell_type": "code",
      "metadata": {
        "id": "OgbMAIBlZ5vf",
        "colab_type": "code",
        "outputId": "d6ca6add-a48e-4f1d-9579-bee9516c5016",
        "colab": {
          "base_uri": "https://localhost:8080/",
          "height": 1000
        }
      },
      "source": [
        "# Import KFold model and define the amount of folds\n",
        "from sklearn.model_selection import KFold  # import model\n",
        "k = 5  # amount of folds\n",
        "\n",
        "# Store an object of the KFold class in a variable with shuffle=True\n",
        "kf = KFold(n_splits=k, shuffle=True)\n",
        "\n",
        "\"\"\" \n",
        "Loop for the models and their designated folds (1 to k)\n",
        "and calculate the average of each of the 'k' models' accuracy\n",
        "using the NB classifier and k-fold model class.\n",
        "\"\"\"\n",
        "sum = 0 # sum to calculate average of model accuracies\n",
        "iteration = 1\n",
        "for train, test in kf.split(kf_features): # Loop over K chunk of data splits\n",
        "    train_data = np.array(kf_features)[train] # New chunk of train data\n",
        "    test_data = np.array(kf_features)[test] # New chunk of test data\n",
        "\n",
        "    # Define the NB classifier to the train data\n",
        "    kd_classifier = nltk.NaiveBayesClassifier.train(train_data)\n",
        "\n",
        "    print(\"Iteration no.\", iteration, \"\\n\")\n",
        "    print(\"Accuracy of iteration number\", iteration, \":\", nltk.classify.accuracy(kd_classifier, test_data))\n",
        "    kd_classifier.show_most_informative_features(10)\n",
        "    print(\"\\n\\n\")\n",
        "\n",
        "    sum += nltk.classify.accuracy(kd_classifier, test_data) # Add current sum to total\n",
        "\n",
        "    iteration += 1 # Increment variable to display next iteration\n",
        "\n",
        "# Average calculated by the sum divided by the number of folds\n",
        "average = sum/k\n",
        "print(\"The accuracy average of the K-fold models:\", average)"
      ],
      "execution_count": 65,
      "outputs": [
        {
          "output_type": "stream",
          "text": [
            "Iteration no. 1 \n",
            "\n",
            "Accuracy of iteration number 1 : 0.5776892430278885\n",
            "Most Informative Features\n",
            "      contains(cariloha) = True           female : male   =     12.7 : 1.0\n",
            "contains(hashtagoftheweek) = True           female : male   =     10.6 : 1.0\n",
            "        contains(youtub) = True             male : female =      6.3 : 1.0\n",
            "        contains(chocol) = True           female : male   =      5.7 : 1.0\n",
            "        contains(bigger) = True             male : female =      5.6 : 1.0\n",
            "          contains(dick) = True           female : male   =      5.0 : 1.0\n",
            "       contains(tixwish) = True           female : male   =      5.0 : 1.0\n",
            "          contains(hurt) = True           female : male   =      5.0 : 1.0\n",
            "          contains(weed) = True             male : female =      5.0 : 1.0\n",
            "          contains(wife) = True             male : female =      5.0 : 1.0\n",
            "\n",
            "\n",
            "\n",
            "Iteration no. 2 \n",
            "\n",
            "Accuracy of iteration number 2 : 0.5568862275449101\n",
            "Most Informative Features\n",
            "      contains(cariloha) = True           female : male   =     13.3 : 1.0\n",
            "contains(hashtagoftheweek) = True           female : male   =     10.4 : 1.0\n",
            "          contains(trip) = True           female : male   =      5.8 : 1.0\n",
            "        contains(chocol) = True           female : male   =      5.8 : 1.0\n",
            "        contains(bigger) = True             male : female =      5.5 : 1.0\n",
            "          contains(weed) = True             male : female =      5.5 : 1.0\n",
            "           contains(dad) = True             male : female =      5.5 : 1.0\n",
            "        contains(youtub) = True             male : female =      5.5 : 1.0\n",
            "          contains(hurt) = True           female : male   =      5.5 : 1.0\n",
            "        contains(forgiv) = True           female : male   =      5.1 : 1.0\n",
            "\n",
            "\n",
            "\n",
            "Iteration no. 3 \n",
            "\n",
            "Accuracy of iteration number 3 : 0.5588822355289421\n",
            "Most Informative Features\n",
            "      contains(cariloha) = True           female : male   =     13.2 : 1.0\n",
            "contains(hashtagoftheweek) = True           female : male   =     10.4 : 1.0\n",
            "        contains(chocol) = True           female : male   =      6.4 : 1.0\n",
            "          contains(pant) = True           female : male   =      5.1 : 1.0\n",
            "    contains(chrisbrown) = True           female : male   =      5.1 : 1.0\n",
            "      contains(marathon) = True           female : male   =      5.1 : 1.0\n",
            "     contains(nashgrier) = True             male : female =      4.9 : 1.0\n",
            "           contains(act) = True             male : female =      4.9 : 1.0\n",
            "        contains(bigger) = True             male : female =      4.9 : 1.0\n",
            "          contains(wife) = True             male : female =      4.9 : 1.0\n",
            "\n",
            "\n",
            "\n",
            "Iteration no. 4 \n",
            "\n",
            "Accuracy of iteration number 4 : 0.5409181636726547\n",
            "Most Informative Features\n",
            "      contains(cariloha) = True           female : male   =     13.5 : 1.0\n",
            "contains(hashtagoftheweek) = True           female : male   =     10.6 : 1.0\n",
            "             contains(p) = True             male : female =      6.6 : 1.0\n",
            "        contains(bigger) = True             male : female =      6.3 : 1.0\n",
            "        contains(youtub) = True             male : female =      6.3 : 1.0\n",
            "        contains(chocol) = True           female : male   =      5.7 : 1.0\n",
            "          contains(weed) = True             male : female =      5.6 : 1.0\n",
            "           contains(dad) = True             male : female =      5.6 : 1.0\n",
            "           contains(lie) = True             male : female =      5.6 : 1.0\n",
            "        contains(forgiv) = True           female : male   =      5.0 : 1.0\n",
            "\n",
            "\n",
            "\n",
            "Iteration no. 5 \n",
            "\n",
            "Accuracy of iteration number 5 : 0.5888223552894212\n",
            "Most Informative Features\n",
            "      contains(cariloha) = True           female : male   =     19.2 : 1.0\n",
            "contains(hashtagoftheweek) = True           female : male   =     13.8 : 1.0\n",
            "          contains(pant) = True           female : male   =      6.4 : 1.0\n",
            "          contains(trip) = True           female : male   =      5.7 : 1.0\n",
            "       contains(tixwish) = True           female : male   =      5.7 : 1.0\n",
            "        contains(youtub) = True             male : female =      5.6 : 1.0\n",
            "          contains(head) = True           female : male   =      5.1 : 1.0\n",
            "      contains(marathon) = True           female : male   =      5.1 : 1.0\n",
            "        contains(bigger) = True             male : female =      4.9 : 1.0\n",
            "          contains(beat) = True             male : female =      4.9 : 1.0\n",
            "\n",
            "\n",
            "\n",
            "Iteration no. 6 \n",
            "\n",
            "Accuracy of iteration number 6 : 0.5668662674650699\n",
            "Most Informative Features\n",
            "      contains(cariloha) = True           female : male   =     19.9 : 1.0\n",
            "contains(hashtagoftheweek) = True           female : male   =     16.6 : 1.0\n",
            "        contains(bigger) = True             male : female =      6.2 : 1.0\n",
            "       contains(tixwish) = True           female : male   =      5.7 : 1.0\n",
            "        contains(youtub) = True             male : female =      5.6 : 1.0\n",
            "            contains(tv) = True           female : male   =      5.1 : 1.0\n",
            "        contains(chocol) = True           female : male   =      5.1 : 1.0\n",
            "          contains(gift) = True           female : male   =      5.1 : 1.0\n",
            "     contains(nashgrier) = True             male : female =      4.9 : 1.0\n",
            "          contains(beat) = True             male : female =      4.9 : 1.0\n",
            "\n",
            "\n",
            "\n",
            "Iteration no. 7 \n",
            "\n",
            "Accuracy of iteration number 7 : 0.5788423153692615\n",
            "Most Informative Features\n",
            "      contains(cariloha) = True           female : male   =     11.0 : 1.0\n",
            "contains(hashtagoftheweek) = True           female : male   =      9.0 : 1.0\n",
            "        contains(chocol) = True           female : male   =      6.4 : 1.0\n",
            "        contains(youtub) = True             male : female =      6.3 : 1.0\n",
            "          contains(weed) = True             male : female =      5.6 : 1.0\n",
            "          contains(wife) = True             male : female =      5.6 : 1.0\n",
            "       contains(tixwish) = True           female : male   =      5.0 : 1.0\n",
            "      contains(marathon) = True           female : male   =      5.0 : 1.0\n",
            "          contains(meat) = True             male : female =      5.0 : 1.0\n",
            "          contains(seem) = True             male : female =      5.0 : 1.0\n",
            "\n",
            "\n",
            "\n",
            "Iteration no. 8 \n",
            "\n",
            "Accuracy of iteration number 8 : 0.6087824351297405\n",
            "Most Informative Features\n",
            "      contains(cariloha) = True           female : male   =     13.5 : 1.0\n",
            "contains(hashtagoftheweek) = True           female : male   =     11.1 : 1.0\n",
            "        contains(chocol) = True           female : male   =      6.4 : 1.0\n",
            "        contains(bigger) = True             male : female =      5.6 : 1.0\n",
            "          contains(wife) = True             male : female =      5.6 : 1.0\n",
            "      contains(encourag) = True             male : female =      5.6 : 1.0\n",
            "          contains(name) = True             male : female =      5.0 : 1.0\n",
            "     contains(nashgrier) = True             male : female =      5.0 : 1.0\n",
            "          contains(beat) = True             male : female =      5.0 : 1.0\n",
            "           contains(pop) = True             male : female =      5.0 : 1.0\n",
            "\n",
            "\n",
            "\n",
            "Iteration no. 9 \n",
            "\n",
            "Accuracy of iteration number 9 : 0.6067864271457086\n",
            "Most Informative Features\n",
            "      contains(cariloha) = True           female : male   =     12.6 : 1.0\n",
            "contains(hashtagoftheweek) = True           female : male   =     10.2 : 1.0\n",
            "           contains(cat) = True           female : male   =      6.3 : 1.0\n",
            "        contains(bigger) = True             male : female =      6.3 : 1.0\n",
            "        contains(youtub) = True             male : female =      6.3 : 1.0\n",
            "          contains(beat) = True             male : female =      5.0 : 1.0\n",
            "          contains(weed) = True             male : female =      5.0 : 1.0\n",
            "          contains(wife) = True             male : female =      5.0 : 1.0\n",
            "       contains(stubhub) = True           female : male   =      4.6 : 1.0\n",
            "         contains(adult) = True           female : male   =      4.3 : 1.0\n",
            "\n",
            "\n",
            "\n",
            "Iteration no. 10 \n",
            "\n",
            "Accuracy of iteration number 10 : 0.6147704590818364\n",
            "Most Informative Features\n",
            "      contains(cariloha) = True           female : male   =     12.4 : 1.0\n",
            "contains(hashtagoftheweek) = True           female : male   =      9.5 : 1.0\n",
            "        contains(chocol) = True           female : male   =      6.4 : 1.0\n",
            "           contains(ùªî) = True           female : male   =      5.8 : 1.0\n",
            "       contains(tixwish) = True           female : male   =      5.8 : 1.0\n",
            "        contains(bigger) = True             male : female =      5.6 : 1.0\n",
            "          contains(weed) = True             male : female =      5.6 : 1.0\n",
            "        contains(youtub) = True             male : female =      5.6 : 1.0\n",
            "             contains(p) = True             male : female =      4.9 : 1.0\n",
            "          contains(beat) = True             male : female =      4.9 : 1.0\n",
            "\n",
            "\n",
            "\n",
            "The accuracy average of the K-fold models: 0.5799246129255433\n"
          ],
          "name": "stdout"
        }
      ]
    },
    {
      "cell_type": "code",
      "metadata": {
        "id": "pcQn2adw2W8S",
        "colab_type": "code",
        "colab": {}
      },
      "source": [
        ""
      ],
      "execution_count": 0,
      "outputs": []
    }
  ]
}