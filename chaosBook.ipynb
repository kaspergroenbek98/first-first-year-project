{
  "nbformat": 4,
  "nbformat_minor": 0,
  "metadata": {
    "colab": {
      "name": "chaosBook.ipynb",
      "provenance": [],
      "collapsed_sections": [],
      "toc_visible": true,
      "include_colab_link": true
    },
    "kernelspec": {
      "name": "python3",
      "display_name": "Python 3"
    }
  },
  "cells": [
    {
      "cell_type": "markdown",
      "metadata": {
        "id": "view-in-github",
        "colab_type": "text"
      },
      "source": [
        "<a href=\"https://colab.research.google.com/github/kaspergroenbek98/first-first-year-project/blob/master/chaosBook.ipynb\" target=\"_parent\"><img src=\"https://colab.research.google.com/assets/colab-badge.svg\" alt=\"Open In Colab\"/></a>"
      ]
    },
    {
      "cell_type": "code",
      "metadata": {
        "id": "8M2sbI5Acnrh",
        "colab_type": "code",
        "outputId": "2cf8f083-2b93-4d86-a7fa-146610cfa4e4",
        "colab": {
          "base_uri": "https://localhost:8080/",
          "height": 34
        }
      },
      "source": [
        "! git clone https://github.com/kaspergroenbek98/first-first-year-project.git"
      ],
      "execution_count": 1,
      "outputs": [
        {
          "output_type": "stream",
          "text": [
            "fatal: destination path 'first-first-year-project' already exists and is not an empty directory.\n"
          ],
          "name": "stdout"
        }
      ]
    },
    {
      "cell_type": "code",
      "metadata": {
        "id": "k-mYQqynljhN",
        "colab_type": "code",
        "outputId": "58ba5ba3-57c7-42e2-f4c3-afae3078b2aa",
        "colab": {
          "base_uri": "https://localhost:8080/",
          "height": 136
        }
      },
      "source": [
        "import numpy as np\n",
        "import nltk\n",
        "import csv\n",
        "import nltk\n",
        "import re\n",
        "\n",
        "nltk.download('punkt')\n",
        "nltk.download('stopwords')\n",
        "stopwords = set(nltk.corpus.stopwords.words('english'))\n",
        "\n",
        "\n",
        "# Read the data into a header and a data np.array - the array is then shuffled\n",
        "with open('first-first-year-project/data.csv', encoding='latin1') as csv_file:\n",
        "    csv_reader = csv.reader(csv_file, delimiter=',')\n",
        "    data = np.array([np.array(line) for line in csv_reader])\n",
        "header, data = data[0,:], data[1:,:]\n",
        "print(header)\n",
        "np.random.shuffle(data)"
      ],
      "execution_count": 2,
      "outputs": [
        {
          "output_type": "stream",
          "text": [
            "[nltk_data] Downloading package punkt to /root/nltk_data...\n",
            "[nltk_data]   Package punkt is already up-to-date!\n",
            "[nltk_data] Downloading package stopwords to /root/nltk_data...\n",
            "[nltk_data]   Package stopwords is already up-to-date!\n",
            "['other_topic' 'resolution_topics' 'gender' 'name' 'Resolution_Category'\n",
            " 'retweet_count' 'text' 'tweet_coord' 'tweet_created' 'tweet_date'\n",
            " 'tweet_id' 'tweet_location' 'tweet_state' 'user_timezone' 'tweet_region']\n"
          ],
          "name": "stdout"
        }
      ]
    },
    {
      "cell_type": "code",
      "metadata": {
        "id": "qgUqeGED4LM3",
        "colab_type": "code",
        "colab": {
          "base_uri": "https://localhost:8080/",
          "height": 105
        },
        "outputId": "1c6cb90f-8c98-40f4-8b49-2ee29b2f23c6"
      },
      "source": [
        "# Identify hashtags and insert them in the 15th column\n",
        "print(data.shape)\n",
        "col = np.zeros((data.shape[0],1), 'str')\n",
        "data = np.append(data, col, axis=1)\n",
        "print(data.shape) # Note that shape starts at 1 and ends at 16, so the interval is [0:15]\n",
        "\n",
        "for i, text in enumerate(data[:,6]):\n",
        "    results = re.findall(r\"#\\w+\", text) # Finds matches and returns them as an iterable\n",
        "    if results:\n",
        "        data[i,15] = ' '.join(results)\n",
        "    else:\n",
        "        data[i,15] = ''\n",
        "hashtags = set(hashtag for row in data[:,15] for hashtag in row.split())\n",
        "print(hashtags)\n",
        "print(len(hashtags)) # there are 1735 unique hashtags"
      ],
      "execution_count": 3,
      "outputs": [
        {
          "output_type": "stream",
          "text": [
            "(5011, 15)\n",
            "(5011, 16)\n",
            "{'#femdom', '#mickey', '#youneverknow', '#discover', '#DCIM', '#famouspeople', '#rachelclarkgiveaway', '#publishers', '#submissive', '#iaedchat', '#crossitoffmylist', '#AimHigh', '#nodebtdiet', '#joy', '#WeightLossJourney', '#NewYearsWish', '#NYE2015', '#Dance', '#ParksandRec', '#vegan', '#gaspump', '#getfit2015', '#nope', '#weightlossjourney', '#pets', '#dieting', '#bakewell', '#HR', '#NewYorkYankees', '#Xort', '#timeformyself', '#timetochange', '#TheOffice', '#thenewtriplethreat', '#winterweight', '#dreamofphilanthropy', '#ATL', '#London', '#sucker', '#I', '#weightlosstransformation', '#oops', '#TiredOfYourShit', '#pun', '#watch', '#MasBitch', '#feelsgood', '#sillybuttrue', '#Friends', '#2', '#Bucketlist', '#FeministN', '#loseweight', '#Bible', '#languagelearning', '#grateful', '#workouthard', '#math', '#hiphop', '#ResolutionBroken', '#follow', '#TalentPool', '#unfollow', '#insanitymax30', '#MagnumPI', '#IndieMusic', '#2015', '#GOBIG', '#ForSure', '#slurpslurp', '#dreams', '#workplace', '#Entrepreneurs', '#diabetes', '#Cruise', '#booty', '#SimpleTruthOrganic', '#onlinedating', '#FreshStart', '#cumdump', '#Destroyallcliches', '#liberals', '#flawless', '#BillionaireEffect', '#stjamesnews', '#getlazy2k15', '#photograph', '#noshopping', '#BusyMoms', '#Greensboro', '#christmastree', '#LOL', '#NewYearsReso', '#sarcasm', '#letsseehowthisends', '#NewY', '#eyebrows', '#getreal', '#theinlivingcolor', '#worldpeace', '#YearEndResolution', '#REWARD4MissingSocks', '#SoundCloud', '#hellofuture', '#shopping', '#NoteCards', '#LordsOfDogtown', '#ShowTickets', '#PCSB', '#noreally', '#HAPPY2015AMERICA', '#stretchitout', '#celenrate', '#p2', '#mycoffee', '#edm', '#redmeat', '#FriendsOnNetflix', '#needtoreducestress', '#2014Memories', '#FifthHarmony', '#figuredrawing', '#Meth', '#feedmemore', '#Real', '#8', '#exit109', '#TerminatorGenisys', '#seewhatididthere', '#CrohnsDisease', '#Exeter', '#done', '#yolo', '#GirlOnFire', '#stupidwordsof2014', '#JesusFirst', '#StarWarsTheForceAwakens', '#Bollywood', '#TweetThisTuesday', '#selfie', '#muffintop', '#stayinghealthy', '#moreorganized', '#BffProbs', '#MOSSA', '#LoveWriteLive', '#FAM', '#happynewyear', '#fb', '#nutrition', '#2015ismyyear', '#bodybuilding', '#rosettastone', '#BringOn2015', '#Writing', '#loveyourlife', '#ChristJesus', '#157143', '#leagueoflegends', '#DietMightNotSuckThatMuchMaybe', '#CSS', '#workhard', '#RebelHeart', '#Holistic', '#QuoteOfTheYear', '#DivineHouse', '#fatnesstofitness', '#foreverclumsy', '#Jaysperations', '#traveltips', '#dtla', '#haiku', '#StartUpChallenge', '#GoBooze', '#purpose', '#gains', '#Bjork', '#straightfromtheword', '#21', '#pray', '#Yummy2015', '#1for1', '#roadtripping', '#TheChallenge', '#memphis', '#doit', '#lifelessons', '#RWD', '#DaddyToBe', '#RINOs', '#someoneteachme', '#emazinglights', '#LittleGarcia', '#11', '#DopeAmbition', '#achievable', '#BodyVive', '#sexymonday', '#stayconnected', '#heartonmysleeve', '#wickedsmaht', '#InNOut', '#coffeeandchocolateforbreakfast', '#STILLSTICKINTOIT', '#BFF', '#wwchat', '#tryagainnextyear', '#holidays', '#Hashtag', '#Portland', '#hashtagoftheweek', '#endoftheyear', '#FeelingTerrified', '#fblogger', '#realisticgoals', '#PayItForward', '#americanmusclecar', '#setthebarhigh', '#ivory', '#winning', '#toys', '#honesty', '#NextYear', '#retina', '#fitlife', '#webdevelopment', '#TWISF', '#NoMoreRumps', '#herestome', '#postive', '#summerbodies', '#lol', '#work', '#wine', '#annoyed', '#cheating', '#InsurgentYear', '#pointless', '#Lent', '#IComeHereTooMuch', '#NEWYEARSRESOLUTION', '#seafood', '#newme', '#indicators', '#2k15goals', '#canon', '#local', '#mountain', '#RockinEve', '#getfit', '#Music', '#phillyfit', '#GoalsFor2015', '#2015GonnaBeMyYear', '#np', '#HomeImprovement', '#cuban', '#orgasmdenial', '#Health', '#Italy', '#tyteshit', '#NeedACleverHashtag', '#fitspo', '#heart', '#enoughisenough', '#gimme', '#stressfree', '#Preds', '#Camas', '#golf', '#onthatgymgrind', '#SouthAfrica', '#followme', '#SDG', '#naps', '#subscribe', '#MyHeadHurts', '#haha', '#EveryoneMatters', '#gift', '#Buffy', '#Livehealthy', '#TheHobbit', '#BlueLivesMatter', '#YourLate', '#p90', '#bubblewrap', '#fitnessmotivation', '#FITGodsWay', '#tattoo', '#Relationships', '#nobodiesbusiness', '#SorryNotSorry', '#NotRealBowling', '#9', '#ripped', '#ColoradoSprings', '#vibes', '#Bacon', '#ELJames', '#wildchild', '#skinnyjeansbestfriend', '#inspired', '#Instagram', '#boyrusher', '#Arizona', '#healthiswealth', '#weightraining', '#20ThingsIWantFor2015', '#lordoftherings', '#sing', '#again', '#wastingtime', '#AreYouTheOne', '#youtube', '#FMR', '#tcot', '#mondayblogs', '#notabadidea', '#IwantIN', '#morehandwrittennotes', '#2014', '#goodbyepast', '#undone', '#ThisStopsToday', '#party', '#2015resolutions', '#CASHFLOW', '#it', '#lifetime', '#more', '#EndBullying', '#80', '#school', '#NoRagrets', '#playhard', '#SoUpset', '#chickenlegs', '#nodaysoff', '#LongHairDontCare', '#simple', '#LiveLife', '#nocreditcarddebt', '#RiseandGrind', '#iOS8', '#bodylife', '#Ana', '#lofi', '#thenforevermore', '#newpromises', '#javascript', '#hotyoga', '#vaping', '#promisespromises', '#crocheting', '#overthinking', '#3', '#FL', '#MakingADifference', '#catproblems', '#mealprep', '#godbless', '#TixWish', '#play', '#HopeForTheCity', '#HD', '#wish', '#mombiz', '#dayone', '#BeHappy', '#php', '#art', '#400v8', '#funny', '#realtalk', '#Itsthattimeofyear', '#tweets', '#Beatitudes', '#strong', '#BigChopPart25', '#resolution', '#thankful2014', '#boehnermustgo', '#detoxworkshop', '#iPhone6', '#conquer', '#livingforlove', '#IThinkYes', '#fitness', '#NewYears', '#ready', '#resolutioncomplete', '#Family', '#mightnothappen', '#Significance', '#tweet', '#TaughtMeWell', '#ZeroWaste2015', '#TheYoungOGProject', '#gymlife', '#film', '#Jesus', '#Metal', '#StopTalkinStartDoin', '#Goals', '#idontneedyou', '#Goodbye2014', '#SlipperySlope', '#Cancer', '#Drama', '#keepingitsimp', '#weddingetiquette', '#LeelahAlcorn', '#NewSeason', '#celebration', '#JkNotReally', '#Pleasesayitsnotso', '#writng', '#bringiton2015', '#HappyHumpDay', '#allnapsallthetime', '#career', '#SoCal', '#wednesdaywisdom', '#startuplife', '#whodey', '#startTODAY', '#entrepreneurship', '#eatgoodlookgood', '#notsorry', '#MojoHand', '#donation', '#Hello2015', '#thoughtsfor2015', '#RandomThoughts', '#vagabondprobs', '#winterrunning', '#stories', '#aimhigh', '#smiles', '#begreat', '#1080p', '#nike2015', '#FixSociety', '#workitout', '#StJamesPlaindealer', '#READY', '#Crunch', '#domoreart', '#EatSleepPartyRepeat', '#exercisestatus', '#newauthor', '#byuvocalpoint', '#NewMan', '#workoutorwalkout', '#bacon', '#NewYea', '#BlahBlahBlah', '#notabadthing', '#growth', '#37', '#skinny', '#ultrachat', '#kaynewest', '#reversehipster', '#DoYouWantIn', '#tampa', '#FatManProblems', '#DDNewYearSweeps', '#reinventyourself', '#nurselife', '#hailee', '#127243', '#thankful', '#justkidding', '#iwillwalk500miles', '#painandgain', '#sticktoit', '#bc', '#socialmedia', '#Fitness', '#blogging', '#read', '#workoutathome', '#Changes', '#newyearsdiet', '#purge', '#5K', '#motivatedmonday', '#selfimprovement', '#noshade', '#healthyliving', '#FangirlProblems', '#pretentious', '#seeya', '#publishing', '#14', '#influence', '#StriveForGreatness', '#workouts', '#strugglestreet', '#2fit2quit', '#tax', '#backstage', '#sriracha', '#YOGA', '#Redwoodcanaopytours', '#SharksHeadline', '#friends', '#writing', '#BerlinWall', '#Comedy', '#NYResolutionsBroken', '#drinkmorewater', '#FollowMeAaron', '#beats', '#ChristmasAlone', '#KICresolutions', '#AchievableGoals', '#Boehner', '#Amazing', '#nomorechew', '#MTV', '#hope', '#christmastime', '#BookNerdProbs', '#TrendingNow', '#PitbullNYE', '#comics', '#ButWhosCounting', '#Draw', '#motivated', '#starbswiththegirls', '#ColorfulCountdown', '#InboxZero', '#gymmotivation', '#nevertoomuch', '#jesusyear', '#realworld', '#piyo', '#lovethissong', '#startnow', '#SaveWater', '#Unstoppable', '#GoogleCar', '#seehowlongthislasts', '#FitFluential', '#change', '#goodwill', '#women', '#prayer', '#6', '#bookaddiction', '#betteryourself', '#my', '#YEEYEE', '#fml', '#MakeItHappen', '#newyearnewme', '#LessonsForLife', '#passion', '#phillyyoga', '#Christ', '#LESSFACEBOOK', '#asseenontv', '#saranwrap', '#4', '#win', '#maybe', '#theGameChanger', '#Perfume', '#ThatIsAll', '#dedicated', '#fitfam', '#newyearsameme', '#543', '#CottonBowl', '#FAILED', '#ValentinesDay', '#amen', '#follobackforfolloback', '#KeepItMenace', '#jk', '#splits', '#TwitterFans', '#livfit', '#truestory', '#kinkynewyearsresolutions', '#maths', '#Blessed2015', '#NASPAshares', '#nomnom', '#runsolution', '#ferguson', '#40weeks', '#TaylorSwift', '#LifeIsShort', '#theYearOf', '#FailedResolutions', '#OneWord365', '#tiger', '#worthit', '#Paris', '#timetogetserious', '#ChuckCJohnson', '#bebettereveryday', '#Democrats', '#organic', '#yeahright', '#pics', '#sickofallthehate', '#8bit', '#canigetaamen', '#seattle', '#findgod', '#fuck', '#5', '#NewYearsHealth', '#miniaturedonkey', '#running', '#yuck', '#noresolutions', '#motivation', '#SeemsRealistic', '#CastleHunters', '#FuelUpFridays', '#loveit', '#fat', '#gayproblems', '#Christmas', '#nye', '#slowjuicer', '#procrastination', '#StayPositive', '#empath', '#can', '#excited', '#pound', '#eventing', '#scrum', '#donteven', '#curves', '#nomeat', '#2015HereWeCome', '#Entrepreneur', '#PartyLikeAJournalist', '#StephTurns40', '#thatisall', '#TexasMusic', '#home', '#isthataweirdresolution', '#healthygamer', '#LAfitness', '#homedesign', '#neverworthmytime', '#stillquiethours', '#doh', '#BeastMode', '#judgmental', '#newyearnewjoy', '#boo', '#science', '#emojis', '#workingmoms', '#everyday_Ù', '#bday', '#nervo', '#dropthebabyweight', '#3YearsSodaSober', '#GOP', '#Fuck', '#Hillsong', '#getout', '#OutbackBowl', '#LetGo', '#Resolutions', '#acting', '#iphone', '#skinnydreams', '#Funny', '#reading', '#pityparty', '#TrainHard', '#equestrian', '#smile', '#MerryChristmasEve', '#oomf', '#ThisOneIncluded', '#wwwblogs', '#HILOVERS', '#BeKind', '#Newjob', '#hooping', '#GettingWorkDone', '#Frozen', '#OnlyAtSouthern', '#NPCteennationals', '#FredericChopin', '#life', '#GamersUnite', '#records', '#WordOfTheDay', '#easyMoney', '#MoreActionMike', '#gymrat', '#fatkid', '#photo', '#ATTCrowd', '#SanaTumagal', '#thatwaseasy', '#ImAddicted', '#goals', '#WordsToLiveBy', '#preachestruth', '#GoBeavs', '#2am', '#FreshFade', '#fail', '#tbt', '#dropthediet', '#chastity', '#realisticresolutions', '#NewYearsResolution', '#RealCocktail', '#keepitsimple', '#LGM', '#ijustneedsleep', '#God', '#LostGirl', '#StartingtoSave', '#GymTime', '#Peace', '#GrumpKing', '#NewYearsResolutions', '#stoked', '#planetfittness', '#actuallystickingtoit', '#EpicFail', '#FursuitFriday', '#worklife', '#watercolors', '#keepitreal', '#travel', '#PatientHM', '#yourewelcome', '#NewYear', '#cosplay', '#Marry', '#Gratitude', '#n', '#MediaLife', '#mathchat', '#shutitdown', '#LostHistory', '#crosscountry', '#feelingmotivated', '#bucketlist', '#godslovechats', '#topic', '#Yankees', '#Transit', '#milliondollarbaby', '#Getup', '#BITW', '#NamTlknBout', '#newyearsresolution', '#livelarge', '#confident', '#bigbootyhoe', '#thankyou', '#cliche', '#positive', '#agameofthrones', '#babysteps', '#ForReal', '#gamers', '#CorpGov', '#justice', '#FingersCrossed', '#iwokeuplikethis', '#crack', '#kickstarter2015', '#Altanta', '#eosrebelt5', '#BOOMCorps', '#AgentsofSHIELD', '#meditation', '#webdesign', '#whyamidoingthis', '#NoMoreStressin', '#goal', '#ew', '#Church', '#fatyear', '#healthy', '#Happy2015', '#TheoreticallyPossible', '#almostthere', '#itsaprobl', '#lactoseintoleranceproblems', '#smashed', '#future', '#OilPaints', '#SmileMore', '#untilithurts', '#literaryagents', '#NewYearsDay', '#healthyteeth', '#Journo', '#dedication', '#beachbody', '#Temper', '#GetFit2015', '#support', '#paleo', '#2k15', '#hunting', '#kinky', '#scratchthatone', '#stayingFIT', '#patience', '#photography', '#MyHugeAss', '#Ne', '#planking', '#JimHarbaugh', '#ChuckCJohnsonPoopedOnTheFloor', '#DietPepsi', '#newyearseve', '#partytime', '#lootpack', '#oralhistory', '#innovativelife', '#debatable', '#DietStartsTomorrow', '#year', '#beautifulmind', '#Its2015', '#Personal', '#Organized', '#BlackLivesMatter', '#ducks', '#bringiton', '#bobsburgers', '#DoSomethingEveryDay', '#MondayBlogs', '#vegetarian', '#NewyearsResolution', '#quoteoftheday', '#ornah', '#Weightlossgoals', '#herewecome', '#LincolnCity', '#missionaccomplished', '#God1St', '#LeanAndMean2015', '#Iwil', '#kindness', '#imagirl', '#AllIAskFor', '#Christianity', '#fit', '#relateable', '#lowcarb', '#PersonalDevelopment', '#anime', '#rave', '#personalgrowth', '#NeverSeenaHiddlestonMovie', '#Flourish', '#Fight', '#BjorkItOut', '#sowhat', '#IDGAF', '#focus', '#forTheWorld', '#write', '#dominatrix', '#Ps4', '#HeathagensTakeOnRoma', '#hardtask', '#teacherproblems', '#Hairstylist', '#lmfao', '#cannabis', '#writestuff', '#gossip', '#dietinjanuary', '#literaryagencies', '#workout', '#BabySteps', '#ResolutionsFor2015', '#NewYearsResolu', '#java', '#happy', '#escape', '#recipes', '#Excited', '#LessFacebook', '#freshstart', '#HipHop', '#adoptarescue', '#getafterit', '#twitter', '#frappucino', '#Gem', '#Exercise', '#NikkiManaj', '#storyofmylife', '#helpme', '#orgasms', '#Lifestyle', '#TheMaster', '#Cowboys', '#champagneyogi', '#smokefree', '#NeedLotsOfShoes', '#BRTrend', '#fuckyou', '#andwhat', '#thelist', '#fitandhealthy', '#MyFitnessPal', '#WorkoutMotivation', '#ltthimanyways', '#healthylifestyle', '#happylife', '#doiteveryday', '#keepingitsimple', '#resolutions', '#foolsomeofthepeoplesomeofthetime', '#eatclean', '#identity', '#NewYearsResoluti', '#2015ready', '#MotherTeresa', '#getbig', '#ChristmasMiracle', '#dontmakeitworse', '#twitterbootstrap', '#LotsOSkinProblemsSuddenly', '#MyFavoriteFunnyGirl', '#moms', '#Resolution', '#WAHM', '#WontLast', '#quote', '#whatsnext', '#JK', '#Fergforever', '#eatmore', '#LastSaturday', '#MeantToBeBroken', '#newyears', '#GreatStartTo2015', '#NewYearsRe', '#lotr', '#16', '#TWFanmily', '#BillCosby', '#love', '#motivational', '#JustBecause', '#forgiveness', '#HappyMonday', '#NoBlamingOrComplaining', '#MovingOn', '#humblebrag', '#newyear', '#ChooseWisely', '#tryingtofitin', '#Gym', '#exercise', '#livelifehappy', '#Giants', '#CarrieUnderwoodsLegs', '#closetfatties', '#liveit', '#weed', '#overmycapacity', '#HopeThisOneComesTrue', '#DumbAssPeople', '#BigMac', '#knightsofCydonia', '#lotsofmakeup', '#stillinbed', '#dontfumble', '#LifeUntapped', '#mealplan', '#dobro', '#creative', '#justforme', '#mississippi', '#NoLove', '#JG', '#Remo', '#everything', '#REALROSSTALK', '#cantfail', '#FrantasticMonday', '#liveandlearn', '#mindfulliving', '#HashTagofTheWeek', '#SuccessfulDay', '#morning', '#8glassesaday', '#dogs', '#eww', '#what', '#ordinarylife', '#Elephants', '#realestate', '#fighting', '#History', '#AgeOfUltron', '#WishfulThinking', '#birthday', '#breakingupwithH', '#21DayFix', '#letsdothis', '#ChimneySweep', '#facebook', '#BadBitchesOnly', '#WordstoLiveBy', '#Repost', '#1u', '#datingadvice', '#bae', '#adult', '#Cliche', '#doingresolutionsright', '#weightwatchers', '#WakeandBake', '#DSED', '#McConnell', '#sp', '#mortgage', '#juice', '#newplans', '#kiakey', '#EternalSadness', '#fun', '#GrumpyCat', '#senryu', '#Pinterest', '#icanteven', '#starving', '#tacos', '#beawesome', '#onedrive', '#jointhefamily', '#2015WillBeTheYear', '#lovelife', '#StayAwwsome', '#lowcal', '#R2DChallenge', '#blessed', '#BattleOfTheExes2', '#selfcontrol', '#evolution', '#runnerspace', '#shawshankRedemption', '#Etudes', '#candycrush', '#SonomaCounty', '#FatGuyProblems', '#dietneverstarted', '#Netflix', '#selfcare', '#twilight', '#aremadeinthewinter', '#careerpath', '#mindfulness', '#ChangeTheCulture', '#supplements', '#soexcited', '#Hope', '#pinklemonade', '#icecream', '#NightofTheLivingDead', '#badforyourbrain', '#myoffice', '#iknewmorethen', '#catchingup', '#music', '#miniaturecow', '#aspiringadmin', '#punku', '#picturebooks', '#GymWillBeNormalByFebruary', '#manolutions', '#thotful', '#healthyfornewyears', '#noprocastination', '#YouAreWorthIt', '#MakeaDifference', '#NewYou', '#motto', '#flatass', '#newyearsprobs', '#ballroomdancing', '#JesusChrist', '#wellread2015', '#BeBrave', '#WhoAmIKidding', '#ALittleHelpGod', '#AllForMe', '#regrets', '#goodchoices', '#Before2014Ends', '#BrightSide', '#folloback', '#passport', '#ourd', '#gym', '#laugh', '#havingitall', '#lovemychurch', '#nikeplus', '#NewYearsResolut', '#CarpeDiem', '#mindfood', '#curestupidity', '#ToughMudder2015', '#me', '#HorseRacing', '#mcconnelling', '#weightXozÌá2', '#pontiacfirebird', '#SendMeGiftCards', '#GrowtheMMR', '#RETWEEET', '#LesMills', '#dreamer', '#nonprofit', '#ProblemSolved', '#lifestyle', '#Toronto', '#Bye2014', '#AmIDoingThisRight', '#BringItOn2015', '#happyheart', '#gettingfit', '#NYResolutions', '#IWish', '#JiuJitsu', '#HereWeGo2015', '#GoPats', '#bestolutions', '#neworleans', '#wcw', '#figfit', '#polarvortex', '#partypooper', '#DadMadeMeDoThis', '#Streak32', '#gay', '#YouNeedaCar', '#CIALDINI2015', '#yoga', '#filmisnotdead', '#WomensHealth', '#ADE', '#strategy', '#AirJordan', '#CharlesCJohnson', '#skateboarding', '#gymstruggles', '#DizzyCares', '#HappyNewYear2015', '#Empire', '#SimpleEnough', '#run', '#CES', '#outOfMyWay', '#GotItFree', '#cat', '#hu', '#draw365', '#GETITDONE2015', '#karma', '#cheep', '#vinyl', '#BodyPump', '#Homeland', '#French', '#KickCancersButt', '#DAI', '#BET', '#KiddingMyself', '#lifegoals', '#Encouragement', '#tweettillihavenomorefriends', '#LovingLife', '#MarryMe', '#2015Goals', '#natural', '#2015Rocks', '#drawsomething', '#sagrad', '#smallbiz', '#disappointed', '#sorrynotsorry', '#theseareafewofmyfavoritethings', '#girlswholift', '#HelpOthers', '#FarmersMarket', '#SaveDallas2015', '#veterans', '#earlystart', '#TheWalkingDeadMarathon', '#changeswillbemade', '#newyearnewyou', '#newYearsResolution', '#marathon', '#steampunk', '#thought', '#iceblended', '#aspartame', '#Spanish', '#stessed', '#MaterialCulture', '#ponies', '#WestCoast', '#newdriver', '#laceup', '#YearsEndResolution', '#newyearskiss', '#SucceedandProceed', '#confessions', '#NewYearNewMe', '#StupidPeople', '#mindful', '#paleodiet', '#grumpyhuman', '#wypf', '#novelty', '#cybersecurity', '#NewYorkCity', '#BiOY', '#cardio', '#NoExcuses', '#MillionDollars', '#basicbitchshit', '#chsocm', '#boyfriend', '#tennis', '#N', '#musiclife', '#stonerproblems', '#BS', '#HIMYM', '#GoVegan', '#screenwriting', '#abouttime', '#Fit', '#chocolate', '#Math', '#SuccessStory', '#nye2015', '#letsgo', '#financialadvice', '#HisLifeNotMine', '#CheekToCheekTour', '#Hollywood', '#JavaScript', '#Copenhagen', '#justaddvodka', '#cats', '#purging', '#rebel', '#dreambody', '#newyorkcityrooftop', '#HillsongLA', '#NewYearsRes', '#selfhelp', '#FollowTheFrog', '#nonegativity', '#BeBackSoon', '#bebrave', '#4life', '#GetFitNaturally', '#vacation', '#NawImSayin', '#thatsapromise', '#TakingBackMyLife', '#C25K', '#vodka', '#dancerprobs', '#beautiful', '#KennedyCenterHonors', '#aGirlNeedsCosmetics', '#Bicycles', '#HappyNewYear', '#awkwardandiknowit', '#MyThirties', '#Happy', '#priorities', '#Jere', '#Successful', '#CKOKickboxing', '#skinny2015', '#share', '#tedtalk', '#drinkmoreh20', '#Growth', '#MyOasisLA', '#ItsTheThoughtThatCounts', '#amwritingfantasy', '#GodWilling', '#exo', '#firstdayof2015', '#Hurom', '#Happiness', '#StallionBOOTY', '#getinshape', '#cleaneating', '#MakeMoney', '#news8at4', '#movies', '#singlelife', '#starttheyearright', '#HowIMetYourMother', '#startup', '#rucklesluts', '#mikehardlemonade', '#TheStruggle', '#KindleVoyage', '#FatChance', '#FunFact', '#nomakeup', '#angularjs', '#success', '#entrepreneur', '#auspol', '#Milk', '#amwriting', '#AlSharpton', '#Followback', '#Gamedev', '#HealthyLiving', '#thrive', '#KansasCityRoyals', '#SHBAM', '#20', '#Booyah', '#HailState', '#NewYearNewYou', '#classic', '#TriviaCrack', '#ballet', '#taxes', '#Hashtagoftheweek', '#MoreCats', '#TakeOver', '#TrainLikeAPro', '#dancertweets', '#finance', '#RealEstate', '#CatLyfe', '#Chicago', '#365', '#countdownto2015', '#awesome', '#ad', '#2015bucketlist', '#hair', '#healthyfood', '#JanuaryJones', '#debate', '#dsma', '#MileyCyrus', '#hesfat', '#Maybe', '#editing', '#they', '#362', '#1', '#fitbit', '#prodomme', '#blog', '#IggyAzalea', '#Parents', '#GirlProbs', '#StartsTonight_Ù', '#ItsMyLife', '#bepositive', '#bibchat', '#believe', '#sodafree2015', '#amreading', '#Thedrunkening', '#Drumkits', '#husband', '#newyears2015', '#Change', '#toneUP', '#bestladsever', '#15PoundsToGo', '#dads', '#Graceful', '#mynewbackground', '#NewYearsSix', '#MUSICMATTERS', '#23', '#Midnight', '#LOTR', '#AsaPa', '#battleropes', '#business', '#personalfinance', '#pinkprint', '#inspiration', '#retweet', '#HappyNewYearEve', '#smoking', '#focusisme', '#PositiveThoughts', '#cook', '#GetFit', '#woodhana', '#HashtagOfTheWeek', '#12Days', '#thestruggle', '#Gods', '#illdobetter', '#eathealthier', '#quitsmoking', '#health', '#NYE', '#EverySimpsonsEver', '#letmehelpyou', '#NotarizedBET', '#keepitsilly', '#YeahRight', '#TheGreatestOfThese', '#gaydaddy', '#flotrack', '#platinum', '#detox', '#TwoDetroits', '#YAWN', '#NewYearNewMeSteps', '#lt', '#fierce', '#TSA', '#nohaters', '#do', '#new', '#goodbusiness', '#job', '#checkoutmyvine', '#legacy', '#sarasotalifestyle', '#colonics', '#OOC', '#starttoday', '#diet', '#futurist', '#LaceUp', '#1and0', '#flygirls', '#ugh', '#i', '#BBBH', '#yucky', '#FaceBook', '#Iwantobehip', '#colorfulplate', '#madlib', '#LetsMakeItAGoodOne', '#StargateSG1', '#progress', '#FollowMeBackFrankie', '#gethealthy', '#CountdownTo2015', '#Facebook', '#animalsanctuary', '#sopositive', '#actors', '#icandothis', '#mantra', '#athlete', '#GoBucks', '#netflix', '#LetsGoRoyals', '#sachat', '#ByeFelicia', '#postbabybody', '#LiveitTeachit', '#Creative', '#cleancar', '#worldseries', '#actuallyhappening', '#letsseewhathappens', '#marathontraining', '#CountOurBlessingOneByOne', '#nerds', '#BrandNew', '#german', '#vape', '#sugarfree', '#smokeweed', '#Veganuary', '#57', '#wellness', '#Joke', '#technology', '#writerlife', '#makeuptransformation', '#chipotle', '#GenYNot', '#NYR', '#LoveThisMoment', '#ouch', '#failed', '#RP', '#vegetarianism', '#chickens', '#fbf', '#web', '#nycarts', '#aiminghigh', '#money', '#NewYear2015', '#NoRegrets', '#fuckyallimgoinghome', '#plexus', '#checkup', '#Virgos', '#Kardashians', '#Lockup', '#weightloss', '#SettingTheBarLow', '#morepatient', '#insperation', '#itsgonnahappen', '#DoYou', '#productive', '#nashschristmaskit', '#switchgear', '#HGTVNewYear', '#MyMotivation', '#sneakers', '#500in2015', '#nurse', '#techumor', '#cholesterol', '#confidence', '#FamilyFirst', '#289', '#LessDrama', '#m', '#KenyaQuotes', '#loveoneanother', '#day', '#Muppets', '#FEELSLIKEHEAVEN', '#Leadership', '#secondfitness', '#31days', '#happiness', '#studentaffairs', '#comeon2015', '#JaneTheVirgin', '#becomingresponsible', '#ywnhnetwork', '#WINNER', '#eatclean2015', '#FoxNews2015', '#partypartyparty', '#StarWars', '#yeslawd', '#SHB', '#weighttraining', '#bulletjournal', '#NewBeginnings', '#budget', '#Blendedroyalty', '#grinding', '#imtoooldforthisshit', '#HappyNewYearEverybody', '#MaybeLater', '#cleanse', '#breakup', '#DustinSnapchatsIn2015', '#GotTooTan', '#363', '#NewMe', '#HNY2015', '#yogabutt', '#lifelongresolution', '#truth', '#healthier', '#soundtrack', '#goingstrong', '#ErrrdayResolution', '#Marketing', '#justwaitonit', '#hereicome', '#newbeginning', '#gaming', '#Florida', '#ProjectLife', '#emyth', '#HashtagoftheWeek', '#NorthMiamiBeach', '#BringIt2015', '#crowdsource', '#OneMoreBirthday', '#sobored', '#KenMasters', '#MuayThai', '#yougotthatright', '#Plastic', '#RobinKimmerer', '#Ashtanga', '#getreadytodie', '#Rusolution', '#writerslife', '#virtualcleanup', '#GameOfThrones', '#yearofthesmile', '#newbeginnings', '#runchat', '#JustSayin', '#LetItGoLetItGo', '#NewYearsEve', '#TheresAlwaysAPlanB', '#ThePowerOfPositivePartying', '#dslr', '#1problem', '#newbierunners', '#magicmike', '#BJJ', '#Anyway', '#358', '#binging', '#Yoga', '#mybestfriendswedding', '#Focus', '#LessStress', '#FuelTheFire', '#TMI', '#2015goals', '#quit', '#200DaysWithoutRayBan', '#proana', '#edpolicy', '#ecigs', '#terminatorgenisys', '#Run', '#takeout', '#moving', '#sportsbiz', '#iowa', '#Taken3', '#donotdisturb', '#notopants', '#streamchallenge', '#GODWILLING', '#ImpeachObama', '#lift', '#keepingconsistent', '#hamptonality', '#MeghanTrainor', '#AllAboutMe', '#3w2s', '#Wilson', '#Dreamer', '#NewYearsresolution', '#Twitter', '#glutenfree', '#LoseWeight', '#DRIVEN', '#EDM', '#save', '#DontSkipLegDay', '#kingdomhearts', '#YOTC', '#hentai', '#ChistmasEveCrossfit', '#hgtvroseparade', '#TheyreComingToGetYouBarbara', '#trending', '#dreambig', '#10', '#Catholic', '#GettingOn', '#CrackRehab', '#ToDoList', '#coffee', '#productivity', '#overrated', '#NewYears2015', '#badcreditscore', '#TreatingMyselfRight', '#Eathealthy', '#stronger2015', '#GaTech', '#T25', '#church', '#BrazilianJiuJitsu', '#DDPYoga', '#mompreneur', '#buffythevampireslayer', '#polo', '#Money', '#SharkTank', '#wishfulthinking', '#ShareTheLove', '#wordoftheyear', '#foryourenjoyment', '#toomuch', '#Oregon', '#EverydayCounts', '#championshipmind', '#DoingGreatThings', '#almostdone', '#PunIntended', '#help', '#nofilter', '#HealthyNewYear', '#SocialMedia', '#Life', '#Newyearsresolution', '#deepthoughts', '#18', '#quiet', '#GetRiped', '#dogslife', '#cloudstorage', '#youonlyliveonce', '#thankyounetflix', '#Fangirl'}\n",
            "1735\n"
          ],
          "name": "stdout"
        }
      ]
    },
    {
      "cell_type": "code",
      "metadata": {
        "id": "_Z52jOoIc8DX",
        "colab_type": "code",
        "colab": {}
      },
      "source": [
        "porter = nltk.PorterStemmer()\n",
        "\n",
        "# Remove all stopwords, non-alphabet words (except spaces), and stem the words\n",
        "for i, row in enumerate(data[:,6]):\n",
        "    row = row.lower()\n",
        "    row = ''.join(char for char in row if char.isalpha() or char == ' ')\n",
        "    row = ' '.join(porter.stem(word) for word in row.split() if word not in stopwords)\n",
        "    data[i,6] = row\n",
        "\n",
        "# Create a long string of ALL words, then token them, and create a frequency distribution\n",
        "actualWords = ' '.join(token for sentence in data[:,6] for token in sentence.split())\n",
        "#tokens = nltk.word_tokenize(actualWords)\n",
        "tokens = actualWords.split()\n",
        "fd = nltk.FreqDist(tokens)\n"
      ],
      "execution_count": 0,
      "outputs": []
    },
    {
      "cell_type": "code",
      "metadata": {
        "colab_type": "code",
        "id": "wMSGwZrGnsz5",
        "colab": {}
      },
      "source": [
        "word_features = [word for (word, count) in fd.most_common(2000)]\n",
        "\n",
        "# Compares the words of a specfic tweet with the top 2000 most-used words\n",
        "def tweet_features(tweet):\n",
        "    tweet_words = set(tweet)\n",
        "    features = {}\n",
        "    for word in word_features:\n",
        "        features['contains(%s)' % word] = (word in tweet_words)\n",
        "    return features\n",
        "\n",
        "\"\"\" \n",
        "Creates tuples with a vector containing boolean values depending on whether\n",
        "or not the word is in the tweet - along with the label of the tweet.\n",
        "\"\"\"\n",
        "size = 1000\n",
        "featuresets = [(tweet_features(d.split()), c) for (d,c) in zip(data[:size,6], data[:size,2])] # column 6 is text data, column 2 is gender data\n",
        "train_set, test_set = featuresets[size//2:], featuresets[:size//2]\n",
        "classifier = nltk.NaiveBayesClassifier.train(train_set)"
      ],
      "execution_count": 0,
      "outputs": []
    },
    {
      "cell_type": "code",
      "metadata": {
        "id": "QGxzNW7Jdnkn",
        "colab_type": "code",
        "outputId": "a37f634a-40d1-4168-e4e3-b749efd50269",
        "colab": {
          "base_uri": "https://localhost:8080/",
          "height": 221
        }
      },
      "source": [
        "print(nltk.classify.accuracy(classifier, test_set))\n",
        "classifier.show_most_informative_features(10)"
      ],
      "execution_count": 6,
      "outputs": [
        {
          "output_type": "stream",
          "text": [
            "0.55\n",
            "Most Informative Features\n",
            "        contains(weight) = True           female : male   =      4.1 : 1.0\n",
            "             contains(ù) = True           female : male   =      4.0 : 1.0\n",
            "          contains(come) = True             male : female =      3.9 : 1.0\n",
            "          contains(much) = True           female : male   =      3.6 : 1.0\n",
            "         contains(everi) = True           female : male   =      3.5 : 1.0\n",
            "         contains(bitch) = True             male : female =      3.2 : 1.0\n",
            "       contains(problem) = True             male : female =      3.2 : 1.0\n",
            "         contains(watch) = True             male : female =      3.2 : 1.0\n",
            "        contains(finish) = True             male : female =      3.2 : 1.0\n",
            "        contains(resolv) = True             male : female =      3.2 : 1.0\n"
          ],
          "name": "stdout"
        }
      ]
    },
    {
      "cell_type": "code",
      "metadata": {
        "id": "b2RcCHH4f5YB",
        "colab_type": "code",
        "colab": {}
      },
      "source": [
        "bigrm = list(nltk.ngrams(tokens, 2))\n",
        "fdbigrm = nltk.FreqDist(bigrm)\n"
      ],
      "execution_count": 0,
      "outputs": []
    },
    {
      "cell_type": "code",
      "metadata": {
        "colab_type": "code",
        "id": "tLzbcMATnqxK",
        "colab": {}
      },
      "source": [
        "word_features = list(fdbigrm.keys())[:2000]\n",
        "\n",
        "def tweet_features(tweet):\n",
        "    tweet_words = set(tweet)\n",
        "    features = {}\n",
        "    for word in word_features:\n",
        "        features[f'contains({word})'] = (word in tweet_words)\n",
        "    return features\n",
        "size = 1000\n",
        "featuresets = [(tweet_features(nltk.ngrams(d.split(), 2)), c) for (d,c) in zip(data[:size,6], data[:size,2])] # column 6 is text data, column 2 is gender data\n",
        "train_set, test_set = featuresets[size//2:], featuresets[:size//2]\n",
        "classifier = nltk.NaiveBayesClassifier.train(train_set)"
      ],
      "execution_count": 0,
      "outputs": []
    },
    {
      "cell_type": "code",
      "metadata": {
        "id": "ORt2vo69pTLH",
        "colab_type": "code",
        "outputId": "2c8fbbed-4b23-4057-9a94-c577ac270414",
        "colab": {
          "base_uri": "https://localhost:8080/",
          "height": 221
        }
      },
      "source": [
        "print(nltk.classify.accuracy(classifier, test_set))\n",
        "classifier.show_most_informative_features(10)"
      ],
      "execution_count": 9,
      "outputs": [
        {
          "output_type": "stream",
          "text": [
            "0.564\n",
            "Most Informative Features\n",
            "contains(('goal', 'newyearsresolut')) = True           female : male   =      2.8 : 1.0\n",
            "contains(('newyearsresolut', 'stop')) = True           female : male   =      2.5 : 1.0\n",
            "contains(('newyearsresolut', 'make')) = True             male : female =      2.5 : 1.0\n",
            "contains(('year', 'new')) = True             male : female =      2.5 : 1.0\n",
            "contains(('year', 'newyearsresolut')) = True             male : female =      2.3 : 1.0\n",
            "contains(('resolut', 'stop')) = True           female : male   =      2.0 : 1.0\n",
            "contains(('newyearsresolut', 'keep')) = True             male : female =      1.8 : 1.0\n",
            "contains(('better', 'person')) = True             male : female =      1.8 : 1.0\n",
            "  contains(('im', 'go')) = True             male : female =      1.8 : 1.0\n",
            "contains(('resolv', 'eat')) = True             male : female =      1.8 : 1.0\n"
          ],
          "name": "stdout"
        }
      ]
    },
    {
      "cell_type": "code",
      "metadata": {
        "id": "hkCun1ExqVEX",
        "colab_type": "code",
        "outputId": "f76fadbb-7b6b-4edd-8daa-3be2f3938d7a",
        "colab": {
          "base_uri": "https://localhost:8080/",
          "height": 34
        }
      },
      "source": [
        "'newyearsresolution' in stopwords"
      ],
      "execution_count": 10,
      "outputs": [
        {
          "output_type": "execute_result",
          "data": {
            "text/plain": [
              "False"
            ]
          },
          "metadata": {
            "tags": []
          },
          "execution_count": 10
        }
      ]
    },
    {
      "cell_type": "code",
      "metadata": {
        "id": "FKsY-EyFrOt0",
        "colab_type": "code",
        "colab": {}
      },
      "source": [
        ""
      ],
      "execution_count": 0,
      "outputs": []
    },
    {
      "cell_type": "code",
      "metadata": {
        "id": "oQbeOyVQuAf8",
        "colab_type": "code",
        "colab": {}
      },
      "source": [
        ""
      ],
      "execution_count": 0,
      "outputs": []
    }
  ]
}