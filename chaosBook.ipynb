{
  "nbformat": 4,
  "nbformat_minor": 0,
  "metadata": {
    "colab": {
      "name": "chaosBook.ipynb",
      "provenance": [],
      "collapsed_sections": [],
      "toc_visible": true
    },
    "kernelspec": {
      "name": "python3",
      "display_name": "Python 3"
    }
  },
  "cells": [
    {
      "cell_type": "code",
      "metadata": {
        "id": "8M2sbI5Acnrh",
        "colab_type": "code",
        "outputId": "af27f717-a5e0-4553-8a54-8fc9acc34ab8",
        "colab": {
          "base_uri": "https://localhost:8080/",
          "height": 34
        }
      },
      "source": [
        "! git clone https://github.com/kaspergroenbek98/first-first-year-project.git"
      ],
      "execution_count": 7,
      "outputs": [
        {
          "output_type": "stream",
          "text": [
            "fatal: destination path 'first-first-year-project' already exists and is not an empty directory.\n"
          ],
          "name": "stdout"
        }
      ]
    },
    {
      "cell_type": "code",
      "metadata": {
        "id": "k-mYQqynljhN",
        "colab_type": "code",
        "colab": {}
      },
      "source": [
        "### Functions and import calls\n",
        "\n",
        "import numpy as np\n",
        "import nltk\n",
        "import csv\n",
        "import nltk\n",
        "import re\n",
        "from collections import Counter\n",
        "\n",
        "### START OF VOCABULARY ###\n",
        "def generate_vocabulary(data, fCol, vocabType):\n",
        "    '''\n",
        "    Returns a list/vocabulary of len <= \"size\" based on the vocabType and the featureColumn specified\n",
        "    '''\n",
        "    size = 2000\n",
        "    # Only get large groups to get representative data\n",
        "    major_features = np.array(nltk.FreqDist(data[:,fCol]).most_common(5))\n",
        "    major_masks = np.array([data[:,fCol] == f for (f, cnt) in major_features])\n",
        "    fqs = [tweet_word_distribution(data[mask,:]) for mask in major_masks]\n",
        "    return list(vocabType(data, fCol, major_features, major_masks, fqs, size))\n",
        "\n",
        "def vocab_feature_most_common(data, fCol, major_features, major_masks, fqs, size):\n",
        "    '''\n",
        "    Returns a vocabulary checklist for each tweet to check off (True/False).\n",
        "    Prioritises the most common words for each feature\n",
        "    '''\n",
        "    vocabulary = set()\n",
        "    # get the most common words in each freq dist. zip(*...) removes the counts from fd, and updates vocabulary ONLY with the words\n",
        "    for fd in fqs:\n",
        "        vocabulary.update(list(zip(*fd.most_common(size//len(major_features))))[0])\n",
        "    return vocabulary\n",
        "\n",
        "def vocab_feature_unique(data, fCol, major_features, major_masks, fqs, size):\n",
        "    '''\n",
        "    Returns a vocabulary checklist for each tweet to check off (True/False).\n",
        "    Prioritises words which are uncommon in other features, but common in one feature\n",
        "    '''\n",
        "    major_mask = np.array(major_masks.sum(axis=0), dtype='bool')\n",
        "    fq = tweet_word_distribution(data[major_mask,:]) # Get a fq over the words used by all in the major categories\n",
        "    words = [word for (word, cnt) in fq.items() if cnt >= 20] # removes rarely mentioned words which probably arent indicative of a significant trend\n",
        "    priorityArray = []\n",
        "    for i, word in enumerate(words):\n",
        "        priorityArray.append([word])\n",
        "        #divide frequency of word in that state by the tweetcount from that state, and by how often that word is used in total by all states\n",
        "        score = max(fqs[fID][word]/(int(major_features[fID][1])*fq[word]) for fID in range(len(major_masks)))\n",
        "        priorityArray[i].append(score)\n",
        "    priorityArray.sort(key = lambda x: x[1], reverse=True) # Sort them based on their best score\n",
        "    vocabulary = zip(*priorityArray[:size])[0] # Removes their scores\n",
        "    return vocabulary\n",
        "### END OF VOCABULARY ###\n",
        "    \n",
        "def identify_hashtags(data):\n",
        "    col = np.zeros((data.shape[0],1), 'str')\n",
        "    data = np.append(data, col, axis=1)\n",
        "    for i, text in enumerate(data[:,6]):\n",
        "        results = re.findall(r\"#\\w+\", text) # Finds matches and returns them as an iterable\n",
        "        if results:\n",
        "            data[i,15] = ' '.join(results)\n",
        "        else:\n",
        "            data[i,15] = ''\n",
        "\n",
        "def tweet_features(tweet, word_features):\n",
        "    tweet_words = set(tweet)\n",
        "    features = {}\n",
        "    for word in word_features:\n",
        "        features[f'contains({word})'] = (word in tweet_words)\n",
        "    return features\n",
        "\n",
        "def divide_featureset(feature):\n",
        "    '''\n",
        "    Divides numpy featureset of (featureVector, classification) into a 80:10:10 train:dev:test set\n",
        "    '''\n",
        "    testSize = int(len(feature)*0.8)\n",
        "    train, rest = feature[:testSize], feature[testSize:]\n",
        "    restSize = len(rest)//2\n",
        "    dev, test = rest[:restSize], rest[restSize:]\n",
        "    return train, dev, test\n",
        "\n",
        "def clean(data):\n",
        "    porter = nltk.PorterStemmer()\n",
        "\n",
        "    # Remove all stopwords, non-alphabet words (except spaces), and stem the words\n",
        "    for i, row in enumerate(data[:,6]):\n",
        "        row = row.lower()\n",
        "        row = ''.join(char for char in row if char.isalpha() or char == ' ')\n",
        "        row = ' '.join(porter.stem(word) for word in row.split() if word not in stopwords)\n",
        "        data[i,6] = row\n",
        "\n",
        "def tweet_word_distribution(data):\n",
        "    # Split each sentence into tokens, and create a frequency distribution\n",
        "    tokens = [token for sentence in data[:,6] for token in sentence.split()]\n",
        "    fd = nltk.FreqDist(tokens)\n",
        "    return fd\n",
        "\n",
        "def generate_features(data, vocabulary, fCol):\n",
        "    \"\"\" \n",
        "    Creates tuples with a vector containing boolean values depending on whether\n",
        "    or not the word is in the tweet - along with the label of the tweet.\n",
        "    \"\"\"\n",
        "    features = [(tweet_features(d.split(), vocabulary), c) for (d,c) in zip(data[:,6], data[:,fCol])] # column 6 is text data, column 2 is gender data\n",
        "    return features"
      ],
      "execution_count": 0,
      "outputs": []
    },
    {
      "cell_type": "code",
      "metadata": {
        "id": "qgUqeGED4LM3",
        "colab_type": "code",
        "outputId": "562136f0-1d0a-447c-f0cf-ffaab94b0d97",
        "colab": {
          "base_uri": "https://localhost:8080/",
          "height": 153
        }
      },
      "source": [
        "nltk.download('punkt')\n",
        "nltk.download('stopwords')\n",
        "stopwords = set(nltk.corpus.stopwords.words('english'))\n",
        "\n",
        "# Read the data into a header and a data np.array - the array is then shuffled\n",
        "with open('first-first-year-project/data.csv', encoding='latin1') as csv_file:\n",
        "    csv_reader = csv.reader(csv_file, delimiter=',')\n",
        "    data = np.array([np.array(line) for line in csv_reader])\n",
        "header, data = data[0,:], data[1:,:]\n",
        "np.random.shuffle(data)\n",
        "print(header)\n",
        "\n",
        "# Identify hashtags and insert them in the 15th column\n",
        "identify_hashtags(data)\n",
        "print(data.shape) # Note that shape starts at 1 and ends at 16, so the interval is [0:15]"
      ],
      "execution_count": 9,
      "outputs": [
        {
          "output_type": "stream",
          "text": [
            "[nltk_data] Downloading package punkt to /root/nltk_data...\n",
            "[nltk_data]   Package punkt is already up-to-date!\n",
            "[nltk_data] Downloading package stopwords to /root/nltk_data...\n",
            "[nltk_data]   Package stopwords is already up-to-date!\n",
            "['other_topic' 'resolution_topics' 'gender' 'name' 'Resolution_Category'\n",
            " 'retweet_count' 'text' 'tweet_coord' 'tweet_created' 'tweet_date'\n",
            " 'tweet_id' 'tweet_location' 'tweet_state' 'user_timezone' 'tweet_region']\n",
            "(5011, 15)\n"
          ],
          "name": "stdout"
        }
      ]
    },
    {
      "cell_type": "code",
      "metadata": {
        "id": "_Z52jOoIc8DX",
        "colab_type": "code",
        "colab": {}
      },
      "source": [
        "clean(data)\n",
        "fCol = {'gender':2, 'Resolution_Category':4, 'tweet_state':12, 'hashtags':15} # Dont think hashtags work right now\n",
        "vocabType = [vocab_feature_most_common, vocab_feature_unique][0] #Pick one by replacing the number in [int]\n",
        "vocabulary =         generate_vocabulary(data, fCol['tweet_state'], vocabType)\n",
        "features = generate_features(data, vocabulary, fCol['tweet_state'])\n",
        "train, dev, test = divide_featureset(features)"
      ],
      "execution_count": 0,
      "outputs": []
    },
    {
      "cell_type": "code",
      "metadata": {
        "colab_type": "code",
        "id": "wMSGwZrGnsz5",
        "outputId": "c3064609-f213-490f-db9c-0d2aadc343f3",
        "colab": {
          "base_uri": "https://localhost:8080/",
          "height": 221
        }
      },
      "source": [
        "classifier = nltk.NaiveBayesClassifier.train(train)\n",
        "print(nltk.classify.accuracy(classifier, dev))\n",
        "classifier.show_most_informative_features(10)"
      ],
      "execution_count": 11,
      "outputs": [
        {
          "output_type": "stream",
          "text": [
            "0.1377245508982036\n",
            "Most Informative Features\n",
            "          contains(quit) = True               ND : CA     =    149.8 : 1.0\n",
            "          contains(cute) = True               MT : CA     =    119.8 : 1.0\n",
            "          contains(date) = True               MT : CA     =    119.8 : 1.0\n",
            "        contains(hahaha) = True               MT : CA     =    119.8 : 1.0\n",
            "          contains(hous) = True               MT : CA     =    119.8 : 1.0\n",
            "          contains(easi) = True               DE : CA     =     99.8 : 1.0\n",
            "        contains(chocol) = True               DE : CA     =     99.8 : 1.0\n",
            "       contains(correct) = True               MT : NY     =     85.8 : 1.0\n",
            "         contains(write) = True               MT : NY     =     85.8 : 1.0\n",
            "           contains(may) = True               VT : CA     =     85.6 : 1.0\n"
          ],
          "name": "stdout"
        }
      ]
    },
    {
      "cell_type": "code",
      "metadata": {
        "id": "b2RcCHH4f5YB",
        "colab_type": "code",
        "outputId": "8f8893db-652d-4e44-f41f-29411ef73081",
        "colab": {
          "base_uri": "https://localhost:8080/",
          "height": 180
        }
      },
      "source": [
        "bigrm = list(nltk.ngrams(tokens, 2))\n",
        "fdbigrm = nltk.FreqDist(bigrm)\n"
      ],
      "execution_count": 12,
      "outputs": [
        {
          "output_type": "error",
          "ename": "NameError",
          "evalue": "ignored",
          "traceback": [
            "\u001b[0;31m---------------------------------------------------------------------------\u001b[0m",
            "\u001b[0;31mNameError\u001b[0m                                 Traceback (most recent call last)",
            "\u001b[0;32m<ipython-input-12-98f3064dea0d>\u001b[0m in \u001b[0;36m<module>\u001b[0;34m()\u001b[0m\n\u001b[0;32m----> 1\u001b[0;31m \u001b[0mbigrm\u001b[0m \u001b[0;34m=\u001b[0m \u001b[0mlist\u001b[0m\u001b[0;34m(\u001b[0m\u001b[0mnltk\u001b[0m\u001b[0;34m.\u001b[0m\u001b[0mngrams\u001b[0m\u001b[0;34m(\u001b[0m\u001b[0mtokens\u001b[0m\u001b[0;34m,\u001b[0m \u001b[0;36m2\u001b[0m\u001b[0;34m)\u001b[0m\u001b[0;34m)\u001b[0m\u001b[0;34m\u001b[0m\u001b[0;34m\u001b[0m\u001b[0m\n\u001b[0m\u001b[1;32m      2\u001b[0m \u001b[0mfdbigrm\u001b[0m \u001b[0;34m=\u001b[0m \u001b[0mnltk\u001b[0m\u001b[0;34m.\u001b[0m\u001b[0mFreqDist\u001b[0m\u001b[0;34m(\u001b[0m\u001b[0mbigrm\u001b[0m\u001b[0;34m)\u001b[0m\u001b[0;34m\u001b[0m\u001b[0;34m\u001b[0m\u001b[0m\n",
            "\u001b[0;31mNameError\u001b[0m: name 'tokens' is not defined"
          ]
        }
      ]
    },
    {
      "cell_type": "code",
      "metadata": {
        "colab_type": "code",
        "id": "tLzbcMATnqxK",
        "colab": {}
      },
      "source": [
        "word_features = list(fdbigrm.keys())[:2000]\n",
        "\n",
        "\n",
        "size = 1000\n",
        "featuresets = [(tweet_features(nltk.ngrams(d.split(), 2)), c) for (d,c) in zip(data[:size,6], data[:size,2])] # column 6 is text data, column 2 is gender data\n",
        "train_set, test_set = featuresets[size//2:], featuresets[:size//2]\n",
        "classifier = nltk.NaiveBayesClassifier.train(train_set)"
      ],
      "execution_count": 0,
      "outputs": []
    },
    {
      "cell_type": "code",
      "metadata": {
        "id": "Iz-ZHiSR5cLQ",
        "colab_type": "code",
        "colab": {}
      },
      "source": [
        "print(train[:1])"
      ],
      "execution_count": 0,
      "outputs": []
    },
    {
      "cell_type": "markdown",
      "metadata": {
        "id": "B31ntxQ2oRt-",
        "colab_type": "text"
      },
      "source": [
        "# Bad Word Implementation"
      ]
    },
    {
      "cell_type": "code",
      "metadata": {
        "id": "O6AunX_EoF-O",
        "colab_type": "code",
        "colab": {}
      },
      "source": [
        "import pandas as pd\n",
        "import itertools\n",
        "clean(data)\n",
        "np.random.shuffle(data)"
      ],
      "execution_count": 0,
      "outputs": []
    },
    {
      "cell_type": "code",
      "metadata": {
        "id": "ZPzajOR5oXG5",
        "colab_type": "code",
        "colab": {}
      },
      "source": [
        "bad_words_txt = pd.read_csv('first-first-year-project/bad-words.txt', sep='\\n',)\n",
        "bad_words_array = bad_words_txt.to_numpy()\n",
        "bad_words_list = bad_words_array.tolist()\n",
        "bad_words = list(itertools.chain(*bad_words_list))"
      ],
      "execution_count": 0,
      "outputs": []
    },
    {
      "cell_type": "code",
      "metadata": {
        "id": "Kr5p5Xs0od1-",
        "colab_type": "code",
        "colab": {}
      },
      "source": [
        "tweets_created = list(data[:,8])\n",
        "dates = [i.split(' ',1)[0] for i in tweets_created]\n",
        "times = [i.split(' ',1)[-1] for i in tweets_created]"
      ],
      "execution_count": 0,
      "outputs": []
    },
    {
      "cell_type": "code",
      "metadata": {
        "id": "kp9AK4z6on99",
        "colab_type": "code",
        "colab": {}
      },
      "source": [
        "fCol = {'gender':2, 'Resolution_Category':4, 'tweet_created':8, 'tweet_state':12, 'tweet_region':14, 'hashtags':15}"
      ],
      "execution_count": 0,
      "outputs": []
    },
    {
      "cell_type": "markdown",
      "metadata": {
        "id": "f5MT_aLbowDs",
        "colab_type": "text"
      },
      "source": [
        "## Bad words and Gender"
      ]
    },
    {
      "cell_type": "code",
      "metadata": {
        "id": "8Ckc99PYoqDB",
        "colab_type": "code",
        "colab": {}
      },
      "source": [
        "features2 = generate_features(data, bad_words, fCol['gender'])\n",
        "train2, dev2, test2 = divide_featureset(features2)"
      ],
      "execution_count": 0,
      "outputs": []
    },
    {
      "cell_type": "code",
      "metadata": {
        "id": "z6z5sKylozeJ",
        "colab_type": "code",
        "colab": {}
      },
      "source": [
        "classifier2 = nltk.NaiveBayesClassifier.train(train2)\n",
        "print(nltk.classify.accuracy(classifier2, dev2))\n",
        "classifier2.show_most_informative_features(15)"
      ],
      "execution_count": 0,
      "outputs": []
    },
    {
      "cell_type": "markdown",
      "metadata": {
        "id": "X-_5HBP1o6Ho",
        "colab_type": "text"
      },
      "source": [
        "## Bad words and Categories"
      ]
    },
    {
      "cell_type": "code",
      "metadata": {
        "id": "3MZrIe2Go0FT",
        "colab_type": "code",
        "colab": {}
      },
      "source": [
        "features3 = generate_features(data, bad_words, fCol['Resolution_Category'])\n",
        "train3, dev3, test3 = divide_featureset(features3)\n",
        "classifier3 = nltk.NaiveBayesClassifier.train(train3)\n",
        "print(nltk.classify.accuracy(classifier3, dev3))\n",
        "classifier3.show_most_informative_features(10)"
      ],
      "execution_count": 0,
      "outputs": []
    },
    {
      "cell_type": "markdown",
      "metadata": {
        "id": "TSpZm8KWpBmN",
        "colab_type": "text"
      },
      "source": [
        "## Bad words and Regions"
      ]
    },
    {
      "cell_type": "code",
      "metadata": {
        "id": "7QYADktCo_Jv",
        "colab_type": "code",
        "colab": {}
      },
      "source": [
        "features4 = generate_features(data, bad_words, fCol['tweet_region'])\n",
        "train4, dev4, test4 = divide_featureset(features4)\n",
        "classifier4 = nltk.NaiveBayesClassifier.train(train4)\n",
        "print(nltk.classify.accuracy(classifier4, dev4))\n",
        "classifier4.show_most_informative_features(10)"
      ],
      "execution_count": 0,
      "outputs": []
    },
    {
      "cell_type": "markdown",
      "metadata": {
        "id": "PnIzzNTRpHJy",
        "colab_type": "text"
      },
      "source": [
        "## Bad words and Dates"
      ]
    },
    {
      "cell_type": "code",
      "metadata": {
        "id": "To2TttQ1pGio",
        "colab_type": "code",
        "colab": {}
      },
      "source": [
        "#In progress: comparison of bad words and dates\n",
        "features5 = generate_features(data, bad_words, dates)\n",
        "train5, dev5, test5 = divide_featureset(features5)\n",
        "classifier5 = nltk.NaiveBayesClassifier.train(train5)\n",
        "print(nltk.classify.accuracy(classifier5, dev5))\n",
        "classifier5.show_most_informative_features(10)"
      ],
      "execution_count": 0,
      "outputs": []
    },
    {
      "cell_type": "code",
      "metadata": {
        "id": "Eb6BeHwZpMlA",
        "colab_type": "code",
        "colab": {}
      },
      "source": [
        "#In progress: creation of bad word bigrams \n",
        "tokens = [token for sentence in data[:,6] for token in sentence.split()]\n",
        "bigrams2 = list(nltk.ngrams(tokens, 2))\n",
        "fdbigrams2 = nltk.FreqDist(bigrams2)"
      ],
      "execution_count": 0,
      "outputs": []
    },
    {
      "cell_type": "code",
      "metadata": {
        "id": "17BsrQCwpPde",
        "colab_type": "code",
        "colab": {}
      },
      "source": [
        ""
      ],
      "execution_count": 0,
      "outputs": []
    },
    {
      "cell_type": "markdown",
      "metadata": {
        "id": "xTzpuDaQZxBz",
        "colab_type": "text"
      },
      "source": [
        "#**K-Fold implementation**"
      ]
    },
    {
      "cell_type": "code",
      "metadata": {
        "id": "RL1uHw7DtiRN",
        "colab_type": "code",
        "colab": {}
      },
      "source": [
        "# Data preperations, set all the relevant labels here\n",
        "np.random.shuffle(data)\n",
        "kf_fCol = {'gender':2, 'Resolution_Category':4, 'tweet_state':12, 'hashtags':15}\n",
        "kf_vocabType = [vocab_feature_most_common, vocab_feature_unique][0] #Pick one by replacing the number in [int]\n",
        "kf_vocabulary = generate_vocabulary(data, kf_fCol['gender'], kf_vocabType)\n",
        "kf_features = generate_features(data, vocabulary, fCol['gender'])\n",
        "\n",
        "\n",
        "kf_features_trim = kf_features[:200]"
      ],
      "execution_count": 0,
      "outputs": []
    },
    {
      "cell_type": "code",
      "metadata": {
        "id": "OgbMAIBlZ5vf",
        "colab_type": "code",
        "colab": {
          "base_uri": "https://localhost:8080/",
          "height": 119
        },
        "outputId": "269e999c-78c1-4ff6-f75c-12599a235130"
      },
      "source": [
        "# Import KFold model and define the amount of folds\n",
        "from sklearn.model_selection import KFold\n",
        "k = 5\n",
        "\n",
        "# Store an object of the KFold class in a variable with shuffle=True\n",
        "kf = KFold(n_splits=k, shuffle=True)\n",
        "\n",
        "# Loop for the models and their designated folds (1 to k)\n",
        "sum = 0\n",
        "iteration = 1\n",
        "for train, test in kf.split(kf_features):\n",
        "    train_data = np.array(kf_features)[train]\n",
        "    test_data = np.array(kf_features)[test]\n",
        "    classifier = nltk.NaiveBayesClassifier.train(train_data)\n",
        "    sum += nltk.classify.accuracy(classifier, test_data)\n",
        "    print(\"Iteration no.\", iteration)\n",
        "    iteration += 1\n",
        "\n",
        "# Average calculated by the sum divided by the number of folds\n",
        "average = sum/5\n",
        "print(\"The accuracy average of the K-fold models:\", average)"
      ],
      "execution_count": 33,
      "outputs": [
        {
          "output_type": "stream",
          "text": [
            "Iteration no. 1\n",
            "Iteration no. 2\n",
            "Iteration no. 3\n",
            "Iteration no. 4\n",
            "Iteration no. 5\n",
            "The accuracy average of the K-fold models: 0.5763288975389201\n"
          ],
          "name": "stdout"
        }
      ]
    },
    {
      "cell_type": "code",
      "metadata": {
        "id": "pcQn2adw2W8S",
        "colab_type": "code",
        "colab": {}
      },
      "source": [
        ""
      ],
      "execution_count": 0,
      "outputs": []
    }
  ]
}