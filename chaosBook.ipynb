{
  "nbformat": 4,
  "nbformat_minor": 0,
  "metadata": {
    "colab": {
      "name": "chaosBook.ipynb",
      "provenance": [],
      "collapsed_sections": [],
      "toc_visible": true,
      "include_colab_link": true
    },
    "kernelspec": {
      "name": "python3",
      "display_name": "Python 3"
    }
  },
  "cells": [
    {
      "cell_type": "markdown",
      "metadata": {
        "id": "view-in-github",
        "colab_type": "text"
      },
      "source": [
        "<a href=\"https://colab.research.google.com/github/kaspergroenbek98/first-first-year-project/blob/master/chaosBook.ipynb\" target=\"_parent\"><img src=\"https://colab.research.google.com/assets/colab-badge.svg\" alt=\"Open In Colab\"/></a>"
      ]
    },
    {
      "cell_type": "code",
      "metadata": {
        "id": "8M2sbI5Acnrh",
        "colab_type": "code",
        "outputId": "d29e154b-7a8c-4a46-cce0-71342f0dd36b",
        "colab": {
          "base_uri": "https://localhost:8080/",
          "height": 34
        }
      },
      "source": [
        "! git clone https://github.com/kaspergroenbek98/first-first-year-project.git"
      ],
      "execution_count": 0,
      "outputs": [
        {
          "output_type": "stream",
          "text": [
            "fatal: destination path 'first-first-year-project' already exists and is not an empty directory.\n"
          ],
          "name": "stdout"
        }
      ]
    },
    {
      "cell_type": "code",
      "metadata": {
        "id": "k-mYQqynljhN",
        "colab_type": "code",
        "outputId": "0d123544-b48b-4265-9aad-7fd072bad8cc",
        "colab": {
          "base_uri": "https://localhost:8080/",
          "height": 136
        }
      },
      "source": [
        "import numpy as np\n",
        "import nltk\n",
        "import csv\n",
        "import nltk\n",
        "import re\n",
        "\n",
        "def vocab_state_common(data):\n",
        "    '''\n",
        "    Returns a vocabulary checklist for each tweet to check off (True/False).\n",
        "    Prioritises the most common words in a state\n",
        "    '''\n",
        "    size = 2000//5\n",
        "    big_states = Counter(data[:,12]).most_common(5)\n",
        "    vocabulary = set()\n",
        "    for (state, cnt) in big_states:\n",
        "        mask = (data[:,12] == state)\n",
        "        state_data = data[mask,:]\n",
        "        _, fd = token_distr(state_data)\n",
        "        vocabulary.update( word for (word, cnt) in fd.most_common(size) )\n",
        "    return vocabulary\n",
        "\n",
        "def vocab_state_unique(data):\n",
        "    '''\n",
        "    Returns a vocabulary checklist for each tweet to check off (True/False).\n",
        "    Prioritises words which are uncommon in other states, but common in one state\n",
        "    '''\n",
        "    size = 2000\n",
        "    big_states = np.array(Counter(data[:,12]).most_common(5))\n",
        "    state_masks = np.array([data[:,12] == state for (state, cnt) in big_states])\n",
        "    state_mask = np.array(state_masks.sum(axis=0), dtype='bool')\n",
        "    print(state_mask)\n",
        "    state_data = data[state_mask,:]\n",
        "    tokens, fq = token_distr(state_data)\n",
        "    words = [word for (word, cnt) in fq.items() if cnt >= 20] # removes rarely mentioned words which probably arent indicative of a significant trend\n",
        "    fqs = [token_distr(data[mask,:])[1] for mask in state_masks]\n",
        "    priorityArray = []\n",
        "    print(state_data[:,6])\n",
        "    for i, word in enumerate(words):\n",
        "        priorityArray.append([word])\n",
        "        #divide frequency of word in that state by the tweetcount from that state, and by how often that word is used in total by all states\n",
        "        score = max(fqs[state][word]/(int(big_states[state][1])*fq[word]) for state in range(5))\n",
        "        priorityArray[i].append(score)\n",
        "    priorityArray.sort(key = lambda x: x[1], reverse=True)\n",
        "    vocabulary = priorityArray[:2000]\n",
        "    return vocabulary\n",
        "    \n",
        "def identify_hashtags(data):\n",
        "    col = np.zeros((data.shape[0],1), 'str')\n",
        "    data = np.append(data, col, axis=1)\n",
        "    for i, text in enumerate(data[:,6]):\n",
        "        results = re.findall(r\"#\\w+\", text) # Finds matches and returns them as an iterable\n",
        "        if results:\n",
        "            data[i,15] = ' '.join(results)\n",
        "        else:\n",
        "            data[i,15] = ''\n",
        "\n",
        "def tweet_features(tweet, word_features):\n",
        "    tweet_words = set(tweet)\n",
        "    features = {}\n",
        "    for word in word_features:\n",
        "        features[f'contains({word})'] = (word in tweet_words)\n",
        "    return features\n",
        "\n",
        "def divide_featureset(feature):\n",
        "    '''\n",
        "    Divides numpy featureset of (featureVector, classification) into a 80:10:10 train:dev:test set\n",
        "    '''\n",
        "    testSize = int(len(feature)*0.8)\n",
        "    train, rest = feature[:testSize], feature[testSize:]\n",
        "    restSize = len(rest)//2\n",
        "    dev, test = rest[:restSize], rest[restSize:]\n",
        "    return train, dev, test\n",
        "\n",
        "\n",
        "def clean(data):\n",
        "    porter = nltk.PorterStemmer()\n",
        "\n",
        "    # Remove all stopwords, non-alphabet words (except spaces), and stem the words\n",
        "    for i, row in enumerate(data[:,6]):\n",
        "        row = row.lower()\n",
        "        row = ''.join(char for char in row if char.isalpha() or char == ' ')\n",
        "        row = ' '.join(porter.stem(word) for word in row.split() if word not in stopwords)\n",
        "        data[i,6] = row\n",
        "\n",
        "def token_distr(data):\n",
        "    # Create a long string of ALL words, then token them, and create a frequency distribution\n",
        "    actualWords = ' '.join(token for sentence in data[:,6] for token in sentence.split())\n",
        "    tokens = actualWords.split()\n",
        "    fd = nltk.FreqDist(tokens)\n",
        "    return tokens, fd\n",
        "\n",
        "def generate_features(data, fd):\n",
        "    word_features = [word for (word, count) in fd.most_common(2000)]\n",
        "    \"\"\" \n",
        "    Creates tuples with a vector containing boolean values depending on whether\n",
        "    or not the word is in the tweet - along with the label of the tweet.\n",
        "    \"\"\"\n",
        "    features = [(tweet_features(d.split(), word_features), c) for (d,c) in zip(data[:,6], data[:,2])] # column 6 is text data, column 2 is gender data\n",
        "    return features\n",
        "\n",
        "nltk.download('punkt')\n",
        "nltk.download('stopwords')\n",
        "stopwords = set(nltk.corpus.stopwords.words('english'))\n",
        "\n",
        "# Read the data into a header and a data np.array - the array is then shuffled\n",
        "with open('first-first-year-project/data.csv', encoding='latin1') as csv_file:\n",
        "    csv_reader = csv.reader(csv_file, delimiter=',')\n",
        "    data = np.array([np.array(line) for line in csv_reader])\n",
        "header, data = data[0,:], data[1:,:]\n",
        "\n",
        "print(header)\n"
      ],
      "execution_count": 0,
      "outputs": [
        {
          "output_type": "stream",
          "text": [
            "[nltk_data] Downloading package punkt to /root/nltk_data...\n",
            "[nltk_data]   Package punkt is already up-to-date!\n",
            "[nltk_data] Downloading package stopwords to /root/nltk_data...\n",
            "[nltk_data]   Package stopwords is already up-to-date!\n",
            "['other_topic' 'resolution_topics' 'gender' 'name' 'Resolution_Category'\n",
            " 'retweet_count' 'text' 'tweet_coord' 'tweet_created' 'tweet_date'\n",
            " 'tweet_id' 'tweet_location' 'tweet_state' 'user_timezone' 'tweet_region']\n"
          ],
          "name": "stdout"
        }
      ]
    },
    {
      "cell_type": "code",
      "metadata": {
        "id": "qgUqeGED4LM3",
        "colab_type": "code",
        "outputId": "614f31b1-bc22-4650-a96d-3619b92ab61d",
        "colab": {
          "base_uri": "https://localhost:8080/",
          "height": 34
        }
      },
      "source": [
        "# Identify hashtags and insert them in the 15th column\n",
        "identify_hashtags(data)\n",
        "print(data.shape) # Note that shape starts at 1 and ends at 16, so the interval is [0:15]"
      ],
      "execution_count": 0,
      "outputs": [
        {
          "output_type": "stream",
          "text": [
            "(5011, 15)\n"
          ],
          "name": "stdout"
        }
      ]
    },
    {
      "cell_type": "code",
      "metadata": {
        "id": "_Z52jOoIc8DX",
        "colab_type": "code",
        "colab": {}
      },
      "source": [
        "clean(data)\n",
        "tokens, fd = token_distr(data)\n",
        "features = generate_features(data, fd)\n",
        "train, dev, test = divide_featureset(features)"
      ],
      "execution_count": 0,
      "outputs": []
    },
    {
      "cell_type": "code",
      "metadata": {
        "colab_type": "code",
        "id": "wMSGwZrGnsz5",
        "outputId": "d00e5053-eae0-4af3-cf77-db81c4408fbc",
        "colab": {
          "base_uri": "https://localhost:8080/",
          "height": 221
        }
      },
      "source": [
        "classifier = nltk.NaiveBayesClassifier.train(train)\n",
        "print(nltk.classify.accuracy(classifier, dev))\n",
        "classifier.show_most_informative_features(10)"
      ],
      "execution_count": 0,
      "outputs": [
        {
          "output_type": "stream",
          "text": [
            "0.5528942115768463\n",
            "Most Informative Features\n",
            "          contains(join) = True             male : female =     11.9 : 1.0\n",
            "          contains(pray) = True           female : male   =      7.3 : 1.0\n",
            "          contains(name) = True             male : female =      6.8 : 1.0\n",
            "         contains(catch) = True             male : female =      6.1 : 1.0\n",
            "       contains(tixwish) = True           female : male   =      5.9 : 1.0\n",
            "        contains(bigger) = True             male : female =      5.5 : 1.0\n",
            "       contains(basebal) = True             male : female =      5.5 : 1.0\n",
            "        contains(youtub) = True             male : female =      5.5 : 1.0\n",
            " contains(mlbpaclubhous) = True             male : female =      5.3 : 1.0\n",
            "         contains(chanc) = True           female : male   =      5.2 : 1.0\n"
          ],
          "name": "stdout"
        }
      ]
    },
    {
      "cell_type": "code",
      "metadata": {
        "id": "b2RcCHH4f5YB",
        "colab_type": "code",
        "colab": {}
      },
      "source": [
        "bigrm = list(nltk.ngrams(tokens, 2))\n",
        "fdbigrm = nltk.FreqDist(bigrm)\n"
      ],
      "execution_count": 0,
      "outputs": []
    },
    {
      "cell_type": "code",
      "metadata": {
        "colab_type": "code",
        "id": "tLzbcMATnqxK",
        "colab": {}
      },
      "source": [
        "word_features = list(fdbigrm.keys())[:2000]\n",
        "\n",
        "\n",
        "size = 1000\n",
        "featuresets = [(tweet_features(nltk.ngrams(d.split(), 2)), c) for (d,c) in zip(data[:size,6], data[:size,2])] # column 6 is text data, column 2 is gender data\n",
        "train_set, test_set = featuresets[size//2:], featuresets[:size//2]\n",
        "classifier = nltk.NaiveBayesClassifier.train(train_set)"
      ],
      "execution_count": 0,
      "outputs": []
    },
    {
      "cell_type": "code",
      "metadata": {
        "id": "ORt2vo69pTLH",
        "colab_type": "code",
        "colab": {}
      },
      "source": [
        "print(nltk.classify.accuracy(classifier, test_set))\n",
        "classifier.show_most_informative_features(10)"
      ],
      "execution_count": 0,
      "outputs": []
    },
    {
      "cell_type": "code",
      "metadata": {
        "id": "hkCun1ExqVEX",
        "colab_type": "code",
        "colab": {}
      },
      "source": [
        "'newyearsresolution' in stopwords"
      ],
      "execution_count": 0,
      "outputs": []
    },
    {
      "cell_type": "code",
      "metadata": {
        "id": "FKsY-EyFrOt0",
        "colab_type": "code",
        "colab": {}
      },
      "source": [
        ""
      ],
      "execution_count": 0,
      "outputs": []
    },
    {
      "cell_type": "code",
      "metadata": {
        "id": "oQbeOyVQuAf8",
        "colab_type": "code",
        "colab": {}
      },
      "source": [
        ""
      ],
      "execution_count": 0,
      "outputs": []
    }
  ]
}