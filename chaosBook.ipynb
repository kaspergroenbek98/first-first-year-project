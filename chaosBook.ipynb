{
  "nbformat": 4,
  "nbformat_minor": 0,
  "metadata": {
    "colab": {
      "name": "chaosBook.ipynb",
      "provenance": [],
      "collapsed_sections": [],
      "toc_visible": true
    },
    "kernelspec": {
      "name": "python3",
      "display_name": "Python 3"
    }
  },
  "cells": [
    {
      "cell_type": "code",
      "metadata": {
        "id": "8M2sbI5Acnrh",
        "colab_type": "code",
        "outputId": "eaecdf4a-5edf-48e5-dec8-47eb9fd4f94d",
        "colab": {
          "base_uri": "https://localhost:8080/",
          "height": 34
        }
      },
      "source": [
        "! git clone https://github.com/kaspergroenbek98/first-first-year-project.git"
      ],
      "execution_count": 4,
      "outputs": [
        {
          "output_type": "stream",
          "text": [
            "fatal: destination path 'first-first-year-project' already exists and is not an empty directory.\n"
          ],
          "name": "stdout"
        }
      ]
    },
    {
      "cell_type": "code",
      "metadata": {
        "id": "k-mYQqynljhN",
        "colab_type": "code",
        "outputId": "d36a5f81-65b8-4f80-ec4f-9db1715a4b8f",
        "colab": {
          "base_uri": "https://localhost:8080/",
          "height": 134
        }
      },
      "source": [
        "import numpy as np\n",
        "import nltk\n",
        "import csv\n",
        "import nltk\n",
        "#from nltk.corpus import stopwords\n",
        "nltk.download('punkt')\n",
        "nltk.download('stopwords')\n",
        "stopwords = set(stopwords.words('english'))\n",
        "\n",
        "\n",
        "# Read the data into a header and a data np.array\n",
        "with open('first-first-year-project/data.csv', encoding='latin1') as csv_file:\n",
        "    csv_reader = csv.reader(csv_file, delimiter=',')\n",
        "    data = np.array([np.array(line) for line in csv_reader])\n",
        "header, data = data[0,:], data[1:,:]\n",
        "print(header)"
      ],
      "execution_count": 5,
      "outputs": [
        {
          "output_type": "stream",
          "text": [
            "[nltk_data] Downloading package punkt to /root/nltk_data...\n",
            "[nltk_data]   Unzipping tokenizers/punkt.zip.\n",
            "[nltk_data] Downloading package stopwords to /root/nltk_data...\n",
            "[nltk_data]   Unzipping corpora/stopwords.zip.\n",
            "['other_topic' 'resolution_topics' 'gender' 'name' 'Resolution_Category'\n",
            " 'retweet_count' 'text' 'tweet_coord' 'tweet_created' 'tweet_date'\n",
            " 'tweet_id' 'tweet_location' 'tweet_state' 'user_timezone' 'tweet_region']\n"
          ],
          "name": "stdout"
        }
      ]
    },
    {
      "cell_type": "code",
      "metadata": {
        "id": "_Z52jOoIc8DX",
        "colab_type": "code",
        "colab": {}
      },
      "source": [
        "porter = nltk.PorterStemmer()\n",
        "\n",
        "# Remove all stopwords, non-alphabet words (except spaces), and stem the words\n",
        "for i, row in enumerate(data[:,6]):\n",
        "    row = row.lower()\n",
        "    row = ''.join(char for char in row if char.isalpha() or char == ' ')\n",
        "    row = ' '.join(porter.stem(word) for word in row.split() if word not in stopwords)\n",
        "    data[i,6] = row\n",
        "\n",
        "# Create a long string of ALL words, then token them, and create a frequency distribution\n",
        "actualWords = ' '.join(token for sentence in data[:,6] for token in sentence.split())\n",
        "tokens = nltk.word_tokenize(actualWords)\n",
        "fd = nltk.FreqDist(tokens)\n"
      ],
      "execution_count": 0,
      "outputs": []
    },
    {
      "cell_type": "code",
      "metadata": {
        "colab_type": "code",
        "id": "wMSGwZrGnsz5",
        "colab": {}
      },
      "source": [
        "word_features = [word for (word, count) in fd.most_common(2000)]\n",
        "\n",
        "def document_features(document):\n",
        "    document_words = set(document)\n",
        "    features = {}\n",
        "    for word in word_features:\n",
        "        features['contains(%s)' % word] = (word in document_words)\n",
        "    return features\n",
        "size = 1000\n",
        "featuresets = [(document_features(d.split()), c) for (d,c) in zip(data[:size,6], data[:size,-1])] # column 6 is text data, column 2 is gender data\n",
        "train_set, test_set = featuresets[size//2:], featuresets[:size//2]\n",
        "classifier = nltk.NaiveBayesClassifier.train(train_set)"
      ],
      "execution_count": 0,
      "outputs": []
    },
    {
      "cell_type": "code",
      "metadata": {
        "id": "QGxzNW7Jdnkn",
        "colab_type": "code",
        "outputId": "0d12f8e4-7f1a-4177-8aa6-fd2f073839cd",
        "colab": {
          "base_uri": "https://localhost:8080/",
          "height": 218
        }
      },
      "source": [
        "print(nltk.classify.accuracy(classifier, test_set))\n",
        "classifier.show_most_informative_features(10)"
      ],
      "execution_count": 8,
      "outputs": [
        {
          "output_type": "stream",
          "text": [
            "0.284\n",
            "Most Informative Features\n",
            "          contains(want) = True           Midwes : South  =      5.8 : 1.0\n",
            "         contains(happi) = True           Northe : South  =      5.6 : 1.0\n",
            "          contains(diet) = True           Northe : West   =      5.1 : 1.0\n",
            "  contains(happynewyear) = True           Midwes : South  =      5.1 : 1.0\n",
            "         contains(thing) = True           Midwes : West   =      4.7 : 1.0\n",
            "         contains(bitch) = True           Northe : South  =      4.5 : 1.0\n",
            "          contains(best) = True           Northe : Midwes =      4.5 : 1.0\n",
            " contains(mlbpaclubhous) = True           Midwes : South  =      4.4 : 1.0\n",
            "           contains(nye) = True           Northe : West   =      4.2 : 1.0\n",
            "           contains(let) = True           Midwes : Northe =      4.1 : 1.0\n"
          ],
          "name": "stdout"
        }
      ]
    },
    {
      "cell_type": "code",
      "metadata": {
        "id": "b2RcCHH4f5YB",
        "colab_type": "code",
        "colab": {}
      },
      "source": [
        "bigrm = list(nltk.ngrams(tokens, 2))\n",
        "fdbigrm = nltk.FreqDist(bigrm)\n"
      ],
      "execution_count": 0,
      "outputs": []
    },
    {
      "cell_type": "code",
      "metadata": {
        "colab_type": "code",
        "id": "tLzbcMATnqxK",
        "colab": {}
      },
      "source": [
        "word_features = list(fdbigrm.keys())[:2000]\n",
        "\n",
        "def document_features(document):\n",
        "    document_words = set(document)\n",
        "    features = {}\n",
        "    for word in word_features:\n",
        "        features[f'contains({word})'] = (word in document_words)\n",
        "    return features\n",
        "size = 1000\n",
        "featuresets = [(document_features(nltk.ngrams(d.split(), 2)), c) for (d,c) in zip(data[:size,6], data[:size,-1])] # column 6 is text data, column 2 is gender data\n",
        "train_set, test_set = featuresets[size//2:], featuresets[:size//2]\n",
        "classifier = nltk.NaiveBayesClassifier.train(train_set)"
      ],
      "execution_count": 0,
      "outputs": []
    },
    {
      "cell_type": "code",
      "metadata": {
        "id": "ORt2vo69pTLH",
        "colab_type": "code",
        "outputId": "83238319-da2f-4fdf-b51d-e6df01554afb",
        "colab": {
          "base_uri": "https://localhost:8080/",
          "height": 218
        }
      },
      "source": [
        "print(nltk.classify.accuracy(classifier, test_set))\n",
        "classifier.show_most_informative_features(10)"
      ],
      "execution_count": 11,
      "outputs": [
        {
          "output_type": "stream",
          "text": [
            "0.264\n",
            "Most Informative Features\n",
            "contains(('newyearsresolut', 'happynewyear')) = True           Midwes : South  =      3.9 : 1.0\n",
            "contains(('newyearsresolut', 'get')) = True            South : Northe =      3.7 : 1.0\n",
            "contains(('newyearsresolut', 'stay')) = True           Midwes : West   =      3.6 : 1.0\n",
            "contains(('newyearsresolut', 'becom')) = True            South : West   =      3.4 : 1.0\n",
            "contains(('newyearsresolut', 'make')) = True           Northe : West   =      3.2 : 1.0\n",
            "contains(('newyearsresolut', 'go')) = True             West : Northe =      3.1 : 1.0\n",
            "contains(('year', 'resolut')) = True             West : Northe =      3.0 : 1.0\n",
            "contains(('newyearsev', 'newyearsresolut')) = True           Midwes : South  =      2.8 : 1.0\n",
            "contains(('new', 'year')) = True             West : Northe =      2.5 : 1.0\n",
            "contains(('newyearsresolut', 'stop')) = True           Midwes : West   =      2.4 : 1.0\n"
          ],
          "name": "stdout"
        }
      ]
    },
    {
      "cell_type": "code",
      "metadata": {
        "id": "hkCun1ExqVEX",
        "colab_type": "code",
        "outputId": "3c88fda8-e4fd-44d5-d37e-a5cb6eca335f",
        "colab": {
          "base_uri": "https://localhost:8080/",
          "height": 34
        }
      },
      "source": [
        "'newyearsresolution' in stopwords"
      ],
      "execution_count": 12,
      "outputs": [
        {
          "output_type": "execute_result",
          "data": {
            "text/plain": [
              "False"
            ]
          },
          "metadata": {
            "tags": []
          },
          "execution_count": 12
        }
      ]
    },
    {
      "cell_type": "code",
      "metadata": {
        "id": "FKsY-EyFrOt0",
        "colab_type": "code",
        "colab": {}
      },
      "source": [
        ""
      ],
      "execution_count": 0,
      "outputs": []
    },
    {
      "cell_type": "code",
      "metadata": {
        "id": "oQbeOyVQuAf8",
        "colab_type": "code",
        "colab": {}
      },
      "source": [
        ""
      ],
      "execution_count": 0,
      "outputs": []
    }
  ]
}