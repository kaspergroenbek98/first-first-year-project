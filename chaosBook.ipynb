{
  "nbformat": 4,
  "nbformat_minor": 0,
  "metadata": {
    "colab": {
      "name": "chaosBook.ipynb",
      "provenance": [],
      "collapsed_sections": [],
      "toc_visible": true
    },
    "kernelspec": {
      "name": "python3",
      "display_name": "Python 3"
    }
  },
  "cells": [
    {
      "cell_type": "code",
      "metadata": {
        "id": "8M2sbI5Acnrh",
        "colab_type": "code",
        "outputId": "c9008d3d-d1e9-42d2-a314-af9e4be4d64c",
        "colab": {
          "base_uri": "https://localhost:8080/",
          "height": 119
        }
      },
      "source": [
        "! git clone https://github.com/kaspergroenbek98/first-first-year-project.git"
      ],
      "execution_count": 1,
      "outputs": [
        {
          "output_type": "stream",
          "text": [
            "Cloning into 'first-first-year-project'...\n",
            "remote: Enumerating objects: 73, done.\u001b[K\n",
            "remote: Counting objects:   1% (1/73)\u001b[K\rremote: Counting objects:   2% (2/73)\u001b[K\rremote: Counting objects:   4% (3/73)\u001b[K\rremote: Counting objects:   5% (4/73)\u001b[K\rremote: Counting objects:   6% (5/73)\u001b[K\rremote: Counting objects:   8% (6/73)\u001b[K\rremote: Counting objects:   9% (7/73)\u001b[K\rremote: Counting objects:  10% (8/73)\u001b[K\rremote: Counting objects:  12% (9/73)\u001b[K\rremote: Counting objects:  13% (10/73)\u001b[K\rremote: Counting objects:  15% (11/73)\u001b[K\rremote: Counting objects:  16% (12/73)\u001b[K\rremote: Counting objects:  17% (13/73)\u001b[K\rremote: Counting objects:  19% (14/73)\u001b[K\rremote: Counting objects:  20% (15/73)\u001b[K\rremote: Counting objects:  21% (16/73)\u001b[K\rremote: Counting objects:  23% (17/73)\u001b[K\rremote: Counting objects:  24% (18/73)\u001b[K\rremote: Counting objects:  26% (19/73)\u001b[K\rremote: Counting objects:  27% (20/73)\u001b[K\rremote: Counting objects:  28% (21/73)\u001b[K\rremote: Counting objects:  30% (22/73)\u001b[K\rremote: Counting objects:  31% (23/73)\u001b[K\rremote: Counting objects:  32% (24/73)\u001b[K\rremote: Counting objects:  34% (25/73)\u001b[K\rremote: Counting objects:  35% (26/73)\u001b[K\rremote: Counting objects:  36% (27/73)\u001b[K\rremote: Counting objects:  38% (28/73)\u001b[K\rremote: Counting objects:  39% (29/73)\u001b[K\rremote: Counting objects:  41% (30/73)\u001b[K\rremote: Counting objects:  42% (31/73)\u001b[K\rremote: Counting objects:  43% (32/73)\u001b[K\rremote: Counting objects:  45% (33/73)\u001b[K\rremote: Counting objects:  46% (34/73)\u001b[K\rremote: Counting objects:  47% (35/73)\u001b[K\rremote: Counting objects:  49% (36/73)\u001b[K\rremote: Counting objects:  50% (37/73)\u001b[K\rremote: Counting objects:  52% (38/73)\u001b[K\rremote: Counting objects:  53% (39/73)\u001b[K\rremote: Counting objects:  54% (40/73)\u001b[K\rremote: Counting objects:  56% (41/73)\u001b[K\rremote: Counting objects:  57% (42/73)\u001b[K\rremote: Counting objects:  58% (43/73)\u001b[K\rremote: Counting objects:  60% (44/73)\u001b[K\rremote: Counting objects:  61% (45/73)\u001b[K\rremote: Counting objects:  63% (46/73)\u001b[K\rremote: Counting objects:  64% (47/73)\u001b[K\rremote: Counting objects:  65% (48/73)\u001b[K\rremote: Counting objects:  67% (49/73)\u001b[K\rremote: Counting objects:  68% (50/73)\u001b[K\rremote: Counting objects:  69% (51/73)\u001b[K\rremote: Counting objects:  71% (52/73)\u001b[K\rremote: Counting objects:  72% (53/73)\u001b[K\rremote: Counting objects:  73% (54/73)\u001b[K\rremote: Counting objects:  75% (55/73)\u001b[K\rremote: Counting objects:  76% (56/73)\u001b[K\rremote: Counting objects:  78% (57/73)\u001b[K\rremote: Counting objects:  79% (58/73)\u001b[K\rremote: Counting objects:  80% (59/73)\u001b[K\rremote: Counting objects:  82% (60/73)\u001b[K\rremote: Counting objects:  83% (61/73)\u001b[K\rremote: Counting objects:  84% (62/73)\u001b[K\rremote: Counting objects:  86% (63/73)\u001b[K\rremote: Counting objects:  87% (64/73)\u001b[K\rremote: Counting objects:  89% (65/73)\u001b[K\rremote: Counting objects:  90% (66/73)\u001b[K\rremote: Counting objects:  91% (67/73)\u001b[K\rremote: Counting objects:  93% (68/73)\u001b[K\rremote: Counting objects:  94% (69/73)\u001b[K\rremote: Counting objects:  95% (70/73)\u001b[K\rremote: Counting objects:  97% (71/73)\u001b[K\rremote: Counting objects:  98% (72/73)\u001b[K\rremote: Counting objects: 100% (73/73)\u001b[K\rremote: Counting objects: 100% (73/73), done.\u001b[K\n",
            "remote: Compressing objects:   1% (1/65)\u001b[K\rremote: Compressing objects:   3% (2/65)\u001b[K\rremote: Compressing objects:   4% (3/65)\u001b[K\rremote: Compressing objects:   6% (4/65)\u001b[K\rremote: Compressing objects:   7% (5/65)\u001b[K\rremote: Compressing objects:   9% (6/65)\u001b[K\rremote: Compressing objects:  10% (7/65)\u001b[K\rremote: Compressing objects:  12% (8/65)\u001b[K\rremote: Compressing objects:  13% (9/65)\u001b[K\rremote: Compressing objects:  15% (10/65)\u001b[K\rremote: Compressing objects:  16% (11/65)\u001b[K\rremote: Compressing objects:  18% (12/65)\u001b[K\rremote: Compressing objects:  20% (13/65)\u001b[K\rremote: Compressing objects:  21% (14/65)\u001b[K\rremote: Compressing objects:  23% (15/65)\u001b[K\rremote: Compressing objects:  24% (16/65)\u001b[K\rremote: Compressing objects:  26% (17/65)\u001b[K\rremote: Compressing objects:  27% (18/65)\u001b[K\rremote: Compressing objects:  29% (19/65)\u001b[K\rremote: Compressing objects:  30% (20/65)\u001b[K\rremote: Compressing objects:  32% (21/65)\u001b[K\rremote: Compressing objects:  33% (22/65)\u001b[K\rremote: Compressing objects:  35% (23/65)\u001b[K\rremote: Compressing objects:  36% (24/65)\u001b[K\rremote: Compressing objects:  38% (25/65)\u001b[K\rremote: Compressing objects:  40% (26/65)\u001b[K\rremote: Compressing objects:  41% (27/65)\u001b[K\rremote: Compressing objects:  43% (28/65)\u001b[K\rremote: Compressing objects:  44% (29/65)\u001b[K\rremote: Compressing objects:  46% (30/65)\u001b[K\rremote: Compressing objects:  47% (31/65)\u001b[K\rremote: Compressing objects:  49% (32/65)\u001b[K\rremote: Compressing objects:  50% (33/65)\u001b[K\rremote: Compressing objects:  52% (34/65)\u001b[K\rremote: Compressing objects:  53% (35/65)\u001b[K\rremote: Compressing objects:  55% (36/65)\u001b[K\rremote: Compressing objects:  56% (37/65)\u001b[K\rremote: Compressing objects:  58% (38/65)\u001b[K\rremote: Compressing objects:  60% (39/65)\u001b[K\rremote: Compressing objects:  61% (40/65)\u001b[K\rremote: Compressing objects:  63% (41/65)\u001b[K\rremote: Compressing objects:  64% (42/65)\u001b[K\rremote: Compressing objects:  66% (43/65)\u001b[K\rremote: Compressing objects:  67% (44/65)\u001b[K\rremote: Compressing objects:  69% (45/65)\u001b[K\rremote: Compressing objects:  70% (46/65)\u001b[K\rremote: Compressing objects:  72% (47/65)\u001b[K\rremote: Compressing objects:  73% (48/65)\u001b[K\rremote: Compressing objects:  75% (49/65)\u001b[K\rremote: Compressing objects:  76% (50/65)\u001b[K\rremote: Compressing objects:  78% (51/65)\u001b[K\rremote: Compressing objects:  80% (52/65)\u001b[K\rremote: Compressing objects:  81% (53/65)\u001b[K\rremote: Compressing objects:  83% (54/65)\u001b[K\rremote: Compressing objects:  84% (55/65)\u001b[K\rremote: Compressing objects:  86% (56/65)\u001b[K\rremote: Compressing objects:  87% (57/65)\u001b[K\rremote: Compressing objects:  89% (58/65)\u001b[K\rremote: Compressing objects:  90% (59/65)\u001b[K\rremote: Compressing objects:  92% (60/65)\u001b[K\rremote: Compressing objects:  93% (61/65)\u001b[K\rremote: Compressing objects:  95% (62/65)\u001b[K\rremote: Compressing objects:  96% (63/65)\u001b[K\rremote: Compressing objects:  98% (64/65)\u001b[K\rremote: Compressing objects: 100% (65/65)\u001b[K\rremote: Compressing objects: 100% (65/65), done.\u001b[K\n",
            "Unpacking objects:   1% (1/73)   \rUnpacking objects:   2% (2/73)   \rUnpacking objects:   4% (3/73)   \rUnpacking objects:   5% (4/73)   \rUnpacking objects:   6% (5/73)   \rUnpacking objects:   8% (6/73)   \rUnpacking objects:   9% (7/73)   \rUnpacking objects:  10% (8/73)   \rUnpacking objects:  12% (9/73)   \rUnpacking objects:  13% (10/73)   \rUnpacking objects:  15% (11/73)   \rUnpacking objects:  16% (12/73)   \rUnpacking objects:  17% (13/73)   \rUnpacking objects:  19% (14/73)   \rUnpacking objects:  20% (15/73)   \rUnpacking objects:  21% (16/73)   \rUnpacking objects:  23% (17/73)   \rUnpacking objects:  24% (18/73)   \rUnpacking objects:  26% (19/73)   \rUnpacking objects:  27% (20/73)   \rUnpacking objects:  28% (21/73)   \rUnpacking objects:  30% (22/73)   \rUnpacking objects:  31% (23/73)   \rUnpacking objects:  32% (24/73)   \rUnpacking objects:  34% (25/73)   \rUnpacking objects:  35% (26/73)   \rUnpacking objects:  36% (27/73)   \rUnpacking objects:  38% (28/73)   \rUnpacking objects:  39% (29/73)   \rUnpacking objects:  41% (30/73)   \rUnpacking objects:  42% (31/73)   \rUnpacking objects:  43% (32/73)   \rUnpacking objects:  45% (33/73)   \rremote: Total 73 (delta 31), reused 19 (delta 7), pack-reused 0\u001b[K\n",
            "Unpacking objects:  46% (34/73)   \rUnpacking objects:  47% (35/73)   \rUnpacking objects:  49% (36/73)   \rUnpacking objects:  50% (37/73)   \rUnpacking objects:  52% (38/73)   \rUnpacking objects:  53% (39/73)   \rUnpacking objects:  54% (40/73)   \rUnpacking objects:  56% (41/73)   \rUnpacking objects:  57% (42/73)   \rUnpacking objects:  58% (43/73)   \rUnpacking objects:  60% (44/73)   \rUnpacking objects:  61% (45/73)   \rUnpacking objects:  63% (46/73)   \rUnpacking objects:  64% (47/73)   \rUnpacking objects:  65% (48/73)   \rUnpacking objects:  67% (49/73)   \rUnpacking objects:  68% (50/73)   \rUnpacking objects:  69% (51/73)   \rUnpacking objects:  71% (52/73)   \rUnpacking objects:  72% (53/73)   \rUnpacking objects:  73% (54/73)   \rUnpacking objects:  75% (55/73)   \rUnpacking objects:  76% (56/73)   \rUnpacking objects:  78% (57/73)   \rUnpacking objects:  79% (58/73)   \rUnpacking objects:  80% (59/73)   \rUnpacking objects:  82% (60/73)   \rUnpacking objects:  83% (61/73)   \rUnpacking objects:  84% (62/73)   \rUnpacking objects:  86% (63/73)   \rUnpacking objects:  87% (64/73)   \rUnpacking objects:  89% (65/73)   \rUnpacking objects:  90% (66/73)   \rUnpacking objects:  91% (67/73)   \rUnpacking objects:  93% (68/73)   \rUnpacking objects:  94% (69/73)   \rUnpacking objects:  95% (70/73)   \rUnpacking objects:  97% (71/73)   \rUnpacking objects:  98% (72/73)   \rUnpacking objects: 100% (73/73)   \rUnpacking objects: 100% (73/73), done.\n"
          ],
          "name": "stdout"
        }
      ]
    },
    {
      "cell_type": "code",
      "metadata": {
        "id": "k-mYQqynljhN",
        "colab_type": "code",
        "colab": {}
      },
      "source": [
        "### Functions and import calls\n",
        "\n",
        "import numpy as np\n",
        "import nltk\n",
        "import csv\n",
        "import nltk\n",
        "import re\n",
        "from collections import Counter\n",
        "\n",
        "### START OF VOCABULARY ###\n",
        "def generate_vocabulary(data, fCol, vocabType):\n",
        "    '''\n",
        "    Returns a list/vocabulary of len <= \"size\" based on the vocabType and the featureColumn specified\n",
        "    '''\n",
        "    size = 2000\n",
        "    # Only get large groups to get representative data\n",
        "    major_features = np.array(nltk.FreqDist(data[:,fCol]).most_common(5))\n",
        "    major_masks = np.array([data[:,fCol] == f for (f, cnt) in major_features])\n",
        "    fqs = [tweet_word_distribution(data[mask,:]) for mask in major_masks]\n",
        "    return list(vocabType(data, fCol, major_features, major_masks, fqs, size))\n",
        "\n",
        "def vocab_feature_most_common(data, fCol, major_features, major_masks, fqs, size):\n",
        "    '''\n",
        "    Returns a vocabulary checklist for each tweet to check off (True/False).\n",
        "    Prioritises the most common words for each feature\n",
        "    '''\n",
        "    vocabulary = set()\n",
        "    # get the most common words in each freq dist. zip(*...) removes the counts from fd, and updates vocabulary ONLY with the words\n",
        "    for fd in fqs:\n",
        "        vocabulary.update(list(zip(*fd.most_common(size//len(major_features))))[0])\n",
        "    return vocabulary\n",
        "\n",
        "def vocab_feature_unique(data, fCol, major_features, major_masks, fqs, size):\n",
        "    '''\n",
        "    Returns a vocabulary checklist for each tweet to check off (True/False).\n",
        "    Prioritises words which are uncommon in other features, but common in one feature\n",
        "    '''\n",
        "    major_mask = np.array(major_masks.sum(axis=0), dtype='bool')\n",
        "    fq = tweet_word_distribution(data[major_mask,:]) # Get a fq over the words used by all in the major categories\n",
        "    words = [word for (word, cnt) in fq.items() if cnt >= 20] # removes rarely mentioned words which probably arent indicative of a significant trend\n",
        "    priorityArray = []\n",
        "    for i, word in enumerate(words):\n",
        "        priorityArray.append([word])\n",
        "        #divide frequency of word in that state by the tweetcount from that state, and by how often that word is used in total by all states\n",
        "        score = max(fqs[fID][word]/(int(major_features[fID][1])*fq[word]) for fID in range(len(major_masks)))\n",
        "        priorityArray[i].append(score)\n",
        "    priorityArray.sort(key = lambda x: x[1], reverse=True) # Sort them based on their best score\n",
        "    vocabulary = zip(*priorityArray[:size])[0] # Removes their scores\n",
        "    return vocabulary\n",
        "### END OF VOCABULARY ###\n",
        "    \n",
        "def identify_hashtags(data):\n",
        "    col = np.zeros((data.shape[0],1), 'str')\n",
        "    data = np.append(data, col, axis=1)\n",
        "    for i, text in enumerate(data[:,6]):\n",
        "        results = re.findall(r\"#\\w+\", text) # Finds matches and returns them as an iterable\n",
        "        if results:\n",
        "            data[i,15] = ' '.join(results)\n",
        "        else:\n",
        "            data[i,15] = ''\n",
        "\n",
        "def tweet_features(tweet, word_features):\n",
        "    tweet_words = set(tweet)\n",
        "    features = {}\n",
        "    for word in word_features:\n",
        "        features[f'contains({word})'] = (word in tweet_words)\n",
        "    return features\n",
        "\n",
        "def divide_featureset(feature):\n",
        "    '''\n",
        "    Divides numpy featureset of (featureVector, classification) into a 80:10:10 train:dev:test set\n",
        "    '''\n",
        "    testSize = int(len(feature)*0.8)\n",
        "    train, rest = feature[:testSize], feature[testSize:]\n",
        "    restSize = len(rest)//2\n",
        "    dev, test = rest[:restSize], rest[restSize:]\n",
        "    return train, dev, test\n",
        "\n",
        "def clean(data):\n",
        "    porter = nltk.PorterStemmer()\n",
        "\n",
        "    # Remove all stopwords, non-alphabet words (except spaces), and stem the words\n",
        "    for i, row in enumerate(data[:,6]):\n",
        "        row = row.lower()\n",
        "        row = ''.join(char for char in row if char.isalpha() or char == ' ')\n",
        "        row = ' '.join(porter.stem(word) for word in row.split() if word not in stopwords)\n",
        "        data[i,6] = row\n",
        "\n",
        "def tweet_word_distribution(data):\n",
        "    # Split each sentence into tokens, and create a frequency distribution\n",
        "    tokens = [token for sentence in data[:,6] for token in sentence.split()]\n",
        "    fd = nltk.FreqDist(tokens)\n",
        "    return fd\n",
        "\n",
        "def generate_features(data, vocabulary, fCol):\n",
        "    \"\"\" \n",
        "    Creates tuples with a vector containing boolean values depending on whether\n",
        "    or not the word is in the tweet - along with the label of the tweet.\n",
        "    \"\"\"\n",
        "    features = [(tweet_features(d.split(), vocabulary), c) for (d,c) in zip(data[:,6], data[:,fCol])] # column 6 is text data, column 2 is gender data\n",
        "    return features"
      ],
      "execution_count": 0,
      "outputs": []
    },
    {
      "cell_type": "code",
      "metadata": {
        "id": "qgUqeGED4LM3",
        "colab_type": "code",
        "outputId": "9568be95-257f-4304-ecbc-efaee4ff4de4",
        "colab": {
          "base_uri": "https://localhost:8080/",
          "height": 153
        }
      },
      "source": [
        "nltk.download('punkt')\n",
        "nltk.download('stopwords')\n",
        "stopwords = set(nltk.corpus.stopwords.words('english'))\n",
        "\n",
        "# Read the data into a header and a data np.array - the array is then shuffled\n",
        "with open('first-first-year-project/data.csv', encoding='latin1') as csv_file:\n",
        "    csv_reader = csv.reader(csv_file, delimiter=',')\n",
        "    data = np.array([np.array(line) for line in csv_reader])\n",
        "header, data = data[0,:], data[1:,:]\n",
        "np.random.shuffle(data)\n",
        "print(header)\n",
        "\n",
        "# Identify hashtags and insert them in the 15th column\n",
        "identify_hashtags(data)\n",
        "print(data.shape) # Note that shape starts at 1 and ends at 16, so the interval is [0:15]"
      ],
      "execution_count": 3,
      "outputs": [
        {
          "output_type": "stream",
          "text": [
            "[nltk_data] Downloading package punkt to /root/nltk_data...\n",
            "[nltk_data]   Unzipping tokenizers/punkt.zip.\n",
            "[nltk_data] Downloading package stopwords to /root/nltk_data...\n",
            "[nltk_data]   Unzipping corpora/stopwords.zip.\n",
            "['other_topic' 'resolution_topics' 'gender' 'name' 'Resolution_Category'\n",
            " 'retweet_count' 'text' 'tweet_coord' 'tweet_created' 'tweet_date'\n",
            " 'tweet_id' 'tweet_location' 'tweet_state' 'user_timezone' 'tweet_region']\n",
            "(5011, 15)\n"
          ],
          "name": "stdout"
        }
      ]
    },
    {
      "cell_type": "code",
      "metadata": {
        "id": "_Z52jOoIc8DX",
        "colab_type": "code",
        "colab": {}
      },
      "source": [
        "clean(data)\n",
        "fCol = {'gender':2, 'Resolution_Category':4, 'tweet_state':12, 'hashtags':15} # Dont think hashtags work right now\n",
        "vocabType = [vocab_feature_most_common, vocab_feature_unique][0] #Pick one by replacing the number in [int]\n",
        "vocabulary =         generate_vocabulary(data, fCol['tweet_state'], vocabType)\n",
        "features = generate_features(data, vocabulary, fCol['tweet_state'])\n",
        "train, dev, test = divide_featureset(features)"
      ],
      "execution_count": 0,
      "outputs": []
    },
    {
      "cell_type": "code",
      "metadata": {
        "colab_type": "code",
        "id": "wMSGwZrGnsz5",
        "outputId": "63737579-ac85-4ee2-9afa-b6c05b1ae61c",
        "colab": {
          "base_uri": "https://localhost:8080/",
          "height": 221
        }
      },
      "source": [
        "classifier = nltk.NaiveBayesClassifier.train(train)\n",
        "print(nltk.classify.accuracy(classifier, dev))\n",
        "classifier.show_most_informative_features(10)"
      ],
      "execution_count": 5,
      "outputs": [
        {
          "output_type": "stream",
          "text": [
            "0.14570858283433133\n",
            "Most Informative Features\n",
            "          contains(quit) = True               ND : CA     =    193.3 : 1.0\n",
            "          contains(step) = True               DE : CA     =    116.0 : 1.0\n",
            "       contains(complet) = True               DE : CA     =    116.0 : 1.0\n",
            "      contains(cariloha) = True               DE : CA     =    116.0 : 1.0\n",
            "          contains(babi) = True               ND : TX     =    106.3 : 1.0\n",
            "          contains(easi) = True               DE : NY     =     88.0 : 1.0\n",
            "          contains(hous) = True               MT : CA     =     82.9 : 1.0\n",
            "         contains(faith) = True               WY : CA     =     72.5 : 1.0\n",
            "        contains(chocol) = True               WY : CA     =     72.5 : 1.0\n",
            "         contains(small) = True               DE : CA     =     69.6 : 1.0\n"
          ],
          "name": "stdout"
        }
      ]
    },
    {
      "cell_type": "code",
      "metadata": {
        "id": "b2RcCHH4f5YB",
        "colab_type": "code",
        "outputId": "878a69c6-aa24-4758-9695-ee8812ae60bc",
        "colab": {
          "base_uri": "https://localhost:8080/",
          "height": 181
        }
      },
      "source": [
        "bigrm = list(nltk.ngrams(tokens, 2))\n",
        "fdbigrm = nltk.FreqDist(bigrm)\n"
      ],
      "execution_count": 6,
      "outputs": [
        {
          "output_type": "error",
          "ename": "NameError",
          "evalue": "ignored",
          "traceback": [
            "\u001b[0;31m---------------------------------------------------------------------------\u001b[0m",
            "\u001b[0;31mNameError\u001b[0m                                 Traceback (most recent call last)",
            "\u001b[0;32m<ipython-input-6-98f3064dea0d>\u001b[0m in \u001b[0;36m<module>\u001b[0;34m()\u001b[0m\n\u001b[0;32m----> 1\u001b[0;31m \u001b[0mbigrm\u001b[0m \u001b[0;34m=\u001b[0m \u001b[0mlist\u001b[0m\u001b[0;34m(\u001b[0m\u001b[0mnltk\u001b[0m\u001b[0;34m.\u001b[0m\u001b[0mngrams\u001b[0m\u001b[0;34m(\u001b[0m\u001b[0mtokens\u001b[0m\u001b[0;34m,\u001b[0m \u001b[0;36m2\u001b[0m\u001b[0;34m)\u001b[0m\u001b[0;34m)\u001b[0m\u001b[0;34m\u001b[0m\u001b[0;34m\u001b[0m\u001b[0m\n\u001b[0m\u001b[1;32m      2\u001b[0m \u001b[0mfdbigrm\u001b[0m \u001b[0;34m=\u001b[0m \u001b[0mnltk\u001b[0m\u001b[0;34m.\u001b[0m\u001b[0mFreqDist\u001b[0m\u001b[0;34m(\u001b[0m\u001b[0mbigrm\u001b[0m\u001b[0;34m)\u001b[0m\u001b[0;34m\u001b[0m\u001b[0;34m\u001b[0m\u001b[0m\n",
            "\u001b[0;31mNameError\u001b[0m: name 'tokens' is not defined"
          ]
        }
      ]
    },
    {
      "cell_type": "code",
      "metadata": {
        "colab_type": "code",
        "id": "tLzbcMATnqxK",
        "colab": {
          "base_uri": "https://localhost:8080/",
          "height": 252
        },
        "outputId": "ba9606ba-fb74-4764-abe9-ad9761c8e71c"
      },
      "source": [
        "word_features = list(fdbigrm.keys())[:2000]\n",
        "\n",
        "\n",
        "size = 1000\n",
        "featuresets = [(tweet_features(nltk.ngrams(d.split(), 2)), c) for (d,c) in zip(data[:size,6], data[:size,2])] # column 6 is text data, column 2 is gender data\n",
        "train_set, test_set = featuresets[size//2:], featuresets[:size//2]\n",
        "classifier = nltk.NaiveBayesClassifier.train(train_set)"
      ],
      "execution_count": 7,
      "outputs": [
        {
          "output_type": "error",
          "ename": "NameError",
          "evalue": "ignored",
          "traceback": [
            "\u001b[0;31m---------------------------------------------------------------------------\u001b[0m",
            "\u001b[0;31mNameError\u001b[0m                                 Traceback (most recent call last)",
            "\u001b[0;32m<ipython-input-7-db0fe6d1e459>\u001b[0m in \u001b[0;36m<module>\u001b[0;34m()\u001b[0m\n\u001b[0;32m----> 1\u001b[0;31m \u001b[0mword_features\u001b[0m \u001b[0;34m=\u001b[0m \u001b[0mlist\u001b[0m\u001b[0;34m(\u001b[0m\u001b[0mfdbigrm\u001b[0m\u001b[0;34m.\u001b[0m\u001b[0mkeys\u001b[0m\u001b[0;34m(\u001b[0m\u001b[0;34m)\u001b[0m\u001b[0;34m)\u001b[0m\u001b[0;34m[\u001b[0m\u001b[0;34m:\u001b[0m\u001b[0;36m2000\u001b[0m\u001b[0;34m]\u001b[0m\u001b[0;34m\u001b[0m\u001b[0;34m\u001b[0m\u001b[0m\n\u001b[0m\u001b[1;32m      2\u001b[0m \u001b[0;34m\u001b[0m\u001b[0m\n\u001b[1;32m      3\u001b[0m \u001b[0;34m\u001b[0m\u001b[0m\n\u001b[1;32m      4\u001b[0m \u001b[0msize\u001b[0m \u001b[0;34m=\u001b[0m \u001b[0;36m1000\u001b[0m\u001b[0;34m\u001b[0m\u001b[0;34m\u001b[0m\u001b[0m\n\u001b[1;32m      5\u001b[0m \u001b[0mfeaturesets\u001b[0m \u001b[0;34m=\u001b[0m \u001b[0;34m[\u001b[0m\u001b[0;34m(\u001b[0m\u001b[0mtweet_features\u001b[0m\u001b[0;34m(\u001b[0m\u001b[0mnltk\u001b[0m\u001b[0;34m.\u001b[0m\u001b[0mngrams\u001b[0m\u001b[0;34m(\u001b[0m\u001b[0md\u001b[0m\u001b[0;34m.\u001b[0m\u001b[0msplit\u001b[0m\u001b[0;34m(\u001b[0m\u001b[0;34m)\u001b[0m\u001b[0;34m,\u001b[0m \u001b[0;36m2\u001b[0m\u001b[0;34m)\u001b[0m\u001b[0;34m)\u001b[0m\u001b[0;34m,\u001b[0m \u001b[0mc\u001b[0m\u001b[0;34m)\u001b[0m \u001b[0;32mfor\u001b[0m \u001b[0;34m(\u001b[0m\u001b[0md\u001b[0m\u001b[0;34m,\u001b[0m\u001b[0mc\u001b[0m\u001b[0;34m)\u001b[0m \u001b[0;32min\u001b[0m \u001b[0mzip\u001b[0m\u001b[0;34m(\u001b[0m\u001b[0mdata\u001b[0m\u001b[0;34m[\u001b[0m\u001b[0;34m:\u001b[0m\u001b[0msize\u001b[0m\u001b[0;34m,\u001b[0m\u001b[0;36m6\u001b[0m\u001b[0;34m]\u001b[0m\u001b[0;34m,\u001b[0m \u001b[0mdata\u001b[0m\u001b[0;34m[\u001b[0m\u001b[0;34m:\u001b[0m\u001b[0msize\u001b[0m\u001b[0;34m,\u001b[0m\u001b[0;36m2\u001b[0m\u001b[0;34m]\u001b[0m\u001b[0;34m)\u001b[0m\u001b[0;34m]\u001b[0m \u001b[0;31m# column 6 is text data, column 2 is gender data\u001b[0m\u001b[0;34m\u001b[0m\u001b[0;34m\u001b[0m\u001b[0m\n",
            "\u001b[0;31mNameError\u001b[0m: name 'fdbigrm' is not defined"
          ]
        }
      ]
    },
    {
      "cell_type": "code",
      "metadata": {
        "id": "Iz-ZHiSR5cLQ",
        "colab_type": "code",
        "colab": {
          "base_uri": "https://localhost:8080/",
          "height": 54
        },
        "outputId": "d0b24d54-801f-48b3-f6bb-d757d4c2fa9e"
      },
      "source": [
        "print(train[:1])"
      ],
      "execution_count": 8,
      "outputs": [
        {
          "output_type": "stream",
          "text": [
            "[({'contains(goodby)': False, 'contains(realli)': False, 'contains(direct)': False, 'contains(fewer)': False, 'contains(tiburonnapl)': False, 'contains(fruit)': False, 'contains(anyth)': False, 'contains(angel)': False, 'contains(faith)': False, 'contains(help)': False, 'contains(great)': False, 'contains(ïü)': False, 'contains(exercis)': False, 'contains(daili)': False, 'contains(note)': False, 'contains(pic)': False, 'contains(la)': False, 'contains(heartach)': False, 'contains(happynewyear)': False, 'contains(everyon)': False, 'contains(effort)': False, 'contains(youtub)': False, 'contains(come)': False, 'contains(guilt)': False, 'contains(rachelclarkgiveaway)': False, 'contains(motiv)': False, 'contains(ùâùâùâ)': False, 'contains(bi)': False, 'contains(career)': False, 'contains(httptcogdwkslj)': False, 'contains(trust)': False, 'contains(got)': False, 'contains(overr)': False, 'contains(bae)': False, 'contains(blog)': False, 'contains(stick)': False, 'contains(punish)': False, 'contains(challeng)': False, 'contains(sarasotalifestyl)': False, 'contains(x)': False, 'contains(true)': False, 'contains(destini)': False, 'contains(small)': False, 'contains(cunt)': False, 'contains(amaz)': False, 'contains(publish)': False, 'contains(intth)': False, 'contains(return)': False, 'contains(everyday)': False, 'contains(often)': False, 'contains(burn)': False, 'contains(myoffic)': False, 'contains(pablohernandez)': False, 'contains(world)': False, 'contains(worth)': False, 'contains(pictur)': False, 'contains(namesnewyearsresolut)': False, 'contains(name)': False, 'contains(cigarettesû)': False, 'contains(walk)': False, 'contains(spanish)': False, 'contains(fuck)': True, 'contains(leagu)': False, 'contains(eye)': False, 'contains(present)': False, 'contains(event)': False, 'contains(cigarett)': False, 'contains(wear)': False, 'contains(fri)': False, 'contains(sit)': False, 'contains(touch)': False, 'contains(ltthimanyway)': False, 'contains(purchas)': False, 'contains(ink)': False, 'contains(product)': False, 'contains(strive)': False, 'contains(golf)': False, 'contains(restart)': False, 'contains(xaviersworld)': False, 'contains(love)': False, 'contains(improv)': False, 'contains(whatev)': False, 'contains(wash)': False, 'contains(healthyliv)': False, 'contains(plan)': False, 'contains(pant)': False, 'contains(denial)': False, 'contains(skinni)': False, 'contains(holiday)': False, 'contains(aka)': False, 'contains(pull)': False, 'contains(post)': False, 'contains(broken)': False, 'contains(enthusiasm)': False, 'contains(truth)': False, 'contains(word)': True, 'contains(standard)': False, 'contains(let)': False, 'contains(back)': False, 'contains(other)': False, 'contains(begin)': False, 'contains(terminatorgenisi)': False, 'contains(twin)': False, 'contains(wonder)': False, 'contains(wake)': False, 'contains(singl)': False, 'contains(vinyl)': False, 'contains(much)': False, 'contains(your)': False, 'contains(decis)': False, 'contains(decid)': False, 'contains(episod)': False, 'contains(ûïcebsilv)': False, 'contains(fifti)': False, 'contains(gain)': False, 'contains(rather)': False, 'contains(instagram)': False, 'contains(chang)': False, 'contains(phone)': False, 'contains(broke)': False, 'contains(exist)': False, 'contains(straight)': False, 'contains(gonna)': False, 'contains(httptcontczygz)': False, 'contains(eathealthi)': False, 'contains(import)': False, 'contains(lauradeek)': False, 'contains(leav)': False, 'contains(seriou)': False, 'contains(coffe)': False, 'contains(coast)': False, 'contains(vow)': False, 'contains(emot)': False, 'contains(ïó)': False, 'contains(gladli)': False, 'contains(fashion)': False, 'contains(enjoy)': False, 'contains(yell)': False, 'contains(crap)': False, 'contains(need)': False, 'contains(month)': False, 'contains(year)': False, 'contains(wine)': False, 'contains(pierr)': False, 'contains(letter)': False, 'contains(complet)': False, 'contains(visit)': False, 'contains(httptcozwtaruu)': False, 'contains(rid)': False, 'contains(quit)': False, 'contains(recordsbeat)': False, 'contains(though)': False, 'contains(wwf)': False, 'contains(miser)': False, 'contains(twhiddleston)': False, 'contains(person)': False, 'contains(taller)': False, 'contains(ù)': False, 'contains(lo)': False, 'contains(spent)': False, 'contains(weight)': False, 'contains(netflix)': False, 'contains(ùü)': False, 'contains(cruis)': False, 'contains(beckyluuuwhooo)': False, 'contains(soexcit)': False, 'contains(call)': False, 'contains(pancak)': False, 'contains(boi)': False, 'contains(hot)': False, 'contains(number)': False, 'contains(place)': False, 'contains(save)': False, 'contains(excel)': False, 'contains(meat)': False, 'contains(mcdonald)': False, 'contains(twice)': False, 'contains(fearless)': False, 'contains(danielbrim)': False, 'contains(harder)': False, 'contains(drinkmorewat)': False, 'contains(httptcooaaqnxt)': False, 'contains(busi)': False, 'contains(tell)': False, 'contains(wastingtim)': False, 'contains(listen)': False, 'contains(alreadi)': False, 'contains(contented)': False, 'contains(haha)': False, 'contains(treat)': False, 'contains(httptcogeiwn)': False, 'contains(httptcoxiabdenf)': False, 'contains(leg)': False, 'contains(isnt)': False, 'contains(chicken)': False, 'contains(interest)': False, 'contains(mainfram)': False, 'contains(ambidextrousi)': False, 'contains(mayb)': False, 'contains(hilov)': False, 'contains(clean)': False, 'contains(man)': False, 'contains(countri)': False, 'contains(girlùâ)': False, 'contains(httptcoksasxlvav)': False, 'contains(song)': False, 'contains(yike)': False, 'contains(cri)': False, 'contains(babi)': False, 'contains(current)': False, 'contains(mr)': False, 'contains(suck)': False, 'contains(giveaway)': False, 'contains(ùùäù)': False, 'contains(part)': False, 'contains(bitch)': False, 'contains(fall)': False, 'contains(nevertoomuch)': False, 'contains(count)': False, 'contains(white)': False, 'contains(media)': False, 'contains(patient)': False, 'contains(shape)': False, 'contains(yet)': False, 'contains(someon)': False, 'contains(humbl)': False, 'contains(success)': False, 'contains(workout)': False, 'contains(hug)': False, 'contains(repli)': False, 'contains(resolutionsfor)': False, 'contains(scare)': False, 'contains(music)': False, 'contains(tixwish)': False, 'contains(grace)': False, 'contains(prison)': False, 'contains(tv)': False, 'contains(getfit)': False, 'contains(stay)': False, 'contains(flip)': False, 'contains(ìñ)': False, 'contains(weed)': False, 'contains(synergi)': True, 'contains(pile)': False, 'contains(dream)': False, 'contains(definit)': False, 'contains(long)': False, 'contains(donotdisturb)': False, 'contains(dedic)': False, 'contains(stuff)': False, 'contains(draw)': False, 'contains(delsolcolor)': False, 'contains(drunk)': False, 'contains(lesmil)': False, 'contains(shoplift)': False, 'contains(resolut)': False, 'contains(cook)': False, 'contains(care)': False, 'contains(obsess)': False, 'contains(safe)': False, 'contains(share)': False, 'contains(supper)': False, 'contains(cant)': False, 'contains(plank)': False, 'contains(yoga)': False, 'contains(hold)': False, 'contains(projectlif)': False, 'contains(ok)': False, 'contains(win)': False, 'contains(itsgavinbruhh)': False, 'contains(pain)': False, 'contains(creativ)': False, 'contains(httptcozmpolyn)': False, 'contains(husband)': False, 'contains(avail)': False, 'contains(alcohol)': False, 'contains(eve)': False, 'contains(town)': False, 'contains(cosplay)': False, 'contains(nerd)': False, 'contains(emazinglight)': False, 'contains(lose)': False, 'contains(what)': False, 'contains(gk)': False, 'contains(passeng)': False, 'contains(fb)': False, 'contains(chorgraph)': False, 'contains(edward)': False, 'contains(settl)': False, 'contains(lie)': False, 'contains(httptcohborzspr)': False, 'contains(rental)': False, 'contains(still)': False, 'contains(next)': False, 'contains(kill)': False, 'contains(turn)': False, 'contains(togeth)': False, 'contains(worri)': False, 'contains(sleep)': False, 'contains(ùõùõµùõüùõ)': False, 'contains(th)': False, 'contains(didnt)': False, 'contains(ground)': False, 'contains(kept)': False, 'contains(alway)': False, 'contains(never)': False, 'contains(everyth)': False, 'contains(set)': False, 'contains(goalsfor)': False, 'contains(redbox)': False, 'contains(cuss)': False, 'contains(oh)': False, 'contains(know)': False, 'contains(attent)': False, 'contains(rt)': False, 'contains(httptcoenhxyzbob)': False, 'contains(privat)': False, 'contains(carri)': False, 'contains(advic)': False, 'contains(trip)': False, 'contains(dq)': False, 'contains(head)': False, 'contains(pop)': False, 'contains(temper)': False, 'contains(along)': False, 'contains(end)': False, 'contains(book)': False, 'contains(lb)': False, 'contains(way)': False, 'contains(hampton)': False, 'contains(resolutionerbodi)': False, 'contains(ûïijustdgad)': False, 'contains(drrubidium)': False, 'contains(canada)': False, 'contains(ball)': False, 'contains(age)': False, 'contains(coke)': False, 'contains(black)': False, 'contains(linger)': False, 'contains(fantasi)': False, 'contains(across)': False, 'contains(ignor)': False, 'contains(notecard)': False, 'contains(bodi)': False, 'contains(chocol)': False, 'contains(til)': False, 'contains(gift)': False, 'contains(stack)': False, 'contains(gettingfit)': False, 'contains(app)': False, 'contains(bacon)': False, 'contains(prioriti)': False, 'contains(moment)': False, 'contains(concret)': False, 'contains(spend)': False, 'contains(forward)': False, 'contains(food)': False, 'contains(ùä)': False, 'contains(madlib)': False, 'contains(ùâ)': False, 'contains(deep)': False, 'contains(video)': False, 'contains(lead)': False, 'contains(humil)': False, 'contains(disappoint)': False, 'contains(seem)': False, 'contains(worst)': False, 'contains(tati)': False, 'contains(email)': False, 'contains(game)': False, 'contains(risk)': False, 'contains(judgi)': False, 'contains(breakfast)': False, 'contains(colorfulpl)': False, 'contains(failur)': False, 'contains(longer)': False, 'contains(skin)': False, 'contains(oomf)': False, 'contains(serious)': False, 'contains(impact)': False, 'contains(son)': False, 'contains(kardashian)': False, 'contains(kind)': False, 'contains(opportun)': False, 'contains(em)': False, 'contains(stori)': False, 'contains(activ)': False, 'contains(johnnygulick)': False, 'contains(seri)': False, 'contains(nicer)': False, 'contains(habit)': False, 'contains(six)': False, 'contains(mcguir)': False, 'contains(sure)': False, 'contains(guitar)': False, 'contains(happen)': False, 'contains(morn)': False, 'contains(kid)': False, 'contains(wont)': False, 'contains(shoe)': False, 'contains(bar)': False, 'contains(toward)': False, 'contains(hous)': False, 'contains(better)': False, 'contains(debat)': False, 'contains(sometim)': False, 'contains(liter)': False, 'contains(lmao)': False, 'contains(peopl)': False, 'contains(shitti)': False, 'contains(kngjame)': False, 'contains(ask)': False, 'contains(focus)': False, 'contains(toilet)': False, 'contains(whole)': False, 'contains(cameron)': False, 'contains(newm)': False, 'contains(done)': False, 'contains(celebr)': False, 'contains(entir)': False, 'contains(makasandwich)': False, 'contains(simpli)': False, 'contains(order)': False, 'contains(fight)': False, 'contains(tear)': False, 'contains(run)': False, 'contains(energi)': False, 'contains(guy)': False, 'contains(mention)': False, 'contains(vibe)': False, 'contains(leeannwright)': False, 'contains(club)': False, 'contains(closer)': False, 'contains(level)': False, 'contains(angelesdlr)': False, 'contains(madamradam)': False, 'contains(sysop)': False, 'contains(passion)': False, 'contains(tit)': False, 'contains(unpet)': False, 'contains(fun)': False, 'contains(timenewyearsresolut)': False, 'contains(dad)': False, 'contains(use)': False, 'contains(forgiv)': False, 'contains(taco)': False, 'contains(lexxi)': False, 'contains(subscrib)': False, 'contains(ùô)': False, 'contains(fail)': False, 'contains(yeah)': False, 'contains(lil)': False, 'contains(concert)': False, 'contains(lexu)': False, 'contains(gay)': False, 'contains(ùôùô)': False, 'contains(record)': False, 'contains(movi)': False, 'contains(meth)': False, 'contains(hack)': False, 'contains(kick)': False, 'contains(face)': False, 'contains(beer)': False, 'contains(check)': False, 'contains(least)': False, 'contains(liber)': False, 'contains(mean)': False, 'contains(drink)': False, 'contains(met)': False, 'contains(track)': False, 'contains(cleans)': False, 'contains(sarasotaû)': False, 'contains(relat)': False, 'contains(wanna)': False, 'contains(good)': False, 'contains(bffprob)': False, 'contains(kiss)': False, 'contains(squat)': False, 'contains(adopt)': False, 'contains(build)': False, 'contains(debrink)': False, 'contains(lordû)': False, 'contains(april)': False, 'contains(replac)': False, 'contains(healthier)': False, 'contains(needi)': False, 'contains(wish)': False, 'contains(add)': False, 'contains(close)': False, 'contains(loss)': False, 'contains(justinbieb)': False, 'contains(behind)': False, 'contains(procrastin)': False, 'contains(tweet)': False, 'contains(countdownto)': False, 'contains(eyebrow)': False, 'contains(late)': False, 'contains(someth)': False, 'contains(ever)': False, 'contains(valu)': False, 'contains(around)': False, 'contains(happiest)': False, 'contains(dayû)': False, 'contains(break)': False, 'contains(hair)': False, 'contains(load)': False, 'contains(merchandis)': False, 'contains(nye)': False, 'contains(today)': False, 'contains(consid)': False, 'contains(mil)': False, 'contains(born)': False, 'contains(first)': False, 'contains(mrowl)': False, 'contains(yesterday)': False, 'contains(chin)': False, 'contains(christ)': False, 'contains(blanket)': False, 'contains(ùùù)': False, 'contains(tomorrow)': False, 'contains(well)': False, 'contains(posit)': False, 'contains(httptconhxuuud)': False, 'contains(bigger)': False, 'contains(speak)': False, 'contains(stubhub)': False, 'contains(mf)': False, 'contains(randosen)': False, 'contains(three)': False, 'contains(kismetu)': False, 'contains(act)': False, 'contains(keep)': False, 'contains(throughout)': False, 'contains(postur)': False, 'contains(bless)': False, 'contains(curs)': False, 'contains(promis)': False, 'contains(unfollow)': False, 'contains(noth)': False, 'contains(yougotthatright)': False, 'contains(learn)': False, 'contains(pick)': False, 'contains(min)': False, 'contains(ill)': False, 'contains(one)': False, 'contains(less)': False, 'contains(fatkid)': False, 'contains(mine)': False, 'contains(click)': False, 'contains(shit)': False, 'contains(tonight)': False, 'contains(mediocr)': False, 'contains(health)': False, 'contains(make)': False, 'contains(quiet)': False, 'contains(yearû)': False, 'contains(ah)': False, 'contains(passionx)': False, 'contains(chuckishandi)': False, 'contains(perfect)': False, 'contains(train)': False, 'contains(u)': False, 'contains(journal)': False, 'contains(happi)': False, 'contains(engag)': True, 'contains(would)': False, 'contains(cuz)': False, 'contains(pcsb)': False, 'contains(figur)': False, 'contains(danc)': False, 'contains(paper)': False, 'contains(date)': False, 'contains(refer)': False, 'contains(seatû)': False, 'contains(lifestyl)': False, 'contains(focu)': False, 'contains(tab)': False, 'contains(manner)': False, 'contains(hoe)': False, 'contains(weird)': False, 'contains(grade)': False, 'contains(detox)': False, 'contains(get)': False, 'contains(away)': False, 'contains(here)': False, 'contains(idgaf)': False, 'contains(heart)': False, 'contains(st)': False, 'contains(time)': False, 'contains(anyon)': False, 'contains(usual)': False, 'contains(tonit)': False, 'contains(rich)': False, 'contains(sticksû)': False, 'contains(mistak)': False, 'contains(cheer)': False, 'contains(construct)': False, 'contains(havent)': False, 'contains(ppl)': False, 'contains(pure)': False, 'contains(marrym)': False, 'contains(lol)': False, 'contains(mile)': False, 'contains(httptcoiiesgcekt)': False, 'contains(room)': False, 'contains(newyearsresolut)': True, 'contains(timeat)': False, 'contains(slouch)': False, 'contains(herp)': False, 'contains(fit)': False, 'contains(might)': False, 'contains(take)': False, 'contains(self)': False, 'contains(httptcontsigxat)': False, 'contains(hand)': False, 'contains(yearü)': False, 'contains(skill)': False, 'contains(elserracho)': False, 'contains(fullest)': False, 'contains(yall)': False, 'contains(stop)': False, 'contains(edm)': False, 'contains(toomuch)': False, 'contains(report)': False, 'contains(rachelbeauti)': False, 'contains(biggiepaul)': False, 'contains(ùôî)': False, 'contains(minut)': False, 'contains(youareworthit)': False, 'contains(hoop)': False, 'contains(bih)': False, 'contains(hate)': False, 'contains(think)': False, 'contains(momma)': False, 'contains(chees)': False, 'contains(dick)': False, 'contains(httptcogyjxdbxp)': False, 'contains(gym)': False, 'contains(money)': False, 'contains(gunna)': False, 'contains(dog)': False, 'contains(awesom)': False, 'contains(go)': False, 'contains(want)': False, 'contains(gotta)': False, 'contains(jump)': False, 'contains(asap)': False, 'contains(bike)': False, 'contains(steal)': False, 'contains(becom)': False, 'contains(futur)': False, 'contains(graduat)': False, 'contains(nashgrier)': False, 'contains(big)': False, 'contains(easi)': False, 'contains(look)': False, 'contains(neighbor)': False, 'contains(lazi)': False, 'contains(even)': False, 'contains(tattoo)': False, 'contains(ùõ)': False, 'contains(ol)': False, 'contains(ü)': False, 'contains(peac)': False, 'contains(grandma)': False, 'contains(aswiftielovat)': False, 'contains(psshut)': False, 'contains(ramen)': False, 'contains(real)': False, 'contains(colleg)': False, 'contains(distract)': False, 'contains(bluelivesmatt)': False, 'contains(goe)': False, 'contains(bulk)': False, 'contains(salad)': False, 'contains(ùªî)': False, 'contains(gole)': False, 'contains(mlbpaclubhous)': False, 'contains(swear)': False, 'contains(home)': False, 'contains(adult)': False, 'contains(auntieann)': False, 'contains(alley)': False, 'contains(br)': False, 'contains(drama)': False, 'contains(crochet)': False, 'contains(idea)': False, 'contains(bye)': False, 'contains(goal)': False, 'contains(drive)': False, 'contains(land)': False, 'contains(apolog)': False, 'contains(cut)': False, 'contains(httptcovdqhevigp)': False, 'contains(talk)': False, 'contains(cariloha)': False, 'contains(pretenti)': False, 'contains(vision)': False, 'contains(ltapp)': False, 'contains(joke)': False, 'contains(sing)': False, 'contains(also)': False, 'contains(deff)': False, 'contains(fierc)': False, 'contains(justin)': False, 'contains(corni)': False, 'contains(hi)': False, 'contains(flexibl)': False, 'contains(famili)': False, 'contains(like)': False, 'contains(travel)': False, 'contains(high)': False, 'contains(httptcoevbokgn)': False, 'contains(simpl)': False, 'contains(die)': False, 'contains(httptcoyuxgajtrna)': False, 'contains(inspir)': False, 'contains(write)': False, 'contains(without)': False, 'contains(gel)': False, 'contains(ye)': False, 'contains(mind)': False, 'contains(boss)': False, 'contains(honor)': False, 'contains(killingno)': False, 'contains(new)': False, 'contains(control)': False, 'contains(ass)': False, 'contains(seek)': False, 'contains(lift)': False, 'contains(provid)': False, 'contains(pleas)': False, 'contains(christma)': False, 'contains(hashtagoftheweek)': False, 'contains(donat)': False, 'contains(possibl)': False, 'contains(day)': False, 'contains(lazyù)': False, 'contains(friday)': False, 'contains(httptcocojjxgbyw)': False, 'contains(list)': False, 'contains(unpleas)': False, 'contains(read)': False, 'contains(pack)': False, 'contains(who)': False, 'contains(instead)': False, 'contains(everybodi)': False, 'contains(lootpack)': False, 'contains(excus)': False, 'contains(unhealthi)': False, 'contains(esol)': False, 'contains(madonna)': False, 'contains(ive)': False, 'contains(chapstick)': False, 'contains(avoid)': False, 'contains(justsayin)': False, 'contains(wait)': False, 'contains(prosper)': False, 'contains(judg)': False, 'contains(dalla)': False, 'contains(believ)': False, 'contains(kscmaghirang)': False, 'contains(see)': False, 'contains(star)': False, 'contains(alon)': False, 'contains(critic)': False, 'contains(byandmarg)': False, 'contains(ùâùâ)': False, 'contains(oop)': False, 'contains(action)': False, 'contains(cop)': False, 'contains(addict)': False, 'contains(feel)': False, 'contains(thespringsla)': False, 'contains(wrong)': False, 'contains(memori)': False, 'contains(democratsset)': False, 'contains(magazin)': False, 'contains(right)': False, 'contains(show)': False, 'contains(sock)': False, 'contains(car)': False, 'contains(girlfriend)': False, 'contains(season)': False, 'contains(ûïangilovesdodgr)': False, 'contains(neverseenahiddlestonmovi)': False, 'contains(social)': False, 'contains(newyearsresolutionû)': False, 'contains(finish)': False, 'contains(motto)': False, 'contains(best)': False, 'contains(im)': False, 'contains(p)': False, 'contains(iûªm)': False, 'contains(trendû)': False, 'contains(beat)': False, 'contains(move)': False, 'contains(put)': False, 'contains(heroin)': False, 'contains(dot)': False, 'contains(open)': False, 'contains(door)': False, 'contains(bourdain)': False, 'contains(left)': False, 'contains(wed)': False, 'contains(ûïlexiiiemariii)': False, 'contains(find)': False, 'contains(httptcokregbgcxr)': False, 'contains(lou)': False, 'contains(thought)': False, 'contains(drop)': False, 'contains(correct)': False, 'contains(els)': False, 'contains(id)': False, 'contains(shame)': False, 'contains(rave)': False, 'contains(ckfree)': False, 'contains(life)': False, 'contains(abl)': False, 'contains(girl)': False, 'contains(rip)': False, 'contains(nd)': False, 'contains(smoke)': False, 'contains(half)': False, 'contains(anoth)': False, 'contains(tri)': False, 'contains(smile)': False, 'contains(doesnt)': False, 'contains(volunt)': False, 'contains(super)': False, 'contains(scene)': False, 'contains(sinc)': False, 'contains(friendship)': False, 'contains(taylor)': False, 'contains(plane)': False, 'contains(sober)': False, 'contains(everi)': True, 'contains(job)': False, 'contains(past)': False, 'contains(water)': False, 'contains(rosettaston)': False, 'contains(ck)': False, 'contains(gamer)': False, 'contains(buff)': False, 'contains(last)': False, 'contains(bjork)': False, 'contains(piss)': False, 'contains(week)': False, 'contains(buy)': False, 'contains(gaydaddi)': False, 'contains(zoevanesssa)': False, 'contains(wife)': False, 'contains(includ)': False, 'contains(mouthùª)': False, 'contains(ageofultron)': False, 'contains(planet)': False, 'contains(leanandmean)': False, 'contains(videogam)': False, 'contains(bring)': False, 'contains(w)': False, 'contains(fresh)': False, 'contains(wast)': False, 'contains(god)': False, 'contains(buckl)': False, 'contains(hurt)': False, 'contains(inconsist)': False, 'contains(januari)': False, 'contains(cwinkkk)': False, 'contains(owl)': False, 'contains(wildchildû)': False, 'contains(team)': False, 'contains(art)': False, 'contains(probabl)': False, 'contains(horribl)': False, 'contains(pen)': False, 'contains(eat)': False, 'contains(dont)': False, 'contains(pretti)': False, 'contains(û)': False, 'contains(chicago)': False, 'contains(live)': False, 'contains(grate)': False, 'contains(articl)': False, 'contains(cannot)': False, 'contains(kickstart)': False, 'contains(lgm)': False, 'contains(hope)': False, 'contains(watch)': False, 'contains(grow)': False, 'contains(lot)': False, 'contains(scream)': False, 'contains(gtfo)': False, 'contains(path)': False, 'contains(accomplish)': False, 'contains(miss)': False, 'contains(power)': False, 'contains(httptcoqpvoiiyw)': False, 'contains(competit)': False, 'contains(differ)': False, 'contains(marri)': False, 'contains(play)': False, 'contains(flirt)': False, 'contains(amwrit)': False, 'contains(inevit)': False, 'contains(organ)': False, 'contains(support)': False, 'contains(hour)': False, 'contains(bikini)': False, 'contains(mani)': False, 'contains(k)': False, 'contains(tweethttptcokuwvfcwz)': False, 'contains(cat)': False, 'contains(convers)': True, 'contains(marathon)': False, 'contains(hiphop)': False, 'contains(johnathan)': False, 'contains(helpoth)': False, 'contains(chanc)': False, 'contains(ûïchrisbrown)': False, 'contains(wall)': False, 'contains(re)': False, 'contains(regret)': False, 'contains(reform)': False, 'contains(bad)': False, 'contains(chrisbrown)': False, 'contains(goth)': False, 'contains(actual)': False, 'contains(either)': False, 'contains(flawnocho)': False, 'contains(philosophi)': False, 'contains(continu)': False, 'contains(higher)': False, 'contains(block)': False, 'contains(partytim)': False, 'contains(cute)': False, 'contains(qualiti)': False, 'contains(privileg)': False, 'contains(fake)': False, 'contains(mental)': False, 'contains(respons)': False, 'contains(newyearnewm)': False, 'contains(possit)': False, 'contains(parti)': False, 'contains(assholeû)': False, 'contains(anybodi)': False, 'contains(readi)': False, 'contains(start)': False, 'contains(fool)': False, 'contains(far)': False, 'contains(distanc)': False, 'contains(achiev)': False, 'contains(soda)': False, 'contains(pizza)': False, 'contains(sorri)': False, 'contains(scott)': False, 'contains(two)': False, 'contains(made)': False, 'contains(offer)': False, 'contains(friend)': False, 'contains(night)': False, 'contains(piec)': False, 'contains(ninaherm)': False, 'contains(church)': False, 'contains(missslavign)': False, 'contains(nice)': False, 'contains(roll)': False, 'contains(earli)': False, 'contains(lord)': False, 'contains(tan)': False, 'contains(newyearsev)': False, 'contains(littl)': False, 'contains(lost)': False, 'contains(twitter)': False, 'contains(problem)': False, 'contains(beyond)': False, 'contains(sweat)': False, 'contains(closet)': False, 'contains(shop)': False, 'contains(pay)': False, 'contains(heavi)': False, 'contains(hahaha)': False, 'contains(join)': False, 'contains(school)': False, 'contains(nigga)': False, 'contains(httpstcorvlwtgqhq)': False, 'contains(newyear)': False, 'contains(work)': True, 'contains(dark)': False, 'contains(juic)': False, 'contains(loganhamilton)': False, 'contains(madonnarul)': False, 'contains(ima)': False, 'contains(amp)': False, 'contains(åget)': False, 'contains(meet)': False, 'contains(crowd)': False, 'contains(bit)': False, 'contains(prayer)': False, 'contains(say)': False, 'contains(bed)': False, 'contains(thank)': False, 'contains(follow)': False, 'contains(gossip)': False, 'contains(enough)': False, 'contains(depress)': False, 'contains(bc)': False, 'contains(matter)': False, 'contains(mall)': False, 'contains(sun)': False, 'contains(cross)': False, 'contains(children)': False, 'contains(shall)': False, 'contains(selfimprov)': False, 'contains(sibl)': False, 'contains(escap)': False, 'contains(xma)': False, 'contains(give)': False, 'contains(selfi)': False, 'contains(ùâù)': False, 'contains(resolv)': False, 'contains(final)': False, 'contains(beforenewyearsresolut)': False, 'contains(diet)': False, 'contains(step)': False, 'contains(knowùó)': False, 'contains(httptcolwmbzhfo)': False, 'contains(hard)': False, 'contains(thing)': False, 'contains(toler)': False, 'contains(damn)': False, 'contains(benefit)': False, 'contains(selfcontrol)': False, 'contains(corner)': False, 'contains(old)': False, 'contains(that)': False, 'contains(advis)': False, 'contains(hit)': False, 'contains(color)': False, 'contains(scienc)': False, 'contains(favorit)': False, 'contains(neg)': False, 'contains(boy)': False, 'contains(lurk)': False, 'contains(encourag)': False, 'contains(healthyfood)': False, 'contains(realist)': False, 'contains(relationship)': False, 'contains(soul)': False, 'contains(pound)': False, 'contains(shayshaybug)': False, 'contains(intens)': False, 'contains(excit)': False, 'contains(healthi)': False, 'contains(masterb)': False, 'contains(fat)': False, 'contains(rememb)': False}, 'IL')]\n"
          ],
          "name": "stdout"
        }
      ]
    },
    {
      "cell_type": "markdown",
      "metadata": {
        "id": "B31ntxQ2oRt-",
        "colab_type": "text"
      },
      "source": [
        "# Bad Word Implementation"
      ]
    },
    {
      "cell_type": "code",
      "metadata": {
        "id": "O6AunX_EoF-O",
        "colab_type": "code",
        "colab": {}
      },
      "source": [
        "import pandas as pd\n",
        "import itertools\n",
        "clean(data)\n",
        "np.random.shuffle(data)"
      ],
      "execution_count": 0,
      "outputs": []
    },
    {
      "cell_type": "code",
      "metadata": {
        "id": "ZPzajOR5oXG5",
        "colab_type": "code",
        "colab": {}
      },
      "source": [
        "bad_words_txt = pd.read_csv('first-first-year-project/bad-words.txt', sep='\\n',)\n",
        "bad_words_array = bad_words_txt.to_numpy()\n",
        "bad_words_list = bad_words_array.tolist()\n",
        "bad_words = list(itertools.chain(*bad_words_list))"
      ],
      "execution_count": 0,
      "outputs": []
    },
    {
      "cell_type": "code",
      "metadata": {
        "id": "Kr5p5Xs0od1-",
        "colab_type": "code",
        "colab": {}
      },
      "source": [
        "tweets_created = list(data[:,8])\n",
        "dates = [i.split(' ',1)[0] for i in tweets_created]\n",
        "times = [i.split(' ',1)[-1] for i in tweets_created]"
      ],
      "execution_count": 0,
      "outputs": []
    },
    {
      "cell_type": "code",
      "metadata": {
        "id": "kp9AK4z6on99",
        "colab_type": "code",
        "colab": {}
      },
      "source": [
        "fCol = {'gender':2, 'Resolution_Category':4, 'tweet_created':8, 'tweet_state':12, 'tweet_region':14, 'hashtags':15}"
      ],
      "execution_count": 0,
      "outputs": []
    },
    {
      "cell_type": "markdown",
      "metadata": {
        "id": "f5MT_aLbowDs",
        "colab_type": "text"
      },
      "source": [
        "## Bad words and Gender"
      ]
    },
    {
      "cell_type": "code",
      "metadata": {
        "id": "8Ckc99PYoqDB",
        "colab_type": "code",
        "colab": {}
      },
      "source": [
        "features2 = generate_features(data, bad_words, fCol['gender'])\n",
        "train2, dev2, test2 = divide_featureset(features2)"
      ],
      "execution_count": 0,
      "outputs": []
    },
    {
      "cell_type": "code",
      "metadata": {
        "id": "z6z5sKylozeJ",
        "colab_type": "code",
        "colab": {
          "base_uri": "https://localhost:8080/",
          "height": 306
        },
        "outputId": "59d63756-a30f-447d-dc4b-f2d4bcb51435"
      },
      "source": [
        "classifier2 = nltk.NaiveBayesClassifier.train(train2)\n",
        "print(nltk.classify.accuracy(classifier2, dev2))\n",
        "classifier2.show_most_informative_features(15)"
      ],
      "execution_count": 18,
      "outputs": [
        {
          "output_type": "stream",
          "text": [
            "0.47105788423153694\n",
            "Most Informative Features\n",
            "          contains(fear) = True           female : male   =      3.7 : 1.0\n",
            "         contains(adult) = True           female : male   =      3.7 : 1.0\n",
            "        contains(bigger) = True             male : female =      3.6 : 1.0\n",
            "          contains(sick) = True           female : male   =      3.0 : 1.0\n",
            "        contains(toilet) = True             male : female =      3.0 : 1.0\n",
            "           contains(kid) = True           female : male   =      2.7 : 1.0\n",
            "          contains(chin) = True           female : male   =      2.4 : 1.0\n",
            "         contains(shoot) = True             male : female =      2.3 : 1.0\n",
            "          contains(crap) = True             male : female =      2.3 : 1.0\n",
            "          contains(poop) = True             male : female =      2.3 : 1.0\n",
            "          contains(suck) = True           female : male   =      2.2 : 1.0\n",
            "         contains(faith) = True           female : male   =      2.2 : 1.0\n",
            "          contains(burn) = True           female : male   =      2.2 : 1.0\n",
            "          contains(butt) = True             male : female =      2.2 : 1.0\n",
            "         contains(fight) = True             male : female =      2.1 : 1.0\n"
          ],
          "name": "stdout"
        }
      ]
    },
    {
      "cell_type": "markdown",
      "metadata": {
        "id": "X-_5HBP1o6Ho",
        "colab_type": "text"
      },
      "source": [
        "## Bad words and Categories"
      ]
    },
    {
      "cell_type": "code",
      "metadata": {
        "id": "3MZrIe2Go0FT",
        "colab_type": "code",
        "colab": {
          "base_uri": "https://localhost:8080/",
          "height": 221
        },
        "outputId": "2ced5543-993c-4f32-84a8-c41fc2dada89"
      },
      "source": [
        "features3 = generate_features(data, bad_words, fCol['Resolution_Category'])\n",
        "train3, dev3, test3 = divide_featureset(features3)\n",
        "classifier3 = nltk.NaiveBayesClassifier.train(train3)\n",
        "print(nltk.classify.accuracy(classifier3, dev3))\n",
        "classifier3.show_most_informative_features(10)"
      ],
      "execution_count": 19,
      "outputs": [
        {
          "output_type": "stream",
          "text": [
            "0.37524950099800397\n",
            "Most Informative Features\n",
            "         contains(color) = True           Time M : Person =     12.3 : 1.0\n",
            "       contains(destroy) = True           Philan : Humor  =     11.6 : 1.0\n",
            "        contains(german) = True           Educat : Humor  =     11.1 : 1.0\n",
            "          contains(blow) = True           Financ : Person =     10.0 : 1.0\n",
            "           contains(god) = True           Person : Humor  =      9.9 : 1.0\n",
            "         contains(fight) = True           Philan : Health =      9.6 : 1.0\n",
            "           contains(kid) = True           Philan : Health =      9.6 : 1.0\n",
            "          contains(damn) = True           Philan : Health =      9.6 : 1.0\n",
            "           contains(ass) = True           Educat : Person =      8.5 : 1.0\n",
            "         contains(shoot) = True           Career : Person =      8.4 : 1.0\n"
          ],
          "name": "stdout"
        }
      ]
    },
    {
      "cell_type": "markdown",
      "metadata": {
        "id": "TSpZm8KWpBmN",
        "colab_type": "text"
      },
      "source": [
        "## Bad words and Regions"
      ]
    },
    {
      "cell_type": "code",
      "metadata": {
        "id": "7QYADktCo_Jv",
        "colab_type": "code",
        "colab": {
          "base_uri": "https://localhost:8080/",
          "height": 221
        },
        "outputId": "74dcd795-6b43-4ff0-b74b-02aee991088d"
      },
      "source": [
        "features4 = generate_features(data, bad_words, fCol['tweet_region'])\n",
        "train4, dev4, test4 = divide_featureset(features4)\n",
        "classifier4 = nltk.NaiveBayesClassifier.train(train4)\n",
        "print(nltk.classify.accuracy(classifier4, dev4))\n",
        "classifier4.show_most_informative_features(10)"
      ],
      "execution_count": 20,
      "outputs": [
        {
          "output_type": "stream",
          "text": [
            "0.27944111776447106\n",
            "Most Informative Features\n",
            "         contains(drunk) = True           Northe : South  =      5.5 : 1.0\n",
            "           contains(die) = True           Midwes : South  =      4.1 : 1.0\n",
            "         contains(faith) = True           Midwes : South  =      4.1 : 1.0\n",
            "          contains(fear) = True           Midwes : South  =      3.7 : 1.0\n",
            "          contains(sick) = True           Midwes : South  =      3.7 : 1.0\n",
            "           contains(ass) = True            South : Northe =      3.3 : 1.0\n",
            "        contains(bigger) = True             West : South  =      3.0 : 1.0\n",
            "         contains(nigga) = True             West : South  =      3.0 : 1.0\n",
            "         contains(adult) = True             West : South  =      3.0 : 1.0\n",
            "          contains(suck) = True           Midwes : West   =      2.9 : 1.0\n"
          ],
          "name": "stdout"
        }
      ]
    },
    {
      "cell_type": "markdown",
      "metadata": {
        "id": "PnIzzNTRpHJy",
        "colab_type": "text"
      },
      "source": [
        "## Bad words and Dates"
      ]
    },
    {
      "cell_type": "code",
      "metadata": {
        "id": "To2TttQ1pGio",
        "colab_type": "code",
        "colab": {
          "base_uri": "https://localhost:8080/",
          "height": 354
        },
        "outputId": "88d07af1-b4ab-428b-ee91-d5cc4d97ca91"
      },
      "source": [
        "#In progress: comparison of bad words and dates\n",
        "features5 = generate_features(data, bad_words, dates)\n",
        "train5, dev5, test5 = divide_featureset(features5)\n",
        "classifier5 = nltk.NaiveBayesClassifier.train(train5)\n",
        "print(nltk.classify.accuracy(classifier5, dev5))\n",
        "classifier5.show_most_informative_features(10)"
      ],
      "execution_count": 23,
      "outputs": [
        {
          "output_type": "error",
          "ename": "IndexError",
          "evalue": "ignored",
          "traceback": [
            "\u001b[0;31m---------------------------------------------------------------------------\u001b[0m",
            "\u001b[0;31mIndexError\u001b[0m                                Traceback (most recent call last)",
            "\u001b[0;32m<ipython-input-23-fd733149d2b7>\u001b[0m in \u001b[0;36m<module>\u001b[0;34m()\u001b[0m\n\u001b[0;32m----> 1\u001b[0;31m \u001b[0mfeatures5\u001b[0m \u001b[0;34m=\u001b[0m \u001b[0mgenerate_features\u001b[0m\u001b[0;34m(\u001b[0m\u001b[0mdata\u001b[0m\u001b[0;34m,\u001b[0m \u001b[0mbad_words\u001b[0m\u001b[0;34m,\u001b[0m \u001b[0mdates\u001b[0m\u001b[0;34m)\u001b[0m\u001b[0;34m\u001b[0m\u001b[0;34m\u001b[0m\u001b[0m\n\u001b[0m\u001b[1;32m      2\u001b[0m \u001b[0mtrain5\u001b[0m\u001b[0;34m,\u001b[0m \u001b[0mdev5\u001b[0m\u001b[0;34m,\u001b[0m \u001b[0mtest5\u001b[0m \u001b[0;34m=\u001b[0m \u001b[0mdivide_featureset\u001b[0m\u001b[0;34m(\u001b[0m\u001b[0mfeatures5\u001b[0m\u001b[0;34m)\u001b[0m\u001b[0;34m\u001b[0m\u001b[0;34m\u001b[0m\u001b[0m\n\u001b[1;32m      3\u001b[0m \u001b[0mclassifier5\u001b[0m \u001b[0;34m=\u001b[0m \u001b[0mnltk\u001b[0m\u001b[0;34m.\u001b[0m\u001b[0mNaiveBayesClassifier\u001b[0m\u001b[0;34m.\u001b[0m\u001b[0mtrain\u001b[0m\u001b[0;34m(\u001b[0m\u001b[0mtrain5\u001b[0m\u001b[0;34m)\u001b[0m\u001b[0;34m\u001b[0m\u001b[0;34m\u001b[0m\u001b[0m\n\u001b[1;32m      4\u001b[0m \u001b[0mprint\u001b[0m\u001b[0;34m(\u001b[0m\u001b[0mnltk\u001b[0m\u001b[0;34m.\u001b[0m\u001b[0mclassify\u001b[0m\u001b[0;34m.\u001b[0m\u001b[0maccuracy\u001b[0m\u001b[0;34m(\u001b[0m\u001b[0mclassifier5\u001b[0m\u001b[0;34m,\u001b[0m \u001b[0mdev5\u001b[0m\u001b[0;34m)\u001b[0m\u001b[0;34m)\u001b[0m\u001b[0;34m\u001b[0m\u001b[0;34m\u001b[0m\u001b[0m\n\u001b[1;32m      5\u001b[0m \u001b[0mclassifier5\u001b[0m\u001b[0;34m.\u001b[0m\u001b[0mshow_most_informative_features\u001b[0m\u001b[0;34m(\u001b[0m\u001b[0;36m10\u001b[0m\u001b[0;34m)\u001b[0m\u001b[0;34m\u001b[0m\u001b[0;34m\u001b[0m\u001b[0m\n",
            "\u001b[0;32m<ipython-input-2-e6e16487ae41>\u001b[0m in \u001b[0;36mgenerate_features\u001b[0;34m(data, vocabulary, fCol)\u001b[0m\n\u001b[1;32m     97\u001b[0m     \u001b[0;32mor\u001b[0m \u001b[0;32mnot\u001b[0m \u001b[0mthe\u001b[0m \u001b[0mword\u001b[0m \u001b[0;32mis\u001b[0m \u001b[0;32min\u001b[0m \u001b[0mthe\u001b[0m \u001b[0mtweet\u001b[0m \u001b[0;34m-\u001b[0m \u001b[0malong\u001b[0m \u001b[0;32mwith\u001b[0m \u001b[0mthe\u001b[0m \u001b[0mlabel\u001b[0m \u001b[0mof\u001b[0m \u001b[0mthe\u001b[0m \u001b[0mtweet\u001b[0m\u001b[0;34m.\u001b[0m\u001b[0;34m\u001b[0m\u001b[0;34m\u001b[0m\u001b[0m\n\u001b[1;32m     98\u001b[0m     \"\"\"\n\u001b[0;32m---> 99\u001b[0;31m     \u001b[0mfeatures\u001b[0m \u001b[0;34m=\u001b[0m \u001b[0;34m[\u001b[0m\u001b[0;34m(\u001b[0m\u001b[0mtweet_features\u001b[0m\u001b[0;34m(\u001b[0m\u001b[0md\u001b[0m\u001b[0;34m.\u001b[0m\u001b[0msplit\u001b[0m\u001b[0;34m(\u001b[0m\u001b[0;34m)\u001b[0m\u001b[0;34m,\u001b[0m \u001b[0mvocabulary\u001b[0m\u001b[0;34m)\u001b[0m\u001b[0;34m,\u001b[0m \u001b[0mc\u001b[0m\u001b[0;34m)\u001b[0m \u001b[0;32mfor\u001b[0m \u001b[0;34m(\u001b[0m\u001b[0md\u001b[0m\u001b[0;34m,\u001b[0m\u001b[0mc\u001b[0m\u001b[0;34m)\u001b[0m \u001b[0;32min\u001b[0m \u001b[0mzip\u001b[0m\u001b[0;34m(\u001b[0m\u001b[0mdata\u001b[0m\u001b[0;34m[\u001b[0m\u001b[0;34m:\u001b[0m\u001b[0;34m,\u001b[0m\u001b[0;36m6\u001b[0m\u001b[0;34m]\u001b[0m\u001b[0;34m,\u001b[0m \u001b[0mdata\u001b[0m\u001b[0;34m[\u001b[0m\u001b[0;34m:\u001b[0m\u001b[0;34m,\u001b[0m\u001b[0mfCol\u001b[0m\u001b[0;34m]\u001b[0m\u001b[0;34m)\u001b[0m\u001b[0;34m]\u001b[0m \u001b[0;31m# column 6 is text data, column 2 is gender data\u001b[0m\u001b[0;34m\u001b[0m\u001b[0;34m\u001b[0m\u001b[0m\n\u001b[0m\u001b[1;32m    100\u001b[0m     \u001b[0;32mreturn\u001b[0m \u001b[0mfeatures\u001b[0m\u001b[0;34m\u001b[0m\u001b[0;34m\u001b[0m\u001b[0m\n",
            "\u001b[0;31mIndexError\u001b[0m: only integers, slices (`:`), ellipsis (`...`), numpy.newaxis (`None`) and integer or boolean arrays are valid indices"
          ]
        }
      ]
    },
    {
      "cell_type": "code",
      "metadata": {
        "id": "Eb6BeHwZpMlA",
        "colab_type": "code",
        "colab": {
          "base_uri": "https://localhost:8080/",
          "height": 198
        },
        "outputId": "52455922-1578-4b93-c137-04b336e4c76e"
      },
      "source": [
        "#In progress: creation of bad word bigrams \n",
        "tokens = [token for sentence in data[:,6] for token in sentence.split()]\n",
        "bigrams2 = list(nltk.ngrams(tokens, 2))\n",
        "fdbigrams2 = nltk.FreqDist(bigrams2)"
      ],
      "execution_count": 1,
      "outputs": [
        {
          "output_type": "error",
          "ename": "NameError",
          "evalue": "ignored",
          "traceback": [
            "\u001b[0;31m---------------------------------------------------------------------------\u001b[0m",
            "\u001b[0;31mNameError\u001b[0m                                 Traceback (most recent call last)",
            "\u001b[0;32m<ipython-input-1-a37d89cc256f>\u001b[0m in \u001b[0;36m<module>\u001b[0;34m()\u001b[0m\n\u001b[0;32m----> 1\u001b[0;31m \u001b[0mtokens\u001b[0m \u001b[0;34m=\u001b[0m \u001b[0;34m[\u001b[0m\u001b[0mtoken\u001b[0m \u001b[0;32mfor\u001b[0m \u001b[0msentence\u001b[0m \u001b[0;32min\u001b[0m \u001b[0mdata\u001b[0m\u001b[0;34m[\u001b[0m\u001b[0;34m:\u001b[0m\u001b[0;34m,\u001b[0m\u001b[0;36m6\u001b[0m\u001b[0;34m]\u001b[0m \u001b[0;32mfor\u001b[0m \u001b[0mtoken\u001b[0m \u001b[0;32min\u001b[0m \u001b[0msentence\u001b[0m\u001b[0;34m.\u001b[0m\u001b[0msplit\u001b[0m\u001b[0;34m(\u001b[0m\u001b[0;34m)\u001b[0m\u001b[0;34m]\u001b[0m\u001b[0;34m\u001b[0m\u001b[0;34m\u001b[0m\u001b[0m\n\u001b[0m\u001b[1;32m      2\u001b[0m \u001b[0mbigrams2\u001b[0m \u001b[0;34m=\u001b[0m \u001b[0mlist\u001b[0m\u001b[0;34m(\u001b[0m\u001b[0mnltk\u001b[0m\u001b[0;34m.\u001b[0m\u001b[0mngrams\u001b[0m\u001b[0;34m(\u001b[0m\u001b[0mtokens\u001b[0m\u001b[0;34m,\u001b[0m \u001b[0;36m2\u001b[0m\u001b[0;34m)\u001b[0m\u001b[0;34m)\u001b[0m\u001b[0;34m\u001b[0m\u001b[0;34m\u001b[0m\u001b[0m\n\u001b[1;32m      3\u001b[0m \u001b[0mfdbigrams2\u001b[0m \u001b[0;34m=\u001b[0m \u001b[0mnltk\u001b[0m\u001b[0;34m.\u001b[0m\u001b[0mFreqDist\u001b[0m\u001b[0;34m(\u001b[0m\u001b[0mbigrams2\u001b[0m\u001b[0;34m)\u001b[0m\u001b[0;34m\u001b[0m\u001b[0;34m\u001b[0m\u001b[0m\n",
            "\u001b[0;31mNameError\u001b[0m: name 'data' is not defined"
          ]
        }
      ]
    },
    {
      "cell_type": "code",
      "metadata": {
        "id": "17BsrQCwpPde",
        "colab_type": "code",
        "colab": {}
      },
      "source": [
        ""
      ],
      "execution_count": 0,
      "outputs": []
    }
  ]
}