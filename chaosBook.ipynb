{
  "nbformat": 4,
  "nbformat_minor": 0,
  "metadata": {
    "colab": {
      "name": "chaosBook.ipynb",
      "provenance": [],
      "collapsed_sections": [],
      "toc_visible": true
    },
    "kernelspec": {
      "name": "python3",
      "display_name": "Python 3"
    }
  },
  "cells": [
    {
      "cell_type": "code",
      "metadata": {
        "id": "8M2sbI5Acnrh",
        "colab_type": "code",
        "outputId": "8f2fb063-650e-477a-a887-67ae0dd24fea",
        "colab": {
          "base_uri": "https://localhost:8080/",
          "height": 34
        }
      },
      "source": [
        "! git clone https://github.com/kaspergroenbek98/first-first-year-project.git"
      ],
      "execution_count": 1,
      "outputs": [
        {
          "output_type": "stream",
          "text": [
            "fatal: destination path 'first-first-year-project' already exists and is not an empty directory.\n"
          ],
          "name": "stdout"
        }
      ]
    },
    {
      "cell_type": "code",
      "metadata": {
        "id": "k-mYQqynljhN",
        "colab_type": "code",
        "colab": {
          "base_uri": "https://localhost:8080/",
          "height": 134
        },
        "outputId": "f022b73c-3e42-439e-a9d3-f9a40dd973b2"
      },
      "source": [
        "import numpy as np\n",
        "import nltk\n",
        "import csv\n",
        "import nltk\n",
        "nltk.download('punkt')\n",
        "nltk.download('stopwords')\n",
        "stopwords = set(nltk.corpus.stopwords.words('english'))\n",
        "\n",
        "\n",
        "# Read the data into a header and a data np.array - the array is then shuffled\n",
        "with open('first-first-year-project/data.csv', encoding='latin1') as csv_file:\n",
        "    csv_reader = csv.reader(csv_file, delimiter=',')\n",
        "    data = np.array([np.array(line) for line in csv_reader])\n",
        "header, data = data[0,:], data[1:,:]\n",
        "print(header)\n",
        "np.random.shuffle(data)"
      ],
      "execution_count": 2,
      "outputs": [
        {
          "output_type": "stream",
          "text": [
            "[nltk_data] Downloading package punkt to /root/nltk_data...\n",
            "[nltk_data]   Package punkt is already up-to-date!\n",
            "[nltk_data] Downloading package stopwords to /root/nltk_data...\n",
            "[nltk_data]   Package stopwords is already up-to-date!\n",
            "['other_topic' 'resolution_topics' 'gender' 'name' 'Resolution_Category'\n",
            " 'retweet_count' 'text' 'tweet_coord' 'tweet_created' 'tweet_date'\n",
            " 'tweet_id' 'tweet_location' 'tweet_state' 'user_timezone' 'tweet_region']\n"
          ],
          "name": "stdout"
        }
      ]
    },
    {
      "cell_type": "code",
      "metadata": {
        "id": "_Z52jOoIc8DX",
        "colab_type": "code",
        "colab": {}
      },
      "source": [
        "porter = nltk.PorterStemmer()\n",
        "\n",
        "# Remove all stopwords, non-alphabet words (except spaces), and stem the words\n",
        "for i, row in enumerate(data[:,6]):\n",
        "    row = row.lower()\n",
        "    row = ''.join(char for char in row if char.isalpha() or char == ' ')\n",
        "    row = ' '.join(porter.stem(word) for word in row.split() if word not in stopwords)\n",
        "    data[i,6] = row\n",
        "\n",
        "# Create a long string of ALL words, then token them, and create a frequency distribution\n",
        "actualWords = ' '.join(token for sentence in data[:,6] for token in sentence.split())\n",
        "#tokens = nltk.word_tokenize(actualWords)\n",
        "tokens = actualWords.split()\n",
        "fd = nltk.FreqDist(tokens)\n"
      ],
      "execution_count": 0,
      "outputs": []
    },
    {
      "cell_type": "code",
      "metadata": {
        "colab_type": "code",
        "id": "wMSGwZrGnsz5",
        "colab": {}
      },
      "source": [
        "word_features = [word for (word, count) in fd.most_common(2000)]\n",
        "\n",
        "# Compares the words of a specfic tweet with the top 2000 most-used words\n",
        "def tweet_features(tweet):\n",
        "    tweet_words = set(tweet)\n",
        "    features = {}\n",
        "    for word in word_features:\n",
        "        features['contains(%s)' % word] = (word in tweet_words)\n",
        "    return features\n",
        "\n",
        "\"\"\" \n",
        "Creates tuples with a vector containing boolean values depending on whether\n",
        "or not the word is in the tweet - along with the label of the tweet.\n",
        "\"\"\"\n",
        "size = 1000\n",
        "featuresets = [(tweet_features(d.split()), c) for (d,c) in zip(data[:size,6], data[:size,2])] # column 6 is text data, column 2 is gender data\n",
        "train_set, test_set = featuresets[size//2:], featuresets[:size//2]\n",
        "classifier = nltk.NaiveBayesClassifier.train(train_set)"
      ],
      "execution_count": 0,
      "outputs": []
    },
    {
      "cell_type": "code",
      "metadata": {
        "id": "QGxzNW7Jdnkn",
        "colab_type": "code",
        "outputId": "5426cb33-57c4-4c3a-9f40-e98a4101ca6b",
        "colab": {
          "base_uri": "https://localhost:8080/",
          "height": 218
        }
      },
      "source": [
        "print(nltk.classify.accuracy(classifier, test_set))\n",
        "classifier.show_most_informative_features(10)"
      ],
      "execution_count": 5,
      "outputs": [
        {
          "output_type": "stream",
          "text": [
            "0.554\n",
            "Most Informative Features\n",
            "           contains(fit) = True           female : male   =      5.0 : 1.0\n",
            "contains(hashtagoftheweek) = True           female : male   =      5.0 : 1.0\n",
            "      contains(cariloha) = True           female : male   =      4.2 : 1.0\n",
            "           contains(big) = True             male : female =      3.8 : 1.0\n",
            "        contains(finish) = True           female : male   =      3.4 : 1.0\n",
            "          contains(girl) = True             male : female =      3.2 : 1.0\n",
            "           contains(amp) = True           female : male   =      3.0 : 1.0\n",
            "         contains(everi) = True             male : female =      3.0 : 1.0\n",
            "          contains(goal) = True           female : male   =      2.8 : 1.0\n",
            "          contains(self) = True           female : male   =      2.7 : 1.0\n"
          ],
          "name": "stdout"
        }
      ]
    },
    {
      "cell_type": "code",
      "metadata": {
        "id": "b2RcCHH4f5YB",
        "colab_type": "code",
        "colab": {}
      },
      "source": [
        "bigrm = list(nltk.ngrams(tokens, 2))\n",
        "fdbigrm = nltk.FreqDist(bigrm)\n"
      ],
      "execution_count": 0,
      "outputs": []
    },
    {
      "cell_type": "code",
      "metadata": {
        "colab_type": "code",
        "id": "tLzbcMATnqxK",
        "colab": {}
      },
      "source": [
        "word_features = list(fdbigrm.keys())[:2000]\n",
        "\n",
        "def tweet_features(tweet):\n",
        "    tweet_words = set(tweet)\n",
        "    features = {}\n",
        "    for word in word_features:\n",
        "        features[f'contains({word})'] = (word in tweet_words)\n",
        "    return features\n",
        "size = 1000\n",
        "featuresets = [(tweet_features(nltk.ngrams(d.split(), 2)), c) for (d,c) in zip(data[:size,6], data[:size,2])] # column 6 is text data, column 2 is gender data\n",
        "train_set, test_set = featuresets[size//2:], featuresets[:size//2]\n",
        "classifier = nltk.NaiveBayesClassifier.train(train_set)"
      ],
      "execution_count": 0,
      "outputs": []
    },
    {
      "cell_type": "code",
      "metadata": {
        "id": "ORt2vo69pTLH",
        "colab_type": "code",
        "outputId": "b4608032-ad75-4497-ce7c-cdd5a7c6d11c",
        "colab": {
          "base_uri": "https://localhost:8080/",
          "height": 218
        }
      },
      "source": [
        "print(nltk.classify.accuracy(classifier, test_set))\n",
        "classifier.show_most_informative_features(10)"
      ],
      "execution_count": 8,
      "outputs": [
        {
          "output_type": "stream",
          "text": [
            "0.5\n",
            "Most Informative Features\n",
            "contains(('make', 'money')) = True           female : male   =      2.7 : 1.0\n",
            "contains(('newyearsresolut', 'lose')) = True           female : male   =      2.7 : 1.0\n",
            "contains(('get', 'back')) = True             male : female =      2.0 : 1.0\n",
            "contains(('year', 'newyearsresolut')) = True             male : female =      1.9 : 1.0\n",
            "contains(('resolut', 'go')) = True           female : male   =      1.9 : 1.0\n",
            "contains(('chrisbrown', 'supper')) = True           female : male   =      1.9 : 1.0\n",
            "contains(('smoke', 'cigarett')) = True           female : male   =      1.9 : 1.0\n",
            "contains(('think', 'newyearsresolut')) = True           female : male   =      1.9 : 1.0\n",
            " contains(('go', 'tri')) = True           female : male   =      1.9 : 1.0\n",
            "contains(('money', 'thank')) = True           female : male   =      1.9 : 1.0\n"
          ],
          "name": "stdout"
        }
      ]
    },
    {
      "cell_type": "code",
      "metadata": {
        "id": "hkCun1ExqVEX",
        "colab_type": "code",
        "outputId": "3df34ecc-55e7-4420-d3d4-69c2a8d056db",
        "colab": {
          "base_uri": "https://localhost:8080/",
          "height": 34
        }
      },
      "source": [
        "'newyearsresolution' in stopwords"
      ],
      "execution_count": 9,
      "outputs": [
        {
          "output_type": "execute_result",
          "data": {
            "text/plain": [
              "False"
            ]
          },
          "metadata": {
            "tags": []
          },
          "execution_count": 9
        }
      ]
    },
    {
      "cell_type": "code",
      "metadata": {
        "id": "FKsY-EyFrOt0",
        "colab_type": "code",
        "colab": {}
      },
      "source": [
        ""
      ],
      "execution_count": 0,
      "outputs": []
    },
    {
      "cell_type": "code",
      "metadata": {
        "id": "oQbeOyVQuAf8",
        "colab_type": "code",
        "colab": {}
      },
      "source": [
        ""
      ],
      "execution_count": 0,
      "outputs": []
    }
  ]
}