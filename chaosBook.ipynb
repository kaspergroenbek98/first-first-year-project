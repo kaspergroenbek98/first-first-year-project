{
  "nbformat": 4,
  "nbformat_minor": 0,
  "metadata": {
    "colab": {
      "name": "chaosBook.ipynb",
      "provenance": [],
      "collapsed_sections": [],
      "toc_visible": true,
      "include_colab_link": true
    },
    "kernelspec": {
      "name": "python3",
      "display_name": "Python 3"
    }
  },
  "cells": [
    {
      "cell_type": "markdown",
      "metadata": {
        "id": "view-in-github",
        "colab_type": "text"
      },
      "source": [
        "<a href=\"https://colab.research.google.com/github/kaspergroenbek98/first-first-year-project/blob/master/chaosBook.ipynb\" target=\"_parent\"><img src=\"https://colab.research.google.com/assets/colab-badge.svg\" alt=\"Open In Colab\"/></a>"
      ]
    },
    {
      "cell_type": "code",
      "metadata": {
        "id": "8M2sbI5Acnrh",
        "colab_type": "code",
        "colab": {
          "base_uri": "https://localhost:8080/",
          "height": 33
        },
        "outputId": "79979ba9-d8a2-437f-874c-20a4a8629cd0"
      },
      "source": [
        "! git clone https://github.com/kaspergroenbek98/first-first-year-project.git\n",
        "### All import calls.\n",
        "import numpy as np\n",
        "import nltk\n",
        "import csv\n",
        "import nltk\n",
        "import re\n",
        "from collections import Counter\n",
        "import pandas as pd\n",
        "from sklearn.utils import shuffle\n",
        "from sklearn.feature_extraction.text import CountVectorizer\n",
        "from sklearn.model_selection import train_test_split\n",
        "from sklearn.feature_extraction.text import TfidfTransformer\n",
        "from sklearn.naive_bayes import MultinomialNB\n",
        "from sklearn import metrics\n",
        "import seaborn as sn\n",
        "import matplotlib.pyplot as plt"
      ],
      "execution_count": 1,
      "outputs": [
        {
          "output_type": "stream",
          "text": [
            "fatal: destination path 'first-first-year-project' already exists and is not an empty directory.\n"
          ],
          "name": "stdout"
        }
      ]
    },
    {
      "cell_type": "code",
      "metadata": {
        "id": "k-mYQqynljhN",
        "colab_type": "code",
        "colab": {}
      },
      "source": [
        "### Functions\n",
        "\n",
        "### START OF VOCABULARY ###\n",
        "def generate_vocabulary(data, fCol, vocabType):\n",
        "    '''\n",
        "    Returns a list/vocabulary of len <= \"size\" based on the vocabType and the featureColumn specified\n",
        "    '''\n",
        "    size = 2000\n",
        "    # Only get large groups to get representative data\n",
        "    major_features = np.array(nltk.FreqDist(data[:,fCol]).most_common(5))\n",
        "    major_masks = np.array([data[:,fCol] == f for (f, cnt) in major_features])\n",
        "    fqs = [tweet_word_distribution(data[mask,:]) for mask in major_masks]\n",
        "    return list(vocabType(data, fCol, major_features, major_masks, fqs, size))\n",
        "\n",
        "def vocab_feature_most_common(data, fCol, major_features, major_masks, fqs, size):\n",
        "    '''\n",
        "    Returns a vocabulary checklist for each tweet to check off (True/False).\n",
        "    Prioritises the most common words for each feature\n",
        "    '''\n",
        "    vocabulary = set()\n",
        "    # get the most common words in each freq dist. zip(*...) removes the counts from fd, and updates vocabulary ONLY with the words\n",
        "    for fd in fqs:\n",
        "        vocabulary.update(list(zip(*fd.most_common(size//len(major_features))))[0])\n",
        "    return vocabulary\n",
        "\n",
        "def vocab_feature_unique(data, fCol, major_features, major_masks, fqs, size):\n",
        "    '''\n",
        "    Returns a vocabulary checklist for each tweet to check off (True/False).\n",
        "    Prioritises words which are uncommon in other features, but common in one feature\n",
        "    '''\n",
        "    major_mask = np.array(major_masks.sum(axis=0), dtype='bool')\n",
        "    fq = tweet_word_distribution(data[major_mask,:]) # Get a fq over the words used by all in the major categories\n",
        "    words = [word for (word, cnt) in fq.items() if cnt >= 20] # removes rarely mentioned words which probably arent indicative of a significant trend\n",
        "    priorityArray = []\n",
        "    for i, word in enumerate(words):\n",
        "        priorityArray.append([word])\n",
        "        #divide frequency of word in that state by the tweetcount from that state, and by how often that word is used in total by all states\n",
        "        score = max(fqs[fID][word]/(int(major_features[fID][1])*fq[word]) for fID in range(len(major_masks)))\n",
        "        priorityArray[i].append(score)\n",
        "    priorityArray.sort(key = lambda x: x[1], reverse=True) # Sort them based on their best score\n",
        "    vocabulary = list(zip(*priorityArray[:size]))[0] # Removes their scores\n",
        "    return vocabulary\n",
        "### END OF VOCABULARY ###\n",
        "    \n",
        "def identify_hashtags(data):\n",
        "    col = np.zeros((data.shape[0],1), 'str')\n",
        "    data = np.append(data, col, axis=1)\n",
        "    for i, text in enumerate(data[:,6]):\n",
        "        results = re.findall(r\"#\\w+\", text) # Finds matches and returns them as an iterable\n",
        "        if results:\n",
        "            data[i,15] = ' '.join(results)\n",
        "        else:\n",
        "            data[i,15] = ''\n",
        "\n",
        "def tweet_features(tweet, word_features):\n",
        "    tweet_words = set(tweet)\n",
        "    features = {}\n",
        "    for word in word_features:\n",
        "        features[f'contains({word})'] = (word in tweet_words)\n",
        "    return features\n",
        "\n",
        "def divide_featureset(feature):\n",
        "    '''\n",
        "    Divides numpy featureset of (featureVector, classification) into a 80:10:10 train:dev:test set\n",
        "    '''\n",
        "    testSize = int(len(feature)*0.8)\n",
        "    train, rest = feature[:testSize], feature[testSize:]\n",
        "    restSize = len(rest)//2\n",
        "    dev, test = rest[:restSize], rest[restSize:]\n",
        "    return train, dev, test\n",
        "\n",
        "#RegEx cleaner for SKlearn (Maybe merge with Clean()).\n",
        "def cleaner(text):\n",
        "    text = text.lower()\n",
        "    text = re.sub(r\"what's\", \"what is \", text)\n",
        "    text = re.sub(r\"\\'s\", \" \", text)\n",
        "    text = re.sub(r\"\\'ve\", \" have \", text)\n",
        "    text = re.sub(r\"can't\", \"can not \", text)\n",
        "    text = re.sub(r\"n't\", \" not \", text)\n",
        "    text = re.sub(r\"i'm\", \"i am \", text)\n",
        "    text = re.sub(r\"\\'re\", \" are \", text)\n",
        "    text = re.sub(r\"\\'d\", \" would \", text)\n",
        "    text = re.sub(r\"\\'ll\", \" will \", text)\n",
        "    text = re.sub(r\"\\'scuse\", \" excuse \", text)\n",
        "    text = re.sub('\\W', ' ', text)\n",
        "    text = re.sub('\\s+', ' ', text)\n",
        "    text = re.sub('b4', 'before', text)\n",
        "    text = re.sub(r'@[A-Za-z0-9]+','',text)\n",
        "    text = re.sub('https?://[A-Za-z0-9./]+','', text)\n",
        "    text = text.strip(' ')\n",
        "    return text\n",
        "\n",
        "def clean(data):\n",
        "    porter = nltk.PorterStemmer()\n",
        "\n",
        "    # Remove all stopwords, non-alphabet words (except spaces), and stem the words\n",
        "    for i, row in enumerate(data[:,6]):\n",
        "        row = row.lower()\n",
        "        row = ''.join(char for char in row if char.isalpha() or char == ' ')\n",
        "        row = ' '.join(porter.stem(word) for word in row.split() if word not in stopwords)\n",
        "        data[i,6] = row\n",
        "\n",
        "def tweet_word_distribution(data):\n",
        "    # Split each sentence into tokens, and create a frequency distribution\n",
        "    tokens = [token for sentence in data[:,6] for token in sentence.split()]\n",
        "    fd = nltk.FreqDist(tokens)\n",
        "    return fd\n",
        "\n",
        "def generate_features(data, vocabulary, fCol):\n",
        "    \"\"\" \n",
        "    Creates tuples with a vector containing boolean values depending on whether\n",
        "    or not the word is in the tweet - along with the label of the tweet.\n",
        "    \"\"\"\n",
        "    features = [(tweet_features(d.split(), vocabulary), c) for (d,c) in zip(data[:,6], data[:,fCol])] # column 6 is text data, column 2 is gender data\n",
        "    return features"
      ],
      "execution_count": 0,
      "outputs": []
    },
    {
      "cell_type": "code",
      "metadata": {
        "id": "qgUqeGED4LM3",
        "colab_type": "code",
        "outputId": "d586409b-7fc3-419e-950e-6eb3baad2294",
        "colab": {
          "base_uri": "https://localhost:8080/",
          "height": 150
        }
      },
      "source": [
        "nltk.download('punkt')\n",
        "nltk.download('stopwords')\n",
        "stopwords = set(nltk.corpus.stopwords.words('english'))\n",
        "\n",
        "# Read the data into a header and a data np.array - the array is then shuffled\n",
        "with open('first-first-year-project/data.csv', encoding='ISO-8859-1') as csv_file:\n",
        "    csv_reader = csv.reader(csv_file, delimiter=',')\n",
        "    data = np.array([np.array(line) for line in csv_reader])\n",
        "header, data = data[0,:], data[1:,:]\n",
        "np.random.shuffle(data)\n",
        "print(header)\n",
        "\n",
        "# Identify hashtags and insert them in the 15th column\n",
        "identify_hashtags(data)\n",
        "print(data.shape) # Note that shape starts at 1 and ends at 16, so the interval is [0:15]"
      ],
      "execution_count": 3,
      "outputs": [
        {
          "output_type": "stream",
          "text": [
            "[nltk_data] Downloading package punkt to /root/nltk_data...\n",
            "[nltk_data]   Package punkt is already up-to-date!\n",
            "[nltk_data] Downloading package stopwords to /root/nltk_data...\n",
            "[nltk_data]   Package stopwords is already up-to-date!\n",
            "['other_topic' 'resolution_topics' 'gender' 'name' 'Resolution_Category'\n",
            " 'retweet_count' 'text' 'tweet_coord' 'tweet_created' 'tweet_date'\n",
            " 'tweet_id' 'tweet_location' 'tweet_state' 'user_timezone' 'tweet_region']\n",
            "(5011, 15)\n"
          ],
          "name": "stdout"
        }
      ]
    },
    {
      "cell_type": "code",
      "metadata": {
        "id": "_Z52jOoIc8DX",
        "colab_type": "code",
        "colab": {}
      },
      "source": [
        "clean(data)\n",
        "fCol = {'gender':2, 'Resolution_Category':4, 'tweet_state':12, 'hashtags':15} # Dont think hashtags work right now\n",
        "vocabType = [vocab_feature_most_common, vocab_feature_unique][0] #Pick one by replacing the number in [int]\n",
        "vocabulary =         generate_vocabulary(data, fCol['tweet_state'], vocabType)\n",
        "features = generate_features(data, vocabulary, fCol['tweet_state'])\n",
        "train, dev, test = divide_featureset(features)"
      ],
      "execution_count": 0,
      "outputs": []
    },
    {
      "cell_type": "code",
      "metadata": {
        "colab_type": "code",
        "id": "wMSGwZrGnsz5",
        "outputId": "fccfca2f-e9ef-40bd-f1a7-a22ec7d3284d",
        "colab": {
          "base_uri": "https://localhost:8080/",
          "height": 217
        }
      },
      "source": [
        "classifier = nltk.NaiveBayesClassifier.train(train)\n",
        "print(nltk.classify.accuracy(classifier, dev))\n",
        "classifier.show_most_informative_features(10)"
      ],
      "execution_count": 5,
      "outputs": [
        {
          "output_type": "stream",
          "text": [
            "0.12574850299401197\n",
            "Most Informative Features\n",
            "          contains(quit) = True               ND : CA     =    196.3 : 1.0\n",
            "        contains(chocol) = True               DE : CA     =    147.2 : 1.0\n",
            "          contains(babi) = True               ND : NY     =    146.7 : 1.0\n",
            "      contains(cariloha) = True               DE : NY     =    110.0 : 1.0\n",
            "          contains(loos) = True               DE : NY     =    110.0 : 1.0\n",
            " contains(mlbpaclubhous) = True               ND : TX     =    100.7 : 1.0\n",
            "          contains(date) = True               MT : CA     =     98.2 : 1.0\n",
            "         contains(catch) = True               MT : CA     =     98.2 : 1.0\n",
            "      contains(mcdonald) = True               MT : CA     =     98.2 : 1.0\n",
            "          contains(step) = True               DE : CA     =     88.3 : 1.0\n"
          ],
          "name": "stdout"
        }
      ]
    },
    {
      "cell_type": "markdown",
      "metadata": {
        "id": "B31ntxQ2oRt-",
        "colab_type": "text"
      },
      "source": [
        "# Bad Word Implementation"
      ]
    },
    {
      "cell_type": "code",
      "metadata": {
        "id": "O6AunX_EoF-O",
        "colab_type": "code",
        "colab": {}
      },
      "source": [
        "import pandas as pd\n",
        "import itertools\n",
        "clean(data)\n",
        "np.random.shuffle(data)"
      ],
      "execution_count": 0,
      "outputs": []
    },
    {
      "cell_type": "code",
      "metadata": {
        "id": "ZPzajOR5oXG5",
        "colab_type": "code",
        "colab": {}
      },
      "source": [
        "bad_words_txt = pd.read_csv('first-first-year-project/bad-words.txt', sep='\\n',)\n",
        "bad_words_array = bad_words_txt.to_numpy()\n",
        "bad_words_list = bad_words_array.tolist()\n",
        "bad_words = list(itertools.chain(*bad_words_list))"
      ],
      "execution_count": 0,
      "outputs": []
    },
    {
      "cell_type": "code",
      "metadata": {
        "id": "Kr5p5Xs0od1-",
        "colab_type": "code",
        "colab": {}
      },
      "source": [
        "tweets_created = list(data[:,8])\n",
        "dates = [i.split(' ',1)[0] for i in tweets_created]\n",
        "times = [i.split(' ',1)[-1] for i in tweets_created]"
      ],
      "execution_count": 0,
      "outputs": []
    },
    {
      "cell_type": "code",
      "metadata": {
        "id": "kp9AK4z6on99",
        "colab_type": "code",
        "colab": {}
      },
      "source": [
        "fCol = {'gender':2, 'Resolution_Category':4, 'tweet_created':8, 'tweet_state':12, 'tweet_region':14, 'hashtags':15}"
      ],
      "execution_count": 0,
      "outputs": []
    },
    {
      "cell_type": "markdown",
      "metadata": {
        "id": "f5MT_aLbowDs",
        "colab_type": "text"
      },
      "source": [
        "## Bad words and Gender"
      ]
    },
    {
      "cell_type": "code",
      "metadata": {
        "id": "8Ckc99PYoqDB",
        "colab_type": "code",
        "colab": {}
      },
      "source": [
        "features2 = generate_features(data, bad_words, fCol['gender'])\n",
        "train2, dev2, test2 = divide_featureset(features2)"
      ],
      "execution_count": 0,
      "outputs": []
    },
    {
      "cell_type": "code",
      "metadata": {
        "id": "z6z5sKylozeJ",
        "colab_type": "code",
        "outputId": "08c2e51d-6f22-480c-dc98-e84d95e9789b",
        "colab": {
          "base_uri": "https://localhost:8080/",
          "height": 301
        }
      },
      "source": [
        "classifier2 = nltk.NaiveBayesClassifier.train(train2)\n",
        "print(nltk.classify.accuracy(classifier2, dev2))\n",
        "classifier2.show_most_informative_features(15)"
      ],
      "execution_count": 11,
      "outputs": [
        {
          "output_type": "stream",
          "text": [
            "0.48902195608782434\n",
            "Most Informative Features\n",
            "          contains(dick) = True           female : male   =      4.4 : 1.0\n",
            "          contains(butt) = True             male : female =      4.3 : 1.0\n",
            "         contains(adult) = True           female : male   =      3.7 : 1.0\n",
            "         contains(fight) = True             male : female =      3.4 : 1.0\n",
            "          contains(kill) = True             male : female =      3.4 : 1.0\n",
            "          contains(burn) = True           female : male   =      3.0 : 1.0\n",
            "        contains(christ) = True           female : male   =      3.0 : 1.0\n",
            "           contains(fat) = True             male : female =      2.8 : 1.0\n",
            "          contains(damn) = True             male : female =      2.5 : 1.0\n",
            "          contains(boob) = True           female : male   =      2.3 : 1.0\n",
            "          contains(poop) = True             male : female =      2.3 : 1.0\n",
            "         contains(crack) = True             male : female =      2.3 : 1.0\n",
            "          contains(cunt) = True             male : female =      2.3 : 1.0\n",
            "        contains(stupid) = True           female : male   =      2.2 : 1.0\n",
            "        contains(toilet) = True             male : female =      2.2 : 1.0\n"
          ],
          "name": "stdout"
        }
      ]
    },
    {
      "cell_type": "markdown",
      "metadata": {
        "id": "X-_5HBP1o6Ho",
        "colab_type": "text"
      },
      "source": [
        "## Bad words and Categories"
      ]
    },
    {
      "cell_type": "code",
      "metadata": {
        "id": "3MZrIe2Go0FT",
        "colab_type": "code",
        "outputId": "150d46bb-ac46-4040-981d-2434652f2df6",
        "colab": {
          "base_uri": "https://localhost:8080/",
          "height": 217
        }
      },
      "source": [
        "features3 = generate_features(data, bad_words, fCol['Resolution_Category'])\n",
        "train3, dev3, test3 = divide_featureset(features3)\n",
        "classifier3 = nltk.NaiveBayesClassifier.train(train3)\n",
        "print(nltk.classify.accuracy(classifier3, dev3))\n",
        "classifier3.show_most_informative_features(10)"
      ],
      "execution_count": 12,
      "outputs": [
        {
          "output_type": "stream",
          "text": [
            "0.3652694610778443\n",
            "Most Informative Features\n",
            "       contains(swallow) = True           Educat : Person =     20.2 : 1.0\n",
            "        contains(german) = True           Educat : Person =     20.2 : 1.0\n",
            "         contains(nigga) = True           Career : Person =     14.5 : 1.0\n",
            "         contains(shoot) = True           Career : Person =     14.5 : 1.0\n",
            "         contains(color) = True           Time M : Person =     12.7 : 1.0\n",
            "          contains(damn) = True           Philan : Person =     12.1 : 1.0\n",
            "           contains(god) = True           Person : Humor  =      9.9 : 1.0\n",
            "         contains(fight) = True           Philan : Health =      9.4 : 1.0\n",
            "           contains(kid) = True           Philan : Health =      9.4 : 1.0\n",
            "        contains(fucker) = True           Career : Humor  =      8.1 : 1.0\n"
          ],
          "name": "stdout"
        }
      ]
    },
    {
      "cell_type": "markdown",
      "metadata": {
        "id": "TSpZm8KWpBmN",
        "colab_type": "text"
      },
      "source": [
        "## Bad words and Regions"
      ]
    },
    {
      "cell_type": "code",
      "metadata": {
        "id": "7QYADktCo_Jv",
        "colab_type": "code",
        "outputId": "3650b2eb-99e3-4f7f-db60-9ec7b7c31ee2",
        "colab": {
          "base_uri": "https://localhost:8080/",
          "height": 217
        }
      },
      "source": [
        "features4 = generate_features(data, bad_words, fCol['tweet_region'])\n",
        "train4, dev4, test4 = divide_featureset(features4)\n",
        "classifier4 = nltk.NaiveBayesClassifier.train(train4)\n",
        "print(nltk.classify.accuracy(classifier4, dev4))\n",
        "classifier4.show_most_informative_features(10)"
      ],
      "execution_count": 13,
      "outputs": [
        {
          "output_type": "stream",
          "text": [
            "0.32335329341317365\n",
            "Most Informative Features\n",
            "          contains(dick) = True           Midwes : South  =      5.7 : 1.0\n",
            "        contains(harder) = True           Midwes : West   =      4.6 : 1.0\n",
            "        contains(bigger) = True             West : South  =      4.5 : 1.0\n",
            "           contains(die) = True             West : South  =      3.7 : 1.0\n",
            "         contains(faith) = True           Midwes : South  =      3.4 : 1.0\n",
            "          contains(burn) = True             West : Northe =      3.0 : 1.0\n",
            "          contains(kill) = True            South : West   =      3.0 : 1.0\n",
            "          contains(fear) = True           Midwes : West   =      2.9 : 1.0\n",
            "          contains(shit) = True           Northe : South  =      2.9 : 1.0\n",
            "           contains(kid) = True             West : South  =      2.6 : 1.0\n"
          ],
          "name": "stdout"
        }
      ]
    },
    {
      "cell_type": "markdown",
      "metadata": {
        "id": "PnIzzNTRpHJy",
        "colab_type": "text"
      },
      "source": [
        "## Bad words and Dates"
      ]
    },
    {
      "cell_type": "code",
      "metadata": {
        "id": "To2TttQ1pGio",
        "colab_type": "code",
        "outputId": "ecb08d11-e471-4830-a13a-89a6a490cf0a",
        "colab": {
          "base_uri": "https://localhost:8080/",
          "height": 349
        }
      },
      "source": [
        "#In progress: comparison of bad words and dates\n",
        "features5 = generate_features(data, bad_words, dates) #Dates not working atm, gonna raise an error.\n",
        "train5, dev5, test5 = divide_featureset(features5)\n",
        "classifier5 = nltk.NaiveBayesClassifier.train(train5)\n",
        "print(nltk.classify.accuracy(classifier5, dev5))\n",
        "classifier5.show_most_informative_features(10)"
      ],
      "execution_count": 14,
      "outputs": [
        {
          "output_type": "error",
          "ename": "IndexError",
          "evalue": "ignored",
          "traceback": [
            "\u001b[0;31m---------------------------------------------------------------------------\u001b[0m",
            "\u001b[0;31mIndexError\u001b[0m                                Traceback (most recent call last)",
            "\u001b[0;32m<ipython-input-14-fd733149d2b7>\u001b[0m in \u001b[0;36m<module>\u001b[0;34m()\u001b[0m\n\u001b[0;32m----> 1\u001b[0;31m \u001b[0mfeatures5\u001b[0m \u001b[0;34m=\u001b[0m \u001b[0mgenerate_features\u001b[0m\u001b[0;34m(\u001b[0m\u001b[0mdata\u001b[0m\u001b[0;34m,\u001b[0m \u001b[0mbad_words\u001b[0m\u001b[0;34m,\u001b[0m \u001b[0mdates\u001b[0m\u001b[0;34m)\u001b[0m\u001b[0;34m\u001b[0m\u001b[0;34m\u001b[0m\u001b[0m\n\u001b[0m\u001b[1;32m      2\u001b[0m \u001b[0mtrain5\u001b[0m\u001b[0;34m,\u001b[0m \u001b[0mdev5\u001b[0m\u001b[0;34m,\u001b[0m \u001b[0mtest5\u001b[0m \u001b[0;34m=\u001b[0m \u001b[0mdivide_featureset\u001b[0m\u001b[0;34m(\u001b[0m\u001b[0mfeatures5\u001b[0m\u001b[0;34m)\u001b[0m\u001b[0;34m\u001b[0m\u001b[0;34m\u001b[0m\u001b[0m\n\u001b[1;32m      3\u001b[0m \u001b[0mclassifier5\u001b[0m \u001b[0;34m=\u001b[0m \u001b[0mnltk\u001b[0m\u001b[0;34m.\u001b[0m\u001b[0mNaiveBayesClassifier\u001b[0m\u001b[0;34m.\u001b[0m\u001b[0mtrain\u001b[0m\u001b[0;34m(\u001b[0m\u001b[0mtrain5\u001b[0m\u001b[0;34m)\u001b[0m\u001b[0;34m\u001b[0m\u001b[0;34m\u001b[0m\u001b[0m\n\u001b[1;32m      4\u001b[0m \u001b[0mprint\u001b[0m\u001b[0;34m(\u001b[0m\u001b[0mnltk\u001b[0m\u001b[0;34m.\u001b[0m\u001b[0mclassify\u001b[0m\u001b[0;34m.\u001b[0m\u001b[0maccuracy\u001b[0m\u001b[0;34m(\u001b[0m\u001b[0mclassifier5\u001b[0m\u001b[0;34m,\u001b[0m \u001b[0mdev5\u001b[0m\u001b[0;34m)\u001b[0m\u001b[0;34m)\u001b[0m\u001b[0;34m\u001b[0m\u001b[0;34m\u001b[0m\u001b[0m\n\u001b[1;32m      5\u001b[0m \u001b[0mclassifier5\u001b[0m\u001b[0;34m.\u001b[0m\u001b[0mshow_most_informative_features\u001b[0m\u001b[0;34m(\u001b[0m\u001b[0;36m10\u001b[0m\u001b[0;34m)\u001b[0m\u001b[0;34m\u001b[0m\u001b[0;34m\u001b[0m\u001b[0m\n",
            "\u001b[0;32m<ipython-input-2-2cc4617f7f73>\u001b[0m in \u001b[0;36mgenerate_features\u001b[0;34m(data, vocabulary, fCol)\u001b[0m\n\u001b[1;32m    109\u001b[0m     \u001b[0;32mor\u001b[0m \u001b[0;32mnot\u001b[0m \u001b[0mthe\u001b[0m \u001b[0mword\u001b[0m \u001b[0;32mis\u001b[0m \u001b[0;32min\u001b[0m \u001b[0mthe\u001b[0m \u001b[0mtweet\u001b[0m \u001b[0;34m-\u001b[0m \u001b[0malong\u001b[0m \u001b[0;32mwith\u001b[0m \u001b[0mthe\u001b[0m \u001b[0mlabel\u001b[0m \u001b[0mof\u001b[0m \u001b[0mthe\u001b[0m \u001b[0mtweet\u001b[0m\u001b[0;34m.\u001b[0m\u001b[0;34m\u001b[0m\u001b[0;34m\u001b[0m\u001b[0m\n\u001b[1;32m    110\u001b[0m     \"\"\"\n\u001b[0;32m--> 111\u001b[0;31m     \u001b[0mfeatures\u001b[0m \u001b[0;34m=\u001b[0m \u001b[0;34m[\u001b[0m\u001b[0;34m(\u001b[0m\u001b[0mtweet_features\u001b[0m\u001b[0;34m(\u001b[0m\u001b[0md\u001b[0m\u001b[0;34m.\u001b[0m\u001b[0msplit\u001b[0m\u001b[0;34m(\u001b[0m\u001b[0;34m)\u001b[0m\u001b[0;34m,\u001b[0m \u001b[0mvocabulary\u001b[0m\u001b[0;34m)\u001b[0m\u001b[0;34m,\u001b[0m \u001b[0mc\u001b[0m\u001b[0;34m)\u001b[0m \u001b[0;32mfor\u001b[0m \u001b[0;34m(\u001b[0m\u001b[0md\u001b[0m\u001b[0;34m,\u001b[0m\u001b[0mc\u001b[0m\u001b[0;34m)\u001b[0m \u001b[0;32min\u001b[0m \u001b[0mzip\u001b[0m\u001b[0;34m(\u001b[0m\u001b[0mdata\u001b[0m\u001b[0;34m[\u001b[0m\u001b[0;34m:\u001b[0m\u001b[0;34m,\u001b[0m\u001b[0;36m6\u001b[0m\u001b[0;34m]\u001b[0m\u001b[0;34m,\u001b[0m \u001b[0mdata\u001b[0m\u001b[0;34m[\u001b[0m\u001b[0;34m:\u001b[0m\u001b[0;34m,\u001b[0m\u001b[0mfCol\u001b[0m\u001b[0;34m]\u001b[0m\u001b[0;34m)\u001b[0m\u001b[0;34m]\u001b[0m \u001b[0;31m# column 6 is text data, column 2 is gender data\u001b[0m\u001b[0;34m\u001b[0m\u001b[0;34m\u001b[0m\u001b[0m\n\u001b[0m\u001b[1;32m    112\u001b[0m     \u001b[0;32mreturn\u001b[0m \u001b[0mfeatures\u001b[0m\u001b[0;34m\u001b[0m\u001b[0;34m\u001b[0m\u001b[0m\n",
            "\u001b[0;31mIndexError\u001b[0m: only integers, slices (`:`), ellipsis (`...`), numpy.newaxis (`None`) and integer or boolean arrays are valid indices"
          ]
        }
      ]
    },
    {
      "cell_type": "code",
      "metadata": {
        "id": "Eb6BeHwZpMlA",
        "colab_type": "code",
        "colab": {}
      },
      "source": [
        "#In progress: creation of bad word bigrams \n",
        "tokens = [token for sentence in data[:,6] for token in sentence.split()]\n",
        "bigrams2 = list(nltk.ngrams(tokens, 2))\n",
        "fdbigrams2 = nltk.FreqDist(bigrams2)"
      ],
      "execution_count": 0,
      "outputs": []
    },
    {
      "cell_type": "markdown",
      "metadata": {
        "id": "xTzpuDaQZxBz",
        "colab_type": "text"
      },
      "source": [
        "#**K-Fold implementation** (WORKING!)"
      ]
    },
    {
      "cell_type": "code",
      "metadata": {
        "id": "RL1uHw7DtiRN",
        "colab_type": "code",
        "colab": {}
      },
      "source": [
        "# Data preperations, set all the relevant labels here as done earlier\n",
        "np.random.shuffle(data)\n",
        "kf_fCol = {'gender':2, 'Resolution_Category':4, 'tweet_state':12, 'hashtags':15}\n",
        "kf_vocabType = [vocab_feature_most_common, vocab_feature_unique][0] #Pick one by replacing the number in [int]\n",
        "kf_vocabulary = generate_vocabulary(data, kf_fCol['gender'], kf_vocabType)\n",
        "kf_features = generate_features(data, vocabulary, fCol['gender'])\n",
        "\n",
        "\n",
        "#kf_features = kf_features[:500]  # Define the amount of data to use"
      ],
      "execution_count": 0,
      "outputs": []
    },
    {
      "cell_type": "code",
      "metadata": {
        "id": "OgbMAIBlZ5vf",
        "colab_type": "code",
        "outputId": "c345b056-aa41-41aa-a079-6c142f25bbf9",
        "colab": {
          "base_uri": "https://localhost:8080/",
          "height": 1000
        }
      },
      "source": [
        "# Import KFold model and define the amount of folds\n",
        "from sklearn.model_selection import KFold  # import model\n",
        "k = 5  # amount of folds\n",
        "\n",
        "# Store an object of the KFold class in a variable with shuffle=True\n",
        "kf = KFold(n_splits=k, shuffle=True)\n",
        "\n",
        "\"\"\" \n",
        "Loop for the models and their designated folds (1 to k)\n",
        "and calculate the average of each of the 'k' models' accuracy\n",
        "using the NB classifier and k-fold model class.\n",
        "\"\"\"\n",
        "sum = 0 # sum to calculate average of model accuracies\n",
        "iteration = 1\n",
        "for train, test in kf.split(kf_features): # Loop over K chunk of data splits\n",
        "    train_data = np.array(kf_features)[train] # New chunk of train data\n",
        "    test_data = np.array(kf_features)[test] # New chunk of test data\n",
        "\n",
        "    # Define the NB classifier to the train data\n",
        "    kd_classifier = nltk.NaiveBayesClassifier.train(train_data)\n",
        "\n",
        "    print(\"Iteration no.\", iteration, \"\\n\")\n",
        "    print(\"Accuracy of iteration number\", iteration, \":\", nltk.classify.accuracy(kd_classifier, test_data))\n",
        "    kd_classifier.show_most_informative_features(10)\n",
        "    print(\"\\n\\n\")\n",
        "\n",
        "    sum += nltk.classify.accuracy(kd_classifier, test_data) # Add current sum to total\n",
        "\n",
        "    iteration += 1 # Increment variable to display next iteration\n",
        "\n",
        "# Average calculated by the sum divided by the number of folds\n",
        "average = sum/k\n",
        "print(\"The accuracy average of the K-fold models:\", average)"
      ],
      "execution_count": 17,
      "outputs": [
        {
          "output_type": "stream",
          "text": [
            "Iteration no. 1 \n",
            "\n",
            "Accuracy of iteration number 1 : 0.5992023928215354\n",
            "Most Informative Features\n",
            "      contains(cariloha) = True           female : male   =     16.1 : 1.0\n",
            "contains(hashtagoftheweek) = True           female : male   =     13.5 : 1.0\n",
            "          contains(miss) = True             male : female =      7.1 : 1.0\n",
            "          contains(wife) = True             male : female =      5.8 : 1.0\n",
            "        contains(youtub) = True             male : female =      5.8 : 1.0\n",
            "        contains(chocol) = True           female : male   =      5.6 : 1.0\n",
            "       contains(tixwish) = True           female : male   =      5.6 : 1.0\n",
            "          contains(pick) = True           female : male   =      5.3 : 1.0\n",
            "      contains(encourag) = True             male : female =      5.1 : 1.0\n",
            "           contains(ima) = True             male : female =      5.1 : 1.0\n",
            "\n",
            "\n",
            "\n",
            "Iteration no. 2 \n",
            "\n",
            "Accuracy of iteration number 2 : 0.5748502994011976\n",
            "Most Informative Features\n",
            "      contains(cariloha) = True           female : male   =     10.3 : 1.0\n",
            "contains(hashtagoftheweek) = True           female : male   =      8.3 : 1.0\n",
            "          contains(weed) = True             male : female =      5.6 : 1.0\n",
            "        contains(chocol) = True           female : male   =      5.1 : 1.0\n",
            "          contains(trip) = True           female : male   =      5.1 : 1.0\n",
            "        contains(youtub) = True             male : female =      4.9 : 1.0\n",
            "        contains(bigger) = True             male : female =      4.9 : 1.0\n",
            "         contains(smile) = True           female : male   =      4.8 : 1.0\n",
            "          contains(join) = True             male : female =      4.7 : 1.0\n",
            "         contains(throw) = True           female : male   =      4.4 : 1.0\n",
            "\n",
            "\n",
            "\n",
            "Iteration no. 3 \n",
            "\n",
            "Accuracy of iteration number 3 : 0.5558882235528942\n",
            "Most Informative Features\n",
            "      contains(cariloha) = True           female : male   =     11.5 : 1.0\n",
            "         contains(worri) = True           female : male   =     10.4 : 1.0\n",
            "contains(hashtagoftheweek) = True           female : male   =      9.1 : 1.0\n",
            "          contains(yoga) = True           female : male   =      7.7 : 1.0\n",
            "        contains(bigger) = True             male : female =      6.3 : 1.0\n",
            "             contains(p) = True             male : female =      6.2 : 1.0\n",
            "             contains(ü) = True           female : male   =      5.7 : 1.0\n",
            "          contains(wife) = True             male : female =      5.6 : 1.0\n",
            "          contains(miss) = True             male : female =      5.6 : 1.0\n",
            "        contains(chocol) = True           female : male   =      5.0 : 1.0\n",
            "\n",
            "\n",
            "\n",
            "Iteration no. 4 \n",
            "\n",
            "Accuracy of iteration number 4 : 0.5608782435129741\n",
            "Most Informative Features\n",
            "      contains(cariloha) = True           female : male   =     20.1 : 1.0\n",
            "contains(hashtagoftheweek) = True           female : male   =     15.4 : 1.0\n",
            "           contains(ùªî) = True           female : male   =      5.8 : 1.0\n",
            "          contains(name) = True             male : female =      5.3 : 1.0\n",
            "          contains(wish) = True           female : male   =      5.1 : 1.0\n",
            "          contains(pant) = True           female : male   =      5.1 : 1.0\n",
            "        contains(chocol) = True           female : male   =      5.1 : 1.0\n",
            "      contains(encourag) = True             male : female =      4.9 : 1.0\n",
            "         contains(grate) = True           female : male   =      4.4 : 1.0\n",
            "         contains(faith) = True           female : male   =      4.4 : 1.0\n",
            "\n",
            "\n",
            "\n",
            "Iteration no. 5 \n",
            "\n",
            "Accuracy of iteration number 5 : 0.5748502994011976\n",
            "Most Informative Features\n",
            "      contains(cariloha) = True           female : male   =     12.5 : 1.0\n",
            "contains(hashtagoftheweek) = True           female : male   =     10.0 : 1.0\n",
            "          contains(pant) = True           female : male   =      5.8 : 1.0\n",
            "           contains(act) = True             male : female =      5.5 : 1.0\n",
            "          contains(wife) = True             male : female =      5.5 : 1.0\n",
            "        contains(youtub) = True             male : female =      5.5 : 1.0\n",
            "       contains(tixwish) = True           female : male   =      5.1 : 1.0\n",
            "          contains(dick) = True           female : male   =      5.1 : 1.0\n",
            "          contains(weed) = True             male : female =      4.9 : 1.0\n",
            "         contains(fight) = True             male : female =      4.9 : 1.0\n",
            "\n",
            "\n",
            "\n",
            "The accuracy average of the K-fold models: 0.5731338917379598\n"
          ],
          "name": "stdout"
        }
      ]
    },
    {
      "cell_type": "markdown",
      "metadata": {
        "id": "o0-zsvVVbTSG",
        "colab_type": "text"
      },
      "source": [
        "# NB in Sklearn and Pandas."
      ]
    },
    {
      "cell_type": "code",
      "metadata": {
        "id": "60atowcBbdM7",
        "colab_type": "code",
        "colab": {}
      },
      "source": [
        "# Using pandas to load the data file into a CSV.\n",
        "# ISO-8859-1 is the encoding for tweets.\n",
        "df = pd.read_csv(\"first-first-year-project/data.csv\", encoding = \"ISO-8859-1\")\n",
        "#First step to cleaning the data, removing the categories we dont need.\n",
        "panda_data = df.drop([\"other_topic\",\"resolution_topics\", \"tweet_coord\", \"tweet_created\",\"tweet_id\", \"name\", \"retweet_count\", \"tweet_date\", \"user_timezone\"], axis = 1)\n",
        "\n",
        "\n",
        "#Cleaning all the text in our data with our newly build cleaner() function.\n",
        "for i in range(len(panda_data.text)):\n",
        "  panda_data.text[i] = cleaner(panda_data.text[i])\n",
        "\n",
        "from sklearn.model_selection import train_test_split\n",
        "#Splitting the data into train and test set. + shuffling while doing so. the test size is = 20%.\n",
        "train, test = train_test_split(panda_data,train_size=0.8, test_size=0.2, shuffle=True)"
      ],
      "execution_count": 0,
      "outputs": []
    },
    {
      "cell_type": "code",
      "metadata": {
        "id": "FO8f9gaGgFQ-",
        "colab_type": "code",
        "outputId": "3f147718-34fe-42a0-c62c-6119e9ec9868",
        "colab": {
          "base_uri": "https://localhost:8080/",
          "height": 134
        }
      },
      "source": [
        "#Using Sklearn, playing around with the CountVectorizer.\n",
        "vectorizer = CountVectorizer(analyzer=\"word\", stop_words= \"english\",min_df= 5, binary= True)\n",
        "#Create vectorized train set\n",
        "X_train = vectorizer.fit_transform(train.text)\n",
        "X_train.toarray()\n",
        "#Create vectorized test set\n",
        "X_test = vectorizer.transform(test.text)\n",
        "X_test.toarray()\n",
        "# print(vectorizer.get_feature_names())\n",
        "# print(vectorizer.vocabulary_.get(u\"newyearsresolution\"))\n",
        "# print(X_train.toarray())\n",
        "# print(X_train.shape)"
      ],
      "execution_count": 30,
      "outputs": [
        {
          "output_type": "execute_result",
          "data": {
            "text/plain": [
              "array([[0, 0, 0, ..., 0, 0, 0],\n",
              "       [0, 0, 0, ..., 0, 0, 0],\n",
              "       [0, 0, 0, ..., 0, 0, 0],\n",
              "       ...,\n",
              "       [0, 0, 0, ..., 0, 0, 0],\n",
              "       [0, 0, 0, ..., 0, 0, 0],\n",
              "       [0, 0, 0, ..., 0, 0, 0]])"
            ]
          },
          "metadata": {
            "tags": []
          },
          "execution_count": 30
        }
      ]
    },
    {
      "cell_type": "code",
      "metadata": {
        "id": "zq2RrtmbcMAq",
        "colab_type": "code",
        "outputId": "c6e0d662-6024-4197-b6a0-75ca87de2417",
        "colab": {
          "base_uri": "https://localhost:8080/",
          "height": 50
        }
      },
      "source": [
        "#Here we use term frequency to downscale the importance of words occuring many times in a tweet. That way we hopefully get more weighted words. \n",
        "tfidf_transformer = TfidfTransformer()\n",
        "X_train_tfidf = tfidf_transformer.fit_transform(X_train)\n",
        "print(X_train_tfidf.shape)\n",
        "X_test_tfidf = tfidf_transformer.fit_transform(X_test)\n",
        "print(X_test_tfidf.shape)"
      ],
      "execution_count": 24,
      "outputs": [
        {
          "output_type": "stream",
          "text": [
            "(4008, 8054)\n",
            "(1003, 8054)\n"
          ],
          "name": "stdout"
        }
      ]
    },
    {
      "cell_type": "code",
      "metadata": {
        "id": "nhiL5hB2cP7O",
        "colab_type": "code",
        "outputId": "3cb02d4d-db1e-4105-c9d7-c019d35d9db3",
        "colab": {
          "base_uri": "https://localhost:8080/",
          "height": 354
        }
      },
      "source": [
        "#Accuracy without using term frequency.\n",
        "NBmodel = MultinomialNB().fit(X_train, train.Resolution_Category)\n",
        "predicted_1 = NBmodel.predict(X_test)\n",
        "np.mean(predicted_1 == test.Resolution_Category)\n",
        "\n",
        "#Accuracy using term frequency. (Odd that its lower, but we do have a small data set)\n",
        "NBmodel = MultinomialNB().fit(X_train_tfidf, train.Resolution_Category)\n",
        "predicted_2 = NBmodel.predict(X_test_tfidf)\n",
        "np.mean(predicted_2 == test.Resolution_Category)\n",
        "\n",
        "#A classification_report without term frequency. Right now its pretty trash.\n",
        "print(metrics.classification_report(test.Resolution_Category, predicted_1))"
      ],
      "execution_count": 27,
      "outputs": [
        {
          "output_type": "stream",
          "text": [
            "                              precision    recall  f1-score   support\n",
            "\n",
            "                      Career       0.00      0.00      0.00        15\n",
            "          Education/Training       0.00      0.00      0.00        22\n",
            "Family/Friends/Relationships       0.50      0.03      0.06        59\n",
            "                     Finance       1.00      0.39      0.56        31\n",
            "            Health & Fitness       0.63      0.50      0.56       173\n",
            "                       Humor       0.49      0.21      0.30       210\n",
            "             Personal Growth       0.44      0.92      0.59       354\n",
            "               Philanthropic       1.00      0.06      0.11        18\n",
            "        Recreation & Leisure       0.60      0.06      0.11        99\n",
            "Time Management/Organization       0.00      0.00      0.00        22\n",
            "\n",
            "                    accuracy                           0.48      1003\n",
            "                   macro avg       0.47      0.22      0.23      1003\n",
            "                weighted avg       0.50      0.48      0.40      1003\n",
            "\n"
          ],
          "name": "stdout"
        },
        {
          "output_type": "stream",
          "text": [
            "/usr/local/lib/python3.6/dist-packages/sklearn/metrics/_classification.py:1272: UndefinedMetricWarning: Precision and F-score are ill-defined and being set to 0.0 in labels with no predicted samples. Use `zero_division` parameter to control this behavior.\n",
            "  _warn_prf(average, modifier, msg_start, len(result))\n"
          ],
          "name": "stderr"
        }
      ]
    },
    {
      "cell_type": "code",
      "metadata": {
        "id": "ofd0tq7_ch5x",
        "colab_type": "code",
        "colab": {}
      },
      "source": [
        "#just creating a list of the different categories in the \"Resolution_Category\" column.\n",
        "categories = list()\n",
        "for i in test.Resolution_Category:\n",
        "  if i in categories:\n",
        "    pass\n",
        "  else:\n",
        "    categories.append(i)"
      ],
      "execution_count": 0,
      "outputs": []
    },
    {
      "cell_type": "code",
      "metadata": {
        "id": "R94JjaHxclsR",
        "colab_type": "code",
        "outputId": "4177cce7-46d5-4fd2-f2c0-db3b46d6fb8b",
        "colab": {
          "base_uri": "https://localhost:8080/",
          "height": 599
        }
      },
      "source": [
        "# A nice confusion matrix using seaborn.\n",
        "array = metrics.confusion_matrix(test.Resolution_Category, predicted_1)\n",
        "plt.figure(figsize=(12,7))\n",
        "sn.set(font_scale=1) # for x/y label size\n",
        "sn.heatmap(array, annot=True, annot_kws={\"size\": 10}, xticklabels = categories, yticklabels = categories) # annot_kws is the size of the numbers.\n",
        "plt.show()"
      ],
      "execution_count": 29,
      "outputs": [
        {
          "output_type": "display_data",
          "data": {
            "image/png": "[encoded data removed]",
            "text/plain": [
              "<Figure size 864x504 with 2 Axes>"
            ]
          },
          "metadata": {
            "tags": []
          }
        }
      ]
    },
    {
      "cell_type": "code",
      "metadata": {
        "id": "LaiJAKDHia24",
        "colab_type": "code",
        "colab": {}
      },
      "source": [
        ""
      ],
      "execution_count": 0,
      "outputs": []
    }
  ]
}