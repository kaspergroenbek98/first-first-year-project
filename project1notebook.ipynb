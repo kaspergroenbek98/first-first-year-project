{
  "nbformat": 4,
  "nbformat_minor": 0,
  "metadata": {
    "colab": {
      "name": "Untitled1.ipynb",
      "provenance": [],
      "include_colab_link": true
    },
    "kernelspec": {
      "name": "python3",
      "display_name": "Python 3"
    }
  },
  "cells": [
    {
      "cell_type": "markdown",
      "metadata": {
        "id": "view-in-github",
        "colab_type": "text"
      },
      "source": [
        "<a href=\"https://colab.research.google.com/github/kaspergroenbek98/first-first-year-project/blob/master/project1notebook.ipynb\" target=\"_parent\"><img src=\"https://colab.research.google.com/assets/colab-badge.svg\" alt=\"Open In Colab\"/></a>"
      ]
    },
    {
      "cell_type": "code",
      "metadata": {
        "id": "zV3IQMyQnWOs",
        "colab_type": "code",
        "outputId": "c5d82336-d31a-4f11-be0e-77ab726bdd17",
        "colab": {
          "base_uri": "https://localhost:8080/",
          "height": 87
        }
      },
      "source": [
        "! git clone https://github.com/kaspergroenbek98/first-first-year-project.git\n",
        "### All import calls.\n",
        "import numpy as np\n",
        "import nltk\n",
        "import csv\n",
        "import re\n",
        "from collections import Counter\n",
        "import pandas as pd\n",
        "from sklearn.utils import shuffle\n",
        "from sklearn.feature_extraction.text import CountVectorizer\n",
        "from sklearn.model_selection import train_test_split\n",
        "from sklearn.feature_extraction.text import TfidfTransformer\n",
        "from sklearn.naive_bayes import MultinomialNB\n",
        "from sklearn import metrics\n",
        "import seaborn as sn\n",
        "import matplotlib.pyplot as plt\n",
        "nltk.download('stopwords')"
      ],
      "execution_count": 6,
      "outputs": [
        {
          "output_type": "stream",
          "text": [
            "fatal: destination path 'first-first-year-project' already exists and is not an empty directory.\n",
            "[nltk_data] Downloading package stopwords to /root/nltk_data...\n",
            "[nltk_data]   Package stopwords is already up-to-date!\n"
          ],
          "name": "stdout"
        },
        {
          "output_type": "execute_result",
          "data": {
            "text/plain": [
              "True"
            ]
          },
          "metadata": {
            "tags": []
          },
          "execution_count": 6
        }
      ]
    },
    {
      "cell_type": "code",
      "metadata": {
        "id": "fB_r1ZxGuEu-",
        "colab_type": "code",
        "outputId": "d6e52f53-f90d-4c14-99aa-d1f3eea16e12",
        "colab": {
          "base_uri": "https://localhost:8080/",
          "height": 35
        }
      },
      "source": [
        "### Functions\n",
        "\n",
        "### START OF VOCABULARY ###\n",
        "def generate_vocabulary(data, featureData, vocabType): #featureData = data.gender\n",
        "    '''\n",
        "    Returns a list/vocabulary of len <= \"size\" based on the vocabType and the featureColumn specified\n",
        "    '''\n",
        "    size = 2000\n",
        "    # Only get large groups to get representative data\n",
        "    major_features = nltk.FreqDist(featureData).most_common(5)\n",
        "    major_masks = [featureData == f for (f, cnt) in major_features]\n",
        "    fqs = [nltk.FreqDist(word for line in data.text[mask] for word in line.split()) for mask in major_masks]\n",
        "    return list(vocabType(data, featureData, major_features, major_masks, fqs, size))\n",
        "\n",
        "def vocab_most_common(data, featureData, major_features, major_masks, fqs, size):\n",
        "    '''\n",
        "    Returns a vocabulary checklist for each tweet to check off (True/False).\n",
        "    Prioritises the most common words for each feature\n",
        "    '''\n",
        "    vocabulary = set()\n",
        "    # get the most common words in each freq dist. zip(*...) removes the counts from fd, and updates vocabulary ONLY with the words\n",
        "    for fd in fqs:\n",
        "        vocabulary.update(list(zip(*fd.most_common(size//len(major_features))))[0])\n",
        "    return vocabulary\n",
        "\n",
        "def vocab_unique(data, fCol, major_features, major_masks, fqs, size):\n",
        "    '''\n",
        "    Returns a vocabulary checklist for each tweet to check off (True/False).\n",
        "    Prioritises words which are uncommon in other features, but common in one feature\n",
        "    '''\n",
        "    major_mask = np.array(np.array(major_masks).sum(axis=0), dtype='bool')\n",
        "    fq = nltk.FreqDist(word for line in data.text[major_mask] for word in line.split()) # Get a fq for ALL words in the major categories\n",
        "    words = [word for (word, cnt) in fq.items() if cnt >= 20] # removes rarely mentioned words which probably arent indicative of a significant trend\n",
        "    priorityArray = []\n",
        "    for i, word in enumerate(words):\n",
        "        priorityArray.append([word])\n",
        "        #divide frequency of word in that state by the tweetcount from that state, and by how often that word is used in total by all states\n",
        "        score = max(fqs[fID][word]/(int(major_features[fID][1])*fq[word]) for fID in range(len(major_masks)))\n",
        "        priorityArray[i].append(score)\n",
        "    priorityArray.sort(key = lambda x: x[1], reverse=True) # Sort them based on their best score\n",
        "    vocabulary = list(zip(*priorityArray[:size]))[0] # Removes their scores\n",
        "    return vocabulary\n",
        "\n",
        "\n",
        "\n",
        "\n",
        "### END OF VOCABULARY ###\n",
        "\n",
        "# def identify_hashtags(data):\n",
        "#     col = np.zeros((data.shape[0],1), 'str')\n",
        "#     data = np.append(data, col, axis=1)\n",
        "#     for i, text in enumerate(data[:,6]):\n",
        "#         results = re.findall(r\"#\\w+\", text) # Finds matches and returns them as an iterable\n",
        "#         if results:\n",
        "#             data[i,15] = ' '.join(results)\n",
        "#         else:\n",
        "#             data[i,15] = ''\n",
        "\n",
        "\n",
        "def divide_featureset(feature):\n",
        "    '''\n",
        "    Divides numpy featureset of (featureVector, classification) into a 80:10:10 train:dev:test set\n",
        "    '''\n",
        "    testSize = int(len(feature)*0.8)\n",
        "    train, rest = feature[:testSize], feature[testSize:]\n",
        "    restSize = len(rest)//2\n",
        "    dev, test = rest[:restSize], rest[restSize:]\n",
        "    return train, dev, test\n",
        "\n",
        "def cleaner(text):\n",
        "    stemmer = nltk.SnowballStemmer(\"english\", ignore_stopwords=True)\n",
        "    text = text.lower() #All lowercase\n",
        "    text = re.sub(r'@[A-Za-z0-9]+','',text)\n",
        "    text = re.sub('https?://[A-Za-z0-9./]+','', text)\n",
        "    text = re.sub(r\"what's\", \"what is \", text)\n",
        "    text = re.sub(r\"\\'s\", \" \", text)\n",
        "    text = re.sub(r\"\\'ve\", \" have \", text)\n",
        "    text = re.sub(r\"can't\", \"can not \", text)\n",
        "    text = re.sub(r\"n't\", \" not \", text)\n",
        "    text = re.sub(r\"i'm\", \"i am \", text)\n",
        "    text = re.sub(r\"\\'re\", \" are \", text)\n",
        "    text = re.sub(r\"\\'d\", \" would \", text)\n",
        "    text = re.sub(r\"\\'ll\", \" will \", text)\n",
        "    text = re.sub(r\"\\'scuse\", \" excuse \", text)\n",
        "    text = re.sub('\\W', ' ', text)\n",
        "    text = re.sub('\\s+', ' ', text)\n",
        "    text = re.sub('b4', 'before', text)\n",
        "    text = text.strip(' ')\n",
        "    text = ''.join(char for char in text if char.isalpha() or char == ' ')\n",
        "    text = ''.join(stemmer.stem(text)) #Stem the words using SnowballStemmer\n",
        "    return text\n",
        "\n",
        "def delete_rows(dataset, column, ID):\n",
        "  \"\"\"\n",
        "  Takes a panda dataframe as first arg. The df column as second arg and the ID \n",
        "  as third. Returns a mask shoving only those values in the dataset.\n",
        "  \"\"\"\n",
        "  mask = dataset[dataset[str(column)] == str(ID)]\n",
        "  return mask"
      ],
      "execution_count": 11,
      "outputs": [
        {
          "output_type": "execute_result",
          "data": {
            "text/plain": [
              "'\\nNeeds a concrete decision on future use of the code below\\n'"
            ]
          },
          "metadata": {
            "tags": []
          },
          "execution_count": 11
        }
      ]
    },
    {
      "cell_type": "code",
      "metadata": {
        "id": "dVgs7KbInxrx",
        "colab_type": "code",
        "outputId": "3e020d04-4e6d-411c-8e24-0dcceae7fb7c",
        "colab": {
          "base_uri": "https://localhost:8080/",
          "height": 35
        }
      },
      "source": [
        "# Using pandas to load the data file into a CSV.\n",
        "# ISO-8859-1 is the encoding for tweets.\n",
        "df = pd.read_csv(\"first-first-year-project/data.csv\", encoding = \"ISO-8859-1\")\n",
        "#First step to cleaning the data, removing the categories we dont need.\n",
        "data = df.drop([\"other_topic\",\"resolution_topics\", \"tweet_coord\", \"tweet_created\",\"tweet_id\", \"name\", \"retweet_count\", \"tweet_date\", \"user_timezone\"], axis = 1)\n",
        "#Cleaning all the text in our data with our newly build cleaner() function.\n",
        "for i in range(len(data.text)):\n",
        "  data.text[i] = cleaner(data.text[i])\n",
        "\n",
        "data.text[1]"
      ],
      "execution_count": 25,
      "outputs": [
        {
          "output_type": "execute_result",
          "data": {
            "text/plain": [
              "'newyearsresolution finally master part of kitchen sink'"
            ]
          },
          "metadata": {
            "tags": []
          },
          "execution_count": 25
        }
      ]
    },
    {
      "cell_type": "code",
      "metadata": {
        "id": "vEtMB4V7tuWJ",
        "colab_type": "code",
        "outputId": "9e9a4b2b-3dc8-44d4-ff32-5f630b19b07f",
        "colab": {
          "base_uri": "https://localhost:8080/",
          "height": 1000
        }
      },
      "source": [
        "# Vectorize using sklearn based on a vocabulary\n",
        "featureData = data.Resolution_Category ### CHANGE HERE ###\n",
        "vectorizer = CountVectorizer(analyzer=\"word\", stop_words= \"english\", min_df = 20, binary= True, vocabulary = generate_vocabulary(data, featureData, vocab_unique))\n",
        "\n",
        "categories = list(zip(*nltk.FreqDist(featureData).most_common(5)))[0]\n",
        "mask = np.sum([featureData == category for category in categories], axis = 0, dtype='bool')\n",
        "\n",
        "featureData = featureData[mask].reset_index()\n",
        "featureData.drop([\"index\"], axis = 1)\n",
        "featureData = featureData.Resolution_Category ### CHANGE HERE ###\n",
        "\n",
        "#Here we use term frequency to downscale the importance of words occuring many times in a tweet. That way we hopefully get more weighted words. \n",
        "tfidf_transformer = TfidfTransformer()\n",
        "features = vectorizer.fit_transform(data.text[mask])\n",
        "tfidf_features = tfidf_transformer.fit_transform(features)\n",
        "\n",
        "from sklearn.model_selection import KFold\n",
        "# Store an object of the KFold class in a variable with shuffle=True\n",
        "k= 10\n",
        "kf = KFold(n_splits=k, shuffle=True)\n",
        "# \"\"\" \n",
        "# Loop for the models and their designated folds (1 to k)\n",
        "# and calculate the average of each of the 'k' models' accuracy\n",
        "# using the NB classifier and k-fold model class.\n",
        "# \"\"\"\n",
        "count = 0 # sum to calculate average of model accuracies\n",
        "for i, (train, test) in enumerate(kf.split(features)): # Loop over K chunk of data splits\n",
        "    #Accuracy using term frequency. (Odd that its lower, but we do have a small data set)\n",
        "    NBmodel = MultinomialNB().fit(tfidf_features[train], featureData[train])\n",
        "    predicted = NBmodel.predict(tfidf_features[test])\n",
        "    accuracy = np.mean(predicted == featureData[test])\n",
        "    count += accuracy\n",
        "\n",
        "    #A classification_report\n",
        "    #print(\"Iteration no.\", i, \"\\n\")\n",
        "    #print(\"Accuracy of iteration number\", i, \":\", accuracy)\n",
        "    print(metrics.classification_report(featureData[test], predicted))\n",
        "    #print(\"\\n\\n\")\n",
        "\n",
        "average = count/k\n",
        "print(\"The accuracy average of the K-fold models:\", average)"
      ],
      "execution_count": 27,
      "outputs": [
        {
          "output_type": "stream",
          "text": [
            "                              precision    recall  f1-score   support\n",
            "\n",
            "Family/Friends/Relationships       1.00      0.05      0.10        39\n",
            "            Health & Fitness       0.80      0.51      0.62        88\n",
            "                       Humor       0.41      0.20      0.27        99\n",
            "             Personal Growth       0.50      0.91      0.64       180\n",
            "        Recreation & Leisure       0.33      0.10      0.16        39\n",
            "\n",
            "                    accuracy                           0.53       445\n",
            "                   macro avg       0.61      0.35      0.36       445\n",
            "                weighted avg       0.57      0.53      0.47       445\n",
            "\n",
            "                              precision    recall  f1-score   support\n",
            "\n",
            "Family/Friends/Relationships       0.75      0.09      0.16        34\n",
            "            Health & Fitness       0.62      0.58      0.60        73\n",
            "                       Humor       0.50      0.16      0.24       109\n",
            "             Personal Growth       0.47      0.88      0.62       177\n",
            "        Recreation & Leisure       0.44      0.08      0.13        52\n",
            "\n",
            "                    accuracy                           0.50       445\n",
            "                   macro avg       0.56      0.36      0.35       445\n",
            "                weighted avg       0.52      0.50      0.43       445\n",
            "\n",
            "                              precision    recall  f1-score   support\n",
            "\n",
            "Family/Friends/Relationships       0.80      0.11      0.20        36\n",
            "            Health & Fitness       0.67      0.52      0.58        85\n",
            "                       Humor       0.38      0.15      0.22        79\n",
            "             Personal Growth       0.54      0.89      0.67       202\n",
            "        Recreation & Leisure       0.83      0.12      0.20        43\n",
            "\n",
            "                    accuracy                           0.55       445\n",
            "                   macro avg       0.64      0.36      0.37       445\n",
            "                weighted avg       0.58      0.55      0.49       445\n",
            "\n",
            "                              precision    recall  f1-score   support\n",
            "\n",
            "Family/Friends/Relationships       0.33      0.03      0.06        29\n",
            "            Health & Fitness       0.75      0.49      0.59        88\n",
            "                       Humor       0.50      0.19      0.28        99\n",
            "             Personal Growth       0.48      0.91      0.63       180\n",
            "        Recreation & Leisure       0.70      0.14      0.24        49\n",
            "\n",
            "                    accuracy                           0.52       445\n",
            "                   macro avg       0.55      0.35      0.36       445\n",
            "                weighted avg       0.55      0.52      0.46       445\n",
            "\n",
            "                              precision    recall  f1-score   support\n",
            "\n",
            "Family/Friends/Relationships       0.00      0.00      0.00        36\n",
            "            Health & Fitness       0.78      0.57      0.66        80\n",
            "                       Humor       0.39      0.19      0.25       107\n",
            "             Personal Growth       0.48      0.90      0.63       177\n",
            "        Recreation & Leisure       0.60      0.07      0.12        45\n",
            "\n",
            "                    accuracy                           0.51       445\n",
            "                   macro avg       0.45      0.35      0.33       445\n",
            "                weighted avg       0.49      0.51      0.44       445\n",
            "\n",
            "                              precision    recall  f1-score   support\n",
            "\n",
            "Family/Friends/Relationships       0.50      0.05      0.10        38\n",
            "            Health & Fitness       0.67      0.55      0.61        78\n",
            "                       Humor       0.47      0.13      0.20       110\n",
            "             Personal Growth       0.46      0.92      0.61       171\n",
            "        Recreation & Leisure       0.50      0.04      0.08        48\n",
            "\n",
            "                    accuracy                           0.49       445\n",
            "                   macro avg       0.52      0.34      0.32       445\n",
            "                weighted avg       0.51      0.49      0.41       445\n",
            "\n",
            "                              precision    recall  f1-score   support\n",
            "\n",
            "Family/Friends/Relationships       0.75      0.09      0.15        35\n",
            "            Health & Fitness       0.88      0.66      0.75        85\n",
            "                       Humor       0.33      0.15      0.21        97\n",
            "             Personal Growth       0.48      0.88      0.62       177\n",
            "        Recreation & Leisure       0.33      0.04      0.07        51\n",
            "\n",
            "                    accuracy                           0.52       445\n",
            "                   macro avg       0.55      0.36      0.36       445\n",
            "                weighted avg       0.53      0.52      0.46       445\n",
            "\n",
            "                              precision    recall  f1-score   support\n",
            "\n",
            "Family/Friends/Relationships       1.00      0.03      0.06        32\n",
            "            Health & Fitness       0.79      0.51      0.62        86\n",
            "                       Humor       0.44      0.17      0.25       104\n",
            "             Personal Growth       0.44      0.92      0.60       165\n",
            "        Recreation & Leisure       0.67      0.07      0.12        58\n",
            "\n",
            "                    accuracy                           0.49       445\n",
            "                   macro avg       0.67      0.34      0.33       445\n",
            "                weighted avg       0.58      0.49      0.42       445\n",
            "\n",
            "                              precision    recall  f1-score   support\n",
            "\n",
            "Family/Friends/Relationships       1.00      0.08      0.15        36\n",
            "            Health & Fitness       0.70      0.48      0.57        90\n",
            "                       Humor       0.37      0.18      0.24        99\n",
            "             Personal Growth       0.49      0.87      0.63       183\n",
            "        Recreation & Leisure       0.71      0.14      0.23        37\n",
            "\n",
            "                    accuracy                           0.51       445\n",
            "                   macro avg       0.66      0.35      0.36       445\n",
            "                weighted avg       0.57      0.51      0.46       445\n",
            "\n",
            "                              precision    recall  f1-score   support\n",
            "\n",
            "Family/Friends/Relationships       0.88      0.19      0.32        36\n",
            "            Health & Fitness       0.73      0.46      0.56        87\n",
            "                       Humor       0.37      0.17      0.23       107\n",
            "             Personal Growth       0.46      0.88      0.60       169\n",
            "        Recreation & Leisure       0.71      0.11      0.19        45\n",
            "\n",
            "                    accuracy                           0.49       444\n",
            "                   macro avg       0.63      0.36      0.38       444\n",
            "                weighted avg       0.55      0.49      0.44       444\n",
            "\n",
            "The accuracy average of the K-fold models: 0.5115710092114586\n"
          ],
          "name": "stdout"
        },
        {
          "output_type": "stream",
          "text": [
            "/usr/local/lib/python3.6/dist-packages/sklearn/metrics/_classification.py:1272: UndefinedMetricWarning: Precision and F-score are ill-defined and being set to 0.0 in labels with no predicted samples. Use `zero_division` parameter to control this behavior.\n",
            "  _warn_prf(average, modifier, msg_start, len(result))\n"
          ],
          "name": "stderr"
        }
      ]
    },
    {
      "cell_type": "code",
      "metadata": {
        "id": "JoNtCVpU6Hur",
        "colab_type": "code",
        "outputId": "bc28e7d4-6533-463f-de23-c1243f77be5e",
        "colab": {
          "base_uri": "https://localhost:8080/",
          "height": 773
        }
      },
      "source": [
        "# A nice confusion matrix using seaborn.\n",
        "array = metrics.confusion_matrix(featureData[test][mask], predicted[mask], normalize='true')\n",
        "plt.figure(figsize=(18,12))\n",
        "sn.set(font_scale=1) # for x/y label size\n",
        "\n",
        "sn.heatmap(array, annot=True, annot_kws={\"size\": 10}, xticklabels = categories, yticklabels = categories) # annot_kws is the size of the numbers.\n",
        "plt.show()"
      ],
      "execution_count": 23,
      "outputs": [
        {
          "output_type": "display_data",
          "data": {
            "image/png": "[encoded data removed]",
            "text/plain": [
              "<Figure size 1296x864 with 2 Axes>"
            ]
          },
          "metadata": {
            "tags": []
          }
        }
      ]
    },
    {
      "cell_type": "code",
      "metadata": {
        "id": "5RG5DEVfH77W",
        "colab_type": "code",
        "colab": {}
      },
      "source": [
        ""
      ],
      "execution_count": 0,
      "outputs": []
    }
  ]
}