{
  "nbformat": 4,
  "nbformat_minor": 0,
  "metadata": {
    "colab": {
      "name": "Untitled1.ipynb",
      "provenance": [],
      "include_colab_link": true
    },
    "kernelspec": {
      "name": "python3",
      "display_name": "Python 3"
    }
  },
  "cells": [
    {
      "cell_type": "markdown",
      "metadata": {
        "id": "view-in-github",
        "colab_type": "text"
      },
      "source": [
        "<a href=\"https://colab.research.google.com/github/kaspergroenbek98/first-first-year-project/blob/master/project1notebook.ipynb\" target=\"_parent\"><img src=\"https://colab.research.google.com/assets/colab-badge.svg\" alt=\"Open In Colab\"/></a>"
      ]
    },
    {
      "cell_type": "code",
      "metadata": {
        "id": "zV3IQMyQnWOs",
        "colab_type": "code",
        "outputId": "12873bc1-ec52-47a3-cd6f-5f076cec8d5a",
        "colab": {
          "base_uri": "https://localhost:8080/",
          "height": 84
        }
      },
      "source": [
        "! git clone https://github.com/kaspergroenbek98/first-first-year-project.git\n",
        "### All import calls.\n",
        "import numpy as np\n",
        "import nltk\n",
        "import csv\n",
        "import re\n",
        "from collections import Counter\n",
        "import pandas as pd\n",
        "from sklearn.utils import shuffle\n",
        "from sklearn.feature_extraction.text import CountVectorizer\n",
        "from sklearn.model_selection import train_test_split\n",
        "from sklearn.feature_extraction.text import TfidfTransformer\n",
        "from sklearn.naive_bayes import MultinomialNB\n",
        "from sklearn import metrics\n",
        "import seaborn as sn\n",
        "import matplotlib.pyplot as plt\n",
        "nltk.download('stopwords')"
      ],
      "execution_count": 50,
      "outputs": [
        {
          "output_type": "stream",
          "text": [
            "fatal: destination path 'first-first-year-project' already exists and is not an empty directory.\n",
            "[nltk_data] Downloading package stopwords to /root/nltk_data...\n",
            "[nltk_data]   Package stopwords is already up-to-date!\n"
          ],
          "name": "stdout"
        },
        {
          "output_type": "execute_result",
          "data": {
            "text/plain": [
              "True"
            ]
          },
          "metadata": {
            "tags": []
          },
          "execution_count": 50
        }
      ]
    },
    {
      "cell_type": "code",
      "metadata": {
        "id": "fB_r1ZxGuEu-",
        "colab_type": "code",
        "colab": {}
      },
      "source": [
        "### Functions\n",
        "\n",
        "### START OF VOCABULARY ###\n",
        "def generate_vocabulary(data, featureData, vocabType): #featureData = data.gender\n",
        "    '''\n",
        "    Returns a list/vocabulary of len <= \"size\" based on the vocabType and the featureColumn specified\n",
        "    '''\n",
        "    size = 2000\n",
        "    # Only get large groups to get representative data\n",
        "    major_features = nltk.FreqDist(featureData).most_common(5)\n",
        "    major_masks = [featureData == f for (f, cnt) in major_features]\n",
        "    fqs = [nltk.FreqDist(word for line in data.text[mask] for word in line.split()) for mask in major_masks]\n",
        "    return list(vocabType(data, featureData, major_features, major_masks, fqs, size))\n",
        "\n",
        "def vocab_most_common(data, featureData, major_features, major_masks, fqs, size):\n",
        "    '''\n",
        "    Returns a vocabulary checklist for each tweet to check off (True/False).\n",
        "    Prioritises the most common words for each feature\n",
        "    '''\n",
        "    vocabulary = set()\n",
        "    # get the most common words in each freq dist. zip(*...) removes the counts from fd, and updates vocabulary ONLY with the words\n",
        "    for fd in fqs:\n",
        "        vocabulary.update(list(zip(*fd.most_common(size//len(major_features))))[0])\n",
        "    return vocabulary\n",
        "\n",
        "def vocab_unique(data, fCol, major_features, major_masks, fqs, size):\n",
        "    '''\n",
        "    Returns a vocabulary checklist for each tweet to check off (True/False).\n",
        "    Prioritises words which are uncommon in other features, but common in one feature\n",
        "    '''\n",
        "    major_mask = np.array(np.array(major_masks).sum(axis=0), dtype='bool')\n",
        "    fq = nltk.FreqDist(word for line in data.text[major_mask] for word in line.split()) # Get a fq for ALL words in the major categories\n",
        "    words = [word for (word, cnt) in fq.items() if cnt >= 20] # removes rarely mentioned words which probably arent indicative of a significant trend\n",
        "    priorityArray = []\n",
        "    for i, word in enumerate(words):\n",
        "        priorityArray.append([word])\n",
        "        #divide frequency of word in that state by the tweetcount from that state, and by how often that word is used in total by all states\n",
        "        score = max(fqs[fID][word]/(int(major_features[fID][1])*fq[word]) for fID in range(len(major_masks)))\n",
        "        priorityArray[i].append(score)\n",
        "    priorityArray.sort(key = lambda x: x[1], reverse=True) # Sort them based on their best score\n",
        "    vocabulary = list(zip(*priorityArray[:size]))[0] # Removes their scores\n",
        "    return vocabulary\n",
        "\n",
        "### END OF VOCABULARY ###\n",
        "\n",
        "def cleaner(text):\n",
        "    stemmer = nltk.SnowballStemmer(\"english\", ignore_stopwords=True)\n",
        "    text = text.lower() #All lowercase\n",
        "    text = re.sub(r'@[A-Za-z0-9]+','',text)\n",
        "    text = re.sub('https?://[A-Za-z0-9./]+','', text)\n",
        "    text = re.sub(r\"what's\", \"what is \", text)\n",
        "    text = re.sub(r\"\\'s\", \" \", text)\n",
        "    text = re.sub(r\"\\'ve\", \" have \", text)\n",
        "    text = re.sub(r\"can't\", \"can not \", text)\n",
        "    text = re.sub(r\"n't\", \" not \", text)\n",
        "    text = re.sub(r\"i'm\", \"i am \", text)\n",
        "    text = re.sub(r\"\\'re\", \" are \", text)\n",
        "    text = re.sub(r\"\\'d\", \" would \", text)\n",
        "    text = re.sub(r\"\\'ll\", \" will \", text)\n",
        "    text = re.sub(r\"\\'scuse\", \" excuse \", text)\n",
        "    text = re.sub('\\W', ' ', text)\n",
        "    text = re.sub('\\s+', ' ', text)\n",
        "    text = re.sub('b4', 'before', text)\n",
        "    text = text.strip(' ')\n",
        "    text = ''.join(char for char in text if char.isalpha() or char == ' ')\n",
        "    text = ''.join(stemmer.stem(text)) #Stem the words using SnowballStemmer\n",
        "    return text"
      ],
      "execution_count": 0,
      "outputs": []
    },
    {
      "cell_type": "code",
      "metadata": {
        "id": "dVgs7KbInxrx",
        "colab_type": "code",
        "outputId": "759252c3-7936-4577-f66d-fb805d688505",
        "colab": {
          "base_uri": "https://localhost:8080/",
          "height": 33
        }
      },
      "source": [
        "\"\"\"\n",
        "Using pandas to load the data file into a CSV.\n",
        "ISO-8859-1 is the encoding for tweets.\n",
        "\"\"\"\n",
        "df = pd.read_csv(\"first-first-year-project/data.csv\", encoding = \"ISO-8859-1\")\n",
        "#First step to cleaning the data, removing the categories we dont need.\n",
        "data = df.drop([\"other_topic\",\"resolution_topics\", \"tweet_coord\", \"tweet_created\",\"tweet_id\", \"name\", \"retweet_count\", \"tweet_date\", \"user_timezone\"], axis = 1)\n",
        "for i in range(len(data.text)): #Cleaning all the text in our data with our newly build cleaner() function.\n",
        "  data.text[i] = cleaner(data.text[i])\n",
        "\n",
        "data.text[1]"
      ],
      "execution_count": 52,
      "outputs": [
        {
          "output_type": "execute_result",
          "data": {
            "text/plain": [
              "'newyearsresolution finally master part of kitchen sink'"
            ]
          },
          "metadata": {
            "tags": []
          },
          "execution_count": 52
        }
      ]
    },
    {
      "cell_type": "code",
      "metadata": {
        "id": "vEtMB4V7tuWJ",
        "colab_type": "code",
        "outputId": "daf7edff-9559-4c27-f943-1c8e661fa725",
        "colab": {
          "base_uri": "https://localhost:8080/",
          "height": 1000
        }
      },
      "source": [
        "# Vectorize using sklearn based on a vocabulary\n",
        "featureData = data.Resolution_Category ### CHANGE FEATURE HERE ###\n",
        "vectorizer = CountVectorizer(analyzer=\"word\", stop_words= \"english\", min_df = 20, binary= True, ngram_range = (1,2), vocabulary = generate_vocabulary(data, featureData, vocab_unique))\n",
        "categories = list(zip(*nltk.FreqDist(featureData).most_common(5)))[0]\n",
        "mask = np.sum([featureData == category for category in categories], axis = 0, dtype='bool')\n",
        "\n",
        "# This is required to fix bugs. KFold uses indeces in the length of the array, but pandas \"hides\" arrays instead of removing them. Reset_index fixes this\n",
        "featureData = featureData[mask].reset_index()\n",
        "featureData.drop([\"index\"], axis = 1)\n",
        "featureData = featureData.Resolution_Category ### CHANGE FEATURE HERE ###\n",
        "\n",
        "#Here we use term frequency to downscale the importance of words occuring many times in a tweet. That way we hopefully get more weighted words. \n",
        "tfidf_transformer = TfidfTransformer()\n",
        "features = vectorizer.fit_transform(data.text[mask])\n",
        "tfidf_features = tfidf_transformer.fit_transform(features)\n",
        "\n",
        "\n",
        "\n",
        "from sklearn.model_selection import KFold\n",
        "# Store an object of the KFold class in a variable with shuffle=True\n",
        "k= 10\n",
        "kf = KFold(n_splits=k, shuffle=True)\n",
        "# \"\"\" \n",
        "# Loop for the models and their designated folds (1 to k)\n",
        "# and calculate the average of each of the 'k' models' accuracy\n",
        "# using the NB classifier and k-fold model class.\n",
        "# \"\"\"\n",
        "count = 0 # sum to calculate average of model accuracies\n",
        "bigram_count = 0 # sum to calculate average of bigram model accuracies\n",
        "for i, (train, test) in enumerate(kf.split(features)): # Loop over K chunk of data splits\n",
        "    #Accuracy using term frequency. (Odd that its lower, but we do have a small data set)\n",
        "    NBmodel = MultinomialNB().fit(tfidf_features[train], featureData[train])\n",
        "    predicted = NBmodel.predict(tfidf_features[test])\n",
        "    accuracy = np.mean(predicted == featureData[test])\n",
        "    count += accuracy\n",
        "\n",
        "    # A classification_report\n",
        "    print(\"Iteration no.\", i, \"\\n\")\n",
        "    print(\"Accuracy of iteration number\", i, \":\", accuracy)\n",
        "    print(\"Report based on unigrams and bigrams.\")\n",
        "    print(metrics.classification_report(featureData[test], predicted))\n",
        "    print(\"\\n\\n\")\n",
        "\n",
        "average = count/k\n",
        "\n",
        "print(\"The accuracy average of the K-fold model: \", average)\n"
      ],
      "execution_count": 55,
      "outputs": [
        {
          "output_type": "stream",
          "text": [
            "Iteration no. 0 \n",
            "\n",
            "Accuracy of iteration number 0 : 0.5168539325842697\n",
            "Report based on unigrams and bigrams.\n",
            "                              precision    recall  f1-score   support\n",
            "\n",
            "Family/Friends/Relationships       1.00      0.02      0.05        42\n",
            "            Health & Fitness       0.73      0.59      0.65        81\n",
            "                       Humor       0.30      0.18      0.22        85\n",
            "             Personal Growth       0.51      0.84      0.63       192\n",
            "        Recreation & Leisure       0.50      0.09      0.15        45\n",
            "\n",
            "                    accuracy                           0.52       445\n",
            "                   macro avg       0.61      0.35      0.34       445\n",
            "                weighted avg       0.55      0.52      0.45       445\n",
            "\n",
            "\n",
            "\n",
            "\n",
            "Iteration no. 1 \n",
            "\n",
            "Accuracy of iteration number 1 : 0.5573033707865168\n",
            "Report based on unigrams and bigrams.\n",
            "                              precision    recall  f1-score   support\n",
            "\n",
            "Family/Friends/Relationships       0.50      0.03      0.06        31\n",
            "            Health & Fitness       0.73      0.52      0.61        85\n",
            "                       Humor       0.46      0.19      0.27        94\n",
            "             Personal Growth       0.54      0.94      0.68       193\n",
            "        Recreation & Leisure       0.75      0.07      0.13        42\n",
            "\n",
            "                    accuracy                           0.56       445\n",
            "                   macro avg       0.60      0.35      0.35       445\n",
            "                weighted avg       0.58      0.56      0.49       445\n",
            "\n",
            "\n",
            "\n",
            "\n",
            "Iteration no. 2 \n",
            "\n",
            "Accuracy of iteration number 2 : 0.5056179775280899\n",
            "Report based on unigrams and bigrams.\n",
            "                              precision    recall  f1-score   support\n",
            "\n",
            "Family/Friends/Relationships       0.75      0.07      0.12        45\n",
            "            Health & Fitness       0.72      0.60      0.66        78\n",
            "                       Humor       0.46      0.17      0.25       103\n",
            "             Personal Growth       0.47      0.90      0.61       170\n",
            "        Recreation & Leisure       0.44      0.08      0.14        49\n",
            "\n",
            "                    accuracy                           0.51       445\n",
            "                   macro avg       0.57      0.37      0.36       445\n",
            "                weighted avg       0.54      0.51      0.44       445\n",
            "\n",
            "\n",
            "\n",
            "\n",
            "Iteration no. 3 \n",
            "\n",
            "Accuracy of iteration number 3 : 0.5101123595505618\n",
            "Report based on unigrams and bigrams.\n",
            "                              precision    recall  f1-score   support\n",
            "\n",
            "Family/Friends/Relationships       1.00      0.06      0.11        35\n",
            "            Health & Fitness       0.79      0.55      0.64        88\n",
            "                       Humor       0.29      0.13      0.18        90\n",
            "             Personal Growth       0.48      0.92      0.63       173\n",
            "        Recreation & Leisure       0.62      0.08      0.15        59\n",
            "\n",
            "                    accuracy                           0.51       445\n",
            "                   macro avg       0.64      0.35      0.34       445\n",
            "                weighted avg       0.56      0.51      0.44       445\n",
            "\n",
            "\n",
            "\n",
            "\n",
            "Iteration no. 4 \n",
            "\n",
            "Accuracy of iteration number 4 : 0.5393258426966292\n",
            "Report based on unigrams and bigrams.\n",
            "                              precision    recall  f1-score   support\n",
            "\n",
            "Family/Friends/Relationships       0.80      0.13      0.22        31\n",
            "            Health & Fitness       0.75      0.55      0.64        78\n",
            "                       Humor       0.48      0.12      0.19       107\n",
            "             Personal Growth       0.50      0.95      0.66       184\n",
            "        Recreation & Leisure       0.67      0.13      0.22        45\n",
            "\n",
            "                    accuracy                           0.54       445\n",
            "                   macro avg       0.64      0.38      0.39       445\n",
            "                weighted avg       0.58      0.54      0.47       445\n",
            "\n",
            "\n",
            "\n",
            "\n",
            "Iteration no. 5 \n",
            "\n",
            "Accuracy of iteration number 5 : 0.5438202247191011\n",
            "Report based on unigrams and bigrams.\n",
            "                              precision    recall  f1-score   support\n",
            "\n",
            "Family/Friends/Relationships       1.00      0.10      0.19        29\n",
            "            Health & Fitness       0.76      0.53      0.62        97\n",
            "                       Humor       0.60      0.26      0.36       107\n",
            "             Personal Growth       0.49      0.92      0.64       172\n",
            "        Recreation & Leisure       0.50      0.05      0.09        40\n",
            "\n",
            "                    accuracy                           0.54       445\n",
            "                   macro avg       0.67      0.37      0.38       445\n",
            "                weighted avg       0.61      0.54      0.49       445\n",
            "\n",
            "\n",
            "\n",
            "\n",
            "Iteration no. 6 \n",
            "\n",
            "Accuracy of iteration number 6 : 0.46741573033707867\n",
            "Report based on unigrams and bigrams.\n",
            "                              precision    recall  f1-score   support\n",
            "\n",
            "Family/Friends/Relationships       0.75      0.09      0.15        35\n",
            "            Health & Fitness       0.71      0.41      0.52        73\n",
            "                       Humor       0.49      0.18      0.27       121\n",
            "             Personal Growth       0.43      0.89      0.58       170\n",
            "        Recreation & Leisure       0.33      0.04      0.08        46\n",
            "\n",
            "                    accuracy                           0.47       445\n",
            "                   macro avg       0.54      0.32      0.32       445\n",
            "                weighted avg       0.51      0.47      0.40       445\n",
            "\n",
            "\n",
            "\n",
            "\n",
            "Iteration no. 7 \n",
            "\n",
            "Accuracy of iteration number 7 : 0.4966292134831461\n",
            "Report based on unigrams and bigrams.\n",
            "                              precision    recall  f1-score   support\n",
            "\n",
            "Family/Friends/Relationships       0.67      0.07      0.13        28\n",
            "            Health & Fitness       0.69      0.53      0.60        86\n",
            "                       Humor       0.36      0.14      0.20       111\n",
            "             Personal Growth       0.48      0.89      0.62       176\n",
            "        Recreation & Leisure       0.33      0.02      0.04        44\n",
            "\n",
            "                    accuracy                           0.50       445\n",
            "                   macro avg       0.50      0.33      0.32       445\n",
            "                weighted avg       0.48      0.50      0.42       445\n",
            "\n",
            "\n",
            "\n",
            "\n",
            "Iteration no. 8 \n",
            "\n",
            "Accuracy of iteration number 8 : 0.48089887640449436\n",
            "Report based on unigrams and bigrams.\n",
            "                              precision    recall  f1-score   support\n",
            "\n",
            "Family/Friends/Relationships       1.00      0.07      0.12        45\n",
            "            Health & Fitness       0.68      0.54      0.60        84\n",
            "                       Humor       0.40      0.22      0.29        94\n",
            "             Personal Growth       0.45      0.80      0.57       175\n",
            "        Recreation & Leisure       0.45      0.11      0.17        47\n",
            "\n",
            "                    accuracy                           0.48       445\n",
            "                   macro avg       0.60      0.35      0.35       445\n",
            "                weighted avg       0.54      0.48      0.43       445\n",
            "\n",
            "\n",
            "\n",
            "\n",
            "Iteration no. 9 \n",
            "\n",
            "Accuracy of iteration number 9 : 0.48423423423423423\n",
            "Report based on unigrams and bigrams.\n",
            "                              precision    recall  f1-score   support\n",
            "\n",
            "Family/Friends/Relationships       0.50      0.03      0.06        30\n",
            "            Health & Fitness       0.67      0.42      0.52        90\n",
            "                       Humor       0.30      0.13      0.18        98\n",
            "             Personal Growth       0.47      0.89      0.62       176\n",
            "        Recreation & Leisure       0.75      0.12      0.21        50\n",
            "\n",
            "                    accuracy                           0.48       444\n",
            "                   macro avg       0.54      0.32      0.32       444\n",
            "                weighted avg       0.51      0.48      0.42       444\n",
            "\n",
            "\n",
            "\n",
            "\n",
            "The accuracy average of the K-fold model:  0.5102211762324123\n"
          ],
          "name": "stdout"
        }
      ]
    },
    {
      "cell_type": "code",
      "metadata": {
        "id": "JoNtCVpU6Hur",
        "colab_type": "code",
        "outputId": "495ab4f1-3969-47d5-8c82-891074800cb5",
        "colab": {
          "base_uri": "https://localhost:8080/",
          "height": 598
        }
      },
      "source": [
        "# A perfect confusion matrix using seaborn.\n",
        "array = metrics.confusion_matrix(featureData[test], predicted, normalize='true', labels = categories)\n",
        "plt.figure(figsize=(17,10))\n",
        "sn.set(font_scale=1) # for x/y label size\n",
        "sn.heatmap(array, annot=True, annot_kws={\"size\": 10}, xticklabels = categories, yticklabels = categories) # annot_kws is the size of the numbers.\n",
        "plt.show()"
      ],
      "execution_count": 62,
      "outputs": [
        {
          "output_type": "display_data",
          "data": {
            "image/png": "[encoded data removed]",
            "text/plain": [
              "<Figure size 1224x720 with 2 Axes>"
            ]
          },
          "metadata": {
            "tags": []
          }
        }
      ]
    },
    {
      "cell_type": "code",
      "metadata": {
        "id": "rGkkzSHpCHv0",
        "colab_type": "code",
        "outputId": "4dbfd7e1-080b-4b0f-91ce-e79dda6ccf9d",
        "colab": {
          "base_uri": "https://localhost:8080/",
          "height": 100
        }
      },
      "source": [
        "def print_top10(vectorizer, NBmodel): # Found on stackoverflow\n",
        "    \"\"\"Prints features with the highest coefficient values, per class\"\"\"\n",
        "    feature_names = vectorizer.get_feature_names()\n",
        "    for i, class_label in enumerate(NBmodel.classes_):\n",
        "        top10 = np.argsort(NBmodel.coef_[i])[-13:-3]\n",
        "        print(\"%s: %s\" % (class_label,\n",
        "              \" \".join(feature_names[j] for j in top10)))\n",
        "        \n",
        "print_top10(vectorizer, NBmodel)"
      ],
      "execution_count": 57,
      "outputs": [
        {
          "output_type": "stream",
          "text": [
            "Family/Friends/Relationships: time friend make year family friends rt people resolution years\n",
            "Health & Fitness: weight drink smoking year stop gym rt eat years resolution\n",
            "Humor: just like people ûï make stop year rt years resolution\n",
            "Personal Growth: people better amp make life stop year rt years resolution\n",
            "Recreation & Leisure: travel going meet play read watch rt year years resolution\n"
          ],
          "name": "stdout"
        }
      ]
    },
    {
      "cell_type": "code",
      "metadata": {
        "id": "ceppZwZHDzzN",
        "colab_type": "code",
        "colab": {}
      },
      "source": [
        ""
      ],
      "execution_count": 0,
      "outputs": []
    },
    {
      "cell_type": "code",
      "metadata": {
        "id": "EbVaNyUnEl9R",
        "colab_type": "code",
        "colab": {}
      },
      "source": [
        ""
      ],
      "execution_count": 0,
      "outputs": []
    }
  ]
}