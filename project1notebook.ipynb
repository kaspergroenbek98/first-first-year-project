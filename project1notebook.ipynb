{
  "nbformat": 4,
  "nbformat_minor": 0,
  "metadata": {
    "colab": {
      "name": "Untitled1.ipynb",
      "provenance": [],
      "include_colab_link": true
    },
    "kernelspec": {
      "name": "python3",
      "display_name": "Python 3"
    }
  },
  "cells": [
    {
      "cell_type": "markdown",
      "metadata": {
        "id": "view-in-github",
        "colab_type": "text"
      },
      "source": [
        "<a href=\"https://colab.research.google.com/github/kaspergroenbek98/first-first-year-project/blob/master/project1notebook.ipynb\" target=\"_parent\"><img src=\"https://colab.research.google.com/assets/colab-badge.svg\" alt=\"Open In Colab\"/></a>"
      ]
    },
    {
      "cell_type": "code",
      "metadata": {
        "id": "zV3IQMyQnWOs",
        "colab_type": "code",
        "outputId": "faac1b75-b61c-440b-8348-b338e0b26d87",
        "colab": {
          "base_uri": "https://localhost:8080/",
          "height": 87
        }
      },
      "source": [
        "! git clone https://github.com/kaspergroenbek98/first-first-year-project.git\n",
        "### All import calls.\n",
        "import numpy as np\n",
        "import nltk\n",
        "import csv\n",
        "import re\n",
        "from collections import Counter\n",
        "import pandas as pd\n",
        "from sklearn.utils import shuffle\n",
        "from sklearn.feature_extraction.text import CountVectorizer\n",
        "from sklearn.model_selection import train_test_split\n",
        "from sklearn.feature_extraction.text import TfidfTransformer\n",
        "from sklearn.naive_bayes import MultinomialNB\n",
        "from sklearn import metrics\n",
        "import seaborn as sn\n",
        "import matplotlib.pyplot as plt\n",
        "nltk.download('stopwords')"
      ],
      "execution_count": 147,
      "outputs": [
        {
          "output_type": "stream",
          "text": [
            "fatal: destination path 'first-first-year-project' already exists and is not an empty directory.\n",
            "[nltk_data] Downloading package stopwords to /root/nltk_data...\n",
            "[nltk_data]   Package stopwords is already up-to-date!\n"
          ],
          "name": "stdout"
        },
        {
          "output_type": "execute_result",
          "data": {
            "text/plain": [
              "True"
            ]
          },
          "metadata": {
            "tags": []
          },
          "execution_count": 147
        }
      ]
    },
    {
      "cell_type": "code",
      "metadata": {
        "id": "fB_r1ZxGuEu-",
        "colab_type": "code",
        "colab": {}
      },
      "source": [
        "### Functions\n",
        "\n",
        "### START OF VOCABULARY ###\n",
        "def generate_vocabulary(data, featureData, vocabType): #featureData = data.gender\n",
        "    '''\n",
        "    Returns a list/vocabulary of len <= \"size\" based on the vocabType and the featureColumn specified\n",
        "    '''\n",
        "    size = 2000\n",
        "    # Only get large groups to get representative data\n",
        "    major_features = nltk.FreqDist(featureData).most_common(5)\n",
        "    major_masks = [featureData == f for (f, cnt) in major_features]\n",
        "    fqs = [nltk.FreqDist(word for line in data.text[mask] for word in line.split()) for mask in major_masks]\n",
        "    return list(vocabType(data, featureData, major_features, major_masks, fqs, size))\n",
        "\n",
        "def vocab_most_common(data, featureData, major_features, major_masks, fqs, size):\n",
        "    '''\n",
        "    Returns a vocabulary checklist for each tweet to check off (True/False).\n",
        "    Prioritises the most common words for each feature\n",
        "    '''\n",
        "    vocabulary = set()\n",
        "    # get the most common words in each freq dist. zip(*...) removes the counts from fd, and updates vocabulary ONLY with the words\n",
        "    for fd in fqs:\n",
        "        vocabulary.update(list(zip(*fd.most_common(size//len(major_features))))[0])\n",
        "    return vocabulary\n",
        "\n",
        "def vocab_unique(data, fCol, major_features, major_masks, fqs, size):\n",
        "    '''\n",
        "    Returns a vocabulary checklist for each tweet to check off (True/False).\n",
        "    Prioritises words which are uncommon in other features, but common in one feature\n",
        "    '''\n",
        "    major_mask = np.array(np.array(major_masks).sum(axis=0), dtype='bool')\n",
        "    fq = nltk.FreqDist(word for line in data.text[major_mask] for word in line.split()) # Get a fq for ALL words in the major categories\n",
        "    words = [word for (word, cnt) in fq.items() if cnt >= 20] # removes rarely mentioned words which probably arent indicative of a significant trend\n",
        "    priorityArray = []\n",
        "    for i, word in enumerate(words):\n",
        "        priorityArray.append([word])\n",
        "        #divide frequency of word in that state by the tweetcount from that state, and by how often that word is used in total by all states\n",
        "        score = max(fqs[fID][word]/(int(major_features[fID][1])*fq[word]) for fID in range(len(major_masks)))\n",
        "        priorityArray[i].append(score)\n",
        "    priorityArray.sort(key = lambda x: x[1], reverse=True) # Sort them based on their best score\n",
        "    vocabulary = list(zip(*priorityArray[:size]))[0] # Removes their scores\n",
        "    return vocabulary\n",
        "\n",
        "### END OF VOCABULARY ###\n",
        "\n",
        "def cleaner(text):\n",
        "    stemmer = nltk.SnowballStemmer(\"english\", ignore_stopwords=True)\n",
        "    text = text.lower() #All lowercase\n",
        "    text = re.sub(r'@[A-Za-z0-9]+','',text)\n",
        "    text = re.sub('https?://[A-Za-z0-9./]+','', text)\n",
        "    text = re.sub(r\"what's\", \"what is \", text)\n",
        "    text = re.sub(r\"\\'s\", \" \", text)\n",
        "    text = re.sub(r\"\\'ve\", \" have \", text)\n",
        "    text = re.sub(r\"can't\", \"can not \", text)\n",
        "    text = re.sub(r\"n't\", \" not \", text)\n",
        "    text = re.sub(r\"i'm\", \"i am \", text)\n",
        "    text = re.sub(r\"\\'re\", \" are \", text)\n",
        "    text = re.sub(r\"\\'d\", \" would \", text)\n",
        "    text = re.sub(r\"\\'ll\", \" will \", text)\n",
        "    text = re.sub(r\"\\'scuse\", \" excuse \", text)\n",
        "    text = re.sub('\\W', ' ', text)\n",
        "    text = re.sub('\\s+', ' ', text)\n",
        "    text = re.sub('b4', 'before', text)\n",
        "    text = re.sub(r\"amp\", \" and \", text)\n",
        "    text = re.sub('resolution', '', text)\n",
        "    text = re.sub('rt', '', text)\n",
        "    text = re.sub('years', '', text)\n",
        "    text = re.sub('new', '', text)\n",
        "    text = re.sub('year', '', text)\n",
        "    text = text.strip(' ')\n",
        "    text = ''.join(char for char in text if char.isalpha() or char == ' ')\n",
        "    text = ''.join(stemmer.stem(text)) #Stem the words using SnowballStemmer\n",
        "    return text"
      ],
      "execution_count": 0,
      "outputs": []
    },
    {
      "cell_type": "code",
      "metadata": {
        "id": "dVgs7KbInxrx",
        "colab_type": "code",
        "outputId": "c19e7a28-bbd9-4032-91cb-385a58c3797d",
        "colab": {
          "base_uri": "https://localhost:8080/",
          "height": 35
        }
      },
      "source": [
        "\"\"\"\n",
        "Using pandas to load the data file into a CSV.\n",
        "ISO-8859-1 is the encoding for tweets.\n",
        "\"\"\"\n",
        "df = pd.read_csv(\"first-first-year-project/data.csv\", encoding = \"ISO-8859-1\")\n",
        "#First step to cleaning the data, removing the categories we dont need.\n",
        "data = df.drop([\"other_topic\",\"resolution_topics\", \"tweet_coord\", \"tweet_created\",\"tweet_id\", \"name\", \"retweet_count\", \"tweet_date\", \"user_timezone\"], axis = 1)\n",
        "for i in range(len(data.text)): #Cleaning all the text in our data with our newly build cleaner() function.\n",
        "  data.text[i] = cleaner(data.text[i])\n",
        "\n",
        "data.text[1]"
      ],
      "execution_count": 197,
      "outputs": [
        {
          "output_type": "execute_result",
          "data": {
            "text/plain": [
              "'finally master pa of kitchen sink'"
            ]
          },
          "metadata": {
            "tags": []
          },
          "execution_count": 197
        }
      ]
    },
    {
      "cell_type": "code",
      "metadata": {
        "id": "vEtMB4V7tuWJ",
        "colab_type": "code",
        "outputId": "a693e26c-29df-4f08-ba46-802358998a17",
        "colab": {
          "base_uri": "https://localhost:8080/",
          "height": 401
        }
      },
      "source": [
        "# Vectorize using sklearn based on a vocabulary\n",
        "featureData = data.tweet_state ### CHANGE FEATURE HERE ###\n",
        "vectorizer = CountVectorizer(analyzer=\"word\", stop_words= \"english\", min_df = 20, binary= True, ngram_range = (1,2), vocabulary = generate_vocabulary(data, featureData, vocab_unique))\n",
        "categories = list(zip(*nltk.FreqDist(featureData).most_common(5)))[0]\n",
        "mask = np.sum([featureData == category for category in categories], axis = 0, dtype='bool')\n",
        "\n",
        "# This is required to fix bugs. KFold uses indeces in the length of the array, but pandas \"hides\" arrays instead of removing them. Reset_index fixes this\n",
        "featureData = featureData[mask].reset_index()\n",
        "featureData.drop([\"index\"], axis = 1)\n",
        "featureData = featureData.tweet_state ### CHANGE FEATURE HERE ###\n",
        "\n",
        "#Here we use term frequency to downscale the importance of words occuring many times in a tweet. That way we hopefully get more weighted words. \n",
        "tfidf_transformer = TfidfTransformer()\n",
        "features = vectorizer.fit_transform(data.text[mask])\n",
        "tfidf_features = tfidf_transformer.fit_transform(features)\n",
        "\n",
        "\n",
        "\n",
        "from sklearn.model_selection import KFold\n",
        "# Store an object of the KFold class in a variable with shuffle=True\n",
        "k= 10\n",
        "kf = KFold(n_splits=k, shuffle=True)\n",
        "# \"\"\" \n",
        "# Loop for the models and their designated folds (1 to k)\n",
        "# and calculate the average of each of the 'k' models' accuracy\n",
        "# using the NB classifier and k-fold model class.\n",
        "# \"\"\"\n",
        "results = []\n",
        "count = 0 # sum to calculate average of model accuracies\n",
        "bigram_count = 0 # sum to calculate average of bigram model accuracies\n",
        "for i, (train, test) in enumerate(kf.split(features)): # Loop over K chunk of data splits\n",
        "    #Accuracy using term frequency. (Odd that its lower, but we do have a small data set)\n",
        "    NBmodel = MultinomialNB().fit(tfidf_features[train], featureData[train])\n",
        "    predicted = NBmodel.predict(tfidf_features[test])\n",
        "    accuracy = np.mean(predicted == featureData[test])\n",
        "    count += accuracy\n",
        "    results.append(metrics.precision_recall_fscore_support(featureData[test], predicted))\n",
        "    # A classification_report\n",
        "    #print(\"Iteration no.\", i, \"\\n\")\n",
        "    #print(\"Accuracy of iteration number\", i, \":\", accuracy)\n",
        "    #print(\"Report based on unigrams and bigrams.\")\n",
        "    #print(metrics.classification_report(featureData[test], predicted))\n",
        "    #print(\"\\n\\n\")\n",
        "\n",
        "average = count/k\n",
        "\n",
        "print(\"The accuracy average of the K-fold model: \", average)\n"
      ],
      "execution_count": 203,
      "outputs": [
        {
          "output_type": "stream",
          "text": [
            "The accuracy average of the K-fold model:  0.3333440999138674\n"
          ],
          "name": "stdout"
        },
        {
          "output_type": "stream",
          "text": [
            "/usr/local/lib/python3.6/dist-packages/sklearn/metrics/_classification.py:1272: UndefinedMetricWarning: Precision and F-score are ill-defined and being set to 0.0 in labels with no predicted samples. Use `zero_division` parameter to control this behavior.\n",
            "  _warn_prf(average, modifier, msg_start, len(result))\n",
            "/usr/local/lib/python3.6/dist-packages/sklearn/metrics/_classification.py:1272: UndefinedMetricWarning: Precision and F-score are ill-defined and being set to 0.0 in labels with no predicted samples. Use `zero_division` parameter to control this behavior.\n",
            "  _warn_prf(average, modifier, msg_start, len(result))\n",
            "/usr/local/lib/python3.6/dist-packages/sklearn/metrics/_classification.py:1272: UndefinedMetricWarning: Precision and F-score are ill-defined and being set to 0.0 in labels with no predicted samples. Use `zero_division` parameter to control this behavior.\n",
            "  _warn_prf(average, modifier, msg_start, len(result))\n",
            "/usr/local/lib/python3.6/dist-packages/sklearn/metrics/_classification.py:1272: UndefinedMetricWarning: Precision and F-score are ill-defined and being set to 0.0 in labels with no predicted samples. Use `zero_division` parameter to control this behavior.\n",
            "  _warn_prf(average, modifier, msg_start, len(result))\n",
            "/usr/local/lib/python3.6/dist-packages/sklearn/metrics/_classification.py:1272: UndefinedMetricWarning: Precision and F-score are ill-defined and being set to 0.0 in labels with no predicted samples. Use `zero_division` parameter to control this behavior.\n",
            "  _warn_prf(average, modifier, msg_start, len(result))\n",
            "/usr/local/lib/python3.6/dist-packages/sklearn/metrics/_classification.py:1272: UndefinedMetricWarning: Precision and F-score are ill-defined and being set to 0.0 in labels with no predicted samples. Use `zero_division` parameter to control this behavior.\n",
            "  _warn_prf(average, modifier, msg_start, len(result))\n",
            "/usr/local/lib/python3.6/dist-packages/sklearn/metrics/_classification.py:1272: UndefinedMetricWarning: Precision and F-score are ill-defined and being set to 0.0 in labels with no predicted samples. Use `zero_division` parameter to control this behavior.\n",
            "  _warn_prf(average, modifier, msg_start, len(result))\n",
            "/usr/local/lib/python3.6/dist-packages/sklearn/metrics/_classification.py:1272: UndefinedMetricWarning: Precision and F-score are ill-defined and being set to 0.0 in labels with no predicted samples. Use `zero_division` parameter to control this behavior.\n",
            "  _warn_prf(average, modifier, msg_start, len(result))\n",
            "/usr/local/lib/python3.6/dist-packages/sklearn/metrics/_classification.py:1272: UndefinedMetricWarning: Precision and F-score are ill-defined and being set to 0.0 in labels with no predicted samples. Use `zero_division` parameter to control this behavior.\n",
            "  _warn_prf(average, modifier, msg_start, len(result))\n",
            "/usr/local/lib/python3.6/dist-packages/sklearn/metrics/_classification.py:1272: UndefinedMetricWarning: Precision and F-score are ill-defined and being set to 0.0 in labels with no predicted samples. Use `zero_division` parameter to control this behavior.\n",
            "  _warn_prf(average, modifier, msg_start, len(result))\n"
          ],
          "name": "stderr"
        }
      ]
    },
    {
      "cell_type": "code",
      "metadata": {
        "id": "C07yozCi9CwT",
        "colab_type": "code",
        "colab": {
          "base_uri": "https://localhost:8080/",
          "height": 89
        },
        "outputId": "3f6e0db6-bb62-4d29-b064-ad1bfd3f9793"
      },
      "source": [
        "print('array1: precision, array2: recall, array3: fbetascore, array4: support')\n",
        "print(list(np.array(results).mean(axis=0).round(2)))\n",
        "NBmodel.classes_"
      ],
      "execution_count": 204,
      "outputs": [
        {
          "output_type": "stream",
          "text": [
            "array1: precision, array2: recall, array3: fbetascore, array4: support\n",
            "[array([0.34, 0.  , 0.  , 0.29, 0.26]), array([0.87, 0.  , 0.  , 0.13, 0.01]), array([0.49, 0.  , 0.  , 0.17, 0.03]), array([74.1, 25.8, 21.1, 54.3, 40.1])]\n"
          ],
          "name": "stdout"
        },
        {
          "output_type": "execute_result",
          "data": {
            "text/plain": [
              "array(['CA', 'FL', 'IL', 'NY', 'TX'], dtype='<U2')"
            ]
          },
          "metadata": {
            "tags": []
          },
          "execution_count": 204
        }
      ]
    },
    {
      "cell_type": "code",
      "metadata": {
        "id": "JoNtCVpU6Hur",
        "colab_type": "code",
        "outputId": "beb311ee-aa33-402c-8ab0-a249046c5405",
        "colab": {
          "base_uri": "https://localhost:8080/",
          "height": 384
        }
      },
      "source": [
        "# A perfect confusion matrix using seaborn.\n",
        "array = metrics.confusion_matrix(featureData[test], predicted, normalize='true', labels = categories)\n",
        "fig = plt.figure(figsize=(5,3))\n",
        "fig.suptitle(\"State\", fontsize= 20)\n",
        "sn.set(font_scale=1) # for x/y label size\n",
        "sn.heatmap(array, annot=True, annot_kws={\"size\": 10}, xticklabels = categories, yticklabels = categories) # annot_kws is the size of the numbers.\n",
        "plt.show()"
      ],
      "execution_count": 202,
      "outputs": [
        {
          "output_type": "display_data",
          "data": {
            "image/png": "[encoded data removed]",
            "text/plain": [
              "<Figure size 360x216 with 2 Axes>"
            ]
          },
          "metadata": {
            "tags": []
          }
        }
      ]
    },
    {
      "cell_type": "code",
      "metadata": {
        "id": "rGkkzSHpCHv0",
        "colab_type": "code",
        "outputId": "0a399f38-99e1-4898-93f1-c08824a16cb8",
        "colab": {
          "base_uri": "https://localhost:8080/",
          "height": 104
        }
      },
      "source": [
        "def print_top10(vectorizer, NBmodel): # Found on stackoverflow\n",
        "    \"\"\"Prints features with the highest coefficient values, per class\"\"\"\n",
        "    feature_names = vectorizer.get_feature_names()\n",
        "    for i, class_label in enumerate(NBmodel.classes_):\n",
        "        top10 = np.argsort(NBmodel.coef_[i])[-10:]\n",
        "        print(\"%s: %s\" % (class_label,\n",
        "              \" \".join(feature_names[j] for j in top10)))\n",
        "        \n",
        "print_top10(vectorizer, NBmodel)"
      ],
      "execution_count": 205,
      "outputs": [
        {
          "output_type": "stream",
          "text": [
            "CA: love let people going want time like sta make stop\n",
            "FL: just way going happy time day people sta stop make\n",
            "IL: drink eat love time fuck stop day like happy make\n",
            "NY: life better time going people good happy make eat stop\n",
            "TX: continue life eat sta like try just better make stop\n"
          ],
          "name": "stdout"
        }
      ]
    },
    {
      "cell_type": "code",
      "metadata": {
        "id": "ceppZwZHDzzN",
        "colab_type": "code",
        "colab": {}
      },
      "source": [
        ""
      ],
      "execution_count": 0,
      "outputs": []
    },
    {
      "cell_type": "code",
      "metadata": {
        "id": "EbVaNyUnEl9R",
        "colab_type": "code",
        "colab": {}
      },
      "source": [
        ""
      ],
      "execution_count": 0,
      "outputs": []
    }
  ]
}