{
  "nbformat": 4,
  "nbformat_minor": 0,
  "metadata": {
    "colab": {
      "name": "SklearnNotebook.ipynb",
      "provenance": [],
      "authorship_tag": "ABX9TyO6KP/csgXIT9KqoPWxa/8z",
      "include_colab_link": true
    },
    "kernelspec": {
      "name": "python3",
      "display_name": "Python 3"
    }
  },
  "cells": [
    {
      "cell_type": "markdown",
      "metadata": {
        "id": "view-in-github",
        "colab_type": "text"
      },
      "source": [
        "<a href=\"https://colab.research.google.com/github/kaspergroenbek98/first-first-year-project/blob/master/SklearnNotebook.ipynb\" target=\"_parent\"><img src=\"https://colab.research.google.com/assets/colab-badge.svg\" alt=\"Open In Colab\"/></a>"
      ]
    },
    {
      "cell_type": "code",
      "metadata": {
        "id": "HLhZtbJFjmmT",
        "colab_type": "code",
        "outputId": "15149230-c426-48a4-970c-5f7113267a88",
        "colab": {
          "base_uri": "https://localhost:8080/",
          "height": 117
        }
      },
      "source": [
        "! git clone https://github.com/kaspergroenbek98/first-first-year-project.git\n"
      ],
      "execution_count": 1,
      "outputs": [
        {
          "output_type": "stream",
          "text": [
            "Cloning into 'first-first-year-project'...\n",
            "remote: Enumerating objects: 81, done.\u001b[K\n",
            "remote: Counting objects:   1% (1/81)\u001b[K\rremote: Counting objects:   2% (2/81)\u001b[K\rremote: Counting objects:   3% (3/81)\u001b[K\rremote: Counting objects:   4% (4/81)\u001b[K\rremote: Counting objects:   6% (5/81)\u001b[K\rremote: Counting objects:   7% (6/81)\u001b[K\rremote: Counting objects:   8% (7/81)\u001b[K\rremote: Counting objects:   9% (8/81)\u001b[K\rremote: Counting objects:  11% (9/81)\u001b[K\rremote: Counting objects:  12% (10/81)\u001b[K\rremote: Counting objects:  13% (11/81)\u001b[K\rremote: Counting objects:  14% (12/81)\u001b[K\rremote: Counting objects:  16% (13/81)\u001b[K\rremote: Counting objects:  17% (14/81)\u001b[K\rremote: Counting objects:  18% (15/81)\u001b[K\rremote: Counting objects:  19% (16/81)\u001b[K\rremote: Counting objects:  20% (17/81)\u001b[K\rremote: Counting objects:  22% (18/81)\u001b[K\rremote: Counting objects:  23% (19/81)\u001b[K\rremote: Counting objects:  24% (20/81)\u001b[K\rremote: Counting objects:  25% (21/81)\u001b[K\rremote: Counting objects:  27% (22/81)\u001b[K\rremote: Counting objects:  28% (23/81)\u001b[K\rremote: Counting objects:  29% (24/81)\u001b[K\rremote: Counting objects:  30% (25/81)\u001b[K\rremote: Counting objects:  32% (26/81)\u001b[K\rremote: Counting objects:  33% (27/81)\u001b[K\rremote: Counting objects:  34% (28/81)\u001b[K\rremote: Counting objects:  35% (29/81)\u001b[K\rremote: Counting objects:  37% (30/81)\u001b[K\rremote: Counting objects:  38% (31/81)\u001b[K\rremote: Counting objects:  39% (32/81)\u001b[K\rremote: Counting objects:  40% (33/81)\u001b[K\rremote: Counting objects:  41% (34/81)\u001b[K\rremote: Counting objects:  43% (35/81)\u001b[K\rremote: Counting objects:  44% (36/81)\u001b[K\rremote: Counting objects:  45% (37/81)\u001b[K\rremote: Counting objects:  46% (38/81)\u001b[K\rremote: Counting objects:  48% (39/81)\u001b[K\rremote: Counting objects:  49% (40/81)\u001b[K\rremote: Counting objects:  50% (41/81)\u001b[K\rremote: Counting objects:  51% (42/81)\u001b[K\rremote: Counting objects:  53% (43/81)\u001b[K\rremote: Counting objects:  54% (44/81)\u001b[K\rremote: Counting objects:  55% (45/81)\u001b[K\rremote: Counting objects:  56% (46/81)\u001b[K\rremote: Counting objects:  58% (47/81)\u001b[K\rremote: Counting objects:  59% (48/81)\u001b[K\rremote: Counting objects:  60% (49/81)\u001b[K\rremote: Counting objects:  61% (50/81)\u001b[K\rremote: Counting objects:  62% (51/81)\u001b[K\rremote: Counting objects:  64% (52/81)\u001b[K\rremote: Counting objects:  65% (53/81)\u001b[K\rremote: Counting objects:  66% (54/81)\u001b[K\rremote: Counting objects:  67% (55/81)\u001b[K\rremote: Counting objects:  69% (56/81)\u001b[K\rremote: Counting objects:  70% (57/81)\u001b[K\rremote: Counting objects:  71% (58/81)\u001b[K\rremote: Counting objects:  72% (59/81)\u001b[K\rremote: Counting objects:  74% (60/81)\u001b[K\rremote: Counting objects:  75% (61/81)\u001b[K\rremote: Counting objects:  76% (62/81)\u001b[K\rremote: Counting objects:  77% (63/81)\u001b[K\rremote: Counting objects:  79% (64/81)\u001b[K\rremote: Counting objects:  80% (65/81)\u001b[K\rremote: Counting objects:  81% (66/81)\u001b[K\rremote: Counting objects:  82% (67/81)\u001b[K\rremote: Counting objects:  83% (68/81)\u001b[K\rremote: Counting objects:  85% (69/81)\u001b[K\rremote: Counting objects:  86% (70/81)\u001b[K\rremote: Counting objects:  87% (71/81)\u001b[K\rremote: Counting objects:  88% (72/81)\u001b[K\rremote: Counting objects:  90% (73/81)\u001b[K\rremote: Counting objects:  91% (74/81)\u001b[K\rremote: Counting objects:  92% (75/81)\u001b[K\rremote: Counting objects:  93% (76/81)\u001b[K\rremote: Counting objects:  95% (77/81)\u001b[K\rremote: Counting objects:  96% (78/81)\u001b[K\rremote: Counting objects:  97% (79/81)\u001b[K\rremote: Counting objects:  98% (80/81)\u001b[K\rremote: Counting objects: 100% (81/81)\u001b[K\rremote: Counting objects: 100% (81/81), done.\u001b[K\n",
            "remote: Compressing objects:   1% (1/72)\u001b[K\rremote: Compressing objects:   2% (2/72)\u001b[K\rremote: Compressing objects:   4% (3/72)\u001b[K\rremote: Compressing objects:   5% (4/72)\u001b[K\rremote: Compressing objects:   6% (5/72)\u001b[K\rremote: Compressing objects:   8% (6/72)\u001b[K\rremote: Compressing objects:   9% (7/72)\u001b[K\rremote: Compressing objects:  11% (8/72)\u001b[K\rremote: Compressing objects:  12% (9/72)\u001b[K\rremote: Compressing objects:  13% (10/72)\u001b[K\rremote: Compressing objects:  15% (11/72)\u001b[K\rremote: Compressing objects:  16% (12/72)\u001b[K\rremote: Compressing objects:  18% (13/72)\u001b[K\rremote: Compressing objects:  19% (14/72)\u001b[K\rremote: Compressing objects:  20% (15/72)\u001b[K\rremote: Compressing objects:  22% (16/72)\u001b[K\rremote: Compressing objects:  23% (17/72)\u001b[K\rremote: Compressing objects:  25% (18/72)\u001b[K\rremote: Compressing objects:  26% (19/72)\u001b[K\rremote: Compressing objects:  27% (20/72)\u001b[K\rremote: Compressing objects:  29% (21/72)\u001b[K\rremote: Compressing objects:  30% (22/72)\u001b[K\rremote: Compressing objects:  31% (23/72)\u001b[K\rremote: Compressing objects:  33% (24/72)\u001b[K\rremote: Compressing objects:  34% (25/72)\u001b[K\rremote: Compressing objects:  36% (26/72)\u001b[K\rremote: Compressing objects:  37% (27/72)\u001b[K\rremote: Compressing objects:  38% (28/72)\u001b[K\rremote: Compressing objects:  40% (29/72)\u001b[K\rremote: Compressing objects:  41% (30/72)\u001b[K\rremote: Compressing objects:  43% (31/72)\u001b[K\rremote: Compressing objects:  44% (32/72)\u001b[K\rremote: Compressing objects:  45% (33/72)\u001b[K\rremote: Compressing objects:  47% (34/72)\u001b[K\rremote: Compressing objects:  48% (35/72)\u001b[K\rremote: Compressing objects:  50% (36/72)\u001b[K\rremote: Compressing objects:  51% (37/72)\u001b[K\rremote: Compressing objects:  52% (38/72)\u001b[K\rremote: Compressing objects:  54% (39/72)\u001b[K\rremote: Compressing objects:  55% (40/72)\u001b[K\rremote: Compressing objects:  56% (41/72)\u001b[K\rremote: Compressing objects:  58% (42/72)\u001b[K\rremote: Compressing objects:  59% (43/72)\u001b[K\rremote: Compressing objects:  61% (44/72)\u001b[K\rremote: Compressing objects:  62% (45/72)\u001b[K\rremote: Compressing objects:  63% (46/72)\u001b[K\rremote: Compressing objects:  65% (47/72)\u001b[K\rremote: Compressing objects:  66% (48/72)\u001b[K\rremote: Compressing objects:  68% (49/72)\u001b[K\rremote: Compressing objects:  69% (50/72)\u001b[K\rremote: Compressing objects:  70% (51/72)\u001b[K\rremote: Compressing objects:  72% (52/72)\u001b[K\rremote: Compressing objects:  73% (53/72)\u001b[K\rremote: Compressing objects:  75% (54/72)\u001b[K\rremote: Compressing objects:  76% (55/72)\u001b[K\rremote: Compressing objects:  77% (56/72)\u001b[K\rremote: Compressing objects:  79% (57/72)\u001b[K\rremote: Compressing objects:  80% (58/72)\u001b[K\rremote: Compressing objects:  81% (59/72)\u001b[K\rremote: Compressing objects:  83% (60/72)\u001b[K\rremote: Compressing objects:  84% (61/72)\u001b[K\rremote: Compressing objects:  86% (62/72)\u001b[K\rremote: Compressing objects:  87% (63/72)\u001b[K\rremote: Compressing objects:  88% (64/72)\u001b[K\rremote: Compressing objects:  90% (65/72)\u001b[K\rremote: Compressing objects:  91% (66/72)\u001b[K\rremote: Compressing objects:  93% (67/72)\u001b[K\rremote: Compressing objects:  94% (68/72)\u001b[K\rremote: Compressing objects:  95% (69/72)\u001b[K\rremote: Compressing objects:  97% (70/72)\u001b[K\rremote: Compressing objects:  98% (71/72)\u001b[K\rremote: Compressing objects: 100% (72/72)\u001b[K\rremote: Compressing objects: 100% (72/72), done.\u001b[K\n",
            "Unpacking objects:   1% (1/81)   \rUnpacking objects:   2% (2/81)   \rUnpacking objects:   3% (3/81)   \rUnpacking objects:   4% (4/81)   \rUnpacking objects:   6% (5/81)   \rUnpacking objects:   7% (6/81)   \rUnpacking objects:   8% (7/81)   \rUnpacking objects:   9% (8/81)   \rUnpacking objects:  11% (9/81)   \rUnpacking objects:  12% (10/81)   \rUnpacking objects:  13% (11/81)   \rUnpacking objects:  14% (12/81)   \rUnpacking objects:  16% (13/81)   \rUnpacking objects:  17% (14/81)   \rUnpacking objects:  18% (15/81)   \rUnpacking objects:  19% (16/81)   \rUnpacking objects:  20% (17/81)   \rUnpacking objects:  22% (18/81)   \rUnpacking objects:  23% (19/81)   \rUnpacking objects:  24% (20/81)   \rUnpacking objects:  25% (21/81)   \rUnpacking objects:  27% (22/81)   \rUnpacking objects:  28% (23/81)   \rUnpacking objects:  29% (24/81)   \rUnpacking objects:  30% (25/81)   \rUnpacking objects:  32% (26/81)   \rUnpacking objects:  33% (27/81)   \rUnpacking objects:  34% (28/81)   \rUnpacking objects:  35% (29/81)   \rUnpacking objects:  37% (30/81)   \rUnpacking objects:  38% (31/81)   \rUnpacking objects:  39% (32/81)   \rUnpacking objects:  40% (33/81)   \rUnpacking objects:  41% (34/81)   \rUnpacking objects:  43% (35/81)   \rUnpacking objects:  44% (36/81)   \rUnpacking objects:  45% (37/81)   \rremote: Total 81 (delta 35), reused 23 (delta 8), pack-reused 0\u001b[K\n",
            "Unpacking objects:  46% (38/81)   \rUnpacking objects:  48% (39/81)   \rUnpacking objects:  49% (40/81)   \rUnpacking objects:  50% (41/81)   \rUnpacking objects:  51% (42/81)   \rUnpacking objects:  53% (43/81)   \rUnpacking objects:  54% (44/81)   \rUnpacking objects:  55% (45/81)   \rUnpacking objects:  56% (46/81)   \rUnpacking objects:  58% (47/81)   \rUnpacking objects:  59% (48/81)   \rUnpacking objects:  60% (49/81)   \rUnpacking objects:  61% (50/81)   \rUnpacking objects:  62% (51/81)   \rUnpacking objects:  64% (52/81)   \rUnpacking objects:  65% (53/81)   \rUnpacking objects:  66% (54/81)   \rUnpacking objects:  67% (55/81)   \rUnpacking objects:  69% (56/81)   \rUnpacking objects:  70% (57/81)   \rUnpacking objects:  71% (58/81)   \rUnpacking objects:  72% (59/81)   \rUnpacking objects:  74% (60/81)   \rUnpacking objects:  75% (61/81)   \rUnpacking objects:  76% (62/81)   \rUnpacking objects:  77% (63/81)   \rUnpacking objects:  79% (64/81)   \rUnpacking objects:  80% (65/81)   \rUnpacking objects:  81% (66/81)   \rUnpacking objects:  82% (67/81)   \rUnpacking objects:  83% (68/81)   \rUnpacking objects:  85% (69/81)   \rUnpacking objects:  86% (70/81)   \rUnpacking objects:  87% (71/81)   \rUnpacking objects:  88% (72/81)   \rUnpacking objects:  90% (73/81)   \rUnpacking objects:  91% (74/81)   \rUnpacking objects:  92% (75/81)   \rUnpacking objects:  93% (76/81)   \rUnpacking objects:  95% (77/81)   \rUnpacking objects:  96% (78/81)   \rUnpacking objects:  97% (79/81)   \rUnpacking objects:  98% (80/81)   \rUnpacking objects: 100% (81/81)   \rUnpacking objects: 100% (81/81), done.\n"
          ],
          "name": "stdout"
        }
      ]
    },
    {
      "cell_type": "code",
      "metadata": {
        "id": "GsbJDxBGjqxk",
        "colab_type": "code",
        "outputId": "ab205099-2fb7-4c90-d48a-2dd40b1747c8",
        "colab": {
          "base_uri": "https://localhost:8080/",
          "height": 84
        }
      },
      "source": [
        "import numpy as np\n",
        "import nltk\n",
        "import csv\n",
        "import re\n",
        "import pandas as pd\n",
        "\n",
        "from sklearn.feature_extraction.text import CountVectorizer\n",
        "nltk.download('punkt')\n",
        "nltk.download('stopwords')\n",
        "stopwords = set(nltk.corpus.stopwords.words('english'))\n",
        "\n"
      ],
      "execution_count": 28,
      "outputs": [
        {
          "output_type": "stream",
          "text": [
            "[nltk_data] Downloading package punkt to /root/nltk_data...\n",
            "[nltk_data]   Package punkt is already up-to-date!\n",
            "[nltk_data] Downloading package stopwords to /root/nltk_data...\n",
            "[nltk_data]   Package stopwords is already up-to-date!\n"
          ],
          "name": "stdout"
        }
      ]
    },
    {
      "cell_type": "code",
      "metadata": {
        "id": "cgeCy9_vYOZ0",
        "colab_type": "code",
        "colab": {
          "base_uri": "https://localhost:8080/",
          "height": 404
        },
        "outputId": "0bfb23eb-a200-4e0a-a6ae-8e6596953780"
      },
      "source": [
        "# Using pandas to load the data file into a CSV.\n",
        "# ISO-8859-1 is the encoding for tweets.\n",
        "df = pd.read_csv(\"first-first-year-project/data.csv\", encoding = \"ISO-8859-1\")\n",
        "#First step to cleaning the data, removing the categories we dont need.\n",
        "first_clean = df.drop([\"other_topic\",\"resolution_topics\", \"tweet_coord\", \"tweet_created\",\"tweet_id\", \"name\", \"retweet_count\", \"tweet_date\", \"user_timezone\"], axis = 1)\n",
        "first_clean\n"
      ],
      "execution_count": 30,
      "outputs": [
        {
          "output_type": "execute_result",
          "data": {
            "text/html": [
              "<div>\n",
              "<style scoped>\n",
              "    .dataframe tbody tr th:only-of-type {\n",
              "        vertical-align: middle;\n",
              "    }\n",
              "\n",
              "    .dataframe tbody tr th {\n",
              "        vertical-align: top;\n",
              "    }\n",
              "\n",
              "    .dataframe thead th {\n",
              "        text-align: right;\n",
              "    }\n",
              "</style>\n",
              "<table border=\"1\" class=\"dataframe\">\n",
              "  <thead>\n",
              "    <tr style=\"text-align: right;\">\n",
              "      <th></th>\n",
              "      <th>gender</th>\n",
              "      <th>Resolution_Category</th>\n",
              "      <th>text</th>\n",
              "      <th>tweet_location</th>\n",
              "      <th>tweet_state</th>\n",
              "      <th>tweet_region</th>\n",
              "    </tr>\n",
              "  </thead>\n",
              "  <tbody>\n",
              "    <tr>\n",
              "      <th>0</th>\n",
              "      <td>female</td>\n",
              "      <td>Health &amp; Fitness</td>\n",
              "      <td>#NewYearsResolution :: Read more books, No scr...</td>\n",
              "      <td>Southern California</td>\n",
              "      <td>CA</td>\n",
              "      <td>West</td>\n",
              "    </tr>\n",
              "    <tr>\n",
              "      <th>1</th>\n",
              "      <td>female</td>\n",
              "      <td>Humor</td>\n",
              "      <td>#NewYearsResolution Finally master @ZJ10 's pa...</td>\n",
              "      <td>New Jersey</td>\n",
              "      <td>NJ</td>\n",
              "      <td>Northeast</td>\n",
              "    </tr>\n",
              "    <tr>\n",
              "      <th>2</th>\n",
              "      <td>male</td>\n",
              "      <td>Personal Growth</td>\n",
              "      <td>#NewYearsResolution to stop being so damn perf...</td>\n",
              "      <td>Hollywood</td>\n",
              "      <td>CA</td>\n",
              "      <td>West</td>\n",
              "    </tr>\n",
              "    <tr>\n",
              "      <th>3</th>\n",
              "      <td>male</td>\n",
              "      <td>Philanthropic</td>\n",
              "      <td>My #NewYearsResolution is to help my disabled ...</td>\n",
              "      <td>Metro NYC</td>\n",
              "      <td>NY</td>\n",
              "      <td>Northeast</td>\n",
              "    </tr>\n",
              "    <tr>\n",
              "      <th>4</th>\n",
              "      <td>female</td>\n",
              "      <td>Personal Growth</td>\n",
              "      <td>#NewYearsResolution #2015Goals #2015bucketlist...</td>\n",
              "      <td>Pittsburgh, Pennsylvania</td>\n",
              "      <td>PA</td>\n",
              "      <td>Northeast</td>\n",
              "    </tr>\n",
              "    <tr>\n",
              "      <th>...</th>\n",
              "      <td>...</td>\n",
              "      <td>...</td>\n",
              "      <td>...</td>\n",
              "      <td>...</td>\n",
              "      <td>...</td>\n",
              "      <td>...</td>\n",
              "    </tr>\n",
              "    <tr>\n",
              "      <th>5006</th>\n",
              "      <td>female</td>\n",
              "      <td>Recreation &amp; Leisure</td>\n",
              "      <td>Tomorrow I start @JustifiedFX because @natalie...</td>\n",
              "      <td>NC/TN</td>\n",
              "      <td>TN</td>\n",
              "      <td>South</td>\n",
              "    </tr>\n",
              "    <tr>\n",
              "      <th>5007</th>\n",
              "      <td>female</td>\n",
              "      <td>Humor</td>\n",
              "      <td>holy crap, people. EYES OPEN WHEN DRIVING. #Ne...</td>\n",
              "      <td>charleston, nyc</td>\n",
              "      <td>NY</td>\n",
              "      <td>Northeast</td>\n",
              "    </tr>\n",
              "    <tr>\n",
              "      <th>5008</th>\n",
              "      <td>female</td>\n",
              "      <td>Humor</td>\n",
              "      <td>RT @moJO_SHabby: Start parody of her blog #NYR...</td>\n",
              "      <td>Memphis</td>\n",
              "      <td>TN</td>\n",
              "      <td>South</td>\n",
              "    </tr>\n",
              "    <tr>\n",
              "      <th>5009</th>\n",
              "      <td>female</td>\n",
              "      <td>Career</td>\n",
              "      <td>RT @kscmaghirang: To have an excellent job bef...</td>\n",
              "      <td>Paris  USA</td>\n",
              "      <td>TX</td>\n",
              "      <td>South</td>\n",
              "    </tr>\n",
              "    <tr>\n",
              "      <th>5010</th>\n",
              "      <td>female</td>\n",
              "      <td>Health &amp; Fitness</td>\n",
              "      <td>RT @tompycan: #NewYearsResolution on Jan1: \"I'...</td>\n",
              "      <td>shenandoah conservatory</td>\n",
              "      <td>VA</td>\n",
              "      <td>South</td>\n",
              "    </tr>\n",
              "  </tbody>\n",
              "</table>\n",
              "<p>5011 rows × 6 columns</p>\n",
              "</div>"
            ],
            "text/plain": [
              "      gender   Resolution_Category  ... tweet_state tweet_region\n",
              "0     female      Health & Fitness  ...          CA         West\n",
              "1     female                 Humor  ...          NJ    Northeast\n",
              "2       male       Personal Growth  ...          CA         West\n",
              "3       male         Philanthropic  ...          NY    Northeast\n",
              "4     female       Personal Growth  ...          PA    Northeast\n",
              "...      ...                   ...  ...         ...          ...\n",
              "5006  female  Recreation & Leisure  ...          TN        South\n",
              "5007  female                 Humor  ...          NY    Northeast\n",
              "5008  female                 Humor  ...          TN        South\n",
              "5009  female                Career  ...          TX        South\n",
              "5010  female      Health & Fitness  ...          VA        South\n",
              "\n",
              "[5011 rows x 6 columns]"
            ]
          },
          "metadata": {
            "tags": []
          },
          "execution_count": 30
        }
      ]
    },
    {
      "cell_type": "code",
      "metadata": {
        "id": "7R0NV5r7deWR",
        "colab_type": "code",
        "colab": {}
      },
      "source": [
        ""
      ],
      "execution_count": 0,
      "outputs": []
    },
    {
      "cell_type": "code",
      "metadata": {
        "id": "Z8bMi1oUjq8v",
        "colab_type": "code",
        "outputId": "7f56b8ce-9280-45b1-bd54-1af0b5621572",
        "colab": {
          "base_uri": "https://localhost:8080/",
          "height": 204
        }
      },
      "source": [
        "#Create a list of ALL tweets. (Each element in the list is a tweet)\n",
        "sequence = list()\n",
        "for i in range(len(OGdata[:,6])):\n",
        "  sequence.append(OGdata[i,6].strip())\n",
        "\n",
        "#Using Sklearn, playing around with the CountVectorizer.\n",
        "vectorizer = CountVectorizer(analyzer=\"word\", lowercase=True, stop_words= \"english\",min_df= 5, binary= True)\n",
        "X = vectorizer.fit_transform(sequence)\n",
        "X.toarray()\n",
        "print(vectorizer.get_feature_names())\n",
        "print(vectorizer.vocabulary_.get(u\"newyearsresolution\"))\n",
        "print(X.toarray())\n",
        "print(X.shape)"
      ],
      "execution_count": 3,
      "outputs": [
        {
          "output_type": "stream",
          "text": [
            "['000', '10', '100', '1024', '1080p', '11', '12', '13', '14', '15', '17', '18', '1920x1080', '1st', '20', '200', '2013', '2014', '2015', '2015goals', '2016', '21', '24', '2k15', '2nd', '30', '365', '40', '50', '5sos', '__ù', '_ù', '_ù_ä', '_ùª', '_ùªî', '_ùó', '_ùô', '_ùô_', '_ùôî', '_ùõ', '_ùõø', 'able', 'abs', 'accept', 'accomplish', 'accomplished', 'account', 'achieve', 'act', 'acting', 'action', 'active', 'actually', 'add', 'adult', 'adventure', 'advice', 'afraid', 'age', 'ago', 'ahead', 'ain', 'alcohol', 'allow', 'alot', 'amazing', 'amp', 'amwriting', 'anybody', 'anymore', 'apartment', 'app', 'appreciate', 'arms', 'art', 'asap', 'asapferg', 'ask', 'asked', 'asking', 'ass', 'asshole', 'attend', 'attention', 'attitude', 'auntieannes', 'avoid', 'away', 'awesome', 'baby', 'bacon', 'bad', 'bae', 'bag', 'ball', 'balls', 'band', 'bar', 'baseball', 'based', 'battle', 'bc', 'beard', 'beat', 'beautiful', 'bed', 'beer', 'begin', 'believe', 'best', 'better', 'bible', 'big', 'bigger', 'birthday', 'bit', 'bitch', 'bitches', 'black', 'blair', 'blessed', 'block', 'blog', 'blogging', 'boat', 'body', 'book', 'books', 'boss', 'bought', 'boy', 'boyfriend', 'boys', 'break', 'breakfast', 'bring', 'bringing', 'broke', 'broken', 'brother', 'budget', 'build', 'burn', 'burning', 'business', 'busy', 'button', 'buy', 'buying', 'calendar', 'came', 'candy', 'car', 'cardio', 'care', 'career', 'cariloha', 'caring', 'carry', 'cat', 'catch', 'cats', 'cause', 'challenge', 'chance', 'chances', 'change', 'changes', 'changing', 'channel', 'check', 'chicago', 'chicken', 'children', 'chipotle', 'chocolate', 'choose', 'chorgrapher', 'chrisbrown', 'christ', 'christmas', 'chuck', 'church', 'cigarettes', 'clean', 'cleaning', 'clear', 'cliche', 'close', 'closer', 'clothes', 'club', 'coffee', 'coke', 'college', 'come', 'comes', 'coming', 'community', 'complaining', 'complete', 'completed', 'completely', 'concerts', 'confidence', 'confident', 'connected', 'consider', 'consume', 'content', 'continue', 'control', 'cook', 'cool', 'couch', 'couldn', 'count', 'country', 'couple', 'course', 'crack', 'crap', 'crazy', 'create', 'creative', 'criticism', 'crush', 'cursing', 'cut', 'cute', 'cuz', 'dad', 'daily', 'damn', 'dance', 'dancing', 'date', 'dates', 'day', 'days', 'debt', 'decided', 'decisions', 'dedicated', 'deep', 'definitely', 'degree', 'delsolcolor', 'deserve', 'desk', 'determined', 'dick', 'did', 'didn', 'die', 'diet', 'difference', 'different', 'direction', 'discover', 'does', 'doesn', 'dog', 'dogs', 'doing', 'don', 'dont', 'drama', 'draw', 'dream', 'dreams', 'dress', 'drink', 'drinking', 'drinks', 'drive', 'driving', 'drop', 'drunk', 'dslr', 'early', 'earth', 'easy', 'eat', 'eating', 'edm', 'effort', 'email', 'embrace', 'encouragement', 'end', 'energy', 'engage', 'enjoy', 'entire', 'episode', 'especially', 'eve', 'everybody', 'everyday', 'exactly', 'excited', 'exciting', 'excuses', 'exercise', 'exercising', 'expand', 'expect', 'face', 'facebook', 'fail', 'failed', 'faith', 'fake', 'fall', 'family', 'famous', 'far', 'fart', 'fast', 'fat', 'father', 'favorite', 'fb', 'fear', 'feel', 'feeling', 'feelings', 'fewer', 'fight', 'figure', 'film', 'finally', 'finding', 'finish', 'finished', 'fit', 'fitfam', 'fitness', 'focus', 'focused', 'folks', 'follow', 'followed', 'followers', 'following', 'food', 'foods', 'forget', 'forgive', 'forward', 'free', 'french', 'fresh', 'friend', 'friends', 'friendships', 'fuck', 'fucked', 'fucking', 'fucks', 'fun', 'funny', 'future', 'gain', 'game', 'games', 'gay', 'genuinely', 'getfit', 'gets', 'getting', 'gift', 'girl', 'girlfriend', 'girls', 'gives', 'giving', 'goal', 'goals', 'goalsfor2015', 'god', 'goes', 'going', 'gone', 'gonna', 'good', 'got', 'gotta', 'grades', 'graduate', 'grateful', 'great', 'ground', 'grow', 'growth', 'gt', 'guess', 'guitar', 'guy', 'guys', 'gym', 'habit', 'habits', 'haha', 'hahaha', 'hair', 'half', 'hand', 'hands', 'hang', 'happen', 'happier', 'happiness', 'happy', 'happynewyear', 'hard', 'harder', 'hashtagoftheweek', 'hate', 'haters', 'hating', 'haven', 'having', 'head', 'health', 'healthier', 'healthy', 'hear', 'heart', 'hell', 'help', 'helping', 'hi', 'high', 'hit', 'hoes', 'hold', 'holding', 'holiday', 'holidays', 'home', 'homeless', 'hope', 'hopefully', 'hoping', 'hot', 'hour', 'hours', 'house', 'http', 'https', 'hug', 'human', 'hurt', 'husband', 'ice', 'idea', 'ideas', 'idk', 'im', 'ima', 'image', 'imma', 'important', 'improve', 'increase', 'inspiration', 'instagram', 'instead', 'intake', 'interesting', 'internship', 'isn', 'jack', 'jan', 'january', 'jesus', 'jk', 'job', 'john', 'join', 'joining', 'jokes', 'journal', 'joy', 'judge', 'judgmental', 'juice', 'jump', 'just', 'keeping', 'kick', 'kid', 'kidding', 'kids', 'kill', 'kind', 'kinder', 'kiss', 'know', 'l00tapp', 'l00tappp', 'late', 'laugh', 'lazy', 'lbs', 'learn', 'learned', 'learning', 'leave', 'left', 'legs', 'lessons', 'let', 'lets', 'letting', 'level', 'life', 'lifestyle', 'like', 'lil', 'limit', 'list', 'listen', 'listening', 'literally', 'little', 'live', 'lives', 'living', 'll', 'lmao', 'lmfao', 'lol', 'long', 'longer', 'look', 'looking', 'looks', 'loose', 'lord', 'lose', 'losing', 'loss', 'lost', 'lot', 'love', 'loved', 'loves', 'loving', 'low', 'lt', 'lying', 'madonna', 'make', 'makes', 'makeup', 'making', 'man', 'manage', 'marathon', 'march', 'marry', 'matter', 'maybe', 'mcdonald', 'meal', 'mean', 'means', 'meat', 'media', 'meet', 'membership', 'memories', 'mentally', 'midnight', 'mile', 'miles', 'mind', 'minutes', 'miss', 'mistakes', 'mix', 'mixtape', 'mlbpaclubhouse', 'mom', 'moment', 'mondayblogs', 'money', 'month', 'months', 'morning', 'motivated', 'motivation', 'motto', 'mouth', 'movie', 'movies', 'moving', 'mr', 'music', 'nashgrier', 'need', 'needs', 'negative', 'negativity', 'neighbors', 'netflix', 'new', 'newbeginnings', 'newyear', 'newyear2015', 'newyearnewme', 'newyearnewyou', 'newyears', 'newyearseve', 'newyearsresolution', 'nice', 'nicer', 'nicolewinhoffer', 'niggas', 'night', 'noticed', 'number', 'ny', 'nye', 'nye2015', 'nyr', 'officially', 'oh', 'ok', 'okay', 'old', 'ones', 'online', 'oops', 'open', 'opinion', 'opportunity', 'optimistic', 'order', 'organized', 'outside', 'pack', 'pants', 'paper', 'parents', 'parksandrecnbc', 'party', 'pass', 'passion', 'past', 'patience', 'pay', 'peace', 'people', 'perfect', 'person', 'personal', 'pet', 'pewdiepie', 'phone', 'photo', 'physically', 'pick', 'pics', 'pictures', 'pinterest', 'pizza', 'place', 'places', 'plan', 'planet', 'planning', 'plans', 'play', 'playing', 'plus', 'pointless', 'pop', 'popular', 'positive', 'possible', 'post', 'pounds', 'power', 'ppl', 'practice', 'pray', 'prayer', 'present', 'pretty', 'priority', 'probably', 'problem', 'problems', 'procrastinating', 'produce', 'productive', 'progress', 'promise', 'promised', 'promises', 'proud', 'pt', 'public', 'publish', 'purpose', 'push', 'putting', 'quality', 'quit', 'quitting', 'quote', 'raise', 'reach', 'read', 'reading', 'ready', 'real', 'realistic', 'realize', 'really', 'refer', 'refuse', 'relationship', 'relationships', 'remember', 'remove', 'resolution', 'resolutions', 'resolutionsfor2015', 'resolve', 'resolving', 'respect', 'responsible', 'rest', 'return', 'rich', 'rid', 'ride', 'right', 'road', 'rock', 'roll', 'room', 'rt', 'run', 'running', 'said', 'save', 'say', 'saying', 'says', 'school', 'science', 'screw', 'season', 'second', 'seeing', 'seen', 'self', 'selfie', 'selfies', 'send', 'series', 'seriously', 'set', 'setting', 'settle', 'sex', 'sh', 'shall', 'shape', 'share', 'sharing', 'shave', 'shit', 'shopping', 'shot', 'shows', 'sick', 'simple', 'simply', 'sing', 'single', 'sit', 'sitting', 'situation', 'skin', 'skinny', 'slap', 'sleep', 'sleeping', 'small', 'smile', 'smoke', 'smoking', 'sober', 'social', 'socialmedia', 'soda', 'somebody', 'son', 'song', 'songs', 'soon', 'sorry', 'sounds', 'spanish', 'speak', 'special', 'spend', 'spending', 'spent', 'spirit', 'sports', 'stand', 'starbucks', 'start', 'started', 'starting', 'starts', 'state', 'stay', 'staying', 'step', 'stepping', 'steps', 'stick', 'sticks', 'stop', 'store', 'story', 'straight', 'stress', 'strive', 'strong', 'stronger', 'stubhub', 'stuck', 'studio', 'stuff', 'stupid', 'succeed', 'success', 'successful', 'successfully', 'sugar', 'summer', 'super', 'supper', 'support', 'sure', 'surround', 'sweet', 'taco', 'tacos', 'taking', 'talk', 'talking', 'taste', 'tbh', 'teach', 'team', 'tell', 'telling', 'text', 'texting', 'thank', 'thankful', 'thanks', 'thats', 'theellenshow', 'thing', 'things', 'think', 'thinking', 'thought', 'thoughts', 'throw', 'tickets', 'till', 'time', 'times', 'tixwish', 'today', 'toilet', 'told', 'tolerance', 'tomorrow', 'tone', 'tonight', 'total', 'totally', 'touch', 'track', 'training', 'travel', 'treat', 'trips', 'true', 'truth', 'try', 'trying', 'turn', 'tv', 'tweet', 'tweeting', 'tweets', 'twice', 'twitter', 'ugh', 'ugly', 'understanding', 'unplug', 'upset', 'use', 'used', 'using', 'vacation', 've', 'version', 'vibes', 'video', 'videos', 'visit', 'volunteer', 'vow', 'wait', 'waiting', 'wake', 'walk', 'wanna', 'want', 'wants', 'waste', 'watch', 'watching', 'water', 'way', 'ways', 'wear', 'wearing', 'wedding', 'weed', 'week', 'weeks', 'weight', 'weightloss', 'weird', 'went', 'white', 'wife', 'win', 'wine', 'winter', 'wish', 'wit', 'woman', 'women', 'won', 'word', 'words', 'work', 'working', 'workout', 'world', 'worry', 'worrying', 'worth', 'write', 'writing', 'wrong', 'wwf', 'ya', 'yall', 'yeah', 'year', 'years', 'yes', 'yesterday', 'yoga', 'york', 'youareworthit', 'youtube', 'zero', 'â_ù', 'ï_', 'ïî', 'ïó', 'û_', 'ûªm', 'ûªs', 'ûï']\n",
            "617\n",
            "[[0 0 0 ... 0 0 0]\n",
            " [0 0 0 ... 0 0 0]\n",
            " [0 0 0 ... 0 0 0]\n",
            " ...\n",
            " [0 0 0 ... 0 0 1]\n",
            " [0 0 0 ... 0 0 0]\n",
            " [0 0 0 ... 0 0 0]]\n",
            "(5011, 996)\n"
          ],
          "name": "stdout"
        }
      ]
    },
    {
      "cell_type": "code",
      "metadata": {
        "id": "G-VcXa5JjrCj",
        "colab_type": "code",
        "colab": {
          "base_uri": "https://localhost:8080/",
          "height": 33
        },
        "outputId": "f301437b-9b8f-42ef-9ee9-fd79f23dfadd"
      },
      "source": [
        "from sklearn.feature_extraction.text import TfidfTransformer\n",
        "tfidf_transformer = TfidfTransformer()\n",
        "X_train_tfidf = tfidf_transformer.fit_transform(X)\n",
        "X_train_tfidf.shape\n"
      ],
      "execution_count": 6,
      "outputs": [
        {
          "output_type": "execute_result",
          "data": {
            "text/plain": [
              "(5011, 996)"
            ]
          },
          "metadata": {
            "tags": []
          },
          "execution_count": 6
        }
      ]
    },
    {
      "cell_type": "code",
      "metadata": {
        "id": "FSGlGbDejrHl",
        "colab_type": "code",
        "colab": {
          "base_uri": "https://localhost:8080/",
          "height": 178
        },
        "outputId": "3c6cc76f-502a-4f9a-9b48-0f7696f124aa"
      },
      "source": [
        "from sklearn.naive_bayes import MultinomialNB\n",
        "clf = MultinomialNB().fit(X_train_tfidf, )"
      ],
      "execution_count": 7,
      "outputs": [
        {
          "output_type": "error",
          "ename": "NameError",
          "evalue": "ignored",
          "traceback": [
            "\u001b[0;31m---------------------------------------------------------------------------\u001b[0m",
            "\u001b[0;31mNameError\u001b[0m                                 Traceback (most recent call last)",
            "\u001b[0;32m<ipython-input-7-7bb0c4e908fb>\u001b[0m in \u001b[0;36m<module>\u001b[0;34m()\u001b[0m\n\u001b[1;32m      1\u001b[0m \u001b[0;32mfrom\u001b[0m \u001b[0msklearn\u001b[0m\u001b[0;34m.\u001b[0m\u001b[0mnaive_bayes\u001b[0m \u001b[0;32mimport\u001b[0m \u001b[0mMultinomialNB\u001b[0m\u001b[0;34m\u001b[0m\u001b[0;34m\u001b[0m\u001b[0m\n\u001b[0;32m----> 2\u001b[0;31m \u001b[0mclf\u001b[0m \u001b[0;34m=\u001b[0m \u001b[0mMultinomialNB\u001b[0m\u001b[0;34m(\u001b[0m\u001b[0;34m)\u001b[0m\u001b[0;34m.\u001b[0m\u001b[0mfit\u001b[0m\u001b[0;34m(\u001b[0m\u001b[0mX_train_tfidf\u001b[0m\u001b[0;34m,\u001b[0m \u001b[0mtwenty_train\u001b[0m\u001b[0;34m.\u001b[0m\u001b[0mtarget\u001b[0m\u001b[0;34m)\u001b[0m\u001b[0;34m\u001b[0m\u001b[0;34m\u001b[0m\u001b[0m\n\u001b[0m",
            "\u001b[0;31mNameError\u001b[0m: name 'twenty_train' is not defined"
          ]
        }
      ]
    },
    {
      "cell_type": "code",
      "metadata": {
        "id": "Ibg8tTh2jrMw",
        "colab_type": "code",
        "colab": {}
      },
      "source": [
        ""
      ],
      "execution_count": 0,
      "outputs": []
    },
    {
      "cell_type": "code",
      "metadata": {
        "id": "8-DaRS1NjrTc",
        "colab_type": "code",
        "colab": {}
      },
      "source": [
        ""
      ],
      "execution_count": 0,
      "outputs": []
    }
  ]
}