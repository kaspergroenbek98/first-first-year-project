{
  "nbformat": 4,
  "nbformat_minor": 0,
  "metadata": {
    "colab": {
      "name": "SklearnNotebook.ipynb",
      "provenance": [],
      "authorship_tag": "ABX9TyP8gx5wP+AL5BVWAwCeSleb",
      "include_colab_link": true
    },
    "kernelspec": {
      "name": "python3",
      "display_name": "Python 3"
    }
  },
  "cells": [
    {
      "cell_type": "markdown",
      "metadata": {
        "id": "view-in-github",
        "colab_type": "text"
      },
      "source": [
        "<a href=\"https://colab.research.google.com/github/kaspergroenbek98/first-first-year-project/blob/master/SklearnNotebook.ipynb\" target=\"_parent\"><img src=\"https://colab.research.google.com/assets/colab-badge.svg\" alt=\"Open In Colab\"/></a>"
      ]
    },
    {
      "cell_type": "code",
      "metadata": {
        "id": "HLhZtbJFjmmT",
        "colab_type": "code",
        "colab": {
          "base_uri": "https://localhost:8080/",
          "height": 117
        },
        "outputId": "06d7eaa4-d0e2-4990-8314-917944a3451a"
      },
      "source": [
        "! git clone https://github.com/kaspergroenbek98/first-first-year-project.git\n"
      ],
      "execution_count": 1,
      "outputs": [
        {
          "output_type": "stream",
          "text": [
            "Cloning into 'first-first-year-project'...\n",
            "remote: Enumerating objects: 58, done.\u001b[K\n",
            "remote: Counting objects: 100% (58/58), done.\u001b[K\n",
            "remote: Compressing objects: 100% (50/50), done.\u001b[K\n",
            "remote: Total 58 (delta 24), reused 19 (delta 7), pack-reused 0\u001b[K\n",
            "Unpacking objects: 100% (58/58), done.\n"
          ],
          "name": "stdout"
        }
      ]
    },
    {
      "cell_type": "code",
      "metadata": {
        "id": "GsbJDxBGjqxk",
        "colab_type": "code",
        "colab": {
          "base_uri": "https://localhost:8080/",
          "height": 84
        },
        "outputId": "e2efa083-dde2-4f83-fcef-a8bae04b4ee9"
      },
      "source": [
        "import numpy as np\n",
        "import nltk\n",
        "import csv\n",
        "import re\n",
        "from sklearn.feature_extraction.text import CountVectorizer\n",
        "nltk.download('punkt')\n",
        "nltk.download('stopwords')\n",
        "stopwords = set(nltk.corpus.stopwords.words('english'))\n",
        "\n",
        "\n",
        "# Read the data into a header and a data np.array - the array is then shuffled\n",
        "with open('first-first-year-project/data.csv', encoding='latin1') as csv_file:\n",
        "    csv_reader = csv.reader(csv_file, delimiter=',')\n",
        "    data = np.array([np.array(line) for line in csv_reader])\n",
        "header, OGdata = data[0,:], data[1:,:]"
      ],
      "execution_count": 2,
      "outputs": [
        {
          "output_type": "stream",
          "text": [
            "[nltk_data] Downloading package punkt to /root/nltk_data...\n",
            "[nltk_data]   Unzipping tokenizers/punkt.zip.\n",
            "[nltk_data] Downloading package stopwords to /root/nltk_data...\n",
            "[nltk_data]   Unzipping corpora/stopwords.zip.\n"
          ],
          "name": "stdout"
        }
      ]
    },
    {
      "cell_type": "code",
      "metadata": {
        "id": "Z8bMi1oUjq8v",
        "colab_type": "code",
        "colab": {
          "base_uri": "https://localhost:8080/",
          "height": 221
        },
        "outputId": "caf0c7d6-fc36-4377-a115-9b8134ed606a"
      },
      "source": [
        "#Create a list of ALL tweets. (Each element in the list is a tweet)\n",
        "sequence = list()\n",
        "for i in range(len(OGdata[:,6])):\n",
        "  sequence.append(OGdata[i,6].strip())\n",
        "\n",
        "#Using Sklearn, playing around with the CountVectorizer.\n",
        "vectorizer = CountVectorizer(analyzer=\"word\", lowercase=True, stop_words= \"english\",min_df= 5, binary= True)\n",
        "X = vectorizer.fit_transform(sequence)\n",
        "X.toarray()\n",
        "print(vectorizer.get_feature_names())\n",
        "print(vectorizer.vocabulary_.get(u\"newyearsresolution\"))\n",
        "print(X.toarray())\n",
        "print(X.shape)"
      ],
      "execution_count": 3,
      "outputs": [
        {
          "output_type": "stream",
          "text": [
            "[\"#NewYearsResolution :: Read more books, No scrolling FB/checking email b4 breakfast, stay dedicated to PT/yoga to squash my achin' back!\", \"#NewYearsResolution Finally master @ZJ10 's part of Kitchen Sink\", '#NewYearsResolution to stop being so damn perf _ÙÕÐ_ÙÕÉ', 'My #NewYearsResolution is to help my disabled patients discover the emotional and physical therapy from loving a pet. #adoptarescue', '#NewYearsResolution #2015Goals #2015bucketlist continued\\x89\\x9d_\\x95ü\\x8f http://t.co/h4P9B7tWjG']\n",
            "['000', '10', '100', '1024', '1080p', '11', '12', '13', '14', '15', '17', '18', '1920x1080', '1st', '20', '200', '2013', '2014', '2015', '2015goals', '2016', '21', '24', '2k15', '2nd', '30', '365', '40', '50', '5sos', '__ù', '_ù', '_ù_ä', '_ùª', '_ùªî', '_ùó', '_ùô', '_ùô_', '_ùôî', '_ùõ', '_ùõø', 'able', 'abs', 'accept', 'accomplish', 'accomplished', 'account', 'achieve', 'act', 'acting', 'action', 'active', 'actually', 'add', 'adult', 'adventure', 'advice', 'afraid', 'age', 'ago', 'ahead', 'ain', 'alcohol', 'allow', 'alot', 'amazing', 'amp', 'amwriting', 'anybody', 'anymore', 'apartment', 'app', 'appreciate', 'arms', 'art', 'asap', 'asapferg', 'ask', 'asked', 'asking', 'ass', 'asshole', 'attend', 'attention', 'attitude', 'auntieannes', 'avoid', 'away', 'awesome', 'baby', 'bacon', 'bad', 'bae', 'bag', 'ball', 'balls', 'band', 'bar', 'baseball', 'based', 'battle', 'bc', 'beard', 'beat', 'beautiful', 'bed', 'beer', 'begin', 'believe', 'best', 'better', 'bible', 'big', 'bigger', 'birthday', 'bit', 'bitch', 'bitches', 'black', 'blair', 'blessed', 'block', 'blog', 'blogging', 'boat', 'body', 'book', 'books', 'boss', 'bought', 'boy', 'boyfriend', 'boys', 'break', 'breakfast', 'bring', 'bringing', 'broke', 'broken', 'brother', 'budget', 'build', 'burn', 'burning', 'business', 'busy', 'button', 'buy', 'buying', 'calendar', 'came', 'candy', 'car', 'cardio', 'care', 'career', 'cariloha', 'caring', 'carry', 'cat', 'catch', 'cats', 'cause', 'challenge', 'chance', 'chances', 'change', 'changes', 'changing', 'channel', 'check', 'chicago', 'chicken', 'children', 'chipotle', 'chocolate', 'choose', 'chorgrapher', 'chrisbrown', 'christ', 'christmas', 'chuck', 'church', 'cigarettes', 'clean', 'cleaning', 'clear', 'cliche', 'close', 'closer', 'clothes', 'club', 'coffee', 'coke', 'college', 'come', 'comes', 'coming', 'community', 'complaining', 'complete', 'completed', 'completely', 'concerts', 'confidence', 'confident', 'connected', 'consider', 'consume', 'content', 'continue', 'control', 'cook', 'cool', 'couch', 'couldn', 'count', 'country', 'couple', 'course', 'crack', 'crap', 'crazy', 'create', 'creative', 'criticism', 'crush', 'cursing', 'cut', 'cute', 'cuz', 'dad', 'daily', 'damn', 'dance', 'dancing', 'date', 'dates', 'day', 'days', 'debt', 'decided', 'decisions', 'dedicated', 'deep', 'definitely', 'degree', 'delsolcolor', 'deserve', 'desk', 'determined', 'dick', 'did', 'didn', 'die', 'diet', 'difference', 'different', 'direction', 'discover', 'does', 'doesn', 'dog', 'dogs', 'doing', 'don', 'dont', 'drama', 'draw', 'dream', 'dreams', 'dress', 'drink', 'drinking', 'drinks', 'drive', 'driving', 'drop', 'drunk', 'dslr', 'early', 'earth', 'easy', 'eat', 'eating', 'edm', 'effort', 'email', 'embrace', 'encouragement', 'end', 'energy', 'engage', 'enjoy', 'entire', 'episode', 'especially', 'eve', 'everybody', 'everyday', 'exactly', 'excited', 'exciting', 'excuses', 'exercise', 'exercising', 'expand', 'expect', 'face', 'facebook', 'fail', 'failed', 'faith', 'fake', 'fall', 'family', 'famous', 'far', 'fart', 'fast', 'fat', 'father', 'favorite', 'fb', 'fear', 'feel', 'feeling', 'feelings', 'fewer', 'fight', 'figure', 'film', 'finally', 'finding', 'finish', 'finished', 'fit', 'fitfam', 'fitness', 'focus', 'focused', 'folks', 'follow', 'followed', 'followers', 'following', 'food', 'foods', 'forget', 'forgive', 'forward', 'free', 'french', 'fresh', 'friend', 'friends', 'friendships', 'fuck', 'fucked', 'fucking', 'fucks', 'fun', 'funny', 'future', 'gain', 'game', 'games', 'gay', 'genuinely', 'getfit', 'gets', 'getting', 'gift', 'girl', 'girlfriend', 'girls', 'gives', 'giving', 'goal', 'goals', 'goalsfor2015', 'god', 'goes', 'going', 'gone', 'gonna', 'good', 'got', 'gotta', 'grades', 'graduate', 'grateful', 'great', 'ground', 'grow', 'growth', 'gt', 'guess', 'guitar', 'guy', 'guys', 'gym', 'habit', 'habits', 'haha', 'hahaha', 'hair', 'half', 'hand', 'hands', 'hang', 'happen', 'happier', 'happiness', 'happy', 'happynewyear', 'hard', 'harder', 'hashtagoftheweek', 'hate', 'haters', 'hating', 'haven', 'having', 'head', 'health', 'healthier', 'healthy', 'hear', 'heart', 'hell', 'help', 'helping', 'hi', 'high', 'hit', 'hoes', 'hold', 'holding', 'holiday', 'holidays', 'home', 'homeless', 'hope', 'hopefully', 'hoping', 'hot', 'hour', 'hours', 'house', 'http', 'https', 'hug', 'human', 'hurt', 'husband', 'ice', 'idea', 'ideas', 'idk', 'im', 'ima', 'image', 'imma', 'important', 'improve', 'increase', 'inspiration', 'instagram', 'instead', 'intake', 'interesting', 'internship', 'isn', 'jack', 'jan', 'january', 'jesus', 'jk', 'job', 'john', 'join', 'joining', 'jokes', 'journal', 'joy', 'judge', 'judgmental', 'juice', 'jump', 'just', 'keeping', 'kick', 'kid', 'kidding', 'kids', 'kill', 'kind', 'kinder', 'kiss', 'know', 'l00tapp', 'l00tappp', 'late', 'laugh', 'lazy', 'lbs', 'learn', 'learned', 'learning', 'leave', 'left', 'legs', 'lessons', 'let', 'lets', 'letting', 'level', 'life', 'lifestyle', 'like', 'lil', 'limit', 'list', 'listen', 'listening', 'literally', 'little', 'live', 'lives', 'living', 'll', 'lmao', 'lmfao', 'lol', 'long', 'longer', 'look', 'looking', 'looks', 'loose', 'lord', 'lose', 'losing', 'loss', 'lost', 'lot', 'love', 'loved', 'loves', 'loving', 'low', 'lt', 'lying', 'madonna', 'make', 'makes', 'makeup', 'making', 'man', 'manage', 'marathon', 'march', 'marry', 'matter', 'maybe', 'mcdonald', 'meal', 'mean', 'means', 'meat', 'media', 'meet', 'membership', 'memories', 'mentally', 'midnight', 'mile', 'miles', 'mind', 'minutes', 'miss', 'mistakes', 'mix', 'mixtape', 'mlbpaclubhouse', 'mom', 'moment', 'mondayblogs', 'money', 'month', 'months', 'morning', 'motivated', 'motivation', 'motto', 'mouth', 'movie', 'movies', 'moving', 'mr', 'music', 'nashgrier', 'need', 'needs', 'negative', 'negativity', 'neighbors', 'netflix', 'new', 'newbeginnings', 'newyear', 'newyear2015', 'newyearnewme', 'newyearnewyou', 'newyears', 'newyearseve', 'newyearsresolution', 'nice', 'nicer', 'nicolewinhoffer', 'niggas', 'night', 'noticed', 'number', 'ny', 'nye', 'nye2015', 'nyr', 'officially', 'oh', 'ok', 'okay', 'old', 'ones', 'online', 'oops', 'open', 'opinion', 'opportunity', 'optimistic', 'order', 'organized', 'outside', 'pack', 'pants', 'paper', 'parents', 'parksandrecnbc', 'party', 'pass', 'passion', 'past', 'patience', 'pay', 'peace', 'people', 'perfect', 'person', 'personal', 'pet', 'pewdiepie', 'phone', 'photo', 'physically', 'pick', 'pics', 'pictures', 'pinterest', 'pizza', 'place', 'places', 'plan', 'planet', 'planning', 'plans', 'play', 'playing', 'plus', 'pointless', 'pop', 'popular', 'positive', 'possible', 'post', 'pounds', 'power', 'ppl', 'practice', 'pray', 'prayer', 'present', 'pretty', 'priority', 'probably', 'problem', 'problems', 'procrastinating', 'produce', 'productive', 'progress', 'promise', 'promised', 'promises', 'proud', 'pt', 'public', 'publish', 'purpose', 'push', 'putting', 'quality', 'quit', 'quitting', 'quote', 'raise', 'reach', 'read', 'reading', 'ready', 'real', 'realistic', 'realize', 'really', 'refer', 'refuse', 'relationship', 'relationships', 'remember', 'remove', 'resolution', 'resolutions', 'resolutionsfor2015', 'resolve', 'resolving', 'respect', 'responsible', 'rest', 'return', 'rich', 'rid', 'ride', 'right', 'road', 'rock', 'roll', 'room', 'rt', 'run', 'running', 'said', 'save', 'say', 'saying', 'says', 'school', 'science', 'screw', 'season', 'second', 'seeing', 'seen', 'self', 'selfie', 'selfies', 'send', 'series', 'seriously', 'set', 'setting', 'settle', 'sex', 'sh', 'shall', 'shape', 'share', 'sharing', 'shave', 'shit', 'shopping', 'shot', 'shows', 'sick', 'simple', 'simply', 'sing', 'single', 'sit', 'sitting', 'situation', 'skin', 'skinny', 'slap', 'sleep', 'sleeping', 'small', 'smile', 'smoke', 'smoking', 'sober', 'social', 'socialmedia', 'soda', 'somebody', 'son', 'song', 'songs', 'soon', 'sorry', 'sounds', 'spanish', 'speak', 'special', 'spend', 'spending', 'spent', 'spirit', 'sports', 'stand', 'starbucks', 'start', 'started', 'starting', 'starts', 'state', 'stay', 'staying', 'step', 'stepping', 'steps', 'stick', 'sticks', 'stop', 'store', 'story', 'straight', 'stress', 'strive', 'strong', 'stronger', 'stubhub', 'stuck', 'studio', 'stuff', 'stupid', 'succeed', 'success', 'successful', 'successfully', 'sugar', 'summer', 'super', 'supper', 'support', 'sure', 'surround', 'sweet', 'taco', 'tacos', 'taking', 'talk', 'talking', 'taste', 'tbh', 'teach', 'team', 'tell', 'telling', 'text', 'texting', 'thank', 'thankful', 'thanks', 'thats', 'theellenshow', 'thing', 'things', 'think', 'thinking', 'thought', 'thoughts', 'throw', 'tickets', 'till', 'time', 'times', 'tixwish', 'today', 'toilet', 'told', 'tolerance', 'tomorrow', 'tone', 'tonight', 'total', 'totally', 'touch', 'track', 'training', 'travel', 'treat', 'trips', 'true', 'truth', 'try', 'trying', 'turn', 'tv', 'tweet', 'tweeting', 'tweets', 'twice', 'twitter', 'ugh', 'ugly', 'understanding', 'unplug', 'upset', 'use', 'used', 'using', 'vacation', 've', 'version', 'vibes', 'video', 'videos', 'visit', 'volunteer', 'vow', 'wait', 'waiting', 'wake', 'walk', 'wanna', 'want', 'wants', 'waste', 'watch', 'watching', 'water', 'way', 'ways', 'wear', 'wearing', 'wedding', 'weed', 'week', 'weeks', 'weight', 'weightloss', 'weird', 'went', 'white', 'wife', 'win', 'wine', 'winter', 'wish', 'wit', 'woman', 'women', 'won', 'word', 'words', 'work', 'working', 'workout', 'world', 'worry', 'worrying', 'worth', 'write', 'writing', 'wrong', 'wwf', 'ya', 'yall', 'yeah', 'year', 'years', 'yes', 'yesterday', 'yoga', 'york', 'youareworthit', 'youtube', 'zero', 'â_ù', 'ï_', 'ïî', 'ïó', 'û_', 'ûªm', 'ûªs', 'ûï']\n",
            "617\n",
            "[[0 0 0 ... 0 0 0]\n",
            " [0 0 0 ... 0 0 0]\n",
            " [0 0 0 ... 0 0 0]\n",
            " ...\n",
            " [0 0 0 ... 0 0 1]\n",
            " [0 0 0 ... 0 0 0]\n",
            " [0 0 0 ... 0 0 0]]\n",
            "(5011, 996)\n"
          ],
          "name": "stdout"
        }
      ]
    },
    {
      "cell_type": "code",
      "metadata": {
        "id": "G-VcXa5JjrCj",
        "colab_type": "code",
        "colab": {}
      },
      "source": [
        ""
      ],
      "execution_count": 0,
      "outputs": []
    },
    {
      "cell_type": "code",
      "metadata": {
        "id": "FSGlGbDejrHl",
        "colab_type": "code",
        "colab": {}
      },
      "source": [
        ""
      ],
      "execution_count": 0,
      "outputs": []
    },
    {
      "cell_type": "code",
      "metadata": {
        "id": "Ibg8tTh2jrMw",
        "colab_type": "code",
        "colab": {}
      },
      "source": [
        ""
      ],
      "execution_count": 0,
      "outputs": []
    },
    {
      "cell_type": "code",
      "metadata": {
        "id": "8-DaRS1NjrTc",
        "colab_type": "code",
        "colab": {}
      },
      "source": [
        ""
      ],
      "execution_count": 0,
      "outputs": []
    }
  ]
}