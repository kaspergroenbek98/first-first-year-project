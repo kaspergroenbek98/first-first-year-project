{
 "cells": [
  {
   "cell_type": "code",
   "execution_count": 35,
   "metadata": {},
   "outputs": [],
   "source": [
    "import nltk\n",
    "import numpy as np\n",
    "import pandas as pd\n",
    "from sklearn.naive_bayes import GaussianNB\n",
    "from sklearn import preprocessing"
   ]
  },
  {
   "cell_type": "code",
   "execution_count": null,
   "metadata": {},
   "outputs": [],
   "source": [
    "nltk.download('punkt')\n",
    "nltk.download('stopwords')\n",
    "stopwords = set(nltk.corpus.stopwords.words('english'))"
   ]
  },
  {
   "cell_type": "code",
   "execution_count": 28,
   "metadata": {},
   "outputs": [],
   "source": [
    "data = pd.read_csv('data.csv', sep=',', header = 0, encoding = 'latin-1', \t\n",
    "        dtype={'resolution_topics': str, 'gender': str,'name': str\n",
    "        ,'resolution_category': str , 'retweet_count': float, \n",
    "        'text': str, 'tweet_coord': str, 'tweet_created': str\n",
    "        ,'tweet_date': str, 'tweet_id': int, 'tweet_location': str\n",
    "        ,'tweet_state': str, 'user_timezone': str, 'tweet region': str}, error_bad_lines=False)\n",
    "\n",
    "data_array = data.to_numpy()"
   ]
  },
  {
   "cell_type": "code",
   "execution_count": 29,
   "metadata": {},
   "outputs": [
    {
     "name": "stdout",
     "output_type": "stream",
     "text": [
      "(5011, 15)\n",
      "                                   other_topic  \\\n",
      "0        Read moore books, read less facebook.   \n",
      "1                                          NaN   \n",
      "2                                          NaN   \n",
      "3  Help More\\nspread pet therapy|helping other   \n",
      "4                                          NaN   \n",
      "\n",
      "                                   resolution_topics  gender             name  \\\n",
      "0                                      Eat healthier  female      Dena_Marina   \n",
      "1  Humor about Personal Growth and Interests Reso...  female     ninjagirl325   \n",
      "2                                  Be More Confident    male     RickyDelReyy   \n",
      "3                                              Other    male        CalmareNJ   \n",
      "4                                   Be more positive  female  welovatoyoudemi   \n",
      "\n",
      "  Resolution_Category  retweet_count  \\\n",
      "0    Health & Fitness            0.0   \n",
      "1               Humor            1.0   \n",
      "2     Personal Growth            0.0   \n",
      "3       Philanthropic            0.0   \n",
      "4     Personal Growth            0.0   \n",
      "\n",
      "                                                text tweet_coord  \\\n",
      "0  #NewYearsResolution :: Read more books, No scr...         NaN   \n",
      "1  #NewYearsResolution Finally master @ZJ10 's pa...         NaN   \n",
      "2  #NewYearsResolution to stop being so damn perf...         NaN   \n",
      "3  My #NewYearsResolution is to help my disabled ...         NaN   \n",
      "4  #NewYearsResolution #2015Goals #2015bucketlist...         NaN   \n",
      "\n",
      "    tweet_created tweet_date            tweet_id             tweet_location  \\\n",
      "0  12/31/14 10:48   12/31/14  550363000000000000        Southern California   \n",
      "1  12/31/14 10:47   12/31/14  550363000000000000                 New Jersey   \n",
      "2  12/31/14 10:46   12/31/14  550362000000000000                  Hollywood   \n",
      "3  12/31/14 10:45   12/31/14  550362000000000000                  Metro NYC   \n",
      "4  12/31/14 10:44   12/31/14  550362000000000000  Pittsburgh, Pennsylvania    \n",
      "\n",
      "  tweet_state               user_timezone tweet_region  \n",
      "0          CA  Pacific Time (US & Canada)         West  \n",
      "1          NJ  Central Time (US & Canada)    Northeast  \n",
      "2          CA  Eastern Time (US & Canada)         West  \n",
      "3          NY                         NaN    Northeast  \n",
      "4          PA  Eastern Time (US & Canada)    Northeast  \n"
     ]
    }
   ],
   "source": [
    "print(data.shape)\n",
    "print(data.head(5))"
   ]
  },
  {
   "cell_type": "code",
   "execution_count": 30,
   "metadata": {},
   "outputs": [
    {
     "name": "stdout",
     "output_type": "stream",
     "text": [
      "emoji: 😀\n",
      "repr: '😀'\n",
      "len: 1\n"
     ]
    }
   ],
   "source": [
    "\"\"\"Test to sjow that emojis are possible to deal with when coding, \n",
    "just not emojis from twitter, since they are compressed images, \n",
    "and not a combination of letters and numbers readable for the computer.\"\"\"\n",
    "from __future__ import unicode_literals\n",
    "\n",
    "emoji = u\"😀\"\n",
    "\n",
    "print(u\"emoji: \" + emoji)\n",
    "print(u\"repr: \" + repr(emoji))\n",
    "print(u\"len: {}\".format(len(emoji)))"
   ]
  },
  {
   "cell_type": "code",
   "execution_count": 32,
   "metadata": {},
   "outputs": [],
   "source": [
    "porter = nltk.PorterStemmer()\n",
    "\n",
    "# Remove all stopwords, non-alphabet words (except spaces), and stem the words\n",
    "for i, row in enumerate(data_array[:,6]):\n",
    "    row = row.lower()\n",
    "    row = ''.join(char for char in row if char.isalpha() or char == ' ')\n",
    "    row = ' '.join(porter.stem(word) for word in row.split() if word not in stopwords)\n",
    "    data_array[i,6] = row"
   ]
  },
  {
   "cell_type": "code",
   "execution_count": 43,
   "metadata": {},
   "outputs": [],
   "source": [
    "le = preprocessing.LabelEncoder() #label encoder\n",
    "gender = data_array[:,2:3]\n",
    "gender_encoded=le.fit_transform(list(gender))"
   ]
  },
  {
   "cell_type": "code",
   "execution_count": 73,
   "metadata": {},
   "outputs": [],
   "source": [
    "retweet_count = data_array[:,5:6]\n",
    "retweet_count_encoded=le.fit_transform(list(retweet_count))"
   ]
  },
  {
   "cell_type": "code",
   "execution_count": 74,
   "metadata": {},
   "outputs": [],
   "source": [
    "features=list(zip(retweet_count_encoded,gender_encoded))"
   ]
  },
  {
   "cell_type": "code",
   "execution_count": 71,
   "metadata": {},
   "outputs": [
    {
     "name": "stdout",
     "output_type": "stream",
     "text": [
      "[(1, 0), (2, 1), (3, 2)]\n"
     ]
    }
   ],
   "source": [
    "a = list(zip([1,2,3],[0,1,2]))\n",
    "print(a)"
   ]
  },
  {
   "cell_type": "code",
   "execution_count": 62,
   "metadata": {},
   "outputs": [
    {
     "name": "stdout",
     "output_type": "stream",
     "text": [
      "[4 5 6 ... 5 0 4]\n"
     ]
    }
   ],
   "source": [
    "resolution_category = data_array[:,4:5]\n",
    "label = le.fit_transform(list(resolution_category))\n",
    "print(label)"
   ]
  },
  {
   "cell_type": "code",
   "execution_count": 75,
   "metadata": {},
   "outputs": [
    {
     "data": {
      "text/plain": [
       "GaussianNB(priors=None, var_smoothing=1e-09)"
      ]
     },
     "execution_count": 75,
     "metadata": {},
     "output_type": "execute_result"
    }
   ],
   "source": [
    "model = GaussianNB()\n",
    "model.fit(features,label)"
   ]
  },
  {
   "cell_type": "code",
   "execution_count": 77,
   "metadata": {},
   "outputs": [
    {
     "name": "stdout",
     "output_type": "stream",
     "text": [
      "[6]\n"
     ]
    }
   ],
   "source": [
    "predicted = model.predict([[1,1]])\n",
    "print(predicted)"
   ]
  },
  {
   "cell_type": "code",
   "execution_count": null,
   "metadata": {},
   "outputs": [],
   "source": []
  }
 ],
 "metadata": {
  "kernelspec": {
   "display_name": "Python 3",
   "language": "python",
   "name": "python3"
  },
  "language_info": {
   "codemirror_mode": {
    "name": "ipython",
    "version": 3
   },
   "file_extension": ".py",
   "mimetype": "text/x-python",
   "name": "python",
   "nbconvert_exporter": "python",
   "pygments_lexer": "ipython3",
   "version": "3.7.3"
  }
 },
 "nbformat": 4,
 "nbformat_minor": 2
}
